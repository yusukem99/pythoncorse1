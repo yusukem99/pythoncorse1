{
  "cells": [
    {
      "cell_type": "markdown",
      "metadata": {},
      "source": [
        "# 不合格者課題\n",
        "\n",
        "不合格となった方は、こちらの課題を提出してください。\n",
        "\n",
        "Google Colaboratory でこのノートブックを開き、以下の設問に回答し、完成したノートブックを共有してください。\n",
        "\n",
        "授業で扱った資料や、インターネット上の情報を参考にしても構いません。"
      ]
    },
    {
      "cell_type": "markdown",
      "metadata": {
        "id": "EMRShTJhyS-a"
      },
      "source": [
        "## 問1\n",
        "コメントに従って、適切な算術演算子を使い変数に値を代入しなさい"
      ]
    },
    {
      "cell_type": "code",
      "execution_count": null,
      "metadata": {
        "execution": {
          "iopub.execute_input": "2023-02-22T10:34:56.266617Z",
          "iopub.status.busy": "2023-02-22T10:34:56.266114Z",
          "iopub.status.idle": "2023-02-22T10:34:56.302508Z",
          "shell.execute_reply": "2023-02-22T10:34:56.301433Z",
          "shell.execute_reply.started": "2023-02-22T10:34:56.266523Z"
        },
        "id": "KuDj4mguyS-e",
        "trusted": true
      },
      "outputs": [],
      "source": [
        "# 例 3たす4\n",
        "ans1_0 = 3 + 4"
      ]
    },
    {
      "cell_type": "code",
      "execution_count": null,
      "metadata": {
        "execution": {
          "iopub.execute_input": "2023-03-01T01:18:50.069329Z",
          "iopub.status.busy": "2023-03-01T01:18:50.068961Z",
          "iopub.status.idle": "2023-03-01T01:18:50.074568Z",
          "shell.execute_reply": "2023-03-01T01:18:50.073748Z",
          "shell.execute_reply.started": "2023-03-01T01:18:50.069301Z"
        },
        "id": "-__BW2BpyS-f",
        "trusted": true
      },
      "outputs": [],
      "source": [
        "# 12かける9\n",
        "ans1_1 = ___\n",
        "# 2023を5で割ったときのあまり\n",
        "ans1_2 = ___\n",
        "# 2023を5で割ったときの商\n",
        "ans1_3 = ___\n",
        "# 2の23乗\n",
        "ans1_4 = ___"
      ]
    },
    {
      "cell_type": "markdown",
      "metadata": {
        "id": "OSp4l1f1yS-g"
      },
      "source": [
        "## 問2\n",
        "引数に`r`を受けとり、半径`r`の球の体積を返す関数を作りなさい。円周率は3.14とする（球の体積=4÷3×3.14×r³ ）"
      ]
    },
    {
      "cell_type": "code",
      "execution_count": null,
      "metadata": {
        "execution": {
          "iopub.execute_input": "2023-03-01T01:29:11.926575Z",
          "iopub.status.busy": "2023-03-01T01:29:11.926139Z",
          "iopub.status.idle": "2023-03-01T01:29:11.932586Z",
          "shell.execute_reply": "2023-03-01T01:29:11.931514Z",
          "shell.execute_reply.started": "2023-03-01T01:29:11.926541Z"
        },
        "id": "SD2GuqjHyS-h",
        "trusted": true
      },
      "outputs": [],
      "source": [
        "# ここにコードを書いてください"
      ]
    },
    {
      "cell_type": "markdown",
      "metadata": {
        "id": "nYFFrAjHyS-h"
      },
      "source": [
        "## 問3\n",
        "引数にテストの点数`score`を受けとり、90点以上であれば`'S'`, 80点以上であれば`'A'`,それ以下であれば`'C'`を返すように、関数`get_grade`を完成させなさい"
      ]
    },
    {
      "cell_type": "code",
      "execution_count": null,
      "metadata": {
        "execution": {
          "iopub.execute_input": "2023-03-01T01:34:12.510884Z",
          "iopub.status.busy": "2023-03-01T01:34:12.510482Z",
          "iopub.status.idle": "2023-03-01T01:34:12.516596Z",
          "shell.execute_reply": "2023-03-01T01:34:12.515735Z",
          "shell.execute_reply.started": "2023-03-01T01:34:12.510850Z"
        },
        "id": "0HJaLAifyS-i",
        "trusted": true
      },
      "outputs": [],
      "source": [
        "def get_grade(score):\n",
        "    '''\n",
        "        例:\n",
        "        get_grade(65)\n",
        "        >>>'C'\n",
        "    '''\n",
        "    # ここにコードを書いてください\n",
        "    "
      ]
    },
    {
      "cell_type": "markdown",
      "metadata": {
        "id": "J36rKpOcyS-i"
      },
      "source": [
        "## 問4\n",
        "コメントに従って、リストのインデックス、スライシングを使って変数に値を代入しなさい"
      ]
    },
    {
      "cell_type": "code",
      "execution_count": null,
      "metadata": {
        "execution": {
          "iopub.execute_input": "2023-03-01T01:45:52.273750Z",
          "iopub.status.busy": "2023-03-01T01:45:52.273026Z",
          "iopub.status.idle": "2023-03-01T01:45:52.279803Z",
          "shell.execute_reply": "2023-03-01T01:45:52.278607Z",
          "shell.execute_reply.started": "2023-03-01T01:45:52.273712Z"
        },
        "id": "qNgKkv4XyS-i",
        "trusted": true
      },
      "outputs": [],
      "source": [
        "planets = ['水星', '金星', '地球', '火星', '木星', '土星', '天王星', '海王星']\n",
        "\n",
        "# 例 '金星'を取り出す\n",
        "ans5_0 = ___\n",
        "#'地球'を取り出す\n",
        "ans5_1 = ___\n",
        "#一番後ろの要素を取り出す\n",
        "ans5_2 = ___\n",
        "#地球から天王星までを取り出す\n",
        "ans5_3 = ___"
      ]
    },
    {
      "cell_type": "markdown",
      "metadata": {},
      "source": [
        "## 問5\n",
        "\n",
        "美術展に出展する作品をリスト`arts`に格納しています。\n",
        "\n",
        "いま、`ひまわり`は出展から除外することになりました。`arts`から`ひまわり`を削除しなさい。\n",
        "\n",
        "さらに、新たに`真珠の耳飾りの少女`を出展することになりました。`arts`に`真珠の耳飾りの少女`を追加しなさい。"
      ]
    },
    {
      "cell_type": "code",
      "execution_count": null,
      "metadata": {},
      "outputs": [],
      "source": [
        "# この行を直接書き換えてはいけません\n",
        "arts = ['モナリザ', '星月夜', 'ひまわり', '波', '大波']\n",
        "\n",
        "# ここにコードを書いてください"
      ]
    },
    {
      "cell_type": "markdown",
      "metadata": {
        "id": "gelRrIf2yS-j"
      },
      "source": [
        "## 問6\n",
        "`hands`に含まれる手札のうち、`for`文を使って絵札`('J', 'Q', 'K')`が何枚あるかを数えてください。"
      ]
    },
    {
      "cell_type": "code",
      "execution_count": null,
      "metadata": {},
      "outputs": [],
      "source": [
        "hands = ['J', '1', '8', 'K', 'A', '2', 'A', 'Q']\n",
        "count = 0\n",
        "\n",
        "# ここにコードを書いてください\n",
        "\n",
        "\n",
        "print(\"絵札の枚数は{}枚です\".format(count))"
      ]
    },
    {
      "cell_type": "markdown",
      "metadata": {
        "id": "R7ByxcDPyS-j"
      },
      "source": [
        "## 問7\n",
        "[和風月名（わふうげつめい）](https://www.ndl.go.jp/koyomi/chapter3/s8.html)をキー(`key`)、月名に対応する月の数を値(`value`)とする辞書型の変数`japanese_month`を作成しなさい\n",
        "\n",
        "例\n",
        "```\n",
        "print( japanese_month['睦月'] )\n",
        ">>>1\n",
        "print( japanese_month['如月'] )\n",
        ">>>2\n",
        "```"
      ]
    },
    {
      "cell_type": "code",
      "execution_count": null,
      "metadata": {
        "execution": {
          "iopub.execute_input": "2023-03-01T02:06:53.024758Z",
          "iopub.status.busy": "2023-03-01T02:06:53.024336Z",
          "iopub.status.idle": "2023-03-01T02:06:53.030759Z",
          "shell.execute_reply": "2023-03-01T02:06:53.029472Z",
          "shell.execute_reply.started": "2023-03-01T02:06:53.024724Z"
        },
        "id": "hjbpQk7MyS-j",
        "trusted": true
      },
      "outputs": [],
      "source": [
        "japanese_month = ___"
      ]
    },
    {
      "cell_type": "markdown",
      "metadata": {
        "id": "ciK3H4-kyS-j"
      },
      "source": [
        "# 問8\n",
        "リスト内包表現(`list comprehension`)を使って、1から10までの整数を含むリスト型の変数`one_to_ten`を宣言しなさい"
      ]
    },
    {
      "cell_type": "code",
      "execution_count": null,
      "metadata": {
        "execution": {
          "iopub.execute_input": "2023-03-01T02:15:39.629421Z",
          "iopub.status.busy": "2023-03-01T02:15:39.628990Z",
          "iopub.status.idle": "2023-03-01T02:15:39.634546Z",
          "shell.execute_reply": "2023-03-01T02:15:39.633670Z",
          "shell.execute_reply.started": "2023-03-01T02:15:39.629383Z"
        },
        "id": "mJ51lcr1yS-j",
        "trusted": true
      },
      "outputs": [],
      "source": [
        "one_to_ten = ___\n",
        "\"\"\"\n",
        "    正しく宣言できると次のように表示されます\n",
        "    [1, 2, 3, 4, 5, 6, 7, 8, 9, 10]\n",
        "\"\"\"\n",
        "print(one_to_ten)\n"
      ]
    },
    {
      "cell_type": "markdown",
      "metadata": {
        "id": "Oe0LFZS5yS-k"
      },
      "source": [
        "## 問9\n",
        "`for`文を使って、与えられた整数のリスト`int_list`の要素が、それぞれ引数`num`より大きい場合に`True`に変換する関数`list_greater_than`を完成させなさい"
      ]
    },
    {
      "cell_type": "code",
      "execution_count": null,
      "metadata": {
        "execution": {
          "iopub.execute_input": "2023-03-01T02:37:34.969669Z",
          "iopub.status.busy": "2023-03-01T02:37:34.968867Z",
          "iopub.status.idle": "2023-03-01T02:37:34.974362Z",
          "shell.execute_reply": "2023-03-01T02:37:34.973333Z",
          "shell.execute_reply.started": "2023-03-01T02:37:34.969622Z"
        },
        "id": "Eie7aFc5yS-k",
        "trusted": true
      },
      "outputs": [],
      "source": [
        "def list_greater_than(int_list, num):\n",
        "    \"\"\"\n",
        "    例:\n",
        "    list_greater_than([1, 2, 3, 4], 2)\n",
        "    >>>[False, False, True, True]\n",
        "    \"\"\"\n",
        "    # ここにコードを書いてください\n"
      ]
    },
    {
      "cell_type": "markdown",
      "metadata": {
        "id": "9FfgSfSlyS-k"
      },
      "source": [
        "# 問10\n",
        "ライブラリ`request`を使って、`https://www.python.org/`のHTMLを取得してください。さらにその時のステータスコードやレスポンスヘッダーを表示してください。\n"
      ]
    },
    {
      "cell_type": "code",
      "execution_count": null,
      "metadata": {
        "execution": {
          "iopub.execute_input": "2023-03-01T04:48:23.124052Z",
          "iopub.status.busy": "2023-03-01T04:48:23.123599Z",
          "iopub.status.idle": "2023-03-01T04:48:43.182946Z",
          "shell.execute_reply": "2023-03-01T04:48:43.181103Z",
          "shell.execute_reply.started": "2023-03-01T04:48:23.124016Z"
        },
        "id": "XgYuQfI_yS-k",
        "outputId": "621cf775-a0b7-4113-be76-8f22fbbdd652",
        "trusted": true
      },
      "outputs": [],
      "source": [
        "# !pip install requests\n",
        "import requests\n",
        "\n",
        "# ここにコードを書いてください\n"
      ]
    }
  ],
  "metadata": {
    "colab": {
      "provenance": []
    },
    "kernelspec": {
      "display_name": "Python 3",
      "language": "python",
      "name": "python3"
    },
    "language_info": {
      "codemirror_mode": {
        "name": "ipython",
        "version": 3
      },
      "file_extension": ".py",
      "mimetype": "text/x-python",
      "name": "python",
      "nbconvert_exporter": "python",
      "pygments_lexer": "ipython3",
      "version": "3.10.11"
    }
  },
  "nbformat": 4,
  "nbformat_minor": 0
}