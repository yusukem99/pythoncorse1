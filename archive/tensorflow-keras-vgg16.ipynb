{
 "cells": [
  {
   "cell_type": "markdown",
   "id": "89e51c03",
   "metadata": {
    "papermill": {
     "duration": 0.016282,
     "end_time": "2023-02-07T09:34:09.103950",
     "exception": false,
     "start_time": "2023-02-07T09:34:09.087668",
     "status": "completed"
    },
    "tags": []
   },
   "source": [
    "# 学習済みモデル\n",
    "\n",
    "学習済みモデルとは、何か特定の仕事をやるために、既に大量のデータを元に学習を終えた、機械学習のモデル（=プログラム）のことを指します。\n",
    "\n",
    "例えば、犬と猫の画像を分類するためのモデルがあったとして、それが学習済みモデルなら、そのモデルは既に大量の犬と猫の画像を見て、「これは犬だ」「これは猫だ」という判断ができるようになっています。"
   ]
  },
  {
   "cell_type": "markdown",
   "id": "2c558da8",
   "metadata": {
    "papermill": {
     "duration": 0.015479,
     "end_time": "2023-02-07T09:34:09.135903",
     "exception": false,
     "start_time": "2023-02-07T09:34:09.120424",
     "status": "completed"
    },
    "tags": []
   },
   "source": [
    "## Tensorflow\n",
    "\n",
    "`tensorflow`を使って、学習済みモデルを使ってみましょう。\n",
    "\n",
    "まずは、`tensorflow`をインストールします。`pip`は、Pythonのパッケージをインストールするためのツールです。"
   ]
  },
  {
   "cell_type": "code",
   "execution_count": null,
   "id": "5fbe1f35",
   "metadata": {
    "_cell_guid": "b1076dfc-b9ad-4769-8c92-a6c4dae69d19",
    "_uuid": "8f2839f25d086af736a60e9eeb907d3b93b6e0e5",
    "execution": {
     "iopub.execute_input": "2023-02-07T09:34:09.169184Z",
     "iopub.status.busy": "2023-02-07T09:34:09.168421Z",
     "iopub.status.idle": "2023-02-07T09:34:14.778927Z",
     "shell.execute_reply": "2023-02-07T09:34:14.777175Z"
    },
    "papermill": {
     "duration": 5.631144,
     "end_time": "2023-02-07T09:34:14.782241",
     "exception": false,
     "start_time": "2023-02-07T09:34:09.151097",
     "status": "completed"
    },
    "tags": []
   },
   "outputs": [],
   "source": [
    "# !pip install tensorflow #pip（パッケージマネジャーを使ってインストールします）\n",
    "import tensorflow as tf\n",
    "\n",
    "print(tf.__version__) # バージョンを確認します"
   ]
  },
  {
   "cell_type": "markdown",
   "id": "230a8b2b",
   "metadata": {
    "papermill": {
     "duration": 0.012548,
     "end_time": "2023-02-07T09:34:14.808168",
     "exception": false,
     "start_time": "2023-02-07T09:34:14.795620",
     "status": "completed"
    },
    "tags": []
   },
   "source": [
    "## TensorFlow, Kerasで利用できる学習済みモデル一覧\n",
    "\n",
    "### kerasに組み込まれている学習済みモデルの一覧\n",
    "\n",
    "https://keras.io/api/applications/"
   ]
  },
  {
   "cell_type": "markdown",
   "id": "51b3de6a",
   "metadata": {
    "papermill": {
     "duration": 0.012805,
     "end_time": "2023-02-07T09:34:14.833798",
     "exception": false,
     "start_time": "2023-02-07T09:34:14.820993",
     "status": "completed"
    },
    "tags": []
   },
   "source": [
    "## 学習済みモデルの読み込み\n",
    "\n",
    "ここでは[vgg16](https://jp.mathworks.com/help/deeplearning/ref/vgg16.html)というモデルをロードしてみましょう。（学習データは大きいので何度も実行しないように）"
   ]
  },
  {
   "cell_type": "code",
   "execution_count": null,
   "id": "2cbd728b",
   "metadata": {
    "execution": {
     "iopub.execute_input": "2023-02-07T09:34:14.861510Z",
     "iopub.status.busy": "2023-02-07T09:34:14.860820Z",
     "iopub.status.idle": "2023-02-07T09:34:17.300268Z",
     "shell.execute_reply": "2023-02-07T09:34:17.299045Z"
    },
    "papermill": {
     "duration": 2.456589,
     "end_time": "2023-02-07T09:34:17.303201",
     "exception": false,
     "start_time": "2023-02-07T09:34:14.846612",
     "status": "completed"
    },
    "tags": []
   },
   "outputs": [],
   "source": [
    "model = tf.keras.applications.vgg16.VGG16(weights=None)"
   ]
  },
  {
   "cell_type": "markdown",
   "id": "3e82ffd0",
   "metadata": {
    "papermill": {
     "duration": 0.012629,
     "end_time": "2023-02-07T09:34:17.328919",
     "exception": false,
     "start_time": "2023-02-07T09:34:17.316290",
     "status": "completed"
    },
    "tags": []
   },
   "source": [
    "## 構造をみる\n",
    "`summary()`関数を使ってどのような構造になっているのか見てみましょう"
   ]
  },
  {
   "cell_type": "code",
   "execution_count": null,
   "id": "0243e028",
   "metadata": {
    "execution": {
     "iopub.execute_input": "2023-02-07T09:34:17.357037Z",
     "iopub.status.busy": "2023-02-07T09:34:17.356642Z",
     "iopub.status.idle": "2023-02-07T09:34:17.364843Z",
     "shell.execute_reply": "2023-02-07T09:34:17.363645Z"
    },
    "papermill": {
     "duration": 0.02602,
     "end_time": "2023-02-07T09:34:17.367936",
     "exception": false,
     "start_time": "2023-02-07T09:34:17.341916",
     "status": "completed"
    },
    "tags": []
   },
   "outputs": [],
   "source": [
    "model.summary()"
   ]
  },
  {
   "cell_type": "markdown",
   "id": "fe367559",
   "metadata": {
    "papermill": {
     "duration": 0.012744,
     "end_time": "2023-02-07T09:34:17.394370",
     "exception": false,
     "start_time": "2023-02-07T09:34:17.381626",
     "status": "completed"
    },
    "tags": []
   },
   "source": [
    "## 問1\n",
    "\n",
    "入力の形(input_shape)、出力(output_shape)、学習パラメーター(params)の数はいくつでしょうか"
   ]
  },
  {
   "cell_type": "code",
   "execution_count": null,
   "id": "ee22ea6b",
   "metadata": {
    "execution": {
     "iopub.execute_input": "2023-02-07T09:34:17.423428Z",
     "iopub.status.busy": "2023-02-07T09:34:17.422922Z",
     "iopub.status.idle": "2023-02-07T09:34:17.428551Z",
     "shell.execute_reply": "2023-02-07T09:34:17.427192Z"
    },
    "papermill": {
     "duration": 0.022412,
     "end_time": "2023-02-07T09:34:17.430926",
     "exception": false,
     "start_time": "2023-02-07T09:34:17.408514",
     "status": "completed"
    },
    "tags": []
   },
   "outputs": [],
   "source": [
    "input_shape = ___\n",
    "output_shape = ___\n",
    "prams = ___"
   ]
  },
  {
   "cell_type": "markdown",
   "id": "13ed0a8b",
   "metadata": {
    "papermill": {
     "duration": 0.012968,
     "end_time": "2023-02-07T09:34:17.457094",
     "exception": false,
     "start_time": "2023-02-07T09:34:17.444126",
     "status": "completed"
    },
    "tags": []
   },
   "source": [
    "## 他にもいくつか学習済みモデルをインポートして、そのレイヤを見てみましょう。"
   ]
  },
  {
   "cell_type": "code",
   "execution_count": null,
   "id": "786d2ebe",
   "metadata": {
    "papermill": {
     "duration": 0.012883,
     "end_time": "2023-02-07T09:34:17.483082",
     "exception": false,
     "start_time": "2023-02-07T09:34:17.470199",
     "status": "completed"
    },
    "tags": []
   },
   "outputs": [],
   "source": [
    "# ここにコードを書いてください"
   ]
  },
  {
   "cell_type": "markdown",
   "id": "9a909305",
   "metadata": {
    "papermill": {
     "duration": 0.012753,
     "end_time": "2023-02-07T09:34:17.508808",
     "exception": false,
     "start_time": "2023-02-07T09:34:17.496055",
     "status": "completed"
    },
    "tags": []
   },
   "source": [
    "# Pillow\n",
    "\n",
    "Pillow(PIL)はPythonの画像処理ライブラリです。画像を処理するのに便利な機能を持っています。"
   ]
  },
  {
   "cell_type": "code",
   "execution_count": 3,
   "id": "64d1897b",
   "metadata": {
    "execution": {
     "iopub.execute_input": "2023-02-07T09:34:17.600184Z",
     "iopub.status.busy": "2023-02-07T09:34:17.598882Z",
     "iopub.status.idle": "2023-02-07T09:34:17.632967Z",
     "shell.execute_reply": "2023-02-07T09:34:17.632064Z"
    },
    "papermill": {
     "duration": 0.051114,
     "end_time": "2023-02-07T09:34:17.635549",
     "exception": false,
     "start_time": "2023-02-07T09:34:17.584435",
     "status": "completed"
    },
    "tags": []
   },
   "outputs": [],
   "source": [
    "# ライブラリをインポートします\n",
    "# !pip install Pillow\n",
    "from PIL import Image"
   ]
  },
  {
   "cell_type": "markdown",
   "id": "3fdc2c81",
   "metadata": {
    "papermill": {
     "duration": 0.013639,
     "end_time": "2023-02-07T09:34:17.535482",
     "exception": false,
     "start_time": "2023-02-07T09:34:17.521843",
     "status": "completed"
    },
    "tags": []
   },
   "source": [
    "## 画像の読み込み\n",
    "\n",
    "`open()`メソッドを使って画像を読み込むことができます。\n",
    "\n",
    "好きな画像をダウンロードして画面に表示してみましょう。\n",
    "\n",
    "- [猫と犬の画像データセット](https://www.kaggle.com/datasets/tongpython/cat-and-dog)\n",
    "- [Pokemon Image Dataset](https://www.kaggle.com/datasets/vishalsubbiah/pokemon-images-and-types)"
   ]
  },
  {
   "cell_type": "markdown",
   "id": "b133e75b",
   "metadata": {
    "papermill": {
     "duration": 0.013072,
     "end_time": "2023-02-07T09:34:17.662476",
     "exception": false,
     "start_time": "2023-02-07T09:34:17.649404",
     "status": "completed"
    },
    "tags": []
   },
   "source": [
    "## 画像の表示\n",
    "\n",
    "jupyter-notebookではコードセルの最後の行に`PIL`型の値を指定すれば描画してくれます。"
   ]
  },
  {
   "cell_type": "code",
   "execution_count": null,
   "id": "ff8f6979",
   "metadata": {
    "execution": {
     "iopub.execute_input": "2023-02-07T09:34:17.691673Z",
     "iopub.status.busy": "2023-02-07T09:34:17.690521Z",
     "iopub.status.idle": "2023-02-07T09:34:17.960947Z",
     "shell.execute_reply": "2023-02-07T09:34:17.959578Z"
    },
    "papermill": {
     "duration": 0.291265,
     "end_time": "2023-02-07T09:34:17.967100",
     "exception": false,
     "start_time": "2023-02-07T09:34:17.675835",
     "status": "completed"
    },
    "tags": []
   },
   "outputs": [],
   "source": [
    "filename = '/kaggle/input/cat-and-dog/training_set/training_set/cats/cat.1.jpg' # 例として猫の画像を指定します\n",
    "im = Image.open( filename )\n",
    "im # コードセルの最後の行に`PIL`型の値を指定すれば描画してくれます。"
   ]
  },
  {
   "cell_type": "markdown",
   "id": "b3e9c8cf",
   "metadata": {
    "papermill": {
     "duration": 0.017669,
     "end_time": "2023-02-07T09:34:18.003058",
     "exception": false,
     "start_time": "2023-02-07T09:34:17.985389",
     "status": "completed"
    },
    "tags": []
   },
   "source": [
    "`.size`で画像のサイズを取得できます。"
   ]
  },
  {
   "cell_type": "code",
   "execution_count": null,
   "id": "8f3cb0d6",
   "metadata": {
    "execution": {
     "iopub.execute_input": "2023-02-07T09:34:18.040512Z",
     "iopub.status.busy": "2023-02-07T09:34:18.040054Z",
     "iopub.status.idle": "2023-02-07T09:34:18.046363Z",
     "shell.execute_reply": "2023-02-07T09:34:18.045019Z"
    },
    "papermill": {
     "duration": 0.028149,
     "end_time": "2023-02-07T09:34:18.049080",
     "exception": false,
     "start_time": "2023-02-07T09:34:18.020931",
     "status": "completed"
    },
    "tags": []
   },
   "outputs": [],
   "source": [
    "width, height = im.size\n",
    "print(f\"横幅: {width}px 縦幅: {height}px\")"
   ]
  },
  {
   "cell_type": "markdown",
   "id": "e34134db",
   "metadata": {},
   "source": [
    "`.resize`を使って、画像を目的に合ったサイズに変更することができます。"
   ]
  },
  {
   "cell_type": "code",
   "execution_count": 1,
   "id": "537cbf65",
   "metadata": {
    "execution": {
     "iopub.execute_input": "2023-02-07T09:34:18.085899Z",
     "iopub.status.busy": "2023-02-07T09:34:18.085496Z",
     "iopub.status.idle": "2023-02-07T09:34:18.121764Z",
     "shell.execute_reply": "2023-02-07T09:34:18.120483Z"
    },
    "papermill": {
     "duration": 0.058126,
     "end_time": "2023-02-07T09:34:18.124611",
     "exception": false,
     "start_time": "2023-02-07T09:34:18.066485",
     "status": "completed"
    },
    "tags": []
   },
   "outputs": [
    {
     "ename": "NameError",
     "evalue": "name 'im' is not defined",
     "output_type": "error",
     "traceback": [
      "\u001b[0;31m---------------------------------------------------------------------------\u001b[0m",
      "\u001b[0;31mNameError\u001b[0m                                 Traceback (most recent call last)",
      "Cell \u001b[0;32mIn[1], line 1\u001b[0m\n\u001b[0;32m----> 1\u001b[0m img_resized \u001b[39m=\u001b[39m im\u001b[39m.\u001b[39mresize((\u001b[39m224\u001b[39m, \u001b[39m224\u001b[39m),  Image\u001b[39m.\u001b[39mResampling\u001b[39m.\u001b[39mNEAREST)\n\u001b[1;32m      2\u001b[0m img_resized\n",
      "\u001b[0;31mNameError\u001b[0m: name 'im' is not defined"
     ]
    }
   ],
   "source": [
    "img_resized = im.resize((224, 224),  Image.Resampling.NEAREST)\n",
    "img_resized"
   ]
  },
  {
   "cell_type": "markdown",
   "id": "bb10678a",
   "metadata": {
    "papermill": {
     "duration": 0.019594,
     "end_time": "2023-02-07T09:34:18.164047",
     "exception": false,
     "start_time": "2023-02-07T09:34:18.144453",
     "status": "completed"
    },
    "tags": []
   },
   "source": [
    "## 型を変換する\n",
    "\n",
    "モデルの入力は`numpy array`なので、型を変換する必要があります。`tf.keras.preprocessing.image.img_to_array`を使って変換しましょう。"
   ]
  },
  {
   "cell_type": "code",
   "execution_count": null,
   "id": "588087d7",
   "metadata": {
    "execution": {
     "iopub.execute_input": "2023-02-07T09:34:18.206409Z",
     "iopub.status.busy": "2023-02-07T09:34:18.205987Z",
     "iopub.status.idle": "2023-02-07T09:34:18.215039Z",
     "shell.execute_reply": "2023-02-07T09:34:18.213716Z"
    },
    "papermill": {
     "duration": 0.033548,
     "end_time": "2023-02-07T09:34:18.218285",
     "exception": false,
     "start_time": "2023-02-07T09:34:18.184737",
     "status": "completed"
    },
    "tags": []
   },
   "outputs": [],
   "source": [
    "img_np = tf.keras.preprocessing.image.img_to_array(img_resized)\n",
    "print(type(img_np))\n",
    "img_np.shape"
   ]
  },
  {
   "cell_type": "markdown",
   "id": "c4d8bf86",
   "metadata": {
    "papermill": {
     "duration": 0.020411,
     "end_time": "2023-02-07T09:34:18.259215",
     "exception": false,
     "start_time": "2023-02-07T09:34:18.238804",
     "status": "completed"
    },
    "tags": []
   },
   "source": [
    "## 最後の数値は何？\n",
    "\n",
    "`img_np.shape`の結果は`(224, 224, 3)`のように表示されましたが、最後の3は何を意味するのでしょうか？\n"
   ]
  },
  {
   "cell_type": "code",
   "execution_count": null,
   "id": "5ea3d298",
   "metadata": {
    "execution": {
     "iopub.execute_input": "2023-02-07T09:34:18.300815Z",
     "iopub.status.busy": "2023-02-07T09:34:18.300422Z",
     "iopub.status.idle": "2023-02-07T09:34:18.307552Z",
     "shell.execute_reply": "2023-02-07T09:34:18.306426Z"
    },
    "papermill": {
     "duration": 0.0311,
     "end_time": "2023-02-07T09:34:18.309930",
     "exception": false,
     "start_time": "2023-02-07T09:34:18.278830",
     "status": "completed"
    },
    "tags": []
   },
   "outputs": [],
   "source": [
    "# 画像の左上のピクセルのデータを見てみましょう\n",
    "img_np[0][0]"
   ]
  },
  {
   "cell_type": "markdown",
   "id": "d7163481",
   "metadata": {
    "papermill": {
     "duration": 0.019912,
     "end_time": "2023-02-07T09:34:18.349641",
     "exception": false,
     "start_time": "2023-02-07T09:34:18.329729",
     "status": "completed"
    },
    "tags": []
   },
   "source": [
    "## 入力の次元拡張\n",
    "\n",
    "さきほどのモデルの入力を見てみると、入力は`[(None, 224, 224, 3)]`となっています。\n",
    "\n",
    "`None`の部分はバッチ数を表しています。バッチ数とは、一度にモデルに入力するデータの数です。\n",
    "\n",
    "モデルの入力はバッチ数も含むので次元を拡張する必要があります。"
   ]
  },
  {
   "cell_type": "code",
   "execution_count": null,
   "id": "08601d9e",
   "metadata": {
    "execution": {
     "iopub.execute_input": "2023-02-07T09:34:18.391206Z",
     "iopub.status.busy": "2023-02-07T09:34:18.390769Z",
     "iopub.status.idle": "2023-02-07T09:34:18.398096Z",
     "shell.execute_reply": "2023-02-07T09:34:18.397159Z"
    },
    "papermill": {
     "duration": 0.030708,
     "end_time": "2023-02-07T09:34:18.400215",
     "exception": false,
     "start_time": "2023-02-07T09:34:18.369507",
     "status": "completed"
    },
    "tags": []
   },
   "outputs": [],
   "source": [
    "expanded_img = img_np[tf.newaxis, ...]\n",
    "# 確認してみましょう\n",
    "expanded_img.shape"
   ]
  },
  {
   "cell_type": "markdown",
   "id": "d3404561",
   "metadata": {
    "papermill": {
     "duration": 0.020416,
     "end_time": "2023-02-07T09:34:18.441134",
     "exception": false,
     "start_time": "2023-02-07T09:34:18.420718",
     "status": "completed"
    },
    "tags": []
   },
   "source": [
    "## 前処理\n",
    "\n",
    "前処理とは、データをモデルに入力する前に、データを加工することです。\n",
    "\n",
    "前処理をすると予測精度が向上します。(このセルを何度も実行しないように）"
   ]
  },
  {
   "cell_type": "code",
   "execution_count": null,
   "id": "622fb136",
   "metadata": {
    "execution": {
     "iopub.execute_input": "2023-02-07T09:34:18.482597Z",
     "iopub.status.busy": "2023-02-07T09:34:18.482134Z",
     "iopub.status.idle": "2023-02-07T09:34:18.490187Z",
     "shell.execute_reply": "2023-02-07T09:34:18.488913Z"
    },
    "papermill": {
     "duration": 0.031616,
     "end_time": "2023-02-07T09:34:18.492572",
     "exception": false,
     "start_time": "2023-02-07T09:34:18.460956",
     "status": "completed"
    },
    "tags": []
   },
   "outputs": [],
   "source": [
    "img_preprocessed = tf.keras.applications.vgg16.preprocess_input(expanded_img)\n",
    "print(img_preprocessed.min(), '-', img_preprocessed.max())"
   ]
  },
  {
   "cell_type": "markdown",
   "id": "8b4cca6a",
   "metadata": {
    "papermill": {
     "duration": 0.019681,
     "end_time": "2023-02-07T09:34:18.532396",
     "exception": false,
     "start_time": "2023-02-07T09:34:18.512715",
     "status": "completed"
    },
    "tags": []
   },
   "source": [
    "## preprocess_input\n",
    "\n",
    "前処理の関数`preprocess_input`の[ドキュメント](https://www.tensorflow.org/api_docs/python/tf/keras/applications/vgg16/preprocess_input)を読んでみましょう\n",
    "\n",
    "The images are converted from RGB to BGR, then each color channel is zero-centered with respect to the ImageNet dataset, without scaling."
   ]
  },
  {
   "cell_type": "markdown",
   "id": "ac28b834",
   "metadata": {
    "papermill": {
     "duration": 0.020281,
     "end_time": "2023-02-07T09:34:18.573363",
     "exception": false,
     "start_time": "2023-02-07T09:34:18.553082",
     "status": "completed"
    },
    "tags": []
   },
   "source": [
    "何が変わったのか見てみる"
   ]
  },
  {
   "cell_type": "code",
   "execution_count": null,
   "id": "a8eaaa39",
   "metadata": {
    "execution": {
     "iopub.execute_input": "2023-02-07T09:34:18.615347Z",
     "iopub.status.busy": "2023-02-07T09:34:18.614849Z",
     "iopub.status.idle": "2023-02-07T09:34:18.622691Z",
     "shell.execute_reply": "2023-02-07T09:34:18.621356Z"
    },
    "papermill": {
     "duration": 0.031598,
     "end_time": "2023-02-07T09:34:18.625172",
     "exception": false,
     "start_time": "2023-02-07T09:34:18.593574",
     "status": "completed"
    },
    "tags": []
   },
   "outputs": [],
   "source": [
    "expanded_img[0][0][0]"
   ]
  },
  {
   "cell_type": "code",
   "execution_count": null,
   "id": "0c3dc551",
   "metadata": {
    "execution": {
     "iopub.execute_input": "2023-02-07T09:34:18.669234Z",
     "iopub.status.busy": "2023-02-07T09:34:18.668790Z",
     "iopub.status.idle": "2023-02-07T09:34:18.676566Z",
     "shell.execute_reply": "2023-02-07T09:34:18.675393Z"
    },
    "papermill": {
     "duration": 0.033078,
     "end_time": "2023-02-07T09:34:18.678843",
     "exception": false,
     "start_time": "2023-02-07T09:34:18.645765",
     "status": "completed"
    },
    "tags": []
   },
   "outputs": [],
   "source": [
    "img_preprocessed[0][0][0]"
   ]
  },
  {
   "cell_type": "markdown",
   "id": "8a6f110e",
   "metadata": {
    "papermill": {
     "duration": 0.020952,
     "end_time": "2023-02-07T09:34:18.720428",
     "exception": false,
     "start_time": "2023-02-07T09:34:18.699476",
     "status": "completed"
    },
    "tags": []
   },
   "source": [
    "左から10番目、上から20番目のピクセルを取り出す方法は？"
   ]
  },
  {
   "cell_type": "code",
   "execution_count": null,
   "id": "06c978f7",
   "metadata": {
    "execution": {
     "iopub.execute_input": "2023-02-07T09:34:18.762860Z",
     "iopub.status.busy": "2023-02-07T09:34:18.762400Z",
     "iopub.status.idle": "2023-02-07T09:34:18.767396Z",
     "shell.execute_reply": "2023-02-07T09:34:18.766423Z"
    },
    "papermill": {
     "duration": 0.028948,
     "end_time": "2023-02-07T09:34:18.769576",
     "exception": false,
     "start_time": "2023-02-07T09:34:18.740628",
     "status": "completed"
    },
    "tags": []
   },
   "outputs": [],
   "source": [
    "pixel_left10_up20 = 0"
   ]
  },
  {
   "cell_type": "markdown",
   "id": "883bc638",
   "metadata": {
    "papermill": {
     "duration": 0.019773,
     "end_time": "2023-02-07T09:34:18.809288",
     "exception": false,
     "start_time": "2023-02-07T09:34:18.789515",
     "status": "completed"
    },
    "tags": []
   },
   "source": [
    "## 画像を入力して予想してみましょう"
   ]
  },
  {
   "cell_type": "code",
   "execution_count": null,
   "id": "2fd07a33",
   "metadata": {
    "execution": {
     "iopub.execute_input": "2023-02-07T09:34:18.852192Z",
     "iopub.status.busy": "2023-02-07T09:34:18.851727Z",
     "iopub.status.idle": "2023-02-07T09:34:19.736218Z",
     "shell.execute_reply": "2023-02-07T09:34:19.734948Z"
    },
    "papermill": {
     "duration": 0.909842,
     "end_time": "2023-02-07T09:34:19.739890",
     "exception": false,
     "start_time": "2023-02-07T09:34:18.830048",
     "status": "completed"
    },
    "tags": []
   },
   "outputs": [],
   "source": [
    "prediction = model.predict(img_preprocessed)"
   ]
  },
  {
   "cell_type": "markdown",
   "id": "856b2500",
   "metadata": {
    "papermill": {
     "duration": 0.021633,
     "end_time": "2023-02-07T09:34:19.785878",
     "exception": false,
     "start_time": "2023-02-07T09:34:19.764245",
     "status": "completed"
    },
    "tags": []
   },
   "source": [
    "## 正しい出力の形になっているか確認しましょう"
   ]
  },
  {
   "cell_type": "code",
   "execution_count": null,
   "id": "f21f4ea8",
   "metadata": {
    "execution": {
     "iopub.execute_input": "2023-02-07T09:34:19.835953Z",
     "iopub.status.busy": "2023-02-07T09:34:19.835385Z",
     "iopub.status.idle": "2023-02-07T09:34:19.844357Z",
     "shell.execute_reply": "2023-02-07T09:34:19.843160Z"
    },
    "papermill": {
     "duration": 0.03443,
     "end_time": "2023-02-07T09:34:19.846825",
     "exception": false,
     "start_time": "2023-02-07T09:34:19.812395",
     "status": "completed"
    },
    "tags": []
   },
   "outputs": [],
   "source": [
    "prediction.shape"
   ]
  },
  {
   "cell_type": "code",
   "execution_count": null,
   "id": "6c7a8873",
   "metadata": {
    "execution": {
     "iopub.execute_input": "2023-02-07T09:34:19.897460Z",
     "iopub.status.busy": "2023-02-07T09:34:19.896606Z",
     "iopub.status.idle": "2023-02-07T09:34:19.904180Z",
     "shell.execute_reply": "2023-02-07T09:34:19.902906Z"
    },
    "papermill": {
     "duration": 0.039075,
     "end_time": "2023-02-07T09:34:19.907095",
     "exception": false,
     "start_time": "2023-02-07T09:34:19.868020",
     "status": "completed"
    },
    "tags": []
   },
   "outputs": [],
   "source": [
    "prediction[0][:5]"
   ]
  },
  {
   "cell_type": "code",
   "execution_count": null,
   "id": "9a6cf9ff",
   "metadata": {
    "execution": {
     "iopub.execute_input": "2023-02-07T09:34:19.953284Z",
     "iopub.status.busy": "2023-02-07T09:34:19.952551Z",
     "iopub.status.idle": "2023-02-07T09:34:20.235116Z",
     "shell.execute_reply": "2023-02-07T09:34:20.233533Z"
    },
    "papermill": {
     "duration": 0.307624,
     "end_time": "2023-02-07T09:34:20.238231",
     "exception": false,
     "start_time": "2023-02-07T09:34:19.930607",
     "status": "completed"
    },
    "tags": []
   },
   "outputs": [],
   "source": [
    "import pprint\n",
    "result = tf.keras.applications.vgg16.decode_predictions(prediction, top=5)\n",
    "pprint.pprint(result)"
   ]
  },
  {
   "cell_type": "markdown",
   "id": "1f8bbf94",
   "metadata": {
    "papermill": {
     "duration": 0.020637,
     "end_time": "2023-02-07T09:34:20.280478",
     "exception": false,
     "start_time": "2023-02-07T09:34:20.259841",
     "status": "completed"
    },
    "tags": []
   },
   "source": [
    "## 分類ラベル一覧\n",
    "\n",
    "Imagenetの1000クラス分の順番とラベル、クラス名の情報は[JSONファイル](https://storage.googleapis.com/download.tensorflow.org/data/imagenet_class_index.json)にまとめられています"
   ]
  },
  {
   "cell_type": "markdown",
   "id": "3fc40d42",
   "metadata": {
    "papermill": {
     "duration": 0.020886,
     "end_time": "2023-02-07T09:34:20.323003",
     "exception": false,
     "start_time": "2023-02-07T09:34:20.302117",
     "status": "completed"
    },
    "tags": []
   },
   "source": [
    "## 問1\n",
    "どのようなラベルがあるのか、5つピックアップしてみましょう。"
   ]
  },
  {
   "cell_type": "code",
   "execution_count": null,
   "id": "dd5da7ba",
   "metadata": {
    "papermill": {
     "duration": 0.020746,
     "end_time": "2023-02-07T09:34:20.364977",
     "exception": false,
     "start_time": "2023-02-07T09:34:20.344231",
     "status": "completed"
    },
    "tags": []
   },
   "outputs": [],
   "source": []
  },
  {
   "cell_type": "markdown",
   "id": "b28002c0",
   "metadata": {
    "papermill": {
     "duration": 0.020545,
     "end_time": "2023-02-07T09:34:20.406395",
     "exception": false,
     "start_time": "2023-02-07T09:34:20.385850",
     "status": "completed"
    },
    "tags": []
   },
   "source": [
    "# 問2\n",
    "\n",
    "好きな画像をダウンロードして、モデルに入力してクラス名を予測してみましょう。"
   ]
  },
  {
   "cell_type": "code",
   "execution_count": null,
   "id": "0c759f8d",
   "metadata": {
    "papermill": {
     "duration": 0.021756,
     "end_time": "2023-02-07T09:34:20.450238",
     "exception": false,
     "start_time": "2023-02-07T09:34:20.428482",
     "status": "completed"
    },
    "tags": []
   },
   "outputs": [],
   "source": []
  },
  {
   "cell_type": "markdown",
   "id": "969f3abb",
   "metadata": {
    "papermill": {
     "duration": 0.021454,
     "end_time": "2023-02-07T09:34:20.492790",
     "exception": false,
     "start_time": "2023-02-07T09:34:20.471336",
     "status": "completed"
    },
    "tags": []
   },
   "source": [
    "# 問3\n",
    "好きなモデル/データセットを選んで画像分類してみましょう\n",
    "\n",
    "- モデルの定義\n",
    "- 画像の読み込み\n",
    "- 予想結果の表示"
   ]
  },
  {
   "cell_type": "markdown",
   "id": "c8ddd6a0",
   "metadata": {
    "papermill": {
     "duration": 0.02134,
     "end_time": "2023-02-07T09:34:20.535389",
     "exception": false,
     "start_time": "2023-02-07T09:34:20.514049",
     "status": "completed"
    },
    "tags": []
   },
   "source": [
    "# [Tensorflow Hub](https://www.tensorflow.org/hub)\n",
    "\n",
    "Tensorflow Hubは学習済みモデルのレポジトリです。kerasの学習済みモデルより幅広く、応用しやすくなっています。\n",
    "\n",
    "まずは[Faster R-CNN](https://tfhub.dev/tensorflow/faster_rcnn/inception_resnet_v2_640x640/1)をつかってみましょう。\n",
    "\n",
    "このモデルは**物体検出**と**分類**を順番に実行してくれます。"
   ]
  },
  {
   "cell_type": "code",
   "execution_count": null,
   "id": "c400382f",
   "metadata": {
    "execution": {
     "iopub.execute_input": "2023-02-07T09:34:20.583953Z",
     "iopub.status.busy": "2023-02-07T09:34:20.582536Z",
     "iopub.status.idle": "2023-02-07T09:34:58.111936Z",
     "shell.execute_reply": "2023-02-07T09:34:58.110728Z"
    },
    "papermill": {
     "duration": 37.555249,
     "end_time": "2023-02-07T09:34:58.114907",
     "exception": false,
     "start_time": "2023-02-07T09:34:20.559658",
     "status": "completed"
    },
    "tags": []
   },
   "outputs": [],
   "source": [
    "import tensorflow as tf\n",
    "import tensorflow_hub as hub\n",
    "\n",
    "# 画像データの読み込み\n",
    "image = tf.io.read_file(\"/kaggle/input/cat-and-dog/training_set/training_set/dogs/dog.1.jpg\")\n",
    "image = tf.io.decode_jpeg(image)\n",
    "image = tf.expand_dims(image, axis=0)\n",
    "\n",
    "# モデルをロード\n",
    "tf_model = hub.load(\"https://tfhub.dev/tensorflow/faster_rcnn/inception_resnet_v2_640x640/1\")"
   ]
  },
  {
   "cell_type": "markdown",
   "id": "67d82675",
   "metadata": {
    "papermill": {
     "duration": 0.020516,
     "end_time": "2023-02-07T09:34:58.156514",
     "exception": false,
     "start_time": "2023-02-07T09:34:58.135998",
     "status": "completed"
    },
    "tags": []
   },
   "source": [
    "## 推論を実行\n",
    "\n",
    "Tensorflow Hubモデルは、kerasのものと違って`.predict`は必要ありません"
   ]
  },
  {
   "cell_type": "code",
   "execution_count": null,
   "id": "4e89f3cd",
   "metadata": {
    "execution": {
     "iopub.execute_input": "2023-02-07T09:34:58.199925Z",
     "iopub.status.busy": "2023-02-07T09:34:58.199548Z",
     "iopub.status.idle": "2023-02-07T09:35:22.699715Z",
     "shell.execute_reply": "2023-02-07T09:35:22.698728Z"
    },
    "papermill": {
     "duration": 24.525382,
     "end_time": "2023-02-07T09:35:22.702621",
     "exception": false,
     "start_time": "2023-02-07T09:34:58.177239",
     "status": "completed"
    },
    "tags": []
   },
   "outputs": [],
   "source": [
    "outputs = tf_model(image)"
   ]
  },
  {
   "cell_type": "markdown",
   "id": "d82d7db8",
   "metadata": {
    "papermill": {
     "duration": 0.021076,
     "end_time": "2023-02-07T09:35:22.756892",
     "exception": false,
     "start_time": "2023-02-07T09:35:22.735816",
     "status": "completed"
    },
    "tags": []
   },
   "source": [
    "まずは型を確認しましょう"
   ]
  },
  {
   "cell_type": "code",
   "execution_count": null,
   "id": "3762b49f",
   "metadata": {
    "execution": {
     "iopub.execute_input": "2023-02-07T09:35:22.802147Z",
     "iopub.status.busy": "2023-02-07T09:35:22.801730Z",
     "iopub.status.idle": "2023-02-07T09:35:22.808355Z",
     "shell.execute_reply": "2023-02-07T09:35:22.807360Z"
    },
    "papermill": {
     "duration": 0.031955,
     "end_time": "2023-02-07T09:35:22.810623",
     "exception": false,
     "start_time": "2023-02-07T09:35:22.778668",
     "status": "completed"
    },
    "tags": []
   },
   "outputs": [],
   "source": [
    "type(outputs)"
   ]
  },
  {
   "cell_type": "markdown",
   "id": "0df2336f",
   "metadata": {
    "papermill": {
     "duration": 0.020534,
     "end_time": "2023-02-07T09:35:22.852744",
     "exception": false,
     "start_time": "2023-02-07T09:35:22.832210",
     "status": "completed"
    },
    "tags": []
   },
   "source": [
    "どのようなキーがあるのか確認しましょう"
   ]
  },
  {
   "cell_type": "code",
   "execution_count": null,
   "id": "091ed4c8",
   "metadata": {
    "execution": {
     "iopub.execute_input": "2023-02-07T09:35:22.897434Z",
     "iopub.status.busy": "2023-02-07T09:35:22.896631Z",
     "iopub.status.idle": "2023-02-07T09:35:22.902627Z",
     "shell.execute_reply": "2023-02-07T09:35:22.901565Z"
    },
    "papermill": {
     "duration": 0.031169,
     "end_time": "2023-02-07T09:35:22.905187",
     "exception": false,
     "start_time": "2023-02-07T09:35:22.874018",
     "status": "completed"
    },
    "tags": []
   },
   "outputs": [],
   "source": [
    "for key in outputs.keys():\n",
    "    print(key)"
   ]
  },
  {
   "cell_type": "code",
   "execution_count": null,
   "id": "4f6ad36e",
   "metadata": {
    "execution": {
     "iopub.execute_input": "2023-02-07T09:35:22.949205Z",
     "iopub.status.busy": "2023-02-07T09:35:22.948414Z",
     "iopub.status.idle": "2023-02-07T09:35:22.954507Z",
     "shell.execute_reply": "2023-02-07T09:35:22.953378Z"
    },
    "papermill": {
     "duration": 0.031033,
     "end_time": "2023-02-07T09:35:22.957006",
     "exception": false,
     "start_time": "2023-02-07T09:35:22.925973",
     "status": "completed"
    },
    "tags": []
   },
   "outputs": [],
   "source": [
    "boxes = outputs[\"detection_boxes\"][0]"
   ]
  },
  {
   "cell_type": "code",
   "execution_count": null,
   "id": "79d80310",
   "metadata": {
    "execution": {
     "iopub.execute_input": "2023-02-07T09:35:23.000933Z",
     "iopub.status.busy": "2023-02-07T09:35:23.000110Z",
     "iopub.status.idle": "2023-02-07T09:35:23.007311Z",
     "shell.execute_reply": "2023-02-07T09:35:23.006348Z"
    },
    "papermill": {
     "duration": 0.032294,
     "end_time": "2023-02-07T09:35:23.010158",
     "exception": false,
     "start_time": "2023-02-07T09:35:22.977864",
     "status": "completed"
    },
    "tags": []
   },
   "outputs": [],
   "source": [
    "import numpy as np\n",
    "height, width = image.shape[1:3]\n",
    "box = boxes[0] * np.array([height, width, height, width])\n",
    "y_min, x_min, y_max, x_max = box.numpy().astype(int)"
   ]
  },
  {
   "cell_type": "markdown",
   "id": "65a4fbeb",
   "metadata": {
    "papermill": {
     "duration": 0.021064,
     "end_time": "2023-02-07T09:35:23.052075",
     "exception": false,
     "start_time": "2023-02-07T09:35:23.031011",
     "status": "completed"
    },
    "tags": []
   },
   "source": [
    "## OpenCV\n",
    "\n",
    "Pillowの他にもOpenCVという画像処理のライブラリがあります"
   ]
  },
  {
   "cell_type": "code",
   "execution_count": null,
   "id": "a9d9297b",
   "metadata": {
    "execution": {
     "iopub.execute_input": "2023-02-07T09:35:23.096218Z",
     "iopub.status.busy": "2023-02-07T09:35:23.095445Z",
     "iopub.status.idle": "2023-02-07T09:35:23.305265Z",
     "shell.execute_reply": "2023-02-07T09:35:23.304203Z"
    },
    "papermill": {
     "duration": 0.234641,
     "end_time": "2023-02-07T09:35:23.307923",
     "exception": false,
     "start_time": "2023-02-07T09:35:23.073282",
     "status": "completed"
    },
    "tags": []
   },
   "outputs": [],
   "source": [
    "# !pip install opencv-python\n",
    "import cv2\n",
    "output_image = cv2.imread(\"/kaggle/input/cat-and-dog/training_set/training_set/dogs/dog.1.jpg\")"
   ]
  },
  {
   "cell_type": "markdown",
   "id": "0b9692f0",
   "metadata": {
    "papermill": {
     "duration": 0.02066,
     "end_time": "2023-02-07T09:35:23.350058",
     "exception": false,
     "start_time": "2023-02-07T09:35:23.329398",
     "status": "completed"
    },
    "tags": []
   },
   "source": [
    "## 枠線を描画する\n",
    "\n",
    "`cv2.rectangle`という長方形を描画するメソッドを使います"
   ]
  },
  {
   "cell_type": "code",
   "execution_count": null,
   "id": "369f2ec7",
   "metadata": {
    "execution": {
     "iopub.execute_input": "2023-02-07T09:35:23.395643Z",
     "iopub.status.busy": "2023-02-07T09:35:23.393545Z",
     "iopub.status.idle": "2023-02-07T09:35:23.403074Z",
     "shell.execute_reply": "2023-02-07T09:35:23.401881Z"
    },
    "papermill": {
     "duration": 0.034665,
     "end_time": "2023-02-07T09:35:23.405661",
     "exception": false,
     "start_time": "2023-02-07T09:35:23.370996",
     "status": "completed"
    },
    "tags": []
   },
   "outputs": [],
   "source": [
    "result = cv2.rectangle(output_image, (x_min, y_min), (x_max, y_max), color=(0, 0, 255))"
   ]
  },
  {
   "cell_type": "code",
   "execution_count": null,
   "id": "146ecb66",
   "metadata": {
    "execution": {
     "iopub.execute_input": "2023-02-07T09:35:23.450136Z",
     "iopub.status.busy": "2023-02-07T09:35:23.449347Z",
     "iopub.status.idle": "2023-02-07T09:35:23.467033Z",
     "shell.execute_reply": "2023-02-07T09:35:23.465856Z"
    },
    "papermill": {
     "duration": 0.042817,
     "end_time": "2023-02-07T09:35:23.469628",
     "exception": false,
     "start_time": "2023-02-07T09:35:23.426811",
     "status": "completed"
    },
    "tags": []
   },
   "outputs": [],
   "source": [
    "cv2.imwrite(\"output.jpg\", output_image)"
   ]
  },
  {
   "cell_type": "code",
   "execution_count": null,
   "id": "c93378e6",
   "metadata": {
    "execution": {
     "iopub.execute_input": "2023-02-07T09:35:23.513726Z",
     "iopub.status.busy": "2023-02-07T09:35:23.513317Z",
     "iopub.status.idle": "2023-02-07T09:35:23.722607Z",
     "shell.execute_reply": "2023-02-07T09:35:23.721362Z"
    },
    "papermill": {
     "duration": 0.234584,
     "end_time": "2023-02-07T09:35:23.725193",
     "exception": false,
     "start_time": "2023-02-07T09:35:23.490609",
     "status": "completed"
    },
    "tags": []
   },
   "outputs": [],
   "source": [
    "import matplotlib.pyplot as plt\n",
    "plt.imshow(output_image)"
   ]
  },
  {
   "cell_type": "markdown",
   "id": "e6bfe096",
   "metadata": {
    "papermill": {
     "duration": 0.022143,
     "end_time": "2023-02-07T09:35:23.769753",
     "exception": false,
     "start_time": "2023-02-07T09:35:23.747610",
     "status": "completed"
    },
    "tags": []
   },
   "source": [
    "## 練習1\n",
    "好きな画像データセットを追加して、モデルを使って検出した物体に枠線をかいてみましょう"
   ]
  },
  {
   "cell_type": "raw",
   "id": "0873838b",
   "metadata": {
    "papermill": {
     "duration": 0.022223,
     "end_time": "2023-02-07T09:35:23.814544",
     "exception": false,
     "start_time": "2023-02-07T09:35:23.792321",
     "status": "completed"
    },
    "tags": []
   },
   "source": []
  },
  {
   "cell_type": "markdown",
   "id": "229f2906",
   "metadata": {
    "papermill": {
     "duration": 0.022212,
     "end_time": "2023-02-07T09:35:23.859119",
     "exception": false,
     "start_time": "2023-02-07T09:35:23.836907",
     "status": "completed"
    },
    "tags": []
   },
   "source": [
    "## 練習2\n",
    "\n",
    "PILにも線を描画するメソッドがあります。その使い方を調べ、同様に検出した物体に枠線をかいてみましょう。\n",
    "\n",
    "- キーワードでgoogle検索する 例. **PIL 線 描画**\n",
    "- できるだけ一次情報、APIドキュメントを読む\n",
    "- 実際にコーディングして確かめる\n",
    "- `help`関数を使ってさらに詳しく調べる"
   ]
  },
  {
   "cell_type": "code",
   "execution_count": null,
   "id": "b913ded9",
   "metadata": {
    "papermill": {
     "duration": 0.022198,
     "end_time": "2023-02-07T09:35:23.903650",
     "exception": false,
     "start_time": "2023-02-07T09:35:23.881452",
     "status": "completed"
    },
    "tags": []
   },
   "outputs": [],
   "source": []
  },
  {
   "cell_type": "markdown",
   "id": "90faed9a",
   "metadata": {
    "papermill": {
     "duration": 0.022106,
     "end_time": "2023-02-07T09:35:23.948286",
     "exception": false,
     "start_time": "2023-02-07T09:35:23.926180",
     "status": "completed"
    },
    "tags": []
   },
   "source": [
    "# Fashion MNISTでの分類モデルの作成\n",
    "\n",
    "[Fashion MNISTデータセット](https://www.kaggle.com/datasets/zalando-research/fashionmnist)を使って画像分類モデルを作成してみましょう。"
   ]
  },
  {
   "cell_type": "markdown",
   "id": "fe6a5985",
   "metadata": {
    "papermill": {
     "duration": 0.021902,
     "end_time": "2023-02-07T09:35:23.992816",
     "exception": false,
     "start_time": "2023-02-07T09:35:23.970914",
     "status": "completed"
    },
    "tags": []
   },
   "source": [
    "## 参考\n",
    "\n",
    "もっとも高い評価を受けているコードサンプル\n",
    "\n",
    "https://www.kaggle.com/code/pavansanagapati/a-simple-cnn-model-beginner-guide/notebook"
   ]
  }
 ],
 "metadata": {
  "kernelspec": {
   "display_name": "Python 3",
   "language": "python",
   "name": "python3"
  },
  "language_info": {
   "codemirror_mode": {
    "name": "ipython",
    "version": 3
   },
   "file_extension": ".py",
   "mimetype": "text/x-python",
   "name": "python",
   "nbconvert_exporter": "python",
   "pygments_lexer": "ipython3",
   "version": "3.10.11"
  },
  "papermill": {
   "default_parameters": {},
   "duration": 87.289544,
   "end_time": "2023-02-07T09:35:27.459814",
   "environment_variables": {},
   "exception": null,
   "input_path": "__notebook__.ipynb",
   "output_path": "__notebook__.ipynb",
   "parameters": {},
   "start_time": "2023-02-07T09:34:00.170270",
   "version": "2.3.4"
  }
 },
 "nbformat": 4,
 "nbformat_minor": 5
}
