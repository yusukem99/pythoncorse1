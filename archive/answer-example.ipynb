{
 "cells": [
  {
   "cell_type": "markdown",
   "id": "eaa65481",
   "metadata": {
    "papermill": {
     "duration": 0.007895,
     "end_time": "2023-02-15T09:49:29.014757",
     "exception": false,
     "start_time": "2023-02-15T09:49:29.006862",
     "status": "completed"
    },
    "tags": []
   },
   "source": [
    "# [TensorFlow, KerasでVGG16などの学習済みモデルを利用](https://www.kaggle.com/code/mitsuya3471/tensorflow-keras-vgg16/)の解答例\n",
    "\n",
    "[Pokemon Image Dataset](https://www.kaggle.com/datasets/vishalsubbiah/pokemon-images-and-types)を使います"
   ]
  },
  {
   "cell_type": "code",
   "execution_count": 1,
   "id": "98ca9afc",
   "metadata": {
    "execution": {
     "iopub.execute_input": "2023-02-15T09:49:29.030967Z",
     "iopub.status.busy": "2023-02-15T09:49:29.030546Z",
     "iopub.status.idle": "2023-02-15T09:49:38.312768Z",
     "shell.execute_reply": "2023-02-15T09:49:38.311205Z"
    },
    "papermill": {
     "duration": 9.294159,
     "end_time": "2023-02-15T09:49:38.315940",
     "exception": false,
     "start_time": "2023-02-15T09:49:29.021781",
     "status": "completed"
    },
    "tags": []
   },
   "outputs": [],
   "source": [
    "from PIL import Image\n",
    "import tensorflow as tf\n",
    "from tensorflow.keras import utils"
   ]
  },
  {
   "cell_type": "code",
   "execution_count": 2,
   "id": "18855a54",
   "metadata": {
    "execution": {
     "iopub.execute_input": "2023-02-15T09:49:38.331925Z",
     "iopub.status.busy": "2023-02-15T09:49:38.331212Z",
     "iopub.status.idle": "2023-02-15T09:49:38.388243Z",
     "shell.execute_reply": "2023-02-15T09:49:38.386683Z"
    },
    "papermill": {
     "duration": 0.068707,
     "end_time": "2023-02-15T09:49:38.391357",
     "exception": false,
     "start_time": "2023-02-15T09:49:38.322650",
     "status": "completed"
    },
    "tags": []
   },
   "outputs": [],
   "source": [
    "img = Image.open('/kaggle/input/pokemon-images-and-types/images/images/abomasnow.png')"
   ]
  },
  {
   "cell_type": "code",
   "execution_count": 3,
   "id": "fd61a45d",
   "metadata": {
    "execution": {
     "iopub.execute_input": "2023-02-15T09:49:38.407294Z",
     "iopub.status.busy": "2023-02-15T09:49:38.406503Z",
     "iopub.status.idle": "2023-02-15T09:49:38.420714Z",
     "shell.execute_reply": "2023-02-15T09:49:38.419429Z"
    },
    "papermill": {
     "duration": 0.033791,
     "end_time": "2023-02-15T09:49:38.431380",
     "exception": false,
     "start_time": "2023-02-15T09:49:38.397589",
     "status": "completed"
    },
    "tags": []
   },
   "outputs": [
    {
     "data": {
      "image/png": "[encoded data removed]",
      "text/plain": [
       "<PIL.PngImagePlugin.PngImageFile image mode=RGBA size=120x120>"
      ]
     },
     "execution_count": 3,
     "metadata": {},
     "output_type": "execute_result"
    }
   ],
   "source": [
    "img"
   ]
  },
  {
   "cell_type": "markdown",
   "id": "5dbe368b",
   "metadata": {
    "papermill": {
     "duration": 0.006648,
     "end_time": "2023-02-15T09:49:38.452437",
     "exception": false,
     "start_time": "2023-02-15T09:49:38.445789",
     "status": "completed"
    },
    "tags": []
   },
   "source": [
    "## [画像データフォーマット](https://imagingsolution.net/program/python/pillow/image_data_format/)`mode`で確認"
   ]
  },
  {
   "cell_type": "code",
   "execution_count": 4,
   "id": "d03e9e4c",
   "metadata": {
    "execution": {
     "iopub.execute_input": "2023-02-15T09:49:38.470577Z",
     "iopub.status.busy": "2023-02-15T09:49:38.470142Z",
     "iopub.status.idle": "2023-02-15T09:49:38.477688Z",
     "shell.execute_reply": "2023-02-15T09:49:38.476387Z"
    },
    "papermill": {
     "duration": 0.020043,
     "end_time": "2023-02-15T09:49:38.481454",
     "exception": false,
     "start_time": "2023-02-15T09:49:38.461411",
     "status": "completed"
    },
    "tags": []
   },
   "outputs": [
    {
     "data": {
      "text/plain": [
       "'RGBA'"
      ]
     },
     "execution_count": 4,
     "metadata": {},
     "output_type": "execute_result"
    }
   ],
   "source": [
    "img.mode"
   ]
  },
  {
   "cell_type": "code",
   "execution_count": 5,
   "id": "9591928e",
   "metadata": {
    "execution": {
     "iopub.execute_input": "2023-02-15T09:49:38.503992Z",
     "iopub.status.busy": "2023-02-15T09:49:38.503584Z",
     "iopub.status.idle": "2023-02-15T09:49:51.283489Z",
     "shell.execute_reply": "2023-02-15T09:49:51.281962Z"
    },
    "papermill": {
     "duration": 12.79249,
     "end_time": "2023-02-15T09:49:51.287059",
     "exception": false,
     "start_time": "2023-02-15T09:49:38.494569",
     "status": "completed"
    },
    "tags": []
   },
   "outputs": [
    {
     "name": "stderr",
     "output_type": "stream",
     "text": [
      "2023-02-15 09:49:38.580821: I tensorflow/core/common_runtime/process_util.cc:146] Creating new thread pool with default inter op setting: 2. Tune using inter_op_parallelism_threads for best performance.\n"
     ]
    },
    {
     "name": "stdout",
     "output_type": "stream",
     "text": [
      "Downloading data from https://storage.googleapis.com/tensorflow/keras-applications/vgg16/vgg16_weights_tf_dim_ordering_tf_kernels.h5\n",
      "553467904/553467096 [==============================] - 10s 0us/step\n",
      "553476096/553467096 [==============================] - 10s 0us/step\n"
     ]
    }
   ],
   "source": [
    "vgg16_model = tf.keras.applications.vgg16.VGG16(weights='imagenet')"
   ]
  },
  {
   "cell_type": "markdown",
   "id": "70ad0ce1",
   "metadata": {
    "papermill": {
     "duration": 0.0165,
     "end_time": "2023-02-15T09:49:51.321812",
     "exception": false,
     "start_time": "2023-02-15T09:49:51.305312",
     "status": "completed"
    },
    "tags": []
   },
   "source": [
    "## `input_shape`を使ってモデルの入力サイズを確認する\n",
    "\n",
    "(バッチサイズ、幅、高さ、色）"
   ]
  },
  {
   "cell_type": "code",
   "execution_count": 6,
   "id": "032519f5",
   "metadata": {
    "execution": {
     "iopub.execute_input": "2023-02-15T09:49:51.362458Z",
     "iopub.status.busy": "2023-02-15T09:49:51.361726Z",
     "iopub.status.idle": "2023-02-15T09:49:51.372232Z",
     "shell.execute_reply": "2023-02-15T09:49:51.371098Z"
    },
    "papermill": {
     "duration": 0.033097,
     "end_time": "2023-02-15T09:49:51.374661",
     "exception": false,
     "start_time": "2023-02-15T09:49:51.341564",
     "status": "completed"
    },
    "tags": []
   },
   "outputs": [
    {
     "data": {
      "text/plain": [
       "(None, 224, 224, 3)"
      ]
     },
     "execution_count": 6,
     "metadata": {},
     "output_type": "execute_result"
    }
   ],
   "source": [
    "vgg16_model.input_shape"
   ]
  },
  {
   "cell_type": "code",
   "execution_count": 7,
   "id": "e56dd58b",
   "metadata": {
    "execution": {
     "iopub.execute_input": "2023-02-15T09:49:51.416436Z",
     "iopub.status.busy": "2023-02-15T09:49:51.415815Z",
     "iopub.status.idle": "2023-02-15T09:49:51.421894Z",
     "shell.execute_reply": "2023-02-15T09:49:51.420563Z"
    },
    "papermill": {
     "duration": 0.030461,
     "end_time": "2023-02-15T09:49:51.424276",
     "exception": false,
     "start_time": "2023-02-15T09:49:51.393815",
     "status": "completed"
    },
    "tags": []
   },
   "outputs": [
    {
     "name": "stdout",
     "output_type": "stream",
     "text": [
      "画像のサイズ: (120, 120) モデルの入力: (224, 224)\n"
     ]
    }
   ],
   "source": [
    "print(f'画像のサイズ: {img.size} モデルの入力: {vgg16_model.input_shape[1:-1]}')"
   ]
  },
  {
   "cell_type": "markdown",
   "id": "0f7ea0cf",
   "metadata": {
    "papermill": {
     "duration": 0.02642,
     "end_time": "2023-02-15T09:49:51.468543",
     "exception": false,
     "start_time": "2023-02-15T09:49:51.442123",
     "status": "completed"
    },
    "tags": []
   },
   "source": [
    "## モデルの入力に合わせて、画像を拡大(`resize`)、フォーマット変換(`convert`)する"
   ]
  },
  {
   "cell_type": "code",
   "execution_count": 8,
   "id": "3a746e14",
   "metadata": {
    "execution": {
     "iopub.execute_input": "2023-02-15T09:49:51.510353Z",
     "iopub.status.busy": "2023-02-15T09:49:51.507393Z",
     "iopub.status.idle": "2023-02-15T09:49:51.515096Z",
     "shell.execute_reply": "2023-02-15T09:49:51.514141Z"
    },
    "papermill": {
     "duration": 0.030694,
     "end_time": "2023-02-15T09:49:51.517530",
     "exception": false,
     "start_time": "2023-02-15T09:49:51.486836",
     "status": "completed"
    },
    "tags": []
   },
   "outputs": [],
   "source": [
    "img = img.convert('RGB')\n",
    "img = img.resize( (224, 224), Image.Resampling.NEAREST)"
   ]
  },
  {
   "cell_type": "markdown",
   "id": "764214a8",
   "metadata": {
    "papermill": {
     "duration": 0.018501,
     "end_time": "2023-02-15T09:49:51.555686",
     "exception": false,
     "start_time": "2023-02-15T09:49:51.537185",
     "status": "completed"
    },
    "tags": []
   },
   "source": [
    "## numpyに変換,次元拡張"
   ]
  },
  {
   "cell_type": "code",
   "execution_count": 9,
   "id": "3173eee0",
   "metadata": {
    "execution": {
     "iopub.execute_input": "2023-02-15T09:49:51.598432Z",
     "iopub.status.busy": "2023-02-15T09:49:51.597603Z",
     "iopub.status.idle": "2023-02-15T09:49:51.605544Z",
     "shell.execute_reply": "2023-02-15T09:49:51.603441Z"
    },
    "papermill": {
     "duration": 0.034228,
     "end_time": "2023-02-15T09:49:51.610077",
     "exception": false,
     "start_time": "2023-02-15T09:49:51.575849",
     "status": "completed"
    },
    "tags": []
   },
   "outputs": [
    {
     "name": "stdout",
     "output_type": "stream",
     "text": [
      "(1, 224, 224, 3)\n"
     ]
    }
   ],
   "source": [
    "img_array = utils.img_to_array(img)\n",
    "img_array = img_array[None, ...]\n",
    "print(img_array.shape)"
   ]
  },
  {
   "cell_type": "code",
   "execution_count": 10,
   "id": "826f395d",
   "metadata": {
    "execution": {
     "iopub.execute_input": "2023-02-15T09:49:51.652048Z",
     "iopub.status.busy": "2023-02-15T09:49:51.651622Z",
     "iopub.status.idle": "2023-02-15T09:49:52.679348Z",
     "shell.execute_reply": "2023-02-15T09:49:52.678056Z"
    },
    "papermill": {
     "duration": 1.051785,
     "end_time": "2023-02-15T09:49:52.682347",
     "exception": false,
     "start_time": "2023-02-15T09:49:51.630562",
     "status": "completed"
    },
    "tags": []
   },
   "outputs": [
    {
     "name": "stderr",
     "output_type": "stream",
     "text": [
      "2023-02-15 09:49:51.751245: I tensorflow/compiler/mlir/mlir_graph_optimization_pass.cc:185] None of the MLIR Optimization Passes are enabled (registered 2)\n"
     ]
    }
   ],
   "source": [
    "predictions = vgg16_model.predict(img_array)"
   ]
  },
  {
   "cell_type": "code",
   "execution_count": 11,
   "id": "214c42d3",
   "metadata": {
    "execution": {
     "iopub.execute_input": "2023-02-15T09:49:52.721689Z",
     "iopub.status.busy": "2023-02-15T09:49:52.720347Z",
     "iopub.status.idle": "2023-02-15T09:49:52.851502Z",
     "shell.execute_reply": "2023-02-15T09:49:52.849586Z"
    },
    "papermill": {
     "duration": 0.153203,
     "end_time": "2023-02-15T09:49:52.854410",
     "exception": false,
     "start_time": "2023-02-15T09:49:52.701207",
     "status": "completed"
    },
    "tags": []
   },
   "outputs": [
    {
     "name": "stdout",
     "output_type": "stream",
     "text": [
      "Downloading data from https://storage.googleapis.com/download.tensorflow.org/data/imagenet_class_index.json\n",
      "40960/35363 [==================================] - 0s 0us/step\n",
      "49152/35363 [=========================================] - 0s 0us/step\n",
      "[[('n02692877', 'airship', 0.44174436),\n",
      "  ('n03637318', 'lampshade', 0.23275629),\n",
      "  ('n03888257', 'parachute', 0.05775254),\n",
      "  ('n03476684', 'hair_slide', 0.0540595),\n",
      "  ('n04346328', 'stupa', 0.040007602)]]\n"
     ]
    }
   ],
   "source": [
    "import pprint\n",
    "result = tf.keras.applications.vgg16.decode_predictions(predictions, top=5)\n",
    "pprint.pprint(result)"
   ]
  },
  {
   "cell_type": "markdown",
   "id": "1fe6f57f",
   "metadata": {
    "papermill": {
     "duration": 0.017045,
     "end_time": "2023-02-15T09:49:52.889381",
     "exception": false,
     "start_time": "2023-02-15T09:49:52.872336",
     "status": "completed"
    },
    "tags": []
   },
   "source": [
    "# TenflowHubのモデルの場合"
   ]
  },
  {
   "cell_type": "code",
   "execution_count": 12,
   "id": "b2f76bcb",
   "metadata": {
    "execution": {
     "iopub.execute_input": "2023-02-15T09:49:52.927285Z",
     "iopub.status.busy": "2023-02-15T09:49:52.926877Z",
     "iopub.status.idle": "2023-02-15T09:50:34.061250Z",
     "shell.execute_reply": "2023-02-15T09:50:34.059618Z"
    },
    "papermill": {
     "duration": 41.157053,
     "end_time": "2023-02-15T09:50:34.064333",
     "exception": false,
     "start_time": "2023-02-15T09:49:52.907280",
     "status": "completed"
    },
    "tags": []
   },
   "outputs": [],
   "source": [
    "import tensorflow_hub as hub\n",
    "tf_model = hub.load(\"https://tfhub.dev/tensorflow/faster_rcnn/inception_resnet_v2_640x640/1\")"
   ]
  },
  {
   "cell_type": "code",
   "execution_count": 13,
   "id": "53f9b064",
   "metadata": {
    "execution": {
     "iopub.execute_input": "2023-02-15T09:50:34.102487Z",
     "iopub.status.busy": "2023-02-15T09:50:34.101865Z",
     "iopub.status.idle": "2023-02-15T09:51:03.013095Z",
     "shell.execute_reply": "2023-02-15T09:51:03.011434Z"
    },
    "papermill": {
     "duration": 28.935974,
     "end_time": "2023-02-15T09:51:03.018819",
     "exception": false,
     "start_time": "2023-02-15T09:50:34.082845",
     "status": "completed"
    },
    "tags": []
   },
   "outputs": [],
   "source": [
    "outputs = tf_model(img_array)"
   ]
  },
  {
   "cell_type": "markdown",
   "id": "edebff17",
   "metadata": {
    "papermill": {
     "duration": 0.017682,
     "end_time": "2023-02-15T09:51:03.058110",
     "exception": false,
     "start_time": "2023-02-15T09:51:03.040428",
     "status": "completed"
    },
    "tags": []
   },
   "source": [
    "## バウンディングボックスを取得"
   ]
  },
  {
   "cell_type": "code",
   "execution_count": 14,
   "id": "f150905a",
   "metadata": {
    "execution": {
     "iopub.execute_input": "2023-02-15T09:51:03.096437Z",
     "iopub.status.busy": "2023-02-15T09:51:03.095636Z",
     "iopub.status.idle": "2023-02-15T09:51:03.101151Z",
     "shell.execute_reply": "2023-02-15T09:51:03.100022Z"
    },
    "papermill": {
     "duration": 0.026922,
     "end_time": "2023-02-15T09:51:03.103677",
     "exception": false,
     "start_time": "2023-02-15T09:51:03.076755",
     "status": "completed"
    },
    "tags": []
   },
   "outputs": [],
   "source": [
    "boxes = outputs[\"detection_boxes\"][0]"
   ]
  },
  {
   "cell_type": "markdown",
   "id": "ee61a826",
   "metadata": {
    "papermill": {
     "duration": 0.018461,
     "end_time": "2023-02-15T09:51:03.140605",
     "exception": false,
     "start_time": "2023-02-15T09:51:03.122144",
     "status": "completed"
    },
    "tags": []
   },
   "source": [
    "## 座標変換\n",
    "バウンディングボックスは0~1で正規化されています。画像に合わせて座標を決めます。"
   ]
  },
  {
   "cell_type": "code",
   "execution_count": 15,
   "id": "501009f2",
   "metadata": {
    "execution": {
     "iopub.execute_input": "2023-02-15T09:51:03.177584Z",
     "iopub.status.busy": "2023-02-15T09:51:03.176832Z",
     "iopub.status.idle": "2023-02-15T09:51:03.184011Z",
     "shell.execute_reply": "2023-02-15T09:51:03.182372Z"
    },
    "papermill": {
     "duration": 0.02925,
     "end_time": "2023-02-15T09:51:03.187101",
     "exception": false,
     "start_time": "2023-02-15T09:51:03.157851",
     "status": "completed"
    },
    "tags": []
   },
   "outputs": [],
   "source": [
    "import numpy as np\n",
    "height, width = img_array.shape[1:3]\n",
    "box = boxes[0] * np.array([height, width, height, width])\n",
    "y_min, x_min, y_max, x_max = box.numpy().astype(int)"
   ]
  },
  {
   "cell_type": "code",
   "execution_count": 16,
   "id": "cf73dfa1",
   "metadata": {
    "execution": {
     "iopub.execute_input": "2023-02-15T09:51:03.228308Z",
     "iopub.status.busy": "2023-02-15T09:51:03.227583Z",
     "iopub.status.idle": "2023-02-15T09:51:03.242050Z",
     "shell.execute_reply": "2023-02-15T09:51:03.240657Z"
    },
    "papermill": {
     "duration": 0.039054,
     "end_time": "2023-02-15T09:51:03.245277",
     "exception": false,
     "start_time": "2023-02-15T09:51:03.206223",
     "status": "completed"
    },
    "tags": []
   },
   "outputs": [],
   "source": [
    "from PIL import ImageDraw\n",
    "rgb_image = img.copy()\n",
    "draw = ImageDraw.Draw(rgb_image)\n",
    "draw.rectangle((x_min, y_min, x_max-x_min, y_max-y_min), outline=(255, 255, 255))"
   ]
  },
  {
   "cell_type": "code",
   "execution_count": 17,
   "id": "0cb679c6",
   "metadata": {
    "execution": {
     "iopub.execute_input": "2023-02-15T09:51:03.283342Z",
     "iopub.status.busy": "2023-02-15T09:51:03.282895Z",
     "iopub.status.idle": "2023-02-15T09:51:03.294256Z",
     "shell.execute_reply": "2023-02-15T09:51:03.293333Z"
    },
    "papermill": {
     "duration": 0.032733,
     "end_time": "2023-02-15T09:51:03.296437",
     "exception": false,
     "start_time": "2023-02-15T09:51:03.263704",
     "status": "completed"
    },
    "tags": []
   },
   "outputs": [
    {
     "data": {
      "image/png": "[encoded data removed]",
      "text/plain": [
       "<PIL.Image.Image image mode=RGB size=224x224>"
      ]
     },
     "execution_count": 17,
     "metadata": {},
     "output_type": "execute_result"
    }
   ],
   "source": [
    "rgb_image"
   ]
  }
 ],
 "metadata": {
  "kernelspec": {
   "display_name": "Python 3",
   "language": "python",
   "name": "python3"
  },
  "language_info": {
   "codemirror_mode": {
    "name": "ipython",
    "version": 3
   },
   "file_extension": ".py",
   "mimetype": "text/x-python",
   "name": "python",
   "nbconvert_exporter": "python",
   "pygments_lexer": "ipython3",
   "version": "3.7.12"
  },
  "papermill": {
   "default_parameters": {},
   "duration": 110.116336,
   "end_time": "2023-02-15T09:51:07.042891",
   "environment_variables": {},
   "exception": null,
   "input_path": "__notebook__.ipynb",
   "output_path": "__notebook__.ipynb",
   "parameters": {},
   "start_time": "2023-02-15T09:49:16.926555",
   "version": "2.3.4"
  }
 },
 "nbformat": 4,
 "nbformat_minor": 5
}
