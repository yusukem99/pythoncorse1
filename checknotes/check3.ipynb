{
 "cells": [
  {
   "cell_type": "markdown",
   "id": "cad342ca",
   "metadata": {},
   "source": [
    "# Pythonで使われる型を3つあげてください。"
   ]
  },
  {
   "cell_type": "markdown",
   "id": "8a00c74c",
   "metadata": {},
   "source": []
  },
  {
   "cell_type": "markdown",
   "id": "586bf250",
   "metadata": {
    "vscode": {
     "languageId": "plaintext"
    }
   },
   "source": [
    "# 型を調べる\n",
    "\n",
    "次の値はそれぞれ何の型でしょうか？分かったら実際に`type`関数を使って調べてみましょう。\n",
    "\n",
    "- `3.19`\n",
    "- `-99`\n",
    "- `\"dog\"`\n",
    "- `\"dog\" * 101`\n"
   ]
  },
  {
   "cell_type": "markdown",
   "id": "198ee101",
   "metadata": {
    "vscode": {
     "languageId": "plaintext"
    }
   },
   "source": [
    "# 真偽型を利用した関数の作成\n",
    "\n",
    "次のコードセルで、以下の３つの引数を受け取り、マクドナルドの１セットあたりの合計金額を計算して返す関数 get_mcd_price を作成してください。\n",
    "\n",
    "- burger_price … メインメニューの価格（円）\n",
    "- num_sides … サイドメニュー（ポテト・ナゲットなど）の個数（個）\n",
    "- has_drink … ドリンクセットの有無（boolean）\n",
    "\n",
    "メインメニュー単品の価格をベースとする\n",
    "\n",
    "サイドメニュー１つにつき 200円 を加算\n",
    "\n",
    "ドリンクセットありの場合は 150円 を加算\n",
    "\n",
    "## 例\n",
    "ビッグマック単品390円 ＋ ポテト１つ ＋ ドリンクなし\n",
    "\n",
    "390 + 1 × 200 + 0 = 590円  "
   ]
  },
  {
   "cell_type": "code",
   "execution_count": null,
   "id": "c373c1bf",
   "metadata": {
    "vscode": {
     "languageId": "plaintext"
    }
   },
   "outputs": [],
   "source": []
  }
 ],
 "metadata": {
  "language_info": {
   "name": "python"
  }
 },
 "nbformat": 4,
 "nbformat_minor": 5
}
