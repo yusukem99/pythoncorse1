{
 "cells": [
  {
   "attachments": {},
   "cell_type": "markdown",
   "id": "5550a5a5",
   "metadata": {
    "papermill": {
     "duration": 0.010052,
     "end_time": "2022-12-22T07:27:45.287633",
     "exception": false,
     "start_time": "2022-12-22T07:27:45.277581",
     "status": "completed"
    },
    "tags": []
   },
   "source": [
    "# ネットワークプログラミング\n",
    "\n",
    "ネットワークに関連するプログラムを書いてみましょう。まずはネットワークの構成要素について見ていきます。\n",
    "\n",
    "## [OSI参照モデル](https://www.infraexpert.com/study/networking3.html)\n",
    "\n",
    "OSI（Open Systems Interconnection）参照モデルとは、国際標準化機構（ISO）により策定された、コンピュータなどの通信機器の通信機能を、階層構造に分割したモデルです。\n",
    "\n",
    "## PDU ( プロトコルデータユニット )\n",
    "\n",
    "PDUは、コンピュータ間の通信において使用されるデータの単位のことです。\n",
    "\n",
    "データの単位を、レイヤ2では`フレーム`、レイヤ3では`パケット`、レイヤ4では`セグメント`と呼んでいます。\n",
    "\n",
    "レイヤ2の機器のスイッチなどではフレーム転送、レイヤ3の機器のルータなどではパケット転送などと言われます。ただし一般的には、コンピュータのデータの単位は「パケット」と呼ぶ人が多いです。\n",
    "\n",
    "なお、パケットやフレームなどのヘッダを取り除いたデータ部分だけのことはペイロードと呼ばれています。\n",
    "\n",
    "[資料：ネスペイージス](https://www.infraexpert.com/info/netspecial1.html)"
   ]
  },
  {
   "attachments": {},
   "cell_type": "markdown",
   "id": "1dd9cfa5",
   "metadata": {
    "papermill": {
     "duration": 0.010288,
     "end_time": "2022-12-22T07:27:45.308014",
     "exception": false,
     "start_time": "2022-12-22T07:27:45.297726",
     "status": "completed"
    },
    "tags": []
   },
   "source": [
    "## [イーサネットフレーム](https://www.infraexpert.com/study/ethernet4.html)\n",
    "\n",
    "イーサネットフレームとは、ネットワークで通信元、通信先を識別する**MACアドレス**が記述されたデータです。\n",
    "\n",
    "macアドレスは48ビットのアドレスで、通常は16進数で表記されます。例えば、`00:1A:2B:3C:4D:5E`のような形式です。\n",
    "\n",
    "次のコマンドで、WindowsのMACアドレスを確認してみましょう。\n",
    "\n",
    "```\n",
    "getmac /v\n",
    "```"
   ]
  },
  {
   "attachments": {},
   "cell_type": "markdown",
   "id": "bd5a2c30",
   "metadata": {
    "papermill": {
     "duration": 0.009682,
     "end_time": "2022-12-22T07:27:45.327875",
     "exception": false,
     "start_time": "2022-12-22T07:27:45.318193",
     "status": "completed"
    },
    "tags": []
   },
   "source": [
    "## 問1\n",
    "\n",
    "MACアドレス`macbytes`を`bytes`型で宣言し、さらに`-`で区切った16進数の文字列で表示してください。"
   ]
  },
  {
   "cell_type": "code",
   "execution_count": null,
   "id": "d5b6bb67",
   "metadata": {
    "execution": {
     "iopub.execute_input": "2022-12-22T07:27:45.370440Z",
     "iopub.status.busy": "2022-12-22T07:27:45.369695Z",
     "iopub.status.idle": "2022-12-22T07:27:45.375863Z",
     "shell.execute_reply": "2022-12-22T07:27:45.374239Z"
    },
    "papermill": {
     "duration": 0.020778,
     "end_time": "2022-12-22T07:27:45.379125",
     "exception": false,
     "start_time": "2022-12-22T07:27:45.358347",
     "status": "completed"
    },
    "tags": []
   },
   "outputs": [],
   "source": [
    "\n",
    "\n",
    "# macbytesをbytesで宣言\n",
    "macbytes = ___\n",
    "\n",
    "# まずは空の文字列を宣言\n",
    "hex_macaddr = ''\n",
    "# 上に宣言したmacbytesをfor文で1バイトずつ取り出し、`-`で区切ってつなげると良いでしょう。\n",
    "for byte in macbytes:\n",
    "    pass\n",
    "    \n",
    "print(hex_macaddr)\n",
    "\"\"\"\n",
    "例.\n",
    ">>>'0c-7a-15-c9-fa-95'\n",
    "\"\"\""
   ]
  },
  {
   "cell_type": "markdown",
   "id": "55867d5d",
   "metadata": {},
   "source": [
    "# ヒント"
   ]
  },
  {
   "cell_type": "code",
   "execution_count": null,
   "id": "d23adc13",
   "metadata": {},
   "outputs": [],
   "source": [
    "# 0c-7a-15-c9-fa-95というMacアドレスだった場合、最初の1バイトを16進数で表すと0cになります。\n",
    "# Pythonで16進数を使う際には頭に0xとつけるとわかりやすいです。\n",
    "ffbytes = bytes([0x0c])\n",
    "# f'{フォーマットする対象:フォーマット方式}\n",
    "ffhex = '{:02x}'.format(ffbytes[0]) \n",
    "print(ffhex)"
   ]
  },
  {
   "attachments": {},
   "cell_type": "markdown",
   "id": "6dfc461c",
   "metadata": {
    "papermill": {
     "duration": 0.009941,
     "end_time": "2022-12-22T07:27:45.433230",
     "exception": false,
     "start_time": "2022-12-22T07:27:45.423289",
     "status": "completed"
    },
    "tags": []
   },
   "source": [
    "## 問2\n",
    "\n",
    "[イーサネットフレーム](https://www.infraexpert.com/study/ethernet4.html)を表すクラス`L2Frame`を完成させてください。"
   ]
  },
  {
   "cell_type": "code",
   "execution_count": null,
   "id": "8e69640e",
   "metadata": {
    "execution": {
     "iopub.execute_input": "2022-12-22T07:27:45.455819Z",
     "iopub.status.busy": "2022-12-22T07:27:45.455373Z",
     "iopub.status.idle": "2022-12-22T07:27:45.470951Z",
     "shell.execute_reply": "2022-12-22T07:27:45.469966Z"
    },
    "papermill": {
     "duration": 0.029911,
     "end_time": "2022-12-22T07:27:45.473306",
     "exception": false,
     "start_time": "2022-12-22T07:27:45.443395",
     "status": "completed"
    },
    "tags": []
   },
   "outputs": [],
   "source": [
    "class L2Frame():\n",
    "    def __init__(self, payload=bytes(46)):\n",
    "        \"\"\"\n",
    "            ___に適切な値を設定してください。\n",
    "            また、それぞれのメソッドをdocstringの説明に従って実装してください。\n",
    "\n",
    "            プリアンブルはフレームの始まりを合図するために用いる特別なビット列のこと。\n",
    "            10101010が7回、最後に10101011が設定されるようにしてください。\n",
    "        \"\"\"\n",
    "        self.payload = payload\n",
    "        self.preamble = ___ # プリアンブル\n",
    "        self.src_mac_addr = bytearray(6) # 送信元のMACアドレス\n",
    "        self.dst_mac_addr = bytearray(6) # 宛先のMACアドレス\n",
    "        self.type = ___ # \n",
    "    def get_src_mac_addr(self):\n",
    "        \"\"\"\n",
    "            送信元macアドレスを16進数文字列で取得する関数\n",
    "            ex. \n",
    "            get_mac_addr()\n",
    "            >>>'0c-7a-15-c9-fa-95'\n",
    "        \"\"\"        \n",
    "        pass\n",
    "    def set_src_mac_addr(self, mac):\n",
    "        \"\"\"\n",
    "            送信元macアドレス16進数文字列で設定する関数\n",
    "            ex.\n",
    "            set_mac_addr('0c-7a-15-c9-fa-95')\n",
    "        \"\"\"\n",
    "        pass\n",
    "    def get_protocol(self):\n",
    "        \"\"\"\n",
    "            プロトコルを文字列で取得する関数\n",
    "            ex.\n",
    "            >>> get_protocol()\n",
    "            'IPv4'\n",
    "        \"\"\"        \n",
    "        pass    \n",
    "    def set_type(self, upper_type='IPv4'):\n",
    "        \"\"\"\n",
    "            上位層プロトコルを文字列で設定する関数\n",
    "            例えば、'IPv4'を設定すると、IPv4プロトコルを示す0x0800が設定されるようにしてください。\n",
    "            ex.\n",
    "            set_protocol('IPv4')\n",
    "        \"\"\"        \n",
    "        pass     \n",
    "    def get_verndor_name(self):\n",
    "        \"\"\"\n",
    "            ベンダーコードを文字列で取得する関数\n",
    "            例えば、self.src_mac_addrが'00-17-94-c9-fa-95'の場合、ベンダーコードは'00-17-94'となります。\n",
    "            これはシスコのベンダーコードで、ベンダー名は'Cisco Systems'となります。\n",
    "            ex.\n",
    "            get_verndor_name()\n",
    "            >>>'Cisco Systems'\n",
    "        \"\"\"\n",
    "        pass\n",
    "    def get_bytes(self):\n",
    "        \"\"\"\n",
    "            パケット全体のバイト列を返す関数\n",
    "            ex.\n",
    "            get_bytes()\n",
    "            >>>b'\\xff\\xff...\\xff'\n",
    "        \"\"\"\n",
    "        pass\n",
    "    # 他にもどんなメソッドがあると便利でしょうか？"
   ]
  },
  {
   "attachments": {},
   "cell_type": "markdown",
   "id": "1a9ac9ed",
   "metadata": {},
   "source": [
    "実際にインスタンスを作成してみましょう"
   ]
  },
  {
   "cell_type": "code",
   "execution_count": null,
   "id": "cf6abe4f",
   "metadata": {
    "execution": {
     "iopub.execute_input": "2022-12-22T07:27:45.495648Z",
     "iopub.status.busy": "2022-12-22T07:27:45.494923Z",
     "iopub.status.idle": "2022-12-22T07:27:45.504222Z",
     "shell.execute_reply": "2022-12-22T07:27:45.502959Z"
    },
    "papermill": {
     "duration": 0.022914,
     "end_time": "2022-12-22T07:27:45.506393",
     "exception": false,
     "start_time": "2022-12-22T07:27:45.483479",
     "status": "completed"
    },
    "tags": []
   },
   "outputs": [],
   "source": [
    "l2frame = L2Frame()\n",
    "l2frame.payload"
   ]
  },
  {
   "attachments": {},
   "cell_type": "markdown",
   "id": "56812a7e",
   "metadata": {
    "papermill": {
     "duration": 0.009988,
     "end_time": "2022-12-22T07:27:45.526655",
     "exception": false,
     "start_time": "2022-12-22T07:27:45.516667",
     "status": "completed"
    },
    "tags": []
   },
   "source": [
    "# [IPアドレス](https://www.infraexpert.com/study/ip5.html)\n",
    "\n",
    "IPアドレスとは、ネットワーク上の機器を識別するためのアドレスです。IPアドレスは、ネットワーク層で使用され、通信相手を特定するために必要です。\n",
    "\n",
    "IPアドレスは**グローバルIPアドレス**と**プライベートIPアドレス**に分けられます。\n",
    "\n",
    "グローバルIPアドレスとは、インターネットに接続された機器に一意に割り当てられるIPアドレスであり、世界的にはICANN、日本ではJPNICという機関で管理しています。"
   ]
  },
  {
   "attachments": {},
   "cell_type": "markdown",
   "id": "f13672ea",
   "metadata": {
    "papermill": {
     "duration": 0.010771,
     "end_time": "2022-12-22T07:27:45.548056",
     "exception": false,
     "start_time": "2022-12-22T07:27:45.537285",
     "status": "completed"
    },
    "tags": []
   },
   "source": [
    "プライベートIPアドレス**192.168.80.0**から**192.168.80.255**の間で使用可能なホストアドレスの数を考えてみましょう。"
   ]
  },
  {
   "cell_type": "code",
   "execution_count": null,
   "id": "44907395",
   "metadata": {
    "execution": {
     "iopub.execute_input": "2022-12-22T07:27:45.571166Z",
     "iopub.status.busy": "2022-12-22T07:27:45.570112Z",
     "iopub.status.idle": "2022-12-22T07:27:45.577655Z",
     "shell.execute_reply": "2022-12-22T07:27:45.576576Z"
    },
    "papermill": {
     "duration": 0.0213,
     "end_time": "2022-12-22T07:27:45.579800",
     "exception": false,
     "start_time": "2022-12-22T07:27:45.558500",
     "status": "completed"
    },
    "tags": []
   },
   "outputs": [],
   "source": [
    "# 第三オクテットまで同じなので、第四オクテットを考える。\n",
    "# 255 - 0 + 1（0~255までの数）- 2 (ネットワークアドレスとブロードキャストアドレス)\n",
    "hosts_available = (255 - 0) + 1 - 2\n",
    "print(\"利用可能なホストアドレスの数は、{}個です\".format(hosts_available))"
   ]
  },
  {
   "attachments": {},
   "cell_type": "markdown",
   "id": "5950d17e",
   "metadata": {
    "papermill": {
     "duration": 0.01016,
     "end_time": "2022-12-22T07:27:45.600184",
     "exception": false,
     "start_time": "2022-12-22T07:27:45.590024",
     "status": "completed"
    },
    "tags": []
   },
   "source": [
    "プライベートIPアドレス**192.168.80.0**から**192.168.100.255**の間でホストとして使用可能なIPアドレスの数はいくつか。"
   ]
  },
  {
   "cell_type": "code",
   "execution_count": null,
   "id": "6717e7df",
   "metadata": {
    "execution": {
     "iopub.execute_input": "2022-12-22T07:27:45.623663Z",
     "iopub.status.busy": "2022-12-22T07:27:45.622496Z",
     "iopub.status.idle": "2022-12-22T07:27:45.630388Z",
     "shell.execute_reply": "2022-12-22T07:27:45.628912Z"
    },
    "papermill": {
     "duration": 0.022435,
     "end_time": "2022-12-22T07:27:45.633234",
     "exception": false,
     "start_time": "2022-12-22T07:27:45.610799",
     "status": "completed"
    },
    "tags": []
   },
   "outputs": [],
   "source": [
    "#　第四オクテットの数\n",
    "octet4_num = 255 - 0 + 1 # 0, 1, 2, ... ,255\n",
    "\n",
    "#　第三オクテットの数\n",
    "octet3_num = 100 - 80 + 1 # 80, 81, 82, ... 100\n",
    "\n",
    "# 利用可能なIPアドレスの数＝（第四オクテットの数）×（第三オクテットの数）-(ネットワークアドレス+ブロードキャストアドレス)\n",
    "hosts_available = octet4_num * octet3_num - 2\n",
    "\n",
    "print(\"利用可能なホストアドレスの数は、{}個です\".format(hosts_available))"
   ]
  },
  {
   "attachments": {},
   "cell_type": "markdown",
   "id": "495763a8",
   "metadata": {
    "papermill": {
     "duration": 0.010261,
     "end_time": "2022-12-22T07:27:45.653918",
     "exception": false,
     "start_time": "2022-12-22T07:27:45.643657",
     "status": "completed"
    },
    "tags": []
   },
   "source": [
    "あるいは..."
   ]
  },
  {
   "cell_type": "code",
   "execution_count": null,
   "id": "d0625498",
   "metadata": {
    "execution": {
     "iopub.execute_input": "2022-12-22T07:27:45.676624Z",
     "iopub.status.busy": "2022-12-22T07:27:45.676231Z",
     "iopub.status.idle": "2022-12-22T07:27:45.681992Z",
     "shell.execute_reply": "2022-12-22T07:27:45.680900Z"
    },
    "papermill": {
     "duration": 0.019985,
     "end_time": "2022-12-22T07:27:45.684315",
     "exception": false,
     "start_time": "2022-12-22T07:27:45.664330",
     "status": "completed"
    },
    "tags": []
   },
   "outputs": [],
   "source": [
    "# 利用可能なIPアドレスの数=（2進数で100.255） - (2進数で80.0)　+ 1 - 2\n",
    "hosts_available = ( 0b110010011111111 - 0b0101000000000000 + 1 ) - 2\n",
    "print(\"利用可能なホストアドレスの数は、{}個です\".format(hosts_available))"
   ]
  },
  {
   "attachments": {},
   "cell_type": "markdown",
   "id": "9803c67c",
   "metadata": {
    "papermill": {
     "duration": 0.010224,
     "end_time": "2022-12-22T07:27:45.704932",
     "exception": false,
     "start_time": "2022-12-22T07:27:45.694708",
     "status": "completed"
    },
    "tags": []
   },
   "source": [
    "## 問1\n",
    "\n",
    "プライベートIPアドレスのうちクラスBの範囲は**172.16.0.0~172.31.255.255**です。\n",
    "\n",
    "クラスBでホストとして利用可能なIPアドレスは最大でいくつでしょうか。"
   ]
  },
  {
   "cell_type": "code",
   "execution_count": null,
   "id": "9f210296",
   "metadata": {
    "execution": {
     "iopub.execute_input": "2022-12-22T07:27:45.728432Z",
     "iopub.status.busy": "2022-12-22T07:27:45.728033Z",
     "iopub.status.idle": "2022-12-22T07:27:45.734062Z",
     "shell.execute_reply": "2022-12-22T07:27:45.732914Z"
    },
    "papermill": {
     "duration": 0.020795,
     "end_time": "2022-12-22T07:27:45.736261",
     "exception": false,
     "start_time": "2022-12-22T07:27:45.715466",
     "status": "completed"
    },
    "tags": []
   },
   "outputs": [],
   "source": [
    "# 適切な値を設定してください。新たに行を追加してもかまいません。\n",
    "hosts_available_class_b = ___\n",
    "print(f'プライベートIPアドレスのクラスBで利用可能なIPアドレスの最大数は、{hosts_available_class_b:,}個です')"
   ]
  },
  {
   "attachments": {},
   "cell_type": "markdown",
   "id": "eeaa9924",
   "metadata": {
    "papermill": {
     "duration": 0.01443,
     "end_time": "2022-12-22T07:27:45.761878",
     "exception": false,
     "start_time": "2022-12-22T07:27:45.747448",
     "status": "completed"
    },
    "tags": []
   },
   "source": [
    "## 問2\n",
    "`start`~`end`で指定されたの範囲で、ホストとして利用可能なIPアドレスの数を返す関数を作成してください"
   ]
  },
  {
   "cell_type": "code",
   "execution_count": null,
   "id": "e55e29a0",
   "metadata": {
    "execution": {
     "iopub.execute_input": "2022-12-22T07:27:45.787922Z",
     "iopub.status.busy": "2022-12-22T07:27:45.787378Z",
     "iopub.status.idle": "2022-12-22T07:27:45.793066Z",
     "shell.execute_reply": "2022-12-22T07:27:45.791811Z"
    },
    "papermill": {
     "duration": 0.023226,
     "end_time": "2022-12-22T07:27:45.795982",
     "exception": false,
     "start_time": "2022-12-22T07:27:45.772756",
     "status": "completed"
    },
    "tags": []
   },
   "outputs": [],
   "source": [
    "def count_hosts_available(start, end):\n",
    "    \"\"\"\n",
    "        startからendまでのIPアドレスの数を返す関数\n",
    "        ex.\n",
    "        count_hosts_available('192.168.80.0', '192.168.80.255')[\n",
    "        >>>254\n",
    "    \"\"\"\n",
    "    pass"
   ]
  },
  {
   "attachments": {},
   "cell_type": "markdown",
   "id": "0aaa20bd",
   "metadata": {
    "papermill": {
     "duration": 0.013386,
     "end_time": "2022-12-22T07:27:45.820118",
     "exception": false,
     "start_time": "2022-12-22T07:27:45.806732",
     "status": "completed"
    },
    "tags": []
   },
   "source": [
    "# "
   ]
  },
  {
   "attachments": {},
   "cell_type": "markdown",
   "id": "b2a5672f",
   "metadata": {
    "papermill": {
     "duration": 0.011044,
     "end_time": "2022-12-22T07:27:45.846391",
     "exception": false,
     "start_time": "2022-12-22T07:27:45.835347",
     "status": "completed"
    },
    "tags": []
   },
   "source": [
    "## [IPパケット](https://www.infraexpert.com/study/tcpip1.html)\n",
    "\n",
    "IP（ Internet Protocol ）は、TCP/IPの IP のことです。\n",
    "\n",
    "OSI参照モデルではネットワーク層で動作するプロトコルであり、TCP/IPの階層モデルにおいてはインターネット層で動作するプロトコルのことです。"
   ]
  },
  {
   "attachments": {},
   "cell_type": "markdown",
   "id": "f5ee0bdb",
   "metadata": {
    "papermill": {
     "duration": 0.011401,
     "end_time": "2022-12-22T07:27:45.868694",
     "exception": false,
     "start_time": "2022-12-22T07:27:45.857293",
     "status": "completed"
    },
    "tags": []
   },
   "source": [
    "## 問3\n",
    "\n",
    "IPパケットを表すクラスL3Packetを完成させてください。"
   ]
  },
  {
   "cell_type": "code",
   "execution_count": null,
   "id": "15193a0d",
   "metadata": {
    "execution": {
     "iopub.execute_input": "2022-12-22T07:27:45.893434Z",
     "iopub.status.busy": "2022-12-22T07:27:45.893010Z",
     "iopub.status.idle": "2022-12-22T07:27:45.900736Z",
     "shell.execute_reply": "2022-12-22T07:27:45.898942Z"
    },
    "papermill": {
     "duration": 0.02386,
     "end_time": "2022-12-22T07:27:45.903697",
     "exception": false,
     "start_time": "2022-12-22T07:27:45.879837",
     "status": "completed"
    },
    "tags": []
   },
   "outputs": [],
   "source": [
    "class L3Packet():\n",
    "    def __init__(self, payload=bytes(0)):\n",
    "        # ヘッダーを一つのバイト列として宣言した。項目ごとにバイト列を宣言してもよい\n",
    "        self.header = bytearray(32*7)   \n",
    "        self.payload = payload\n",
    "    def get_ip_addr(self) -> str: \n",
    "        \"\"\"\n",
    "            ipアドレスを文字列で取得する関数\n",
    "            例.\n",
    "            l3packet = L3Packet()\n",
    "            l3packet.get_ip_addr()\n",
    "            >>>'192.168.80.100'\n",
    "        \"\"\"        \n",
    "        start = ___\n",
    "        length = ___\n",
    "        end = ___\n",
    "        ip_bytes = self.header[start:end]\n",
    "        ip_list = [ str(___) for i in range(___)]\n",
    "        ip_str = '.'.join(None)\n",
    "        return ip_str\n",
    "    def set_ip_addr(self, ip):\n",
    "        \"\"\"\n",
    "            ipアドレスをで文字列で設定する関数\n",
    "            例.\n",
    "            l3packet = L3Packet()\n",
    "            l3packet.set_ip_addr(\"192.168.80.100\")\n",
    "        \"\"\"        \n",
    "        start = ___\n",
    "        length = ___\n",
    "        end = ___\n",
    "        self.header[___:___] = bytes(___)\n",
    "    # 他にもどんなメソッドがあると便利でしょうか？"
   ]
  },
  {
   "attachments": {},
   "cell_type": "markdown",
   "id": "99d11645",
   "metadata": {
    "papermill": {
     "duration": 0.010817,
     "end_time": "2022-12-22T07:27:45.982863",
     "exception": false,
     "start_time": "2022-12-22T07:27:45.972046",
     "status": "completed"
    },
    "tags": []
   },
   "source": [
    "IPパケットをイーサネットフレームに入れてみます"
   ]
  },
  {
   "cell_type": "code",
   "execution_count": null,
   "id": "f54cfd94",
   "metadata": {
    "execution": {
     "iopub.execute_input": "2022-12-22T07:27:46.005956Z",
     "iopub.status.busy": "2022-12-22T07:27:46.005581Z",
     "iopub.status.idle": "2022-12-22T07:27:46.010473Z",
     "shell.execute_reply": "2022-12-22T07:27:46.009239Z"
    },
    "papermill": {
     "duration": 0.019303,
     "end_time": "2022-12-22T07:27:46.012956",
     "exception": false,
     "start_time": "2022-12-22T07:27:45.993653",
     "status": "completed"
    },
    "tags": []
   },
   "outputs": [],
   "source": [
    "l3packet = L3Packet()\n",
    "l3packet.get_ip_addr()"
   ]
  },
  {
   "attachments": {},
   "cell_type": "markdown",
   "id": "51813a4d",
   "metadata": {
    "papermill": {
     "duration": 0.011023,
     "end_time": "2022-12-22T07:27:46.034622",
     "exception": false,
     "start_time": "2022-12-22T07:27:46.023599",
     "status": "completed"
    },
    "tags": []
   },
   "source": [
    "# TCP/IPソケット\n",
    "\n",
    "TCP/IP (Transmission Control Protocol/Internet Protocol)ソケットは、ネットワーク上の二つのコンピュータ間で通信をするための方法です。\n",
    "\n",
    "`HTTP`、`SMTP`など、さまざまなプロトコルがこのTCP/IPソケットをもとに通信しています。\n",
    "\n",
    "pythonでは`socket`ライブラリを使うことで、TCP/IPソケットの通信ができます。"
   ]
  },
  {
   "attachments": {},
   "cell_type": "markdown",
   "id": "927dd6a7",
   "metadata": {
    "papermill": {
     "duration": 0.010262,
     "end_time": "2022-12-22T07:27:46.055856",
     "exception": false,
     "start_time": "2022-12-22T07:27:46.045594",
     "status": "completed"
    },
    "tags": []
   },
   "source": [
    "## [HTTPの構造](https://developer.mozilla.org/ja/docs/Web/HTTP/Messages)"
   ]
  },
  {
   "attachments": {},
   "cell_type": "markdown",
   "id": "4da6f748",
   "metadata": {
    "papermill": {
     "duration": 0.010267,
     "end_time": "2022-12-22T07:27:46.076605",
     "exception": false,
     "start_time": "2022-12-22T07:27:46.066338",
     "status": "completed"
    },
    "tags": []
   },
   "source": [
    "## 開始行\n",
    "\n",
    "HTTPリクエストであることをサーバに伝える、はじめの一行\n",
    "\n",
    "**メソッド** **URL** HTTP/**バージョン**\n",
    "\n",
    "例：`GET / HTTP/1.1`\n",
    "\n",
    "**メソッド**\n",
    "\n",
    "- GET\n",
    "- POST\n",
    "- PUT\n",
    "\n",
    "など\n",
    "\n",
    "**URL**\n",
    "\n",
    "参照したいリソースの場所\n",
    "\n",
    "例：`/ja/docs/Web/HTTP/Messages`\n",
    "\n",
    "**バージョン**\n",
    "\n",
    "現在`1.0`/`1.1`/`2.0`などのバージョンがあります\n",
    "\n",
    "**ヘッダー**\n",
    "\n",
    "ヘッダの名前の後にコロン`:`をつけ、その後ろに値を設定する。大文字・小文字を区別しない。\n",
    "\n",
    "値を含むヘッダー全体は 1 行で構成されており、とても長くなる場合もあります。\n",
    "\n",
    "例：`Connection: close`\n",
    "\n",
    "**リクエストの終了**\n",
    "\n",
    "最後に`\\r\\n`を2回続けるとリクエストの終了を表します。"
   ]
  },
  {
   "attachments": {},
   "cell_type": "markdown",
   "id": "a42869bf",
   "metadata": {
    "papermill": {
     "duration": 0.011275,
     "end_time": "2022-12-22T07:27:46.098382",
     "exception": false,
     "start_time": "2022-12-22T07:27:46.087107",
     "status": "completed"
    },
    "tags": []
   },
   "source": [
    "## 問1\n",
    "HTTPリクエストのバイト列を`msg`に設定してください。\n",
    "```\n",
    "GET / HTTP/1.1\\r\\nConnection: close\\r\\n\\r\\n\n",
    "```"
   ]
  },
  {
   "cell_type": "code",
   "execution_count": null,
   "id": "b15dec24",
   "metadata": {
    "execution": {
     "iopub.execute_input": "2022-12-22T07:27:46.126283Z",
     "iopub.status.busy": "2022-12-22T07:27:46.125880Z",
     "iopub.status.idle": "2022-12-22T07:27:46.136353Z",
     "shell.execute_reply": "2022-12-22T07:27:46.134896Z"
    },
    "papermill": {
     "duration": 0.027771,
     "end_time": "2022-12-22T07:27:46.139134",
     "exception": false,
     "start_time": "2022-12-22T07:27:46.111363",
     "status": "completed"
    },
    "tags": []
   },
   "outputs": [],
   "source": [
    "# ソケットライブラリ取り込み\n",
    "import socket\n",
    "\n",
    "def send_http_request(msg):\n",
    "    # サーバーIPとポート番号\n",
    "    HOST = \"www.google.com\"\n",
    "    PORT = 80\n",
    "\n",
    "    # ソケット作成\n",
    "    sock = socket.socket(socket.AF_INET)\n",
    "    # サーバへ接続\n",
    "    sock.connect((HOST, PORT))\n",
    "\n",
    "    # サーバにリクエストを送信\n",
    "    sock.send(msg)\n",
    "\n",
    "    # サーバからレスポンスを読み込む\n",
    "    chunks = []\n",
    "    while True:\n",
    "        chunk = sock.recv(1024)\n",
    "        if chunk == bytes(0):\n",
    "            break\n",
    "        chunks.append(chunk)\n",
    "\n",
    "    # チャンクのリストを文字列に変換\n",
    "    response_utf8 = ''\n",
    "    for chunk in chunks:\n",
    "        # UTF-8固定でバイト列を文字列に変換\n",
    "        # 'ignore'でエラーを無視する\n",
    "        response_utf8 += chunk.decode('utf-8', 'ignore')\n",
    "    print(response_utf8)"
   ]
  },
  {
   "cell_type": "code",
   "execution_count": null,
   "id": "e227156b",
   "metadata": {
    "execution": {
     "iopub.execute_input": "2022-12-22T07:27:46.163029Z",
     "iopub.status.busy": "2022-12-22T07:27:46.162578Z",
     "iopub.status.idle": "2022-12-22T07:27:46.166911Z",
     "shell.execute_reply": "2022-12-22T07:27:46.165900Z"
    },
    "papermill": {
     "duration": 0.021291,
     "end_time": "2022-12-22T07:27:46.171390",
     "exception": false,
     "start_time": "2022-12-22T07:27:46.150099",
     "status": "completed"
    },
    "tags": []
   },
   "outputs": [],
   "source": [
    "# HTTPリクエストのバイト列を`msg`に設定してください。\n",
    "msg = ___\n",
    "#send_http_request(msg)"
   ]
  },
  {
   "attachments": {},
   "cell_type": "markdown",
   "id": "97953513",
   "metadata": {
    "papermill": {
     "duration": 0.013558,
     "end_time": "2022-12-22T07:27:46.200895",
     "exception": false,
     "start_time": "2022-12-22T07:27:46.187337",
     "status": "completed"
    },
    "tags": []
   },
   "source": [
    "# ライブラリ`requests`を使う\n",
    "\n",
    "ライブラリを使うと、先に作成したTCPソケットの処理を簡単に書くことができます。`requests`を使うと、HTTPのGETリクエストを送信することができます。"
   ]
  },
  {
   "cell_type": "code",
   "execution_count": null,
   "id": "7d170716",
   "metadata": {
    "execution": {
     "iopub.execute_input": "2022-12-22T07:27:46.232851Z",
     "iopub.status.busy": "2022-12-22T07:27:46.232451Z",
     "iopub.status.idle": "2022-12-22T07:27:46.678586Z",
     "shell.execute_reply": "2022-12-22T07:27:46.677519Z"
    },
    "papermill": {
     "duration": 0.464663,
     "end_time": "2022-12-22T07:27:46.681024",
     "exception": false,
     "start_time": "2022-12-22T07:27:46.216361",
     "status": "completed"
    },
    "tags": []
   },
   "outputs": [],
   "source": [
    "# !pip install requests\n",
    "import requests\n",
    "\n",
    "url = 'https://example.com/'\n",
    "\n",
    "response = requests.get(url)\n",
    "dir(response)"
   ]
  },
  {
   "cell_type": "markdown",
   "id": "8fdd3eca",
   "metadata": {},
   "source": [
    "# 問1\n",
    "\n",
    "`request`を使って、`https://www.python.org/`のHTMLを取得してください。さらにその時のステータスコードやレスポンスヘッダーを表示してください。"
   ]
  },
  {
   "cell_type": "code",
   "execution_count": null,
   "id": "6cada24f",
   "metadata": {},
   "outputs": [],
   "source": [
    "# ここにコードを書いてください"
   ]
  },
  {
   "attachments": {},
   "cell_type": "markdown",
   "id": "ef433228",
   "metadata": {
    "papermill": {
     "duration": 0.010251,
     "end_time": "2022-12-22T07:27:46.701930",
     "exception": false,
     "start_time": "2022-12-22T07:27:46.691679",
     "status": "completed"
    },
    "tags": []
   },
   "source": [
    "# [RFC(Request for Comments)](https://www.nic.ad.jp/ja/newsletter/No24/090.html)\n",
    "\n",
    "インターネットで用いられるさまざまな技術の説明書\n",
    "\n",
    "[rfc2616(HTTP)](https://www.rfc-editor.org/rfc/rfc2616)"
   ]
  }
 ],
 "metadata": {
  "kernelspec": {
   "display_name": "Python 3",
   "language": "python",
   "name": "python3"
  },
  "language_info": {
   "codemirror_mode": {
    "name": "ipython",
    "version": 3
   },
   "file_extension": ".py",
   "mimetype": "text/x-python",
   "name": "python",
   "nbconvert_exporter": "python",
   "pygments_lexer": "ipython3",
   "version": "3.9.6"
  },
  "papermill": {
   "default_parameters": {},
   "duration": 11.470732,
   "end_time": "2022-12-22T07:27:47.434897",
   "environment_variables": {},
   "exception": null,
   "input_path": "__notebook__.ipynb",
   "output_path": "__notebook__.ipynb",
   "parameters": {},
   "start_time": "2022-12-22T07:27:35.964165",
   "version": "2.3.4"
  }
 },
 "nbformat": 4,
 "nbformat_minor": 5
}
