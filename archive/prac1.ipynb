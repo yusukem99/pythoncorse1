{
 "cells": [
  {
   "attachments": {},
   "cell_type": "markdown",
   "metadata": {},
   "source": [
    "## 問1 (20点)\n",
    "コメントに従って、適切な算術演算子を使い変数に値を代入しなさい"
   ]
  },
  {
   "cell_type": "code",
   "execution_count": null,
   "metadata": {},
   "outputs": [],
   "source": [
    "# 例 3たす4\n",
    "ans1_0 = 3 + 4\n",
    "# 12かける9\n",
    "ans1_1 = ___\n",
    "# 2023を5で割ったときのあまり\n",
    "ans1_2 = ___\n",
    "# 2023を5で割ったときの商\n",
    "ans1_3 = ___\n",
    "# 2の23乗\n",
    "ans1_4 = ___"
   ]
  },
  {
   "attachments": {},
   "cell_type": "markdown",
   "metadata": {},
   "source": [
    "## 問2 (20点)\n",
    "整数を受け取り、その整数が奇数なら\"奇数\"、偶数なら\"偶数\"と表示する関数`odd_or_even`を定義してください。\n",
    "\n",
    "偶数である、ということは、2で割ってあまりが0になるということです。"
   ]
  },
  {
   "cell_type": "code",
   "execution_count": null,
   "metadata": {},
   "outputs": [],
   "source": [
    "def odd_or_even(n):\n",
    "    # ここにコードを記入してください\n",
    "    pass\n",
    "\n",
    "odd_or_even(13)\n",
    "# >>> 奇数\n",
    "odd_or_even(24)\n",
    "# >>> 偶数"
   ]
  },
  {
   "attachments": {},
   "cell_type": "markdown",
   "metadata": {},
   "source": [
    "## 問3 (20点)\n",
    "ある人の年齢を表す整数`age`を受け取り、このageの値によって、以下のメッセージを表示する関数を作成してください。\n",
    "\n",
    "- 13歳未満の場合： \"あなたは子供です\"\n",
    "- 13歳以上、18歳未満の場合： \"あなたは少年です\"\n",
    "- 18歳以上の場合： \"あなたは大人です\""
   ]
  },
  {
   "cell_type": "code",
   "execution_count": null,
   "metadata": {},
   "outputs": [],
   "source": [
    "# ここに関数を定義してください"
   ]
  },
  {
   "attachments": {},
   "cell_type": "markdown",
   "metadata": {},
   "source": [
    "## 問4 (20点)\n",
    "引数に`w`と`h`を受けとり、底辺が`w`、高さが`h`の三角形の面積を計算して返す関数`triangle_area`を定義してください。（三角形の面積=底辺×高さ÷2）"
   ]
  },
  {
   "cell_type": "code",
   "execution_count": null,
   "metadata": {},
   "outputs": [],
   "source": [
    "# ここに関数を定義してください。"
   ]
  },
  {
   "attachments": {},
   "cell_type": "markdown",
   "metadata": {},
   "source": [
    "## 問5 (10点)\n",
    "コメントに従って、リストの`インデックス`と`スライス`を使い変数に適切な値を代入しなさい"
   ]
  },
  {
   "cell_type": "code",
   "execution_count": null,
   "metadata": {
    "vscode": {
     "languageId": "plaintext"
    }
   },
   "outputs": [],
   "source": [
    "# リストfruitsから、\"peach\"をインデックスを用いて取り出し、`ans5_1`に代入してください。\n",
    "fruits = [\"apple\", \"banana\", \"peach\", \"grape\", \"melon\"]\n",
    "ans5_1 = ___\n",
    "\n",
    "# numbersから3番目から5番目までの要素（2,３,4）をスライシングを用いて取り出し、`ans5_2`に代入してください。リストのインデックスは0から始まることを思い出してください。\n",
    "numbers = [0, 1, 2, 3, 4, 5, 6, 7, 8, 9, 10]\n",
    "# ここにコードを書いてください\n",
    "ans5_2 = ___\n",
    "\n",
    "# nested_listから、\"d\"を取り出して`ans5_3`に代入してください。リスト内には別のリストが含まれていることに注意してください。\n",
    "nested_list = [\"a\", [\"b\", \"c\", [\"d\", \"e\", \"f\"]], \"g\"]\n",
    "ans5_3 = ___\n"
   ]
  }
 ],
 "metadata": {
  "language_info": {
   "name": "python"
  },
  "orig_nbformat": 4
 },
 "nbformat": 4,
 "nbformat_minor": 2
}
