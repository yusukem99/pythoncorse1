{
 "cells": [
  {
   "attachments": {},
   "cell_type": "markdown",
   "metadata": {},
   "source": [
    "## 問1 (20点)\n",
    "コメントに従って、適切な算術演算子を使い変数に値を代入しなさい"
   ]
  },
  {
   "cell_type": "code",
   "execution_count": null,
   "metadata": {},
   "outputs": [],
   "source": [
    "# 例 3たす4\n",
    "ans1_0 = 3 + 4\n",
    "# 12かける9\n",
    "ans1_1 = ___\n",
    "# 2023を5で割ったときのあまり\n",
    "ans1_2 = ___\n",
    "# 2023を5で割ったときの商\n",
    "ans1_3 = ___\n",
    "# 2の23乗\n",
    "ans1_4 = ___"
   ]
  },
  {
   "attachments": {},
   "cell_type": "markdown",
   "metadata": {},
   "source": [
    "## 問2 (20点)\n",
    "整数を受け取り、その整数が奇数なら\"奇数\"、偶数なら\"偶数\"と表示する関数`odd_or_even`を定義してください。さらに、この関数を使用して、数値13と24が奇数か偶数かを表示させてください。"
   ]
  },
  {
   "cell_type": "code",
   "execution_count": null,
   "metadata": {},
   "outputs": [],
   "source": [
    "def odd_or_even(n):\n",
    "    # ここにコードを記入してください\n",
    "    pass\n",
    "\n",
    "odd_or_even(13)\n",
    "odd_or_even(24)"
   ]
  },
  {
   "attachments": {},
   "cell_type": "markdown",
   "metadata": {},
   "source": [
    "## 問3 (20点)\n",
    "ある人の年齢を表す整数`age`を受け取り、このageの値によって、以下のメッセージを表示する関数を作成してください。\n",
    "\n",
    "- 13歳未満の場合： \"あなたは子供です\"\n",
    "- 13歳以上、18歳未満の場合： \"あなたは青少年です\"\n",
    "- 18歳以上の場合： \"あなたは大人です\""
   ]
  },
  {
   "cell_type": "code",
   "execution_count": null,
   "metadata": {},
   "outputs": [],
   "source": [
    "# ここに関数を定義してください"
   ]
  },
  {
   "attachments": {},
   "cell_type": "markdown",
   "metadata": {},
   "source": [
    "## 問4 (20点)\n",
    "1から10までの整数のリスト（[1, 2, 3, 4, 5, 6, 7, 8, 9, 10]）に対して、各整数の2乗を表示するforループを作成してください。"
   ]
  },
  {
   "cell_type": "code",
   "execution_count": null,
   "metadata": {
    "vscode": {
     "languageId": "plaintext"
    }
   },
   "outputs": [],
   "source": [
    "numbers = [1, 2, 3, 4, 5, 6, 7, 8, 9, 10]\n",
    "\n",
    "# ここにFOR文を記入してください"
   ]
  },
  {
   "attachments": {},
   "cell_type": "markdown",
   "metadata": {},
   "source": [
    "## 問5 (10点)\n",
    "コメントに従って、リストの`インデックス`と`スライス`を使い変数に適切な値を代入しなさい"
   ]
  },
  {
   "cell_type": "code",
   "execution_count": null,
   "metadata": {
    "vscode": {
     "languageId": "plaintext"
    }
   },
   "outputs": [],
   "source": [
    "# リストfruitsから、\"peach\"という要素をインデックスを用いて表示してください。\n",
    "fruits = [\"apple\", \"banana\", \"peach\", \"grape\", \"melon\"]\n",
    "ans5_1 = ___\n",
    "\n",
    "# numbersから、3番目から5番目までの要素をスライシングを用いて表示してください。なお、リストのインデックスは0から始まることを思い出してください。\n",
    "numbers = [0, 1, 2, 3, 4, 5, 6, 7, 8, 9, 10]\n",
    "# ここにコードを書いてください\n",
    "ans5_2 = ___\n",
    "\n",
    "# nested_listから、\"d\"という要素を表示してください。リスト内には別のリストが含まれています。\n",
    "nested_list = [\"a\", [\"b\", \"c\", [\"d\", \"e\", \"f\"]], \"g\"]\n",
    "ans5_3 = ___\n"
   ]
  }
 ],
 "metadata": {
  "language_info": {
   "name": "python"
  },
  "orig_nbformat": 4
 },
 "nbformat": 4,
 "nbformat_minor": 2
}
