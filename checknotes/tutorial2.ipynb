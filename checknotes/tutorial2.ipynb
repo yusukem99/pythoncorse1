{
 "cells": [
  {
   "cell_type": "markdown",
   "id": "cad342ca",
   "metadata": {},
   "source": [
    "# 関数の作成\n",
    "与えられた引数に`3`を加える関数を作成してください。"
   ]
  },
  {
   "cell_type": "markdown",
   "id": "8a00c74c",
   "metadata": {},
   "source": []
  },
  {
   "cell_type": "markdown",
   "id": "586bf250",
   "metadata": {
    "vscode": {
     "languageId": "plaintext"
    }
   },
   "source": [
    "# 関数の実行\n",
    "\n",
    "上で作成した関数を実行し、新しく作成した変数に代入してください。"
   ]
  },
  {
   "cell_type": "code",
   "execution_count": null,
   "id": "198ee101",
   "metadata": {
    "vscode": {
     "languageId": "plaintext"
    }
   },
   "outputs": [],
   "source": []
  },
  {
   "cell_type": "markdown",
   "id": "54b74332",
   "metadata": {
    "vscode": {
     "languageId": "plaintext"
    }
   },
   "source": [
    "# 複雑な関数の作成\n",
    "引数に労働時間（時間）を指定することで、労働時間に応じた給与を計算する関数を作成してください。"
   ]
  },
  {
   "cell_type": "code",
   "execution_count": null,
   "id": "e11b0791",
   "metadata": {
    "vscode": {
     "languageId": "plaintext"
    }
   },
   "outputs": [],
   "source": []
  },
  {
   "cell_type": "markdown",
   "id": "527af175",
   "metadata": {
    "vscode": {
     "languageId": "plaintext"
    }
   },
   "source": [
    "# スコープ\n",
    "スコープについて簡単に説明してください。"
   ]
  },
  {
   "cell_type": "markdown",
   "id": "8ec7e7b0",
   "metadata": {},
   "source": []
  },
  {
   "cell_type": "markdown",
   "id": "9e07b092",
   "metadata": {},
   "source": [
    "# 複数の引数を持つ関数の作成\n",
    "引数に労働時間（時間）と時給（円）を指定することで、労働時間に応じた給与を計算する関数を作成してください。"
   ]
  },
  {
   "cell_type": "code",
   "execution_count": null,
   "id": "dfdf6c6b",
   "metadata": {
    "vscode": {
     "languageId": "plaintext"
    }
   },
   "outputs": [],
   "source": []
  },
  {
   "cell_type": "markdown",
   "id": "9d29d16e",
   "metadata": {
    "vscode": {
     "languageId": "plaintext"
    }
   },
   "source": [
    "# 引数を持たない関数の作成\n",
    "\n",
    "引数を持たない関数を作成してください。たとえば、関数の中で「Hello World」と表示してください。\n"
   ]
  },
  {
   "cell_type": "code",
   "execution_count": null,
   "id": "afce3193",
   "metadata": {
    "vscode": {
     "languageId": "plaintext"
    }
   },
   "outputs": [],
   "source": []
  }
 ],
 "metadata": {
  "language_info": {
   "name": "python"
  }
 },
 "nbformat": 4,
 "nbformat_minor": 5
}
