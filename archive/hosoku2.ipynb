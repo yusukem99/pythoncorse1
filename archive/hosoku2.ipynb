{
 "cells": [
  {
   "attachments": {},
   "cell_type": "markdown",
   "id": "b09e7e4f",
   "metadata": {
    "papermill": {
     "duration": 0.019314,
     "end_time": "2022-12-19T02:52:13.803863",
     "exception": false,
     "start_time": "2022-12-19T02:52:13.784549",
     "status": "completed"
    },
    "tags": []
   },
   "source": [
    "# [２進数](https://www.infraexpert.com/study/ip1.html)と[ビット演算子](https://note.nkmk.me/python-bit-operation/)\n",
    "\n",
    "人が日常使用している数値は10進数ですが、コンピュータは内部で数値を表現する場合、2進数を使用\n",
    "しています。\n",
    "\n",
    "しかし、「0」と「1」だけの2進数では人が分かりにくいため、人間が見えるところでは\n",
    "コンピュータは2進数を10進数や16進数が変換して表現しています。"
   ]
  },
  {
   "attachments": {},
   "cell_type": "markdown",
   "id": "1235185f",
   "metadata": {
    "papermill": {
     "duration": 0.016621,
     "end_time": "2022-12-19T02:52:16.581996",
     "exception": false,
     "start_time": "2022-12-19T02:52:16.565375",
     "status": "completed"
    },
    "tags": []
   },
   "source": [
    "## ビットの演算"
   ]
  },
  {
   "attachments": {},
   "cell_type": "markdown",
   "id": "160c96a7",
   "metadata": {
    "papermill": {
     "duration": 0.016521,
     "end_time": "2022-12-19T02:52:16.615379",
     "exception": false,
     "start_time": "2022-12-19T02:52:16.598858",
     "status": "completed"
    },
    "tags": []
   },
   "source": [
    "### 二進数の記述（0b）\n",
    "\n",
    "先頭に0bをつける"
   ]
  },
  {
   "cell_type": "code",
   "execution_count": 12,
   "id": "5a472c3f",
   "metadata": {
    "execution": {
     "iopub.execute_input": "2022-12-19T02:52:16.651640Z",
     "iopub.status.busy": "2022-12-19T02:52:16.651120Z",
     "iopub.status.idle": "2022-12-19T02:52:16.657848Z",
     "shell.execute_reply": "2022-12-19T02:52:16.656472Z"
    },
    "papermill": {
     "duration": 0.028027,
     "end_time": "2022-12-19T02:52:16.660526",
     "exception": false,
     "start_time": "2022-12-19T02:52:16.632499",
     "status": "completed"
    },
    "tags": []
   },
   "outputs": [
    {
     "name": "stdout",
     "output_type": "stream",
     "text": [
      "0b100は10進数で4です\n"
     ]
    }
   ],
   "source": [
    "binary_4 = 0b100\n",
    "print(\"0b100は10進数で{}です\".format(binary_4))"
   ]
  },
  {
   "cell_type": "code",
   "execution_count": 13,
   "id": "b0d321e9",
   "metadata": {
    "execution": {
     "iopub.execute_input": "2022-12-19T02:52:16.697702Z",
     "iopub.status.busy": "2022-12-19T02:52:16.697272Z",
     "iopub.status.idle": "2022-12-19T02:52:16.706008Z",
     "shell.execute_reply": "2022-12-19T02:52:16.704579Z"
    },
    "papermill": {
     "duration": 0.031271,
     "end_time": "2022-12-19T02:52:16.708853",
     "exception": false,
     "start_time": "2022-12-19T02:52:16.677582",
     "status": "completed"
    },
    "tags": []
   },
   "outputs": [
    {
     "data": {
      "text/plain": [
       "True"
      ]
     },
     "execution_count": 13,
     "metadata": {},
     "output_type": "execute_result"
    }
   ],
   "source": [
    "0b1111 == (2**3) * 1 + (2**2) * 1 + (2**1) * 1 + (2**0) ** 1"
   ]
  },
  {
   "attachments": {},
   "cell_type": "markdown",
   "id": "0b894143",
   "metadata": {
    "papermill": {
     "duration": 0.016936,
     "end_time": "2022-12-19T02:52:16.742854",
     "exception": false,
     "start_time": "2022-12-19T02:52:16.725918",
     "status": "completed"
    },
    "tags": []
   },
   "source": [
    "書き方は違っても値は同じになる"
   ]
  },
  {
   "cell_type": "code",
   "execution_count": 14,
   "id": "c63e8b1e",
   "metadata": {
    "execution": {
     "iopub.execute_input": "2022-12-19T02:52:16.779533Z",
     "iopub.status.busy": "2022-12-19T02:52:16.779152Z",
     "iopub.status.idle": "2022-12-19T02:52:16.786189Z",
     "shell.execute_reply": "2022-12-19T02:52:16.785060Z"
    },
    "papermill": {
     "duration": 0.028431,
     "end_time": "2022-12-19T02:52:16.788761",
     "exception": false,
     "start_time": "2022-12-19T02:52:16.760330",
     "status": "completed"
    },
    "tags": []
   },
   "outputs": [
    {
     "data": {
      "text/plain": [
       "True"
      ]
     },
     "execution_count": 14,
     "metadata": {},
     "output_type": "execute_result"
    }
   ],
   "source": [
    "binary2 = 0b10\n",
    "decimal2 = 2\n",
    "binary2 == decimal2"
   ]
  },
  {
   "attachments": {},
   "cell_type": "markdown",
   "id": "6f33d4df",
   "metadata": {
    "papermill": {
     "duration": 0.016864,
     "end_time": "2022-12-19T02:52:16.823067",
     "exception": false,
     "start_time": "2022-12-19T02:52:16.806203",
     "status": "completed"
    },
    "tags": []
   },
   "source": [
    "### 16進数の記述(0x)\n",
    "\n",
    "先頭に0xをつける"
   ]
  },
  {
   "cell_type": "code",
   "execution_count": 15,
   "id": "832f6886",
   "metadata": {
    "execution": {
     "iopub.execute_input": "2022-12-19T02:52:16.858961Z",
     "iopub.status.busy": "2022-12-19T02:52:16.858536Z",
     "iopub.status.idle": "2022-12-19T02:52:16.864270Z",
     "shell.execute_reply": "2022-12-19T02:52:16.863020Z"
    },
    "papermill": {
     "duration": 0.026965,
     "end_time": "2022-12-19T02:52:16.867095",
     "exception": false,
     "start_time": "2022-12-19T02:52:16.840130",
     "status": "completed"
    },
    "tags": []
   },
   "outputs": [
    {
     "name": "stdout",
     "output_type": "stream",
     "text": [
      "0x41は10進数で65です\n"
     ]
    }
   ],
   "source": [
    "hex_65 = 0x41\n",
    "print(\"0x41は10進数で{}です\".format(hex_65))"
   ]
  },
  {
   "cell_type": "code",
   "execution_count": 16,
   "id": "2c7e50b6",
   "metadata": {
    "execution": {
     "iopub.execute_input": "2022-12-19T02:52:16.903352Z",
     "iopub.status.busy": "2022-12-19T02:52:16.902968Z",
     "iopub.status.idle": "2022-12-19T02:52:16.910453Z",
     "shell.execute_reply": "2022-12-19T02:52:16.909260Z"
    },
    "papermill": {
     "duration": 0.028753,
     "end_time": "2022-12-19T02:52:16.913023",
     "exception": false,
     "start_time": "2022-12-19T02:52:16.884270",
     "status": "completed"
    },
    "tags": []
   },
   "outputs": [
    {
     "data": {
      "text/plain": [
       "True"
      ]
     },
     "execution_count": 16,
     "metadata": {},
     "output_type": "execute_result"
    }
   ],
   "source": [
    "0x41 == (16**1) * 4 + (16**0) * 1"
   ]
  },
  {
   "attachments": {},
   "cell_type": "markdown",
   "id": "2995b4be",
   "metadata": {
    "papermill": {
     "duration": 0.017675,
     "end_time": "2022-12-19T02:52:16.948984",
     "exception": false,
     "start_time": "2022-12-19T02:52:16.931309",
     "status": "completed"
    },
    "tags": []
   },
   "source": [
    "## Q.10, 50, 100をn進数で記述してみる"
   ]
  },
  {
   "cell_type": "code",
   "execution_count": 17,
   "id": "ad83182d",
   "metadata": {
    "execution": {
     "iopub.execute_input": "2022-12-19T02:52:16.986172Z",
     "iopub.status.busy": "2022-12-19T02:52:16.985759Z",
     "iopub.status.idle": "2022-12-19T02:52:16.991125Z",
     "shell.execute_reply": "2022-12-19T02:52:16.990309Z"
    },
    "papermill": {
     "duration": 0.02692,
     "end_time": "2022-12-19T02:52:16.993945",
     "exception": false,
     "start_time": "2022-12-19T02:52:16.967025",
     "status": "completed"
    },
    "tags": []
   },
   "outputs": [
    {
     "name": "stdout",
     "output_type": "stream",
     "text": [
      "None None None\n"
     ]
    }
   ],
   "source": [
    "# Noneを削除して値を設定する\n",
    "decimal10 = None\n",
    "binary10 = None\n",
    "hex10 = None\n",
    "\n",
    "print(decimal10, binary10, hex10)"
   ]
  },
  {
   "cell_type": "code",
   "execution_count": 18,
   "id": "c5d4d37f",
   "metadata": {
    "execution": {
     "iopub.execute_input": "2022-12-19T02:52:17.031417Z",
     "iopub.status.busy": "2022-12-19T02:52:17.030454Z",
     "iopub.status.idle": "2022-12-19T02:52:17.036850Z",
     "shell.execute_reply": "2022-12-19T02:52:17.035136Z"
    },
    "papermill": {
     "duration": 0.027757,
     "end_time": "2022-12-19T02:52:17.039565",
     "exception": false,
     "start_time": "2022-12-19T02:52:17.011808",
     "status": "completed"
    },
    "tags": []
   },
   "outputs": [
    {
     "name": "stdout",
     "output_type": "stream",
     "text": [
      "None None None\n"
     ]
    }
   ],
   "source": [
    "decimal50 = None\n",
    "binary50 = None\n",
    "hex50 = None\n",
    "\n",
    "print(decimal50, binary50, hex50)"
   ]
  },
  {
   "cell_type": "code",
   "execution_count": 19,
   "id": "a224eb75",
   "metadata": {
    "execution": {
     "iopub.execute_input": "2022-12-19T02:52:17.076544Z",
     "iopub.status.busy": "2022-12-19T02:52:17.076137Z",
     "iopub.status.idle": "2022-12-19T02:52:17.083381Z",
     "shell.execute_reply": "2022-12-19T02:52:17.081835Z"
    },
    "papermill": {
     "duration": 0.029047,
     "end_time": "2022-12-19T02:52:17.086217",
     "exception": false,
     "start_time": "2022-12-19T02:52:17.057170",
     "status": "completed"
    },
    "tags": []
   },
   "outputs": [
    {
     "name": "stdout",
     "output_type": "stream",
     "text": [
      "None None None\n"
     ]
    }
   ],
   "source": [
    "decimal100 = None\n",
    "binary100 = None\n",
    "hex100 = None\n",
    "\n",
    "print(decimal100, binary100, hex100)"
   ]
  },
  {
   "attachments": {},
   "cell_type": "markdown",
   "id": "6729157f",
   "metadata": {
    "papermill": {
     "duration": 0.017377,
     "end_time": "2022-12-19T02:52:17.121510",
     "exception": false,
     "start_time": "2022-12-19T02:52:17.104133",
     "status": "completed"
    },
    "tags": []
   },
   "source": [
    "補足 [グレイコード](https://telecomshikaku.com/1rikutoku-r03-10-musen-b-09/)"
   ]
  },
  {
   "attachments": {},
   "cell_type": "markdown",
   "id": "35bbc8cb",
   "metadata": {
    "papermill": {
     "duration": 0.017441,
     "end_time": "2022-12-19T02:52:17.156556",
     "exception": false,
     "start_time": "2022-12-19T02:52:17.139115",
     "status": "completed"
    },
    "tags": []
   },
   "source": [
    "`int`どうしの`|`"
   ]
  },
  {
   "cell_type": "code",
   "execution_count": 20,
   "id": "0a889a9a",
   "metadata": {
    "execution": {
     "iopub.execute_input": "2022-12-19T02:52:17.193722Z",
     "iopub.status.busy": "2022-12-19T02:52:17.193257Z",
     "iopub.status.idle": "2022-12-19T02:52:17.200594Z",
     "shell.execute_reply": "2022-12-19T02:52:17.199201Z"
    },
    "papermill": {
     "duration": 0.028451,
     "end_time": "2022-12-19T02:52:17.202891",
     "exception": false,
     "start_time": "2022-12-19T02:52:17.174440",
     "status": "completed"
    },
    "tags": []
   },
   "outputs": [
    {
     "data": {
      "text/plain": [
       "7"
      ]
     },
     "execution_count": 20,
     "metadata": {},
     "output_type": "execute_result"
    }
   ],
   "source": [
    "0b010 | 0b101\n",
    "#0b111"
   ]
  },
  {
   "attachments": {},
   "cell_type": "markdown",
   "id": "5e08acfa",
   "metadata": {
    "papermill": {
     "duration": 0.017407,
     "end_time": "2022-12-19T02:52:17.237966",
     "exception": false,
     "start_time": "2022-12-19T02:52:17.220559",
     "status": "completed"
    },
    "tags": []
   },
   "source": [
    "人間が読みやすい文字で表示したいなら"
   ]
  },
  {
   "cell_type": "code",
   "execution_count": 21,
   "id": "a66af8e0",
   "metadata": {
    "execution": {
     "iopub.execute_input": "2022-12-19T02:52:17.275643Z",
     "iopub.status.busy": "2022-12-19T02:52:17.275205Z",
     "iopub.status.idle": "2022-12-19T02:52:17.282019Z",
     "shell.execute_reply": "2022-12-19T02:52:17.280790Z"
    },
    "papermill": {
     "duration": 0.028924,
     "end_time": "2022-12-19T02:52:17.284817",
     "exception": false,
     "start_time": "2022-12-19T02:52:17.255893",
     "status": "completed"
    },
    "tags": []
   },
   "outputs": [
    {
     "name": "stdout",
     "output_type": "stream",
     "text": [
      "Help on built-in function bin in module builtins:\n",
      "\n",
      "bin(number, /)\n",
      "    Return the binary representation of an integer.\n",
      "    \n",
      "    >>> bin(2796202)\n",
      "    '0b1010101010101010101010'\n",
      "\n"
     ]
    }
   ],
   "source": [
    "help(bin)"
   ]
  },
  {
   "cell_type": "code",
   "execution_count": 22,
   "id": "52d9f833",
   "metadata": {
    "execution": {
     "iopub.execute_input": "2022-12-19T02:52:17.324053Z",
     "iopub.status.busy": "2022-12-19T02:52:17.323601Z",
     "iopub.status.idle": "2022-12-19T02:52:17.330884Z",
     "shell.execute_reply": "2022-12-19T02:52:17.329779Z"
    },
    "papermill": {
     "duration": 0.029486,
     "end_time": "2022-12-19T02:52:17.333191",
     "exception": false,
     "start_time": "2022-12-19T02:52:17.303705",
     "status": "completed"
    },
    "tags": []
   },
   "outputs": [
    {
     "data": {
      "text/plain": [
       "'0b11'"
      ]
     },
     "execution_count": 22,
     "metadata": {},
     "output_type": "execute_result"
    }
   ],
   "source": [
    "bin(0b10 | 0b11)"
   ]
  },
  {
   "cell_type": "code",
   "execution_count": 23,
   "id": "22c0188f",
   "metadata": {
    "execution": {
     "iopub.execute_input": "2022-12-19T02:52:17.374371Z",
     "iopub.status.busy": "2022-12-19T02:52:17.373417Z",
     "iopub.status.idle": "2022-12-19T02:52:17.380911Z",
     "shell.execute_reply": "2022-12-19T02:52:17.379693Z"
    },
    "papermill": {
     "duration": 0.031024,
     "end_time": "2022-12-19T02:52:17.383163",
     "exception": false,
     "start_time": "2022-12-19T02:52:17.352139",
     "status": "completed"
    },
    "tags": []
   },
   "outputs": [
    {
     "data": {
      "text/plain": [
       "12"
      ]
     },
     "execution_count": 23,
     "metadata": {},
     "output_type": "execute_result"
    }
   ],
   "source": [
    "0b1111 & 12"
   ]
  },
  {
   "cell_type": "code",
   "execution_count": 24,
   "id": "2e694ea5",
   "metadata": {
    "execution": {
     "iopub.execute_input": "2022-12-19T02:52:17.423194Z",
     "iopub.status.busy": "2022-12-19T02:52:17.421938Z",
     "iopub.status.idle": "2022-12-19T02:52:17.429993Z",
     "shell.execute_reply": "2022-12-19T02:52:17.428790Z"
    },
    "papermill": {
     "duration": 0.030971,
     "end_time": "2022-12-19T02:52:17.432420",
     "exception": false,
     "start_time": "2022-12-19T02:52:17.401449",
     "status": "completed"
    },
    "tags": []
   },
   "outputs": [
    {
     "data": {
      "text/plain": [
       "'0b1100'"
      ]
     },
     "execution_count": 24,
     "metadata": {},
     "output_type": "execute_result"
    }
   ],
   "source": [
    "bin(0b1111 & 12)"
   ]
  },
  {
   "cell_type": "code",
   "execution_count": 25,
   "id": "ad97b227",
   "metadata": {
    "execution": {
     "iopub.execute_input": "2022-12-19T02:52:17.470964Z",
     "iopub.status.busy": "2022-12-19T02:52:17.470533Z",
     "iopub.status.idle": "2022-12-19T02:52:17.477362Z",
     "shell.execute_reply": "2022-12-19T02:52:17.476145Z"
    },
    "papermill": {
     "duration": 0.029546,
     "end_time": "2022-12-19T02:52:17.479823",
     "exception": false,
     "start_time": "2022-12-19T02:52:17.450277",
     "status": "completed"
    },
    "tags": []
   },
   "outputs": [
    {
     "data": {
      "text/plain": [
       "12"
      ]
     },
     "execution_count": 25,
     "metadata": {},
     "output_type": "execute_result"
    }
   ],
   "source": [
    "0b1111 & 0b1100"
   ]
  },
  {
   "attachments": {},
   "cell_type": "markdown",
   "id": "f44b9194",
   "metadata": {
    "papermill": {
     "duration": 0.017714,
     "end_time": "2022-12-19T02:52:17.515726",
     "exception": false,
     "start_time": "2022-12-19T02:52:17.498012",
     "status": "completed"
    },
    "tags": []
   },
   "source": [
    "型はint"
   ]
  },
  {
   "cell_type": "code",
   "execution_count": 26,
   "id": "c072f054",
   "metadata": {
    "execution": {
     "iopub.execute_input": "2022-12-19T02:52:17.554193Z",
     "iopub.status.busy": "2022-12-19T02:52:17.553779Z",
     "iopub.status.idle": "2022-12-19T02:52:17.562068Z",
     "shell.execute_reply": "2022-12-19T02:52:17.560335Z"
    },
    "papermill": {
     "duration": 0.030919,
     "end_time": "2022-12-19T02:52:17.564586",
     "exception": false,
     "start_time": "2022-12-19T02:52:17.533667",
     "status": "completed"
    },
    "tags": []
   },
   "outputs": [
    {
     "data": {
      "text/plain": [
       "int"
      ]
     },
     "execution_count": 26,
     "metadata": {},
     "output_type": "execute_result"
    }
   ],
   "source": [
    "type(0b110)"
   ]
  },
  {
   "cell_type": "code",
   "execution_count": 27,
   "id": "276f0afb",
   "metadata": {
    "execution": {
     "iopub.execute_input": "2022-12-19T02:52:17.603666Z",
     "iopub.status.busy": "2022-12-19T02:52:17.603281Z",
     "iopub.status.idle": "2022-12-19T02:52:17.610653Z",
     "shell.execute_reply": "2022-12-19T02:52:17.609291Z"
    },
    "papermill": {
     "duration": 0.030448,
     "end_time": "2022-12-19T02:52:17.613757",
     "exception": false,
     "start_time": "2022-12-19T02:52:17.583309",
     "status": "completed"
    },
    "tags": []
   },
   "outputs": [
    {
     "data": {
      "text/plain": [
       "'0b11111010'"
      ]
     },
     "execution_count": 27,
     "metadata": {},
     "output_type": "execute_result"
    }
   ],
   "source": [
    "bin(250)"
   ]
  },
  {
   "attachments": {},
   "cell_type": "markdown",
   "id": "686ae3dc",
   "metadata": {
    "papermill": {
     "duration": 0.018782,
     "end_time": "2022-12-19T02:52:17.651545",
     "exception": false,
     "start_time": "2022-12-19T02:52:17.632763",
     "status": "completed"
    },
    "tags": []
   },
   "source": [
    "# 文字コード\n",
    "\n",
    "数字しか認識できないコンピュータが文字を扱うために、文字に対応する数字を割り当てたもの\n",
    "\n",
    "[ASCIIコード](http://www3.nit.ac.jp/~tamura/ex2/ascii.html)\n",
    "\n",
    "ASCIIコードとは、\n",
    "\n",
    "[ユニコード](https://ja.wikipedia.org/wiki/Unicode%E4%B8%80%E8%A6%A7_0000-0FFF)"
   ]
  },
  {
   "cell_type": "code",
   "execution_count": 28,
   "id": "455acaad",
   "metadata": {
    "execution": {
     "iopub.execute_input": "2022-12-19T02:52:17.689844Z",
     "iopub.status.busy": "2022-12-19T02:52:17.689432Z",
     "iopub.status.idle": "2022-12-19T02:52:17.697136Z",
     "shell.execute_reply": "2022-12-19T02:52:17.695463Z"
    },
    "papermill": {
     "duration": 0.02932,
     "end_time": "2022-12-19T02:52:17.699629",
     "exception": false,
     "start_time": "2022-12-19T02:52:17.670309",
     "status": "completed"
    },
    "tags": []
   },
   "outputs": [
    {
     "name": "stdout",
     "output_type": "stream",
     "text": [
      "Help on built-in function ord in module builtins:\n",
      "\n",
      "ord(c, /)\n",
      "    Return the Unicode code point for a one-character string.\n",
      "\n"
     ]
    }
   ],
   "source": [
    "help(ord)"
   ]
  },
  {
   "cell_type": "code",
   "execution_count": 29,
   "id": "d1de854b",
   "metadata": {
    "execution": {
     "iopub.execute_input": "2022-12-19T02:52:17.738401Z",
     "iopub.status.busy": "2022-12-19T02:52:17.737754Z",
     "iopub.status.idle": "2022-12-19T02:52:17.743038Z",
     "shell.execute_reply": "2022-12-19T02:52:17.741816Z"
    },
    "papermill": {
     "duration": 0.027823,
     "end_time": "2022-12-19T02:52:17.745677",
     "exception": false,
     "start_time": "2022-12-19T02:52:17.717854",
     "status": "completed"
    },
    "tags": []
   },
   "outputs": [
    {
     "name": "stdout",
     "output_type": "stream",
     "text": [
      "Aのユニコードは10進数で65です\n"
     ]
    }
   ],
   "source": [
    "unicode_a = ord('A')\n",
    "print( \"Aのユニコードは10進数で{}です\".format(unicode_a) )"
   ]
  },
  {
   "cell_type": "code",
   "execution_count": 30,
   "id": "48259973",
   "metadata": {
    "execution": {
     "iopub.execute_input": "2022-12-19T02:52:17.785699Z",
     "iopub.status.busy": "2022-12-19T02:52:17.785197Z",
     "iopub.status.idle": "2022-12-19T02:52:17.792466Z",
     "shell.execute_reply": "2022-12-19T02:52:17.791121Z"
    },
    "papermill": {
     "duration": 0.029952,
     "end_time": "2022-12-19T02:52:17.795088",
     "exception": false,
     "start_time": "2022-12-19T02:52:17.765136",
     "status": "completed"
    },
    "tags": []
   },
   "outputs": [
    {
     "name": "stdout",
     "output_type": "stream",
     "text": [
      "Help on built-in function hex in module builtins:\n",
      "\n",
      "hex(number, /)\n",
      "    Return the hexadecimal representation of an integer.\n",
      "    \n",
      "    >>> hex(12648430)\n",
      "    '0xc0ffee'\n",
      "\n"
     ]
    }
   ],
   "source": [
    "help(hex)"
   ]
  },
  {
   "cell_type": "code",
   "execution_count": 31,
   "id": "e303c1d5",
   "metadata": {
    "execution": {
     "iopub.execute_input": "2022-12-19T02:52:17.834357Z",
     "iopub.status.busy": "2022-12-19T02:52:17.833924Z",
     "iopub.status.idle": "2022-12-19T02:52:17.840240Z",
     "shell.execute_reply": "2022-12-19T02:52:17.838614Z"
    },
    "papermill": {
     "duration": 0.028705,
     "end_time": "2022-12-19T02:52:17.842647",
     "exception": false,
     "start_time": "2022-12-19T02:52:17.813942",
     "status": "completed"
    },
    "tags": []
   },
   "outputs": [
    {
     "name": "stdout",
     "output_type": "stream",
     "text": [
      "Aのユニコードは16進数で0x41です\n"
     ]
    }
   ],
   "source": [
    "unicode_a = ord('A')\n",
    "unicode_a_hex = hex(unicode_a)\n",
    "print( \"Aのユニコードは16進数で{}です\".format( unicode_a_hex ) )"
   ]
  },
  {
   "cell_type": "code",
   "execution_count": 32,
   "id": "c5417c2b",
   "metadata": {
    "execution": {
     "iopub.execute_input": "2022-12-19T02:52:17.884043Z",
     "iopub.status.busy": "2022-12-19T02:52:17.883302Z",
     "iopub.status.idle": "2022-12-19T02:52:17.889435Z",
     "shell.execute_reply": "2022-12-19T02:52:17.888132Z"
    },
    "papermill": {
     "duration": 0.02971,
     "end_time": "2022-12-19T02:52:17.891847",
     "exception": false,
     "start_time": "2022-12-19T02:52:17.862137",
     "status": "completed"
    },
    "tags": []
   },
   "outputs": [
    {
     "name": "stdout",
     "output_type": "stream",
     "text": [
      "Help on built-in function chr in module builtins:\n",
      "\n",
      "chr(i, /)\n",
      "    Return a Unicode string of one character with ordinal i; 0 <= i <= 0x10ffff.\n",
      "\n"
     ]
    }
   ],
   "source": [
    "help(chr)"
   ]
  },
  {
   "cell_type": "code",
   "execution_count": 33,
   "id": "31c700eb",
   "metadata": {
    "execution": {
     "iopub.execute_input": "2022-12-19T02:52:17.931982Z",
     "iopub.status.busy": "2022-12-19T02:52:17.931570Z",
     "iopub.status.idle": "2022-12-19T02:52:17.938405Z",
     "shell.execute_reply": "2022-12-19T02:52:17.937458Z"
    },
    "papermill": {
     "duration": 0.029821,
     "end_time": "2022-12-19T02:52:17.940787",
     "exception": false,
     "start_time": "2022-12-19T02:52:17.910966",
     "status": "completed"
    },
    "tags": []
   },
   "outputs": [
    {
     "data": {
      "text/plain": [
       "'A'"
      ]
     },
     "execution_count": 33,
     "metadata": {},
     "output_type": "execute_result"
    }
   ],
   "source": [
    "chr(65)"
   ]
  },
  {
   "attachments": {},
   "cell_type": "markdown",
   "id": "bccfe047",
   "metadata": {
    "papermill": {
     "duration": 0.01903,
     "end_time": "2022-12-19T02:52:17.978601",
     "exception": false,
     "start_time": "2022-12-19T02:52:17.959571",
     "status": "completed"
    },
    "tags": []
   },
   "source": [
    "## 自分の名前をユニコードで確認してみる"
   ]
  },
  {
   "cell_type": "code",
   "execution_count": 34,
   "id": "899e38e4",
   "metadata": {
    "execution": {
     "iopub.execute_input": "2022-12-19T02:52:18.018523Z",
     "iopub.status.busy": "2022-12-19T02:52:18.017582Z",
     "iopub.status.idle": "2022-12-19T02:52:18.023747Z",
     "shell.execute_reply": "2022-12-19T02:52:18.022526Z"
    },
    "papermill": {
     "duration": 0.028448,
     "end_time": "2022-12-19T02:52:18.026069",
     "exception": false,
     "start_time": "2022-12-19T02:52:17.997621",
     "status": "completed"
    },
    "tags": []
   },
   "outputs": [
    {
     "name": "stdout",
     "output_type": "stream",
     "text": [
      "109 105 116 115 117 121 97 "
     ]
    }
   ],
   "source": [
    "for char in 'mitsuya':\n",
    "    print( ord(char), end=\" \" )"
   ]
  },
  {
   "attachments": {},
   "cell_type": "markdown",
   "id": "f5afa040",
   "metadata": {
    "papermill": {
     "duration": 0.018749,
     "end_time": "2022-12-19T02:52:18.063920",
     "exception": false,
     "start_time": "2022-12-19T02:52:18.045171",
     "status": "completed"
    },
    "tags": []
   },
   "source": [
    "## Q.与えられた文字コードのリストを文字列に変換する関数をつくってみましょう"
   ]
  },
  {
   "cell_type": "code",
   "execution_count": 35,
   "id": "19d88ce3",
   "metadata": {
    "execution": {
     "iopub.execute_input": "2022-12-19T02:52:18.103642Z",
     "iopub.status.busy": "2022-12-19T02:52:18.103193Z",
     "iopub.status.idle": "2022-12-19T02:52:18.109377Z",
     "shell.execute_reply": "2022-12-19T02:52:18.107913Z"
    },
    "papermill": {
     "duration": 0.029058,
     "end_time": "2022-12-19T02:52:18.112103",
     "exception": false,
     "start_time": "2022-12-19T02:52:18.083045",
     "status": "completed"
    },
    "tags": []
   },
   "outputs": [],
   "source": [
    "def convert_to_str( charcodes:list ):\n",
    "    \"\"\"\n",
    "    converted = convert_to_str( [109, 105, 116, 115, 117, 121, 97] )\n",
    "    print(converted)\n",
    "    >>>'mitsuya'\n",
    "    \"\"\"\n",
    "    pass"
   ]
  },
  {
   "cell_type": "code",
   "execution_count": 36,
   "id": "71daf8b6",
   "metadata": {
    "execution": {
     "iopub.execute_input": "2022-12-19T02:52:18.152103Z",
     "iopub.status.busy": "2022-12-19T02:52:18.151663Z",
     "iopub.status.idle": "2022-12-19T02:52:18.158148Z",
     "shell.execute_reply": "2022-12-19T02:52:18.156385Z"
    },
    "papermill": {
     "duration": 0.029063,
     "end_time": "2022-12-19T02:52:18.160609",
     "exception": false,
     "start_time": "2022-12-19T02:52:18.131546",
     "status": "completed"
    },
    "tags": []
   },
   "outputs": [
    {
     "name": "stdout",
     "output_type": "stream",
     "text": [
      "None\n"
     ]
    }
   ],
   "source": [
    "converted = convert_to_str( [109, 105, 116, 115, 117, 121, 97] )\n",
    "print(converted)"
   ]
  },
  {
   "attachments": {},
   "cell_type": "markdown",
   "id": "2c5cd5b2",
   "metadata": {
    "papermill": {
     "duration": 0.018241,
     "end_time": "2022-12-19T02:52:18.197655",
     "exception": false,
     "start_time": "2022-12-19T02:52:18.179414",
     "status": "completed"
    },
    "tags": []
   },
   "source": [
    "# バイトデータ(8bitのまとまり) (byte, bytearray)"
   ]
  },
  {
   "cell_type": "code",
   "execution_count": 37,
   "id": "47e88307",
   "metadata": {
    "execution": {
     "iopub.execute_input": "2022-12-19T02:52:18.236917Z",
     "iopub.status.busy": "2022-12-19T02:52:18.236446Z",
     "iopub.status.idle": "2022-12-19T02:52:18.241898Z",
     "shell.execute_reply": "2022-12-19T02:52:18.240129Z"
    },
    "papermill": {
     "duration": 0.028161,
     "end_time": "2022-12-19T02:52:18.244407",
     "exception": false,
     "start_time": "2022-12-19T02:52:18.216246",
     "status": "completed"
    },
    "tags": []
   },
   "outputs": [],
   "source": [
    "#help(bytes)"
   ]
  },
  {
   "cell_type": "code",
   "execution_count": 38,
   "id": "56dc37a3",
   "metadata": {
    "execution": {
     "iopub.execute_input": "2022-12-19T02:52:18.284884Z",
     "iopub.status.busy": "2022-12-19T02:52:18.283608Z",
     "iopub.status.idle": "2022-12-19T02:52:18.292810Z",
     "shell.execute_reply": "2022-12-19T02:52:18.291326Z"
    },
    "papermill": {
     "duration": 0.032295,
     "end_time": "2022-12-19T02:52:18.295455",
     "exception": false,
     "start_time": "2022-12-19T02:52:18.263160",
     "status": "completed"
    },
    "tags": []
   },
   "outputs": [
    {
     "data": {
      "text/plain": [
       "192"
      ]
     },
     "execution_count": 38,
     "metadata": {},
     "output_type": "execute_result"
    }
   ],
   "source": [
    "#数値のみ\n",
    "ip_byte = bytes([192, 168, 80, 100])\n",
    "ip_byte[0]\n",
    "ip_byte = bytes([0xc0, 168, 80, 100])\n",
    "ip_byte[0]"
   ]
  },
  {
   "attachments": {},
   "cell_type": "markdown",
   "id": "52bb99b0",
   "metadata": {
    "papermill": {
     "duration": 0.018349,
     "end_time": "2022-12-19T02:52:18.333473",
     "exception": false,
     "start_time": "2022-12-19T02:52:18.315124",
     "status": "completed"
    },
    "tags": []
   },
   "source": [
    "bytesは変更できない（イミュータブル）"
   ]
  },
  {
   "cell_type": "code",
   "execution_count": 39,
   "id": "9653eb28",
   "metadata": {
    "execution": {
     "iopub.execute_input": "2022-12-19T02:52:18.373396Z",
     "iopub.status.busy": "2022-12-19T02:52:18.372959Z",
     "iopub.status.idle": "2022-12-19T02:52:18.377876Z",
     "shell.execute_reply": "2022-12-19T02:52:18.376629Z"
    },
    "papermill": {
     "duration": 0.027971,
     "end_time": "2022-12-19T02:52:18.380430",
     "exception": false,
     "start_time": "2022-12-19T02:52:18.352459",
     "status": "completed"
    },
    "tags": []
   },
   "outputs": [],
   "source": [
    "#ip_byte[0] = 1"
   ]
  },
  {
   "cell_type": "code",
   "execution_count": 40,
   "id": "1fb944bc",
   "metadata": {
    "execution": {
     "iopub.execute_input": "2022-12-19T02:52:18.420274Z",
     "iopub.status.busy": "2022-12-19T02:52:18.419835Z",
     "iopub.status.idle": "2022-12-19T02:52:18.427564Z",
     "shell.execute_reply": "2022-12-19T02:52:18.426528Z"
    },
    "papermill": {
     "duration": 0.030598,
     "end_time": "2022-12-19T02:52:18.429888",
     "exception": false,
     "start_time": "2022-12-19T02:52:18.399290",
     "status": "completed"
    },
    "tags": []
   },
   "outputs": [
    {
     "data": {
      "text/plain": [
       "b'\\xe3\\x81\\x93\\xe3\\x82\\x93\\xe3\\x81\\xab\\xe3\\x81\\xa1\\xe3\\x81\\xaf'"
      ]
     },
     "execution_count": 40,
     "metadata": {},
     "output_type": "execute_result"
    }
   ],
   "source": [
    "bytes('こんにちは', 'utf-8')"
   ]
  },
  {
   "cell_type": "code",
   "execution_count": 41,
   "id": "190e7fd7",
   "metadata": {
    "execution": {
     "iopub.execute_input": "2022-12-19T02:52:18.470855Z",
     "iopub.status.busy": "2022-12-19T02:52:18.469489Z",
     "iopub.status.idle": "2022-12-19T02:52:18.477383Z",
     "shell.execute_reply": "2022-12-19T02:52:18.476251Z"
    },
    "papermill": {
     "duration": 0.030697,
     "end_time": "2022-12-19T02:52:18.479713",
     "exception": false,
     "start_time": "2022-12-19T02:52:18.449016",
     "status": "completed"
    },
    "tags": []
   },
   "outputs": [
    {
     "data": {
      "text/plain": [
       "'こ'"
      ]
     },
     "execution_count": 41,
     "metadata": {},
     "output_type": "execute_result"
    }
   ],
   "source": [
    "str(bytes([0xe3, 0x81, 0x93]), 'utf-8')"
   ]
  },
  {
   "attachments": {},
   "cell_type": "markdown",
   "id": "32df1fa9",
   "metadata": {
    "papermill": {
     "duration": 0.018543,
     "end_time": "2022-12-19T02:52:18.518590",
     "exception": false,
     "start_time": "2022-12-19T02:52:18.500047",
     "status": "completed"
    },
    "tags": []
   },
   "source": [
    "発展\n",
    "[UnicodeとUTF-8の違い](https://qiita.com/omiita/items/50814037af2fd8b2b21e)"
   ]
  },
  {
   "cell_type": "code",
   "execution_count": 42,
   "id": "674a1a49",
   "metadata": {
    "execution": {
     "iopub.execute_input": "2022-12-19T02:52:18.561144Z",
     "iopub.status.busy": "2022-12-19T02:52:18.559968Z",
     "iopub.status.idle": "2022-12-19T02:52:18.567018Z",
     "shell.execute_reply": "2022-12-19T02:52:18.565855Z"
    },
    "papermill": {
     "duration": 0.032451,
     "end_time": "2022-12-19T02:52:18.569855",
     "exception": false,
     "start_time": "2022-12-19T02:52:18.537404",
     "status": "completed"
    },
    "tags": []
   },
   "outputs": [
    {
     "data": {
      "text/plain": [
       "bytearray(b'\\x00\\x00\\x00\\x00\\x00\\x00')"
      ]
     },
     "execution_count": 42,
     "metadata": {},
     "output_type": "execute_result"
    }
   ],
   "source": [
    "mac_bytes = bytearray(6)\n",
    "mac_bytes"
   ]
  },
  {
   "attachments": {},
   "cell_type": "markdown",
   "id": "495c34c3",
   "metadata": {
    "papermill": {
     "duration": 0.01872,
     "end_time": "2022-12-19T02:52:18.610414",
     "exception": false,
     "start_time": "2022-12-19T02:52:18.591694",
     "status": "completed"
    },
    "tags": []
   },
   "source": [
    "bytearrayは変更できる（ミュータブル）"
   ]
  },
  {
   "cell_type": "code",
   "execution_count": 43,
   "id": "43412ce0",
   "metadata": {
    "execution": {
     "iopub.execute_input": "2022-12-19T02:52:18.650081Z",
     "iopub.status.busy": "2022-12-19T02:52:18.649637Z",
     "iopub.status.idle": "2022-12-19T02:52:18.655704Z",
     "shell.execute_reply": "2022-12-19T02:52:18.654711Z"
    },
    "papermill": {
     "duration": 0.028603,
     "end_time": "2022-12-19T02:52:18.657996",
     "exception": false,
     "start_time": "2022-12-19T02:52:18.629393",
     "status": "completed"
    },
    "tags": []
   },
   "outputs": [
    {
     "name": "stdout",
     "output_type": "stream",
     "text": [
      "ip octet 3=0\n"
     ]
    }
   ],
   "source": [
    "ip_bytes = bytearray([192, 168, 80, 0])\n",
    "print( \"ip octet 3={}\".format(ip_bytes[3]) )"
   ]
  },
  {
   "cell_type": "code",
   "execution_count": 44,
   "id": "81fb4a26",
   "metadata": {
    "execution": {
     "iopub.execute_input": "2022-12-19T02:52:18.698610Z",
     "iopub.status.busy": "2022-12-19T02:52:18.697830Z",
     "iopub.status.idle": "2022-12-19T02:52:18.704052Z",
     "shell.execute_reply": "2022-12-19T02:52:18.702777Z"
    },
    "papermill": {
     "duration": 0.030255,
     "end_time": "2022-12-19T02:52:18.707401",
     "exception": false,
     "start_time": "2022-12-19T02:52:18.677146",
     "status": "completed"
    },
    "tags": []
   },
   "outputs": [
    {
     "name": "stdout",
     "output_type": "stream",
     "text": [
      "ip octet 3=100\n"
     ]
    }
   ],
   "source": [
    "ip_bytes[3] = 100\n",
    "print( \"ip octet 3={}\".format(ip_bytes[3]) )"
   ]
  },
  {
   "attachments": {},
   "cell_type": "markdown",
   "id": "90b89f5c",
   "metadata": {
    "papermill": {
     "duration": 0.019186,
     "end_time": "2022-12-19T02:52:18.746625",
     "exception": false,
     "start_time": "2022-12-19T02:52:18.727439",
     "status": "completed"
    },
    "tags": []
   },
   "source": [
    "## 整数で生成したIPアドレスのbyte長さ"
   ]
  },
  {
   "cell_type": "code",
   "execution_count": 45,
   "id": "4a4dc230",
   "metadata": {
    "execution": {
     "iopub.execute_input": "2022-12-19T02:52:18.788975Z",
     "iopub.status.busy": "2022-12-19T02:52:18.788252Z",
     "iopub.status.idle": "2022-12-19T02:52:18.794194Z",
     "shell.execute_reply": "2022-12-19T02:52:18.793404Z"
    },
    "papermill": {
     "duration": 0.029794,
     "end_time": "2022-12-19T02:52:18.796686",
     "exception": false,
     "start_time": "2022-12-19T02:52:18.766892",
     "status": "completed"
    },
    "tags": []
   },
   "outputs": [
    {
     "name": "stdout",
     "output_type": "stream",
     "text": [
      "length of ip_bytes: 4\n"
     ]
    }
   ],
   "source": [
    "print(\"length of ip_bytes: {}\".format( len(ip_bytes) ) )"
   ]
  },
  {
   "attachments": {},
   "cell_type": "markdown",
   "id": "1f7f17cb",
   "metadata": {
    "papermill": {
     "duration": 0.019218,
     "end_time": "2022-12-19T02:52:18.835916",
     "exception": false,
     "start_time": "2022-12-19T02:52:18.816698",
     "status": "completed"
    },
    "tags": []
   },
   "source": [
    "## 文字コードで生成したIPアドレスのbyte長さ"
   ]
  },
  {
   "cell_type": "code",
   "execution_count": 46,
   "id": "bc64a964",
   "metadata": {
    "execution": {
     "iopub.execute_input": "2022-12-19T02:52:18.877117Z",
     "iopub.status.busy": "2022-12-19T02:52:18.876311Z",
     "iopub.status.idle": "2022-12-19T02:52:18.882656Z",
     "shell.execute_reply": "2022-12-19T02:52:18.881241Z"
    },
    "papermill": {
     "duration": 0.029863,
     "end_time": "2022-12-19T02:52:18.885151",
     "exception": false,
     "start_time": "2022-12-19T02:52:18.855288",
     "status": "completed"
    },
    "tags": []
   },
   "outputs": [
    {
     "name": "stdout",
     "output_type": "stream",
     "text": [
      "b'192.168.80.100'\n"
     ]
    }
   ],
   "source": [
    "ip_bytes_unicode = bytes(0)\n",
    "for char in '192.168.80.100':\n",
    "    code = ord(char)\n",
    "    ip_bytes_unicode += bytes([code])\n",
    "print(ip_bytes_unicode)"
   ]
  },
  {
   "cell_type": "code",
   "execution_count": 47,
   "id": "3c462aaa",
   "metadata": {
    "execution": {
     "iopub.execute_input": "2022-12-19T02:52:18.927714Z",
     "iopub.status.busy": "2022-12-19T02:52:18.926942Z",
     "iopub.status.idle": "2022-12-19T02:52:18.933145Z",
     "shell.execute_reply": "2022-12-19T02:52:18.931507Z"
    },
    "papermill": {
     "duration": 0.0306,
     "end_time": "2022-12-19T02:52:18.935948",
     "exception": false,
     "start_time": "2022-12-19T02:52:18.905348",
     "status": "completed"
    },
    "tags": []
   },
   "outputs": [
    {
     "name": "stdout",
     "output_type": "stream",
     "text": [
      "文字コードで生成したIPアドレスのbyte長さ: 14\n"
     ]
    }
   ],
   "source": [
    "print(\"文字コードで生成したIPアドレスのbyte長さ: {}\".format( len(ip_bytes_unicode) ) )"
   ]
  },
  {
   "cell_type": "code",
   "execution_count": 48,
   "id": "e68ee57d",
   "metadata": {
    "execution": {
     "iopub.execute_input": "2022-12-19T02:52:18.979160Z",
     "iopub.status.busy": "2022-12-19T02:52:18.978726Z",
     "iopub.status.idle": "2022-12-19T02:52:18.986072Z",
     "shell.execute_reply": "2022-12-19T02:52:18.984796Z"
    },
    "papermill": {
     "duration": 0.031384,
     "end_time": "2022-12-19T02:52:18.988315",
     "exception": false,
     "start_time": "2022-12-19T02:52:18.956931",
     "status": "completed"
    },
    "tags": []
   },
   "outputs": [
    {
     "data": {
      "text/plain": [
       "b'mitsuya'"
      ]
     },
     "execution_count": 48,
     "metadata": {},
     "output_type": "execute_result"
    }
   ],
   "source": [
    "bytes([109, 105, 116, 115, 117, 121, 97])"
   ]
  },
  {
   "attachments": {},
   "cell_type": "markdown",
   "id": "5c03540d",
   "metadata": {
    "papermill": {
     "duration": 0.019404,
     "end_time": "2022-12-19T02:52:19.027921",
     "exception": false,
     "start_time": "2022-12-19T02:52:19.008517",
     "status": "completed"
    },
    "tags": []
   },
   "source": [
    "## Q.自分の名前をbytesで宣言してみる"
   ]
  },
  {
   "attachments": {},
   "cell_type": "markdown",
   "id": "a28dc3eb",
   "metadata": {
    "papermill": {
     "duration": 0.019015,
     "end_time": "2022-12-19T02:52:19.066435",
     "exception": false,
     "start_time": "2022-12-19T02:52:19.047420",
     "status": "completed"
    },
    "tags": []
   },
   "source": [
    "# f文字列\n",
    "\n",
    "str.format()関数ををより簡潔に記述できる"
   ]
  },
  {
   "cell_type": "code",
   "execution_count": 49,
   "id": "38ab672a",
   "metadata": {
    "execution": {
     "iopub.execute_input": "2022-12-19T02:52:19.107494Z",
     "iopub.status.busy": "2022-12-19T02:52:19.107068Z",
     "iopub.status.idle": "2022-12-19T02:52:19.112723Z",
     "shell.execute_reply": "2022-12-19T02:52:19.111634Z"
    },
    "papermill": {
     "duration": 0.029433,
     "end_time": "2022-12-19T02:52:19.115438",
     "exception": false,
     "start_time": "2022-12-19T02:52:19.086005",
     "status": "completed"
    },
    "tags": []
   },
   "outputs": [
    {
     "name": "stdout",
     "output_type": "stream",
     "text": [
      "お会計は100,000円です\n"
     ]
    }
   ],
   "source": [
    "price = 100000\n",
    "print(f\"お会計は{price:,}円です\")"
   ]
  },
  {
   "attachments": {},
   "cell_type": "markdown",
   "id": "74bf2f52",
   "metadata": {
    "papermill": {
     "duration": 0.019272,
     "end_time": "2022-12-19T02:52:19.154552",
     "exception": false,
     "start_time": "2022-12-19T02:52:19.135280",
     "status": "completed"
    },
    "tags": []
   },
   "source": [
    "## Q.以下の問に答える"
   ]
  },
  {
   "cell_type": "code",
   "execution_count": 50,
   "id": "217b716b",
   "metadata": {
    "execution": {
     "iopub.execute_input": "2022-12-19T02:52:19.197697Z",
     "iopub.status.busy": "2022-12-19T02:52:19.197306Z",
     "iopub.status.idle": "2022-12-19T02:52:19.204552Z",
     "shell.execute_reply": "2022-12-19T02:52:19.203060Z"
    },
    "papermill": {
     "duration": 0.03303,
     "end_time": "2022-12-19T02:52:19.207334",
     "exception": false,
     "start_time": "2022-12-19T02:52:19.174304",
     "status": "completed"
    },
    "tags": []
   },
   "outputs": [
    {
     "name": "stdout",
     "output_type": "stream",
     "text": [
      "pi=3.141592653589793\n",
      "None\n",
      "日本の人口は世界のNone%です\n"
     ]
    }
   ],
   "source": [
    "#piを有効数字3桁で表示\n",
    "from math import pi\n",
    "print(f'pi={pi}')\n",
    "print(None)\n",
    "\n",
    "world_population = 8 * 1000 * 1000 * 1000\n",
    "japan_population = 120 * 1000 * 1000\n",
    "\n",
    "#日本の人口を％百分率で表示\n",
    "japan_ratio = None\n",
    "print(f'日本の人口は世界の{None}%です')"
   ]
  },
  {
   "attachments": {},
   "cell_type": "markdown",
   "id": "0a8ec08f",
   "metadata": {
    "papermill": {
     "duration": 0.019509,
     "end_time": "2022-12-19T02:52:19.247351",
     "exception": false,
     "start_time": "2022-12-19T02:52:19.227842",
     "status": "completed"
    },
    "tags": []
   },
   "source": [
    "# b文字列"
   ]
  },
  {
   "cell_type": "code",
   "execution_count": 51,
   "id": "dac926a4",
   "metadata": {
    "execution": {
     "iopub.execute_input": "2022-12-19T02:52:19.289608Z",
     "iopub.status.busy": "2022-12-19T02:52:19.289157Z",
     "iopub.status.idle": "2022-12-19T02:52:19.294240Z",
     "shell.execute_reply": "2022-12-19T02:52:19.293269Z"
    },
    "papermill": {
     "duration": 0.029875,
     "end_time": "2022-12-19T02:52:19.296949",
     "exception": false,
     "start_time": "2022-12-19T02:52:19.267074",
     "status": "completed"
    },
    "tags": []
   },
   "outputs": [
    {
     "name": "stdout",
     "output_type": "stream",
     "text": [
      "ユニコード104はhです\n"
     ]
    }
   ],
   "source": [
    "#5byte\n",
    "hello_bytes = b'hello'\n",
    "h = hello_bytes[0]\n",
    "print(\"ユニコード{}は{}です\".format( h, chr(h) ) )"
   ]
  }
 ],
 "metadata": {
  "kernelspec": {
   "display_name": "Python 3",
   "language": "python",
   "name": "python3"
  },
  "language_info": {
   "codemirror_mode": {
    "name": "ipython",
    "version": 3
   },
   "file_extension": ".py",
   "mimetype": "text/x-python",
   "name": "python",
   "nbconvert_exporter": "python",
   "pygments_lexer": "ipython3",
   "version": "3.7.12"
  },
  "papermill": {
   "default_parameters": {},
   "duration": 15.815017,
   "end_time": "2022-12-19T02:52:20.039643",
   "environment_variables": {},
   "exception": null,
   "input_path": "__notebook__.ipynb",
   "output_path": "__notebook__.ipynb",
   "parameters": {},
   "start_time": "2022-12-19T02:52:04.224626",
   "version": "2.3.4"
  }
 },
 "nbformat": 4,
 "nbformat_minor": 5
}
