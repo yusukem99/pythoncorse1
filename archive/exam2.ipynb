{
 "cells": [
  {
   "attachments": {},
   "cell_type": "markdown",
   "id": "a56adfc3",
   "metadata": {},
   "source": [
    "## 問6 (10点)\n",
    "内閣総理大臣になるための条件は、「日本国民、かつ満25歳以上であること」です。\n",
    "\n",
    "`can_run_for_prime_minister`関数は、引数で指定された人物が内閣総理大臣になれるかどうかを判定し、真偽値を返します。\n",
    "\n",
    "二つの引数を追加して、処理を記述し関数を完成させてください。"
   ]
  },
  {
   "cell_type": "code",
   "execution_count": 1,
   "id": "f5962154",
   "metadata": {},
   "outputs": [],
   "source": [
    "def can_run_for_prime_minister():\n",
    "    \"\"\"\n",
    "        2つの引数を設定してください\n",
    "        age - 年齢\n",
    "        is_natural_born_citizen - 日本国籍を持っているかどうか\n",
    "\n",
    "        実行例:\n",
    "        can_run_for_prime_minister(30, True)\n",
    "        >>> True\n",
    "        can_run_for_prime_minister(22, True)s\n",
    "        >>> False\n",
    "    \"\"\"\n",
    "    return ___"
   ]
  },
  {
   "attachments": {},
   "cell_type": "markdown",
   "id": "ec6d9ece",
   "metadata": {
    "papermill": {
     "duration": 0.004963,
     "end_time": "2023-02-27T10:09:45.367252",
     "exception": false,
     "start_time": "2023-02-27T10:09:45.362289",
     "status": "completed"
    },
    "tags": []
   },
   "source": [
    "## 問7 (10点)\n",
    "コメントに従って、リストのインデックス、スライシングを使って変数に値を代入しなさい"
   ]
  },
  {
   "cell_type": "code",
   "execution_count": null,
   "id": "ac707546",
   "metadata": {
    "execution": {
     "iopub.execute_input": "2023-02-27T10:09:45.379879Z",
     "iopub.status.busy": "2023-02-27T10:09:45.379132Z",
     "iopub.status.idle": "2023-02-27T10:09:45.384455Z",
     "shell.execute_reply": "2023-02-27T10:09:45.383506Z"
    },
    "papermill": {
     "duration": 0.014352,
     "end_time": "2023-02-27T10:09:45.386823",
     "exception": false,
     "start_time": "2023-02-27T10:09:45.372471",
     "status": "completed"
    },
    "tags": []
   },
   "outputs": [],
   "source": [
    "planets = ['水星', '金星', '地球', '火星', '木星', '土星', '天王星', '海王星']\n",
    "\n",
    "# 例 '金星'を取り出す\n",
    "ans7_0 = planets[1]\n",
    "#'地球'を取り出す\n",
    "ans7_1 = ___\n",
    "#一番後ろの要素を取り出す\n",
    "ans7_2 = ___\n",
    "#地球から天王星までを取り出す\n",
    "ans7_3 = ___"
   ]
  },
  {
   "attachments": {},
   "cell_type": "markdown",
   "id": "238196c7",
   "metadata": {},
   "source": [
    "## 問8 (10点)\n",
    "\n",
    "リスト`menu`に以下のような変更を加えてください。\n",
    "\n",
    "- 「黒酢からあげ膳」を削除\n",
    "- 「冷やし中華」を追加\n",
    "\n",
    "変数`menu`を宣言している行は直接変更せず、`.remove`と`.append`を使ってメニューを変更してください。"
   ]
  },
  {
   "cell_type": "code",
   "execution_count": null,
   "id": "cecbdc40",
   "metadata": {},
   "outputs": [],
   "source": [
    "menu = ['ハンバーグ味噌煮込み風', '黒酢からあげ膳', 'エビのリゾットスープ']"
   ]
  },
  {
   "attachments": {},
   "cell_type": "markdown",
   "id": "47b3cd97",
   "metadata": {
    "papermill": {
     "duration": 0.00494,
     "end_time": "2023-02-27T10:09:45.397199",
     "exception": false,
     "start_time": "2023-02-27T10:09:45.392259",
     "status": "completed"
    },
    "tags": []
   },
   "source": [
    "## 問9 (10点)\n",
    "`for`文を使って、与えられた整数のリスト`int_list`の要素がそれぞれ引数`num`より大きい場合に`True`に変換する関数`list_greater_than`を完成させなさい\n",
    "\n",
    "例\n",
    "```\n",
    "list_greater_than([1, 2, 3, 4], 2)\n",
    ">>>[False, False, True, True]\n",
    "```"
   ]
  },
  {
   "cell_type": "code",
   "execution_count": null,
   "id": "84a6a0d6",
   "metadata": {
    "execution": {
     "iopub.execute_input": "2023-02-27T10:09:45.409419Z",
     "iopub.status.busy": "2023-02-27T10:09:45.408891Z",
     "iopub.status.idle": "2023-02-27T10:09:45.414791Z",
     "shell.execute_reply": "2023-02-27T10:09:45.413580Z"
    },
    "papermill": {
     "duration": 0.015103,
     "end_time": "2023-02-27T10:09:45.417504",
     "exception": false,
     "start_time": "2023-02-27T10:09:45.402401",
     "status": "completed"
    },
    "tags": []
   },
   "outputs": [],
   "source": [
    "def list_greater_than(int_list, num):\n",
    "    pass"
   ]
  },
  {
   "attachments": {},
   "cell_type": "markdown",
   "id": "f8b72e00",
   "metadata": {},
   "source": [
    "## 問10 (10点)\n",
    "\n",
    "あるウェブサイトのユーザ数が`num_users`というリストに保存されています。\n",
    "\n",
    "このリストの最初の要素は、初年度のユーザー数、2番目の要素は2年目のユーザー数、というようになっています。\n",
    "\n",
    "コメントに従って、適切なインデックス、スライスを使い変数に値を代入しなさい"
   ]
  },
  {
   "cell_type": "code",
   "execution_count": null,
   "id": "f06c07ec",
   "metadata": {},
   "outputs": [],
   "source": [
    "num_users = [920344, 1043553, 1204334, 1458996, 1503323, 1593432, 1623463, 1843064, 1930992, 2001078]\n",
    "\n",
    "\n",
    "# 例 4年目のユーザー数を取り出す\n",
    "ans10_0 = num_users[3]\n",
    "# 初年度のユーザー数を取り出す\n",
    "ans10_0 = ___\n",
    "# 2年目のユーザー数を取り出す\n",
    "ans10_1 = ___\n",
    "# 10年目のユーザー数を取り出す\n",
    "ans10_2 = ___"
   ]
  },
  {
   "attachments": {},
   "cell_type": "markdown",
   "id": "0660f397",
   "metadata": {},
   "source": [
    "## 問\n",
    "リスト内包表現を使って,`hands`の要素のうち, 数字のものだけを取り出し、`num_hands`に格納してください"
   ]
  },
  {
   "cell_type": "code",
   "execution_count": null,
   "id": "ab807730",
   "metadata": {},
   "outputs": [],
   "source": [
    "hands = [ 'J', 'Q', '3', '8', '2', '5', '6', 'K' ]\n",
    "# リスト内包表記を使って、handsの要素のうち、数字のものだけを取り出し、`num_handsに`格納してください\n",
    "num_hands = ___"
   ]
  },
  {
   "cell_type": "code",
   "execution_count": null,
   "id": "2ed97cd0",
   "metadata": {},
   "outputs": [],
   "source": [
    "dict"
   ]
  },
  {
   "attachments": {},
   "cell_type": "markdown",
   "id": "ed461ea3",
   "metadata": {},
   "source": [
    "## 問\n",
    "次のようなクラス`BlackJackHand`を作成してください。\n",
    "```\n",
    "hand1 = BlackJackHand(['Q', 'A', 4])\n",
    "hand2 = Hand([2, 'J', 'A'])\n",
    "hand1 > hand2\n",
    ">>> True\n",
    "```"
   ]
  },
  {
   "cell_type": "code",
   "execution_count": null,
   "id": "52ecc0f9",
   "metadata": {},
   "outputs": [],
   "source": [
    "pillow"
   ]
  },
  {
   "cell_type": "code",
   "execution_count": null,
   "id": "7749e8fc",
   "metadata": {},
   "outputs": [],
   "source": [
    "binary"
   ]
  }
 ],
 "metadata": {
  "kernelspec": {
   "display_name": "Python 3",
   "language": "python",
   "name": "python3"
  },
  "language_info": {
   "codemirror_mode": {
    "name": "ipython",
    "version": 3
   },
   "file_extension": ".py",
   "mimetype": "text/x-python",
   "name": "python",
   "nbconvert_exporter": "python",
   "pygments_lexer": "ipython3",
   "version": "3.10.11"
  },
  "papermill": {
   "default_parameters": {},
   "duration": 10.839414,
   "end_time": "2023-02-27T10:09:46.264237",
   "environment_variables": {},
   "exception": null,
   "input_path": "__notebook__.ipynb",
   "output_path": "__notebook__.ipynb",
   "parameters": {},
   "start_time": "2023-02-27T10:09:35.424823",
   "version": "2.3.4"
  }
 },
 "nbformat": 4,
 "nbformat_minor": 5
}
