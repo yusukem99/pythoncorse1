{
 "cells": [
  {
   "attachments": {},
   "cell_type": "markdown",
   "id": "bc0a7618",
   "metadata": {
    "papermill": {
     "duration": 0.009632,
     "end_time": "2023-02-27T10:09:45.227987",
     "exception": false,
     "start_time": "2023-02-27T10:09:45.218355",
     "status": "completed"
    },
    "tags": []
   },
   "source": [
    "## 問1 (10点)\n",
    "円の面積は、半径×半径×円周率で求めることができます。\n",
    "\n",
    "適切な算術演算子（ `+`, `-`, `*`, `/`, `**` ）を使って、変数`menseki`に半径`8`の円の面積を計算して代入しなさい。"
   ]
  },
  {
   "cell_type": "code",
   "execution_count": null,
   "id": "ba47a6da",
   "metadata": {
    "execution": {
     "iopub.execute_input": "2023-02-27T10:09:45.269351Z",
     "iopub.status.busy": "2023-02-27T10:09:45.268602Z",
     "iopub.status.idle": "2023-02-27T10:09:45.273145Z",
     "shell.execute_reply": "2023-02-27T10:09:45.272335Z"
    },
    "papermill": {
     "duration": 0.013652,
     "end_time": "2023-02-27T10:09:45.275523",
     "exception": false,
     "start_time": "2023-02-27T10:09:45.261871",
     "status": "completed"
    },
    "tags": []
   },
   "outputs": [],
   "source": [
    "# まず、半径`r`を定義します\n",
    "r = ___\n",
    "# 次に、この`r`を使って円の面積を計算します\n",
    "menseki = ___"
   ]
  },
  {
   "attachments": {},
   "cell_type": "markdown",
   "id": "18b1391d",
   "metadata": {
    "papermill": {
     "duration": 0.004692,
     "end_time": "2023-02-27T10:09:45.285474",
     "exception": false,
     "start_time": "2023-02-27T10:09:45.280782",
     "status": "completed"
    },
    "tags": []
   },
   "source": [
    "## 問2 (10点)\n",
    "かっこ`()`をつけて結果が1になるようにしなさい"
   ]
  },
  {
   "cell_type": "code",
   "execution_count": null,
   "id": "da5b6d95",
   "metadata": {
    "execution": {
     "iopub.execute_input": "2023-02-27T10:09:45.298318Z",
     "iopub.status.busy": "2023-02-27T10:09:45.297530Z",
     "iopub.status.idle": "2023-02-27T10:09:45.305734Z",
     "shell.execute_reply": "2023-02-27T10:09:45.304946Z"
    },
    "papermill": {
     "duration": 0.017764,
     "end_time": "2023-02-27T10:09:45.308434",
     "exception": false,
     "start_time": "2023-02-27T10:09:45.290670",
     "status": "completed"
    },
    "tags": []
   },
   "outputs": [],
   "source": [
    "result = 8 - 6 // 2\n",
    "print(result) # 1と出力されるように、上の式にかっこをつけてください。"
   ]
  },
  {
   "attachments": {},
   "cell_type": "markdown",
   "id": "1e443b4c",
   "metadata": {},
   "source": [
    "## 問3 (20点)\n",
    "\n",
    "関数の説明文`docstring`に従って、住宅の価格を返す関数`get_house_cost`を完成させてください。"
   ]
  },
  {
   "cell_type": "code",
   "execution_count": null,
   "id": "cd91d0e3",
   "metadata": {},
   "outputs": [],
   "source": [
    "# 以下の問題に答えて、プログラムを完成させてください。\n",
    "def get_house_cost():\n",
    "    \"\"\"\n",
    "        2つの引数を設定してください\n",
    "        beds - 寝室の数\n",
    "        baths - 浴室の数\n",
    "\n",
    "        寝室が0室、浴室が0個の基本の住宅が1千万円とします。\n",
    "        さらに、寝室が一つ増えるにつき50万円、浴室が一つ増えるにつき100万円値段が上がるものとします。\n",
    "\n",
    "        例えば、\n",
    "        1つの寝室と1つの浴室を持つ住宅の価格 = 1千万円 + 50万円 + 100万円 = 1150万円\n",
    "        2つの寝室と1つの浴室を持つ住宅の価格 = 1千万円 + 2 * 50万円 + 100万円 = 1200万円\n",
    "\n",
    "        実行例:\n",
    "        get_house_cost(0, 0)\n",
    "        >>> 10000000\n",
    "        get_house_cost(1, 1)\n",
    "        >>> 11500000\n",
    "        get_house_cost(2, 1)\n",
    "        >>> 12000000\n",
    "    \"\"\"\n",
    "    # 以下の範囲にコードを記述してください。returnの___は適切な値に置き換えてください。\n",
    "    # --- ここから ---\n",
    "\n",
    "    # --- ここまで ---\n",
    "    return ___"
   ]
  },
  {
   "attachments": {},
   "cell_type": "markdown",
   "id": "dd63ccc4",
   "metadata": {
    "papermill": {
     "duration": 0.005081,
     "end_time": "2023-02-27T10:09:45.318980",
     "exception": false,
     "start_time": "2023-02-27T10:09:45.313899",
     "status": "completed"
    },
    "tags": []
   },
   "source": [
    "## 問4 (20点)\n",
    "引数に`r`を受けとり、半径`r`の球の体積を返す関数を作りなさい。円周率は3.14とする（球の体積=4÷3×3.14×r³ ）"
   ]
  },
  {
   "cell_type": "code",
   "execution_count": null,
   "id": "adb3f448",
   "metadata": {
    "papermill": {
     "duration": 0.004655,
     "end_time": "2023-02-27T10:09:45.328851",
     "exception": false,
     "start_time": "2023-02-27T10:09:45.324196",
     "status": "completed"
    },
    "tags": []
   },
   "outputs": [],
   "source": [
    "# 関数をここに定義してください"
   ]
  },
  {
   "attachments": {},
   "cell_type": "markdown",
   "id": "af05d911",
   "metadata": {
    "papermill": {
     "duration": 0.004589,
     "end_time": "2023-02-27T10:09:45.338365",
     "exception": false,
     "start_time": "2023-02-27T10:09:45.333776",
     "status": "completed"
    },
    "tags": []
   },
   "source": [
    "## 問5 (20点)\n",
    "引数にテストの点数`score`を受けとり、次の条件を満たすように、文字列を返す関数`get_grade`を作りなさい。\n",
    "\n",
    "- 90点以上 'S'\n",
    "- 80点以上 'A'\n",
    "- 70点以上 'B'\n",
    "- 60点以上 'C'\n",
    "- それ以下 'D'"
   ]
  },
  {
   "cell_type": "code",
   "execution_count": null,
   "id": "b44a0bcd",
   "metadata": {
    "execution": {
     "iopub.execute_input": "2023-02-27T10:09:45.350684Z",
     "iopub.status.busy": "2023-02-27T10:09:45.349910Z",
     "iopub.status.idle": "2023-02-27T10:09:45.354682Z",
     "shell.execute_reply": "2023-02-27T10:09:45.353896Z"
    },
    "papermill": {
     "duration": 0.013616,
     "end_time": "2023-02-27T10:09:45.356926",
     "exception": false,
     "start_time": "2023-02-27T10:09:45.343310",
     "status": "completed"
    },
    "tags": []
   },
   "outputs": [],
   "source": [
    "def get_grade(score):\n",
    "    '''\n",
    "        実行例:\n",
    "        get_grade(100)\n",
    "        >>>'S'\n",
    "        get_grade(80)\n",
    "        >>>'A'\n",
    "        get_grade(65)\n",
    "        >>>'C'\n",
    "        get_grade(50)\n",
    "        >>>'D'\n",
    "    '''\n",
    "    # 以下の範囲にコードを記述してください。returnの___は適切な値に置き換えてください。\n",
    "    # --- ここから ---\n",
    "\n",
    "    # --- ここまで ---\n",
    "    return ___"
   ]
  },
  {
   "cell_type": "markdown",
   "id": "99d973bc",
   "metadata": {},
   "source": [
    "## 問6 (20点)\n",
    "\n",
    "コメントに従って変数に適切な値を代入しなさい。"
   ]
  },
  {
   "cell_type": "code",
   "execution_count": null,
   "id": "45e54964",
   "metadata": {},
   "outputs": [],
   "source": [
    "\n",
    "# planetsリストには太陽系の惑星の名前が含まれています。\n",
    "planets = ['Mercury', 'Venus', 'Earth', 'Mars', 'Jupiter', 'Saturn', 'Uranus', 'Neptune']\n",
    "\n",
    "# インデックスを使ってplanetsから'Earth'を取得しなさい\n",
    "earth = ___\n",
    "\n",
    "# スライシングを使ってplanetsから、MarsからNeptubeまでの惑星を取得しなさい\n",
    "mars_to_neptune = ___"
   ]
  }
 ],
 "metadata": {
  "kernelspec": {
   "display_name": "Python 3",
   "language": "python",
   "name": "python3"
  },
  "language_info": {
   "codemirror_mode": {
    "name": "ipython",
    "version": 3
   },
   "file_extension": ".py",
   "mimetype": "text/x-python",
   "name": "python",
   "nbconvert_exporter": "python",
   "pygments_lexer": "ipython3",
   "version": "3.10.11"
  },
  "papermill": {
   "default_parameters": {},
   "duration": 10.839414,
   "end_time": "2023-02-27T10:09:46.264237",
   "environment_variables": {},
   "exception": null,
   "input_path": "__notebook__.ipynb",
   "output_path": "__notebook__.ipynb",
   "parameters": {},
   "start_time": "2023-02-27T10:09:35.424823",
   "version": "2.3.4"
  }
 },
 "nbformat": 4,
 "nbformat_minor": 5
}
