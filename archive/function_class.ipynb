{
 "cells": [
  {
   "attachments": {},
   "cell_type": "markdown",
   "id": "6a1d51a4",
   "metadata": {
    "papermill": {
     "duration": 0.011907,
     "end_time": "2022-12-13T08:07:40.075825",
     "exception": false,
     "start_time": "2022-12-13T08:07:40.063918",
     "status": "completed"
    },
    "tags": []
   },
   "source": [
    "# 破壊/非破壊メソッドについて"
   ]
  },
  {
   "attachments": {},
   "cell_type": "markdown",
   "id": "15cc3f80",
   "metadata": {},
   "source": [
    "## 破壊的メソッドとは\n",
    "破壊的メソッドとは、メソッドを実行した後に、オブジェクトの値が変化するメソッドのことです。\n",
    "まず、破壊的メソッドの例を見てみましょう。"
   ]
  },
  {
   "cell_type": "markdown",
   "id": "18539609",
   "metadata": {},
   "source": [
    "`string`モジュールの`ascii_uppercase`は、アルファベットの大文字のリストを返します。"
   ]
  },
  {
   "cell_type": "code",
   "execution_count": 8,
   "id": "4e7250e7",
   "metadata": {},
   "outputs": [
    {
     "name": "stdout",
     "output_type": "stream",
     "text": [
      "アルファベットの大文字の文字列:  ABCDEFGHIJKLMNOPQRSTUVWXYZ\n"
     ]
    }
   ],
   "source": [
    "import string\n",
    "alphabets_string = string.ascii_uppercase\n",
    "print('アルファベットの大文字の文字列: ', alphabets_string)"
   ]
  },
  {
   "cell_type": "markdown",
   "id": "805c7478",
   "metadata": {},
   "source": [
    "`random`モジュールの`shuffle()`は、リストの要素をランダムに並び替える破壊的メソッドです。\n",
    "\n",
    "先ほどの`string`モジュールの`ascii_uppercase`を使って、アルファベットの大文字のリストを作成し、シャッフルしてみましょう。"
   ]
  },
  {
   "cell_type": "code",
   "execution_count": 19,
   "id": "dcb5d9a0",
   "metadata": {
    "execution": {
     "iopub.execute_input": "2022-12-13T08:07:40.100202Z",
     "iopub.status.busy": "2022-12-13T08:07:40.098563Z",
     "iopub.status.idle": "2022-12-13T08:07:40.116637Z",
     "shell.execute_reply": "2022-12-13T08:07:40.114994Z"
    },
    "papermill": {
     "duration": 0.033655,
     "end_time": "2022-12-13T08:07:40.120230",
     "exception": false,
     "start_time": "2022-12-13T08:07:40.086575",
     "status": "completed"
    },
    "tags": []
   },
   "outputs": [
    {
     "name": "stdout",
     "output_type": "stream",
     "text": [
      "オリジナル\n",
      " ['A', 'B', 'C', 'D', 'E', 'F', 'G', 'H', 'I', 'J', 'K', 'L', 'M', 'N', 'O', 'P', 'Q', 'R', 'S', 'T', 'U', 'V', 'W', 'X', 'Y', 'Z']\n",
      "シャッフル後\n",
      " ['H', 'C', 'W', 'G', 'E', 'U', 'B', 'X', 'F', 'Y', 'T', 'P', 'S', 'N', 'I', 'L', 'K', 'M', 'A', 'Z', 'O', 'V', 'R', 'D', 'Q', 'J']\n"
     ]
    }
   ],
   "source": [
    "\n",
    "import random\n",
    "# リスト内包表記を使って、文字列をリストに変換します。\n",
    "alphabets = [ char for char in alphabets_string ]\n",
    "print('オリジナル\\n', alphabets)\n",
    "\n",
    "# random.shuffle()はリストの要素をランダムに並び替えます。\n",
    "random.shuffle(alphabets)\n",
    "print('シャッフル後\\n', alphabets)"
   ]
  },
  {
   "cell_type": "markdown",
   "id": "e2131b31",
   "metadata": {},
   "source": [
    "`random.shuffle()`を実行した後で、`alphabets`の値が破壊的に変更されていることがわかりますね。"
   ]
  },
  {
   "attachments": {},
   "cell_type": "markdown",
   "id": "a3e89088",
   "metadata": {},
   "source": [
    "## 非破壊的メソッドとは\n",
    "非破壊的メソッドとは、メソッドを実行した後に、オブジェクトの値が変化しないメソッドのことです。\n",
    "\n",
    "例えば、`sorted()`は、リストの要素をランダムに並び替える非破壊的メソッドです。"
   ]
  },
  {
   "cell_type": "code",
   "execution_count": 22,
   "id": "4f219b82",
   "metadata": {
    "execution": {
     "iopub.execute_input": "2022-12-13T08:07:40.186023Z",
     "iopub.status.busy": "2022-12-13T08:07:40.184689Z",
     "iopub.status.idle": "2022-12-13T08:07:40.192564Z",
     "shell.execute_reply": "2022-12-13T08:07:40.190800Z"
    },
    "papermill": {
     "duration": 0.024131,
     "end_time": "2022-12-13T08:07:40.195770",
     "exception": false,
     "start_time": "2022-12-13T08:07:40.171639",
     "status": "completed"
    },
    "tags": []
   },
   "outputs": [
    {
     "name": "stdout",
     "output_type": "stream",
     "text": [
      "オリジナル\n",
      " ['H', 'C', 'W', 'G', 'E', 'U', 'B', 'X', 'F', 'Y', 'T', 'P', 'S', 'N', 'I', 'L', 'K', 'M', 'A', 'Z', 'O', 'V', 'R', 'D', 'Q', 'J']\n",
      "ソートされたalphabets\n",
      " ['A', 'B', 'C', 'D', 'E', 'F', 'G', 'H', 'I', 'J', 'K', 'L', 'M', 'N', 'O', 'P', 'Q', 'R', 'S', 'T', 'U', 'V', 'W', 'X', 'Y', 'Z']\n"
     ]
    }
   ],
   "source": [
    "sorted_alphabets = sorted(alphabets)\n",
    "\n",
    "print('オリジナル\\n', alphabets)\n",
    "print('ソートされたalphabets\\n', sorted_alphabets)"
   ]
  },
  {
   "attachments": {},
   "cell_type": "markdown",
   "id": "8699d8fb",
   "metadata": {},
   "source": [
    "`list`オブジェクトのもつ、`.sort()`メソッドは破壊的メソッドですが、`sorted()`は非破壊的メソッドです。\n",
    "\n",
    "もし、オリジナルのリストを変更したくない場合は、非破壊的メソッドを使うようにしましょう。"
   ]
  },
  {
   "attachments": {},
   "cell_type": "markdown",
   "id": "dcaadc77",
   "metadata": {},
   "source": [
    "## 問1\n",
    "リスト`numbers`を sort() メソッドを使用してソートし、その結果を確認してください。またソートする前のリスト`numbers`の値を保持しておくにはどうすればよいでしょうか。"
   ]
  },
  {
   "cell_type": "code",
   "execution_count": null,
   "id": "e44ec8f7",
   "metadata": {},
   "outputs": [],
   "source": [
    "numbers = [5, 2, 1, 8, 3]"
   ]
  },
  {
   "attachments": {},
   "cell_type": "markdown",
   "id": "dec00860",
   "metadata": {},
   "source": [
    "## 問2\n",
    "\n",
    "`random`オブジェクトには`.sample()`メソッドがあります。これはどのような関数でしょうか？ `help()`関数を使って確認してみましょう。\n",
    "\n",
    "また、このメソッドは破壊的メソッドでしょうか？非破壊的メソッドでしょうか？"
   ]
  },
  {
   "cell_type": "code",
   "execution_count": null,
   "id": "7e1a80eb",
   "metadata": {},
   "outputs": [],
   "source": [
    "# ここにコードを書いてください"
   ]
  },
  {
   "attachments": {},
   "cell_type": "markdown",
   "id": "79151daa",
   "metadata": {},
   "source": [
    "## 問3\n",
    "おみくじを関数で作ってみましょう。関数を実行すると、おみくじの結果がランダムに表示されるようにしてください。\n",
    "\n",
    "おみくじの中身がなくなったら、`おみくじの中身がなくなりました`と表示してください。"
   ]
  },
  {
   "cell_type": "code",
   "execution_count": null,
   "id": "1d62c7d9",
   "metadata": {},
   "outputs": [],
   "source": [
    "# ここにコードを書いてください"
   ]
  },
  {
   "attachments": {},
   "cell_type": "markdown",
   "id": "c5083569",
   "metadata": {
    "papermill": {
     "duration": 0.012374,
     "end_time": "2022-12-13T08:07:40.359928",
     "exception": false,
     "start_time": "2022-12-13T08:07:40.347554",
     "status": "completed"
    },
    "tags": []
   },
   "source": [
    "# 関数を呼び出す関数"
   ]
  },
  {
   "cell_type": "code",
   "execution_count": null,
   "id": "cc656219",
   "metadata": {
    "execution": {
     "iopub.execute_input": "2022-12-13T08:07:40.405972Z",
     "iopub.status.busy": "2022-12-13T08:07:40.405485Z",
     "iopub.status.idle": "2022-12-13T08:07:40.411469Z",
     "shell.execute_reply": "2022-12-13T08:07:40.410220Z"
    },
    "papermill": {
     "duration": 0.021589,
     "end_time": "2022-12-13T08:07:40.414120",
     "exception": false,
     "start_time": "2022-12-13T08:07:40.392531",
     "status": "completed"
    },
    "tags": []
   },
   "outputs": [],
   "source": [
    "# 5と引数xをかけた数を返す関数\n",
    "def mult_by_five(x):\n",
    "    return 5 * x"
   ]
  },
  {
   "attachments": {},
   "cell_type": "markdown",
   "id": "c709481f",
   "metadata": {
    "papermill": {
     "duration": 0.011147,
     "end_time": "2022-12-13T08:07:40.436858",
     "exception": false,
     "start_time": "2022-12-13T08:07:40.425711",
     "status": "completed"
    },
    "tags": []
   },
   "source": [
    "関数も一つの変数として扱うことができます。\n",
    "\n",
    "関数`multi_by_five`の型を確認確認してみましょう。"
   ]
  },
  {
   "cell_type": "code",
   "execution_count": null,
   "id": "16ed3a29",
   "metadata": {
    "execution": {
     "iopub.execute_input": "2022-12-13T08:07:40.461038Z",
     "iopub.status.busy": "2022-12-13T08:07:40.460609Z",
     "iopub.status.idle": "2022-12-13T08:07:40.467869Z",
     "shell.execute_reply": "2022-12-13T08:07:40.466550Z"
    },
    "papermill": {
     "duration": 0.022521,
     "end_time": "2022-12-13T08:07:40.470333",
     "exception": false,
     "start_time": "2022-12-13T08:07:40.447812",
     "status": "completed"
    },
    "tags": []
   },
   "outputs": [],
   "source": [
    "# ここにコードを書いてください\n"
   ]
  },
  {
   "attachments": {},
   "cell_type": "markdown",
   "id": "8370921d",
   "metadata": {
    "papermill": {
     "duration": 0.011232,
     "end_time": "2022-12-13T08:07:40.493204",
     "exception": false,
     "start_time": "2022-12-13T08:07:40.481972",
     "status": "completed"
    },
    "tags": []
   },
   "source": [
    "関数の引数に関数を指定することで、関数を呼び出す関数を作ることができます。"
   ]
  },
  {
   "cell_type": "code",
   "execution_count": null,
   "id": "8ee157c0",
   "metadata": {
    "execution": {
     "iopub.execute_input": "2022-12-13T08:07:40.539827Z",
     "iopub.status.busy": "2022-12-13T08:07:40.539362Z",
     "iopub.status.idle": "2022-12-13T08:07:40.545611Z",
     "shell.execute_reply": "2022-12-13T08:07:40.544304Z"
    },
    "papermill": {
     "duration": 0.021709,
     "end_time": "2022-12-13T08:07:40.548134",
     "exception": false,
     "start_time": "2022-12-13T08:07:40.526425",
     "status": "completed"
    },
    "tags": []
   },
   "outputs": [],
   "source": [
    "def call(fn, arg):\n",
    "    \"\"\"\n",
    "    この関数は、関数fnと引数argを受け取り、fnをargに適用した結果を返します。\n",
    "    \"\"\"\n",
    "    return fn(arg)"
   ]
  },
  {
   "attachments": {},
   "cell_type": "markdown",
   "id": "0d579066",
   "metadata": {},
   "source": [
    "call関数を実行してみます。ここでは、関数`multi_by_five`を引数として渡しています。また、第二引数には`10`を渡しています。"
   ]
  },
  {
   "cell_type": "code",
   "execution_count": null,
   "id": "c4520a72",
   "metadata": {
    "execution": {
     "iopub.execute_input": "2022-12-13T08:07:40.573650Z",
     "iopub.status.busy": "2022-12-13T08:07:40.573070Z",
     "iopub.status.idle": "2022-12-13T08:07:40.580763Z",
     "shell.execute_reply": "2022-12-13T08:07:40.579678Z"
    },
    "papermill": {
     "duration": 0.023404,
     "end_time": "2022-12-13T08:07:40.583322",
     "exception": false,
     "start_time": "2022-12-13T08:07:40.559918",
     "status": "completed"
    },
    "tags": []
   },
   "outputs": [],
   "source": [
    "call(mult_by_five, 10)"
   ]
  },
  {
   "attachments": {},
   "cell_type": "markdown",
   "id": "c50aaf3a",
   "metadata": {
    "papermill": {
     "duration": 0.010428,
     "end_time": "2022-12-13T08:07:40.605198",
     "exception": false,
     "start_time": "2022-12-13T08:07:40.594770",
     "status": "completed"
    },
    "tags": []
   },
   "source": [
    "## 問1\n",
    "\n",
    "以下の引数で`squared_call`を実行したときの結果を予想してください。なぜそのような結果になるのか、考えてみましょう。"
   ]
  },
  {
   "cell_type": "code",
   "execution_count": null,
   "id": "96d18c93",
   "metadata": {
    "execution": {
     "iopub.execute_input": "2022-12-13T08:07:40.649571Z",
     "iopub.status.busy": "2022-12-13T08:07:40.649084Z",
     "iopub.status.idle": "2022-12-13T08:07:40.658746Z",
     "shell.execute_reply": "2022-12-13T08:07:40.657206Z"
    },
    "papermill": {
     "duration": 0.02449,
     "end_time": "2022-12-13T08:07:40.661411",
     "exception": false,
     "start_time": "2022-12-13T08:07:40.636921",
     "status": "completed"
    },
    "tags": []
   },
   "outputs": [],
   "source": [
    "def mult_by_five(x):\n",
    "    return 5 * x\n",
    "\n",
    "def call(fn, arg):\n",
    "    return fn(arg)\n",
    "\n",
    "def squared_call(fn, arg):\n",
    "    return fn(fn(arg))\n",
    "\n",
    "# squared_call(mult_by_five, 1)\n",
    "\n",
    "# squared_call(mult_by_five, 3)\n",
    "\n",
    "# squared_call(mult_by_five, 17)"
   ]
  },
  {
   "attachments": {},
   "cell_type": "markdown",
   "id": "2434c600",
   "metadata": {
    "papermill": {
     "duration": 0.011433,
     "end_time": "2022-12-13T08:07:40.683964",
     "exception": false,
     "start_time": "2022-12-13T08:07:40.672531",
     "status": "completed"
    },
    "tags": []
   },
   "source": [
    "# スコープ"
   ]
  },
  {
   "attachments": {},
   "cell_type": "markdown",
   "id": "2bc244f1",
   "metadata": {
    "papermill": {
     "duration": 0.010876,
     "end_time": "2022-12-13T08:07:40.706237",
     "exception": false,
     "start_time": "2022-12-13T08:07:40.695361",
     "status": "completed"
    },
    "tags": []
   },
   "source": [
    "関数内で宣言された変数は、関数内でのみ有効です。ここでは`val_in_func`という変数を関数内で宣言していますが、関数外では参照できません。"
   ]
  },
  {
   "cell_type": "code",
   "execution_count": null,
   "id": "946c57b5",
   "metadata": {
    "_cell_guid": "b1076dfc-b9ad-4769-8c92-a6c4dae69d19",
    "_uuid": "8f2839f25d086af736a60e9eeb907d3b93b6e0e5",
    "execution": {
     "iopub.execute_input": "2022-12-13T08:07:40.730680Z",
     "iopub.status.busy": "2022-12-13T08:07:40.729762Z",
     "iopub.status.idle": "2022-12-13T08:07:40.736435Z",
     "shell.execute_reply": "2022-12-13T08:07:40.735404Z"
    },
    "papermill": {
     "duration": 0.021881,
     "end_time": "2022-12-13T08:07:40.739217",
     "exception": false,
     "start_time": "2022-12-13T08:07:40.717336",
     "status": "completed"
    },
    "tags": []
   },
   "outputs": [],
   "source": [
    "def print_val_in_func():\n",
    "    val_in_func = 'この変数は関数内で定義されているので、関数の中でのみ参照できます。'\n",
    "    print(\"val_in_func={}\".format(val_in_func))\n",
    "\n",
    "# 実行してみましょう\n",
    "print_val_in_func()\n",
    "\n",
    "# こちらはどうですか？\n",
    "# print(val_in_func)"
   ]
  },
  {
   "attachments": {},
   "cell_type": "markdown",
   "id": "40ed37ff",
   "metadata": {
    "papermill": {
     "duration": 0.011139,
     "end_time": "2022-12-13T08:07:40.761562",
     "exception": false,
     "start_time": "2022-12-13T08:07:40.750423",
     "status": "completed"
    },
    "tags": []
   },
   "source": [
    "pythonにおいては、if/for文の中で宣言された変数は、if/for文の外でも参照できます。"
   ]
  },
  {
   "cell_type": "code",
   "execution_count": null,
   "id": "841dbdbe",
   "metadata": {
    "execution": {
     "iopub.execute_input": "2022-12-13T08:07:40.786095Z",
     "iopub.status.busy": "2022-12-13T08:07:40.785579Z",
     "iopub.status.idle": "2022-12-13T08:07:40.791979Z",
     "shell.execute_reply": "2022-12-13T08:07:40.790984Z"
    },
    "papermill": {
     "duration": 0.021329,
     "end_time": "2022-12-13T08:07:40.794457",
     "exception": false,
     "start_time": "2022-12-13T08:07:40.773128",
     "status": "completed"
    },
    "tags": []
   },
   "outputs": [],
   "source": [
    "if 1 == True:\n",
    "    var_in_if = 'この変数はif文の中で定義されました。'\n",
    "    \n",
    "print(var_in_if)"
   ]
  },
  {
   "attachments": {},
   "cell_type": "markdown",
   "id": "452e5c0d",
   "metadata": {},
   "source": [
    "pythonにおいて、for文のイテレータは、for文の外でも参照できます。その際には、for文の最後の値が参照されます。"
   ]
  },
  {
   "cell_type": "code",
   "execution_count": null,
   "id": "e2d69c45",
   "metadata": {
    "execution": {
     "iopub.execute_input": "2022-12-13T08:07:40.819758Z",
     "iopub.status.busy": "2022-12-13T08:07:40.818307Z",
     "iopub.status.idle": "2022-12-13T08:07:40.826538Z",
     "shell.execute_reply": "2022-12-13T08:07:40.825138Z"
    },
    "papermill": {
     "duration": 0.024117,
     "end_time": "2022-12-13T08:07:40.829769",
     "exception": false,
     "start_time": "2022-12-13T08:07:40.805652",
     "status": "completed"
    },
    "tags": []
   },
   "outputs": [],
   "source": [
    "for i in range(3):\n",
    "    var_in_for = i\n",
    "    print(\"val_in_for={}\".format(var_in_for))\n",
    "    \n",
    "print(\"for文の外\")\n",
    "print(\"val_in_for={}\".format(var_in_for))"
   ]
  },
  {
   "attachments": {},
   "cell_type": "markdown",
   "id": "2633faa8",
   "metadata": {
    "papermill": {
     "duration": 0.012814,
     "end_time": "2022-12-13T08:07:40.855334",
     "exception": false,
     "start_time": "2022-12-13T08:07:40.842520",
     "status": "completed"
    },
    "tags": []
   },
   "source": [
    "## スコープ外の変数の更新はできない \n",
    "\n",
    "pythonでは、関数内でスコープ外の変数を更新することはできません。ここでは、`num`が関数の外で定義されているため、関数内で`num`を更新することはできません。"
   ]
  },
  {
   "cell_type": "code",
   "execution_count": null,
   "id": "1c7b1f74",
   "metadata": {
    "execution": {
     "iopub.execute_input": "2022-12-13T08:07:40.881197Z",
     "iopub.status.busy": "2022-12-13T08:07:40.880053Z",
     "iopub.status.idle": "2022-12-13T08:07:40.887202Z",
     "shell.execute_reply": "2022-12-13T08:07:40.885790Z"
    },
    "papermill": {
     "duration": 0.022711,
     "end_time": "2022-12-13T08:07:40.889877",
     "exception": false,
     "start_time": "2022-12-13T08:07:40.867166",
     "status": "completed"
    },
    "tags": []
   },
   "outputs": [],
   "source": [
    "# 関数の外で定義された変数\n",
    "num = 50\n",
    "\n",
    "def add_10_to_num():\n",
    "    # 関数の外で定義された変数を更新しています。\n",
    "    num = num + 10\n",
    "    print(num)\n",
    "    \n",
    "# 実行してみましょう。\n",
    "# add_10_to_num()"
   ]
  },
  {
   "attachments": {},
   "cell_type": "markdown",
   "id": "ec26dd4a",
   "metadata": {
    "papermill": {
     "duration": 0.010905,
     "end_time": "2022-12-13T08:07:40.912657",
     "exception": false,
     "start_time": "2022-12-13T08:07:40.901752",
     "status": "completed"
    },
    "tags": []
   },
   "source": [
    "## `'global'`\n",
    "\n",
    "`global`キーワードを使うことで、関数内でグローバル変数を更新することができます。\n",
    "\n",
    "しかし、一般的に、グローバル変数を使うことは推奨されていません。グローバル変数は、関数内でのみ有効な変数よりも、プログラムの動作を読み取りにくくします。"
   ]
  },
  {
   "cell_type": "code",
   "execution_count": null,
   "id": "71b78519",
   "metadata": {
    "execution": {
     "iopub.execute_input": "2022-12-13T08:07:40.936933Z",
     "iopub.status.busy": "2022-12-13T08:07:40.936445Z",
     "iopub.status.idle": "2022-12-13T08:07:40.943544Z",
     "shell.execute_reply": "2022-12-13T08:07:40.942037Z"
    },
    "papermill": {
     "duration": 0.022933,
     "end_time": "2022-12-13T08:07:40.946571",
     "exception": false,
     "start_time": "2022-12-13T08:07:40.923638",
     "status": "completed"
    },
    "tags": []
   },
   "outputs": [],
   "source": [
    "\n",
    "global_num = 10\n",
    "\n",
    "def add_10_to_golobal_num():\n",
    "    global global_num\n",
    "    global_num = global_num + 10\n",
    "    print(global_num)\n",
    "    \n",
    "add_10_to_golobal_num()"
   ]
  },
  {
   "attachments": {},
   "cell_type": "markdown",
   "id": "77874b9e",
   "metadata": {
    "papermill": {
     "duration": 0.011886,
     "end_time": "2022-12-13T08:07:40.970064",
     "exception": false,
     "start_time": "2022-12-13T08:07:40.958178",
     "status": "completed"
    },
    "tags": []
   },
   "source": [
    "# クラス\n",
    "\n",
    "クラスとはオブジェクトを作り出すための設計図です。\n",
    "\n",
    "これまで見てきた`str`や`list`などのオブジェクトは、すべてクラスから作られたオブジェクトです。\n",
    "\n",
    "例えば、`'Hello'`や、`'World'`という文字列は、`str`クラスのオブジェクトです。また、`[1, 2, 3]`というリストは、`list`クラスのオブジェクトです。\n",
    "\n",
    "pythonにおけるあらゆる変数は、クラスから作られたオブジェクトです。"
   ]
  },
  {
   "attachments": {},
   "cell_type": "markdown",
   "id": "ce262d38",
   "metadata": {},
   "source": [
    "## インスタンス\n",
    "\n",
    "クラスから作られたオブジェクトのことを、インスタンスと呼びます。\n",
    "\n",
    "例えば、100という整数は、`int`クラスから作られたインスタンスです。\n",
    "\n",
    "```python\n",
    "num = Int(100)\n",
    "```\n",
    "のように、クラスからインスタンスを作ることを、インスタンス化と呼びます。"
   ]
  },
  {
   "attachments": {},
   "cell_type": "markdown",
   "id": "7f3cd7b3",
   "metadata": {
    "papermill": {
     "duration": 0.011152,
     "end_time": "2022-12-13T08:07:41.084925",
     "exception": false,
     "start_time": "2022-12-13T08:07:41.073773",
     "status": "completed"
    },
    "tags": []
   },
   "source": [
    "## プロパティとメソッド\n",
    "\n",
    "クラスのインスタンスのもつ変数のことを、プロパティと呼びます。また、インスタンスのもつ関数のことを、メソッドと呼びます。\n",
    "\n",
    "pythonにおいて、クラスを定義するには、`class`キーワードを使います。\n",
    "\n",
    "`__init__`メソッドは、クラスのインスタンスを作成する際に呼び出される特殊なメソッドです。このメソッドは、クラスのインスタンスを作成する際に、自動的に呼び出されます。\n",
    "\n",
    "`__init__`メソッドの第一引数は、`self`という名前にするのが一般的です。`self`は特殊な引数で、クラスのインスタンス自身を指します。\n",
    "\n",
    "\n"
   ]
  },
  {
   "cell_type": "code",
   "execution_count": null,
   "id": "5fffac79",
   "metadata": {
    "execution": {
     "iopub.execute_input": "2022-12-13T08:07:41.111080Z",
     "iopub.status.busy": "2022-12-13T08:07:41.110559Z",
     "iopub.status.idle": "2022-12-13T08:07:41.118666Z",
     "shell.execute_reply": "2022-12-13T08:07:41.117526Z"
    },
    "papermill": {
     "duration": 0.025104,
     "end_time": "2022-12-13T08:07:41.121721",
     "exception": false,
     "start_time": "2022-12-13T08:07:41.096617",
     "status": "completed"
    },
    "tags": []
   },
   "outputs": [],
   "source": [
    "class Human():\n",
    "    def __init__(self, name, age=20):\n",
    "        \"\"\"\n",
    "            コンストラクタ（初期化）はじめてインスタンスを生成したときに呼び出される\n",
    "            プロパティの定義\n",
    "            プロパティ=オブジェクトのもつ変数\n",
    "        \"\"\"\n",
    "        self.name = name\n",
    "        self.age = age\n",
    "    def greet(self):\n",
    "        \"\"\"\n",
    "            メソッドの定義\n",
    "            メソッド=オブジェクトのもつ関数\n",
    "            この関数は挨拶を画面に出力します。\n",
    "        \"\"\"\n",
    "        message = 'こんにちは。私は{}です。'.format(self.name)\n",
    "        print(message)\n",
    "    def __gt__(self, human):\n",
    "        print('年齢を比較します。(__gt__)')\n",
    "        return self.age > human.age\n",
    "    def __lt__(self, human):\n",
    "        print('年齢を比較します。(__lt__)')\n",
    "        return self.age < human.age    "
   ]
  },
  {
   "attachments": {},
   "cell_type": "markdown",
   "id": "7eefc287",
   "metadata": {},
   "source": [
    "pythonのクラスにおいて、`__`で始まる特殊なメソッドがあります。これらのメソッドは、pythonの様々な機能を実現するために使われます。\n",
    "\n",
    "例えば、`__gt__`メソッドは、`>`演算子を使うことで呼び出されます。また、`__lt__`メソッドは、`<`演算子を使うことで呼び出されます。"
   ]
  },
  {
   "attachments": {},
   "cell_type": "markdown",
   "id": "8b92c1a2",
   "metadata": {
    "papermill": {
     "duration": 0.011864,
     "end_time": "2022-12-13T08:07:41.145914",
     "exception": false,
     "start_time": "2022-12-13T08:07:41.134050",
     "status": "completed"
    },
    "tags": []
   },
   "source": [
    "gt = greater than\n",
    "\n",
    "lt = less than"
   ]
  },
  {
   "attachments": {},
   "cell_type": "markdown",
   "id": "74f9b0fe",
   "metadata": {},
   "source": [
    "インスタンスを作ってみます"
   ]
  },
  {
   "cell_type": "code",
   "execution_count": null,
   "id": "a06f52b0",
   "metadata": {
    "execution": {
     "iopub.execute_input": "2022-12-13T08:07:41.170848Z",
     "iopub.status.busy": "2022-12-13T08:07:41.170452Z",
     "iopub.status.idle": "2022-12-13T08:07:41.175979Z",
     "shell.execute_reply": "2022-12-13T08:07:41.174609Z"
    },
    "papermill": {
     "duration": 0.021086,
     "end_time": "2022-12-13T08:07:41.178429",
     "exception": false,
     "start_time": "2022-12-13T08:07:41.157343",
     "status": "completed"
    },
    "tags": []
   },
   "outputs": [],
   "source": [
    "mitsuya = Human('mitsuya')\n",
    "tanaka = Human('tanaka', 18)\n",
    "saitou = Human('saitou', 30)"
   ]
  },
  {
   "attachments": {},
   "cell_type": "markdown",
   "id": "d3d15cd5",
   "metadata": {
    "papermill": {
     "duration": 0.010744,
     "end_time": "2022-12-13T08:07:41.200616",
     "exception": false,
     "start_time": "2022-12-13T08:07:41.189872",
     "status": "completed"
    },
    "tags": []
   },
   "source": [
    "メソッド（クラスのもつ関数）"
   ]
  },
  {
   "cell_type": "code",
   "execution_count": null,
   "id": "aafe1f08",
   "metadata": {
    "execution": {
     "iopub.execute_input": "2022-12-13T08:07:41.225924Z",
     "iopub.status.busy": "2022-12-13T08:07:41.224373Z",
     "iopub.status.idle": "2022-12-13T08:07:41.232591Z",
     "shell.execute_reply": "2022-12-13T08:07:41.230656Z"
    },
    "papermill": {
     "duration": 0.023808,
     "end_time": "2022-12-13T08:07:41.235555",
     "exception": false,
     "start_time": "2022-12-13T08:07:41.211747",
     "status": "completed"
    },
    "tags": []
   },
   "outputs": [],
   "source": [
    "mitsuya.greet()"
   ]
  },
  {
   "cell_type": "code",
   "execution_count": null,
   "id": "43e834ae",
   "metadata": {
    "execution": {
     "iopub.execute_input": "2022-12-13T08:07:41.259875Z",
     "iopub.status.busy": "2022-12-13T08:07:41.259467Z",
     "iopub.status.idle": "2022-12-13T08:07:41.265713Z",
     "shell.execute_reply": "2022-12-13T08:07:41.264029Z"
    },
    "papermill": {
     "duration": 0.022239,
     "end_time": "2022-12-13T08:07:41.269033",
     "exception": false,
     "start_time": "2022-12-13T08:07:41.246794",
     "status": "completed"
    },
    "tags": []
   },
   "outputs": [],
   "source": [
    "tanaka.greet()"
   ]
  },
  {
   "attachments": {},
   "cell_type": "markdown",
   "id": "0436062c",
   "metadata": {
    "papermill": {
     "duration": 0.011986,
     "end_time": "2022-12-13T08:07:41.293415",
     "exception": false,
     "start_time": "2022-12-13T08:07:41.281429",
     "status": "completed"
    },
    "tags": []
   },
   "source": [
    "プロパティの参照（クラスのもつ変数）"
   ]
  },
  {
   "cell_type": "code",
   "execution_count": null,
   "id": "595383e2",
   "metadata": {
    "execution": {
     "iopub.execute_input": "2022-12-13T08:07:41.319237Z",
     "iopub.status.busy": "2022-12-13T08:07:41.318730Z",
     "iopub.status.idle": "2022-12-13T08:07:41.325443Z",
     "shell.execute_reply": "2022-12-13T08:07:41.324252Z"
    },
    "papermill": {
     "duration": 0.02263,
     "end_time": "2022-12-13T08:07:41.328215",
     "exception": false,
     "start_time": "2022-12-13T08:07:41.305585",
     "status": "completed"
    },
    "tags": []
   },
   "outputs": [],
   "source": [
    "print(\"mitsuyaの年齢: {}\".format(mitsuya.age) )"
   ]
  },
  {
   "cell_type": "code",
   "execution_count": null,
   "id": "7facd277",
   "metadata": {
    "execution": {
     "iopub.execute_input": "2022-12-13T08:07:41.425574Z",
     "iopub.status.busy": "2022-12-13T08:07:41.424516Z",
     "iopub.status.idle": "2022-12-13T08:07:41.431811Z",
     "shell.execute_reply": "2022-12-13T08:07:41.430127Z"
    },
    "papermill": {
     "duration": 0.023541,
     "end_time": "2022-12-13T08:07:41.434602",
     "exception": false,
     "start_time": "2022-12-13T08:07:41.411061",
     "status": "completed"
    },
    "tags": []
   },
   "outputs": [],
   "source": [
    "help(mitsuya.greet)"
   ]
  },
  {
   "cell_type": "code",
   "execution_count": null,
   "id": "33662599",
   "metadata": {
    "execution": {
     "iopub.execute_input": "2022-12-13T08:07:41.462750Z",
     "iopub.status.busy": "2022-12-13T08:07:41.462292Z",
     "iopub.status.idle": "2022-12-13T08:07:41.471520Z",
     "shell.execute_reply": "2022-12-13T08:07:41.470011Z"
    },
    "papermill": {
     "duration": 0.026899,
     "end_time": "2022-12-13T08:07:41.474883",
     "exception": false,
     "start_time": "2022-12-13T08:07:41.447984",
     "status": "completed"
    },
    "tags": []
   },
   "outputs": [],
   "source": [
    "class Bird():\n",
    "    def __init__(self, name, speed):\n",
    "        \"\"\"\n",
    "            コンストラクタ（初期化）はじめてインスタンスを生成したときに呼び出される\n",
    "            プロパティの定義\n",
    "            プロパティ=オブジェクトのもつ変数\n",
    "        \"\"\"\n",
    "        self.name = name\n",
    "        self.speed = speed\n",
    "    def fly(self, second):\n",
    "        print(\"{}m飛びました\".format(self.speed * 10))\n",
    "\n",
    "suzume = Bird(\"suzume\", 10)\n",
    "suzume.fly(10)"
   ]
  },
  {
   "attachments": {},
   "cell_type": "markdown",
   "id": "4b302899",
   "metadata": {
    "papermill": {
     "duration": 0.011611,
     "end_time": "2022-12-13T08:07:41.499881",
     "exception": false,
     "start_time": "2022-12-13T08:07:41.488270",
     "status": "completed"
    },
    "tags": []
   },
   "source": [
    "## オーバーライド"
   ]
  },
  {
   "cell_type": "code",
   "execution_count": null,
   "id": "cdce49ed",
   "metadata": {
    "execution": {
     "iopub.execute_input": "2022-12-13T08:07:41.528080Z",
     "iopub.status.busy": "2022-12-13T08:07:41.526981Z",
     "iopub.status.idle": "2022-12-13T08:07:41.536283Z",
     "shell.execute_reply": "2022-12-13T08:07:41.534926Z"
    },
    "papermill": {
     "duration": 0.025507,
     "end_time": "2022-12-13T08:07:41.538740",
     "exception": false,
     "start_time": "2022-12-13T08:07:41.513233",
     "status": "completed"
    },
    "tags": []
   },
   "outputs": [],
   "source": [
    "saitou < mitsuya"
   ]
  },
  {
   "attachments": {},
   "cell_type": "markdown",
   "id": "7b566931",
   "metadata": {},
   "source": [
    "## 問1\n",
    "独自のクラスを作ってみましょう。\n"
   ]
  },
  {
   "cell_type": "code",
   "execution_count": null,
   "id": "606134c5",
   "metadata": {},
   "outputs": [],
   "source": [
    "# ここにコードを書いてください"
   ]
  },
  {
   "attachments": {},
   "cell_type": "markdown",
   "id": "003dbe95",
   "metadata": {},
   "source": [
    "## 問2\n",
    "ブラックジャックの手札を表すクラスを作成してください。\n",
    "\n",
    "ブラックジャックの手札は、以下のようにインスタンス化できるようにしてください。\n",
    "\n",
    "```\n",
    "hand = BlackJackHand(['Q', 'A', 4])\n",
    "```\n",
    "\n",
    "さらに比較演算子を使うことで、手札の強さを比較することができるようにしてください。\n",
    "\n",
    "```\n",
    "hand1 = BlackJackHand(['Q', 'A', 4])\n",
    "hand2 = BlackJackHand([2, 'J', 'A'])\n",
    "hand1 > hand2\n",
    ">>> True\n",
    "```\n",
    "\n",
    "ほかにどのようなメソッド、プロパティを作ると便利でしょうか。考えて実装してみましょう。"
   ]
  },
  {
   "cell_type": "code",
   "execution_count": null,
   "id": "b87753c1",
   "metadata": {},
   "outputs": [],
   "source": [
    "# ここにコードを書いてください"
   ]
  }
 ],
 "metadata": {
  "kernelspec": {
   "display_name": "Python 3",
   "language": "python",
   "name": "python3"
  },
  "language_info": {
   "codemirror_mode": {
    "name": "ipython",
    "version": 3
   },
   "file_extension": ".py",
   "mimetype": "text/x-python",
   "name": "python",
   "nbconvert_exporter": "python",
   "pygments_lexer": "ipython3",
   "version": "3.9.6"
  },
  "papermill": {
   "default_parameters": {},
   "duration": 13.393945,
   "end_time": "2022-12-13T08:07:42.375138",
   "environment_variables": {},
   "exception": null,
   "input_path": "__notebook__.ipynb",
   "output_path": "__notebook__.ipynb",
   "parameters": {},
   "start_time": "2022-12-13T08:07:28.981193",
   "version": "2.3.4"
  }
 },
 "nbformat": 4,
 "nbformat_minor": 5
}
