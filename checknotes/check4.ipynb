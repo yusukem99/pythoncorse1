{
 "cells": [
  {
   "cell_type": "markdown",
   "id": "cad342ca",
   "metadata": {},
   "source": [
    "# 比較演算子\n",
    "次の式をすべて`True`になるように、比較演算子を書き換えてください。"
   ]
  },
  {
   "cell_type": "code",
   "execution_count": null,
   "id": "8a00c74c",
   "metadata": {},
   "outputs": [],
   "source": [
    "# __を比較演算子に置き換えてTrueになるようにしなさい\n",
    "print(3 __ 3)\n",
    "print(5 __ 2)\n",
    "print(4 __ 10)"
   ]
  },
  {
   "cell_type": "markdown",
   "id": "084ed1d4",
   "metadata": {},
   "source": [
    "# if文の基本\n",
    "あなたはゲーム会社で働いています。\n",
    "プレイヤーのゲームスコア（0〜100点）に応じて、**称号**をつける仕組みを作ることになりました。\n",
    "\n",
    "称号の基準は以下のとおりです：\n",
    "\n",
    "- 90〜100点\t\"エース\"\n",
    "- 80〜89点\t\"エキスパート\"\n",
    "- 70〜79点\t\"プロ\"\n",
    "- 60点以下\t\"ビギナー\"\n",
    "\n",
    "整数のスコア（score）を引数に受け取り、対応する称号（文字列）を返す関数 get_game_title(score) を作成してください。\n",
    "\n",
    "例 get_game_title(95) -> 'エース'"
   ]
  },
  {
   "cell_type": "code",
   "execution_count": null,
   "id": "1ad6c735",
   "metadata": {},
   "outputs": [],
   "source": []
  },
  {
   "cell_type": "markdown",
   "id": "586bf250",
   "metadata": {
    "vscode": {
     "languageId": "plaintext"
    }
   },
   "source": [
    "# if文応用\n",
    "あなたは宅配サービスの会社で働いています。\n",
    "\n",
    "あなたの会社のサービスでは、5kgまでの荷物は一律500円で配送できますが、\n",
    "それを超えると、1kgごとに追加で200円の料金が発生します（小数点以下も同様に課金されます）。\n",
    "\n",
    "次のコードセルで、以下の引数を受け取り、荷物の配送料を返す`get_delivery_fee()`関数を作ってください。\n",
    "\n",
    "- weight：荷物の重さ（kg、float）\n",
    "\n",
    "例：\n",
    "get_delivery_fee(3) は 500 を返します（5kg以下なので定額のみ）。\n",
    "\n",
    "get_delivery_fee(5.5) は\n",
    "→ 500円（基本料金）＋ 0.5kg × 200円 = 600円 になります。"
   ]
  },
  {
   "cell_type": "code",
   "execution_count": null,
   "id": "7fdadfbf",
   "metadata": {},
   "outputs": [],
   "source": []
  }
 ],
 "metadata": {
  "kernelspec": {
   "display_name": "Python 3",
   "language": "python",
   "name": "python3"
  },
  "language_info": {
   "codemirror_mode": {
    "name": "ipython",
    "version": 3
   },
   "file_extension": ".py",
   "mimetype": "text/x-python",
   "name": "python",
   "nbconvert_exporter": "python",
   "pygments_lexer": "ipython3",
   "version": "3.10.11"
  }
 },
 "nbformat": 4,
 "nbformat_minor": 5
}
