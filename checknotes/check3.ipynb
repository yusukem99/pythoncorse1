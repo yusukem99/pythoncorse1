{
 "cells": [
  {
   "cell_type": "markdown",
   "id": "cad342ca",
   "metadata": {},
   "source": [
    "# Pythonで使われる型を3つあげてください。"
   ]
  },
  {
   "cell_type": "markdown",
   "id": "8a00c74c",
   "metadata": {},
   "source": []
  },
  {
   "cell_type": "markdown",
   "id": "586bf250",
   "metadata": {
    "vscode": {
     "languageId": "plaintext"
    }
   },
   "source": [
    "# 型を調べる\n",
    "\n",
    "次の値はそれぞれ何の型でしょうか？分かったら実際に`type`関数を使って調べてみましょう。\n",
    "\n",
    "- `3.19`\n",
    "- `-99`\n",
    "- `\"dog\"`\n",
    "- `\"dog\" * 101`\n"
   ]
  },
  {
   "cell_type": "code",
   "execution_count": null,
   "id": "0b9e0c84",
   "metadata": {
    "vscode": {
     "languageId": "plaintext"
    }
   },
   "outputs": [],
   "source": []
  },
  {
   "cell_type": "markdown",
   "id": "e166cdfa",
   "metadata": {
    "vscode": {
     "languageId": "plaintext"
    }
   },
   "source": [
    "# len関数\n",
    "\n",
    "`len`関数を使うと、文字列の長さを取得することができます。\n",
    "\n",
    "次にコードセルで1つの引数`password`を受け取り、パスワードの長さを画面に表示する関数`print_password_length`を作成してください。\n",
    "\n",
    "# 例\n",
    "パスワード`pass1234`は8文字以上なので`8`を返します。\n",
    "\n",
    "```python\n",
    "count = print_password_length(\"pass1234\")\n",
    "print(count)  # 8\n",
    "```"
   ]
  },
  {
   "cell_type": "code",
   "execution_count": null,
   "id": "22fae25e",
   "metadata": {
    "vscode": {
     "languageId": "plaintext"
    }
   },
   "outputs": [],
   "source": []
  },
  {
   "cell_type": "markdown",
   "id": "198ee101",
   "metadata": {
    "vscode": {
     "languageId": "plaintext"
    }
   },
   "source": [
    "# 真偽型を利用した関数の作成\n",
    "\n",
    "次のコードセルで、以下の３つの引数を受け取り、ハンバーガーショップのセット１食あたりの合計金額を計算して返す関数`get_set_price`を作成してください。\n",
    "\n",
    "- burger_price …  バーガー単品の価格（円, float）\n",
    "- num_sides … サイドメニュー（ポテト・ナゲットなど）の個数（個, float）\n",
    "- has_drink … ドリンクセットの有無（boolean）\n",
    "\n",
    "バーガー単品の価格をベースとする\n",
    "\n",
    "サイドメニュー１つにつき200円を加算\n",
    "\n",
    "ドリンクセットありの場合は150円を加算\n",
    "\n",
    "## 例\n",
    "ビッグマック単品390円 ＋ サイドメニュー１つ ＋ ドリンクなし\n",
    "\n",
    "390 + 1 × 200 + 0 = 590円 \n",
    "\n",
    "なので、次のように関数を呼び出すと590円が返ってきます。\n",
    "\n",
    "```\n",
    "total_price = get_set_price(390, 1, False)\n",
    "print(total_price)  # 590\n",
    "```"
   ]
  },
  {
   "cell_type": "code",
   "execution_count": null,
   "id": "c373c1bf",
   "metadata": {
    "vscode": {
     "languageId": "plaintext"
    }
   },
   "outputs": [],
   "source": []
  }
 ],
 "metadata": {
  "language_info": {
   "name": "python"
  }
 },
 "nbformat": 4,
 "nbformat_minor": 5
}
