{
 "cells": [
  {
   "attachments": {},
   "cell_type": "markdown",
   "id": "b09e7e4f",
   "metadata": {
    "papermill": {
     "duration": 0.019314,
     "end_time": "2022-12-19T02:52:13.803863",
     "exception": false,
     "start_time": "2022-12-19T02:52:13.784549",
     "status": "completed"
    },
    "tags": []
   },
   "source": [
    "# [２進数](https://www.infraexpert.com/study/ip1.html)と[ビット演算子](https://note.nkmk.me/python-bit-operation/)\n",
    "\n",
    "人が日常使用している数値は10進数ですが、コンピュータは内部で数値を表現する場合、2進数を使用\n",
    "しています。\n",
    "\n",
    "しかし、「0」と「1」だけの2進数では人が分かりにくいため、人間が見えるところでは\n",
    "コンピュータは2進数を10進数や16進数が変換して表現しています。"
   ]
  },
  {
   "attachments": {},
   "cell_type": "markdown",
   "id": "160c96a7",
   "metadata": {
    "papermill": {
     "duration": 0.016521,
     "end_time": "2022-12-19T02:52:16.615379",
     "exception": false,
     "start_time": "2022-12-19T02:52:16.598858",
     "status": "completed"
    },
    "tags": []
   },
   "source": [
    "### 二進数の記述（0b）\n",
    "\n",
    "pythonでは、先頭に`0b`をつけることで、二進数の数値を表現できます。\n",
    "\n",
    "例えば、`0b1010`と記述すると、10進数の10になります。"
   ]
  },
  {
   "cell_type": "code",
   "execution_count": null,
   "id": "5a472c3f",
   "metadata": {
    "execution": {
     "iopub.execute_input": "2022-12-19T02:52:16.651640Z",
     "iopub.status.busy": "2022-12-19T02:52:16.651120Z",
     "iopub.status.idle": "2022-12-19T02:52:16.657848Z",
     "shell.execute_reply": "2022-12-19T02:52:16.656472Z"
    },
    "papermill": {
     "duration": 0.028027,
     "end_time": "2022-12-19T02:52:16.660526",
     "exception": false,
     "start_time": "2022-12-19T02:52:16.632499",
     "status": "completed"
    },
    "tags": []
   },
   "outputs": [],
   "source": [
    "binary_4 = 0b100\n",
    "print(\"0b100は10進数で{}です\".format(binary_4))"
   ]
  },
  {
   "attachments": {},
   "cell_type": "markdown",
   "id": "bf473730",
   "metadata": {},
   "source": [
    "二進数においてはn桁の数字が2のn乗の値を表しています"
   ]
  },
  {
   "cell_type": "code",
   "execution_count": null,
   "id": "b0d321e9",
   "metadata": {
    "execution": {
     "iopub.execute_input": "2022-12-19T02:52:16.697702Z",
     "iopub.status.busy": "2022-12-19T02:52:16.697272Z",
     "iopub.status.idle": "2022-12-19T02:52:16.706008Z",
     "shell.execute_reply": "2022-12-19T02:52:16.704579Z"
    },
    "papermill": {
     "duration": 0.031271,
     "end_time": "2022-12-19T02:52:16.708853",
     "exception": false,
     "start_time": "2022-12-19T02:52:16.677582",
     "status": "completed"
    },
    "tags": []
   },
   "outputs": [],
   "source": [
    "0b1111 == (2**3) * 1 + (2**2) * 1 + (2**1) * 1 + (2**0) ** 1"
   ]
  },
  {
   "attachments": {},
   "cell_type": "markdown",
   "id": "0b894143",
   "metadata": {
    "papermill": {
     "duration": 0.016936,
     "end_time": "2022-12-19T02:52:16.742854",
     "exception": false,
     "start_time": "2022-12-19T02:52:16.725918",
     "status": "completed"
    },
    "tags": []
   },
   "source": [
    "書き方は違っても値は同じになことを確認してください。"
   ]
  },
  {
   "cell_type": "code",
   "execution_count": null,
   "id": "c63e8b1e",
   "metadata": {
    "execution": {
     "iopub.execute_input": "2022-12-19T02:52:16.779533Z",
     "iopub.status.busy": "2022-12-19T02:52:16.779152Z",
     "iopub.status.idle": "2022-12-19T02:52:16.786189Z",
     "shell.execute_reply": "2022-12-19T02:52:16.785060Z"
    },
    "papermill": {
     "duration": 0.028431,
     "end_time": "2022-12-19T02:52:16.788761",
     "exception": false,
     "start_time": "2022-12-19T02:52:16.760330",
     "status": "completed"
    },
    "tags": []
   },
   "outputs": [],
   "source": [
    "binary2 = 0b10 # 2進数の2\n",
    "decimal2 = 2 # 10進数の2\n",
    "binary2 == decimal2 # 比較してみる"
   ]
  },
  {
   "attachments": {},
   "cell_type": "markdown",
   "id": "6f33d4df",
   "metadata": {
    "papermill": {
     "duration": 0.016864,
     "end_time": "2022-12-19T02:52:16.823067",
     "exception": false,
     "start_time": "2022-12-19T02:52:16.806203",
     "status": "completed"
    },
    "tags": []
   },
   "source": [
    "### 16進数の記述(0x)\n",
    "\n",
    "先頭に0xをつけることで、16進数の数値を表現できます。"
   ]
  },
  {
   "cell_type": "code",
   "execution_count": null,
   "id": "832f6886",
   "metadata": {
    "execution": {
     "iopub.execute_input": "2022-12-19T02:52:16.858961Z",
     "iopub.status.busy": "2022-12-19T02:52:16.858536Z",
     "iopub.status.idle": "2022-12-19T02:52:16.864270Z",
     "shell.execute_reply": "2022-12-19T02:52:16.863020Z"
    },
    "papermill": {
     "duration": 0.026965,
     "end_time": "2022-12-19T02:52:16.867095",
     "exception": false,
     "start_time": "2022-12-19T02:52:16.840130",
     "status": "completed"
    },
    "tags": []
   },
   "outputs": [],
   "source": [
    "hex_65 = 0x41\n",
    "print(\"0x41は10進数で{}です\".format(hex_65))"
   ]
  },
  {
   "attachments": {},
   "cell_type": "markdown",
   "id": "200d0233",
   "metadata": {},
   "source": [
    "二進数においてはn桁の数字が2のn乗の値を表しました。同様に、16進数においてはn桁の数字が16のn乗の値を表します。"
   ]
  },
  {
   "cell_type": "code",
   "execution_count": null,
   "id": "2c7e50b6",
   "metadata": {
    "execution": {
     "iopub.execute_input": "2022-12-19T02:52:16.903352Z",
     "iopub.status.busy": "2022-12-19T02:52:16.902968Z",
     "iopub.status.idle": "2022-12-19T02:52:16.910453Z",
     "shell.execute_reply": "2022-12-19T02:52:16.909260Z"
    },
    "papermill": {
     "duration": 0.028753,
     "end_time": "2022-12-19T02:52:16.913023",
     "exception": false,
     "start_time": "2022-12-19T02:52:16.884270",
     "status": "completed"
    },
    "tags": []
   },
   "outputs": [],
   "source": [
    "0x41 == (16**1) * 4 + (16**0) * 1"
   ]
  },
  {
   "attachments": {},
   "cell_type": "markdown",
   "id": "2995b4be",
   "metadata": {
    "papermill": {
     "duration": 0.017675,
     "end_time": "2022-12-19T02:52:16.948984",
     "exception": false,
     "start_time": "2022-12-19T02:52:16.931309",
     "status": "completed"
    },
    "tags": []
   },
   "source": [
    "## 問1\n",
    "\n",
    "コメントに従ってコードを書いてください。"
   ]
  },
  {
   "cell_type": "code",
   "execution_count": null,
   "id": "ad83182d",
   "metadata": {
    "execution": {
     "iopub.execute_input": "2022-12-19T02:52:16.986172Z",
     "iopub.status.busy": "2022-12-19T02:52:16.985759Z",
     "iopub.status.idle": "2022-12-19T02:52:16.991125Z",
     "shell.execute_reply": "2022-12-19T02:52:16.990309Z"
    },
    "papermill": {
     "duration": 0.02692,
     "end_time": "2022-12-19T02:52:16.993945",
     "exception": false,
     "start_time": "2022-12-19T02:52:16.967025",
     "status": "completed"
    },
    "tags": []
   },
   "outputs": [],
   "source": [
    "# ___を埋めて、10を10進数、2進数、16進数で表現してください\n",
    "decimal10 = ___ # 10進数表記で10を代入\n",
    "binary10 = ___ # 2進数表記で10を代入\n",
    "hex10 = ___ # 16進数表記で10を代入\n",
    "\n",
    "print(\"decimal10: {}\".format(decimal10))\n",
    "print(\"binary10: {}\".format(binary10))\n",
    "print(\"hex10: {}\".format(hex10))"
   ]
  },
  {
   "cell_type": "code",
   "execution_count": null,
   "id": "c5d4d37f",
   "metadata": {
    "execution": {
     "iopub.execute_input": "2022-12-19T02:52:17.031417Z",
     "iopub.status.busy": "2022-12-19T02:52:17.030454Z",
     "iopub.status.idle": "2022-12-19T02:52:17.036850Z",
     "shell.execute_reply": "2022-12-19T02:52:17.035136Z"
    },
    "papermill": {
     "duration": 0.027757,
     "end_time": "2022-12-19T02:52:17.039565",
     "exception": false,
     "start_time": "2022-12-19T02:52:17.011808",
     "status": "completed"
    },
    "tags": []
   },
   "outputs": [],
   "source": [
    "# ___を埋めて、50を10進数、2進数、16進数で表現してください\n",
    "decimal50 = ___\n",
    "binary50 = ___\n",
    "hex50 = ___\n",
    "\n",
    "print(\"decimal50: {}\".format(decimal50))\n",
    "print(\"binary50: {}\".format(binary50))\n",
    "print(\"hex50: {}\".format(hex50))"
   ]
  },
  {
   "cell_type": "code",
   "execution_count": null,
   "id": "a224eb75",
   "metadata": {
    "execution": {
     "iopub.execute_input": "2022-12-19T02:52:17.076544Z",
     "iopub.status.busy": "2022-12-19T02:52:17.076137Z",
     "iopub.status.idle": "2022-12-19T02:52:17.083381Z",
     "shell.execute_reply": "2022-12-19T02:52:17.081835Z"
    },
    "papermill": {
     "duration": 0.029047,
     "end_time": "2022-12-19T02:52:17.086217",
     "exception": false,
     "start_time": "2022-12-19T02:52:17.057170",
     "status": "completed"
    },
    "tags": []
   },
   "outputs": [],
   "source": [
    "# ___を埋めて、100を10進数、2進数、16進数で表現してください\n",
    "decimal100 = ___\n",
    "binary100 = ___\n",
    "hex100 = ___\n",
    "\n",
    "print(\"decimal100: {}\".format(decimal100))\n",
    "print(\"binary100: {}\".format(binary100))\n",
    "print(\"hex100: {}\".format(hex100))"
   ]
  },
  {
   "attachments": {},
   "cell_type": "markdown",
   "id": "6729157f",
   "metadata": {
    "papermill": {
     "duration": 0.017377,
     "end_time": "2022-12-19T02:52:17.121510",
     "exception": false,
     "start_time": "2022-12-19T02:52:17.104133",
     "status": "completed"
    },
    "tags": []
   },
   "source": [
    "コラム：[グレイコード](https://telecomshikaku.com/1rikutoku-r03-10-musen-b-09/)"
   ]
  },
  {
   "attachments": {},
   "cell_type": "markdown",
   "id": "86be2ca6",
   "metadata": {},
   "source": [
    "### ビット演算子\n",
    "\n",
    "Pythonにはビット演算子として`&`, `|`, `^`, `~`, `<<`, `>>`が用意されています。\n",
    "\n",
    "2進数で表した整数intの各ビットに対して、それぞれ論理積、論理和、排他的論理和、ビット反転、左ビットシフト、右ビットシフトを行います。"
   ]
  },
  {
   "attachments": {},
   "cell_type": "markdown",
   "id": "3ab4617b",
   "metadata": {},
   "source": [
    "`|` は論理和を表します。論理和は少なくともどちらかが1のとき1になります"
   ]
  },
  {
   "cell_type": "code",
   "execution_count": 7,
   "id": "0a889a9a",
   "metadata": {
    "execution": {
     "iopub.execute_input": "2022-12-19T02:52:17.193722Z",
     "iopub.status.busy": "2022-12-19T02:52:17.193257Z",
     "iopub.status.idle": "2022-12-19T02:52:17.200594Z",
     "shell.execute_reply": "2022-12-19T02:52:17.199201Z"
    },
    "papermill": {
     "duration": 0.028451,
     "end_time": "2022-12-19T02:52:17.202891",
     "exception": false,
     "start_time": "2022-12-19T02:52:17.174440",
     "status": "completed"
    },
    "tags": []
   },
   "outputs": [
    {
     "name": "stdout",
     "output_type": "stream",
     "text": [
      "0b111\n"
     ]
    }
   ],
   "source": [
    "result = 0b010 | 0b101\n",
    "\n",
    "# 値を二進数の文字で表すときは、`bin()`関数を使います。\n",
    "print( bin(result) ) #0b111\n",
    "\n",
    "# bin関数のヘルプをみてみましょう\n",
    "#help(bin) "
   ]
  },
  {
   "attachments": {},
   "cell_type": "markdown",
   "id": "939d19fe",
   "metadata": {},
   "source": [
    "`&`は論理和を表します。論理積はどちらも1のとき1になります。"
   ]
  },
  {
   "cell_type": "code",
   "execution_count": 10,
   "id": "22c0188f",
   "metadata": {
    "execution": {
     "iopub.execute_input": "2022-12-19T02:52:17.374371Z",
     "iopub.status.busy": "2022-12-19T02:52:17.373417Z",
     "iopub.status.idle": "2022-12-19T02:52:17.380911Z",
     "shell.execute_reply": "2022-12-19T02:52:17.379693Z"
    },
    "papermill": {
     "duration": 0.031024,
     "end_time": "2022-12-19T02:52:17.383163",
     "exception": false,
     "start_time": "2022-12-19T02:52:17.352139",
     "status": "completed"
    },
    "tags": []
   },
   "outputs": [
    {
     "name": "stdout",
     "output_type": "stream",
     "text": [
      "0b100\n"
     ]
    }
   ],
   "source": [
    "result = 0b110 & 0b101\n",
    "\n",
    "print( bin(result) ) #0b100"
   ]
  },
  {
   "attachments": {},
   "cell_type": "markdown",
   "id": "f97a10d3",
   "metadata": {},
   "source": [
    "# 問1\n",
    "次の2つの整数について、論理和（OR）と論理積（AND）をPythonで計算してください。\n",
    "\n"
   ]
  },
  {
   "cell_type": "code",
   "execution_count": 14,
   "id": "4342a792",
   "metadata": {},
   "outputs": [],
   "source": [
    "a = 12\n",
    "b = 25\n",
    "\n",
    "# 論理和\n",
    "result_ronri_or = ___\n",
    "# 論理積\n",
    "result_ronri_and = ___"
   ]
  },
  {
   "attachments": {},
   "cell_type": "markdown",
   "id": "3606f0ae",
   "metadata": {},
   "source": [
    "問２\n",
    "\n",
    "次の値の上位4ビットと下位4ビットを（ビット演算）を使ってマスクしてください。\n",
    "\n",
    "例えば、0b10101010の下位4ビットをマスクして取り出すと0b00001010になります。上位4ビットをマスクして取り出すと0b10100000になります。"
   ]
  },
  {
   "cell_type": "code",
   "execution_count": 80,
   "id": "f911c677",
   "metadata": {},
   "outputs": [
    {
     "name": "stdout",
     "output_type": "stream",
     "text": [
      "0b11110000\n"
     ]
    }
   ],
   "source": [
    "# ipアドレスの第4オクテット(245)を2進数で表現しています\n",
    "octet4 = 0b11110101\n",
    "\n",
    "# 上位4ビットを取り出す\n",
    "high4 = ___\n",
    "# 2進数で表示する\n",
    "print(bin(high4))\n",
    "\n",
    "# 下位4ビットを取り出す\n",
    "low4 = ___\n",
    "# 2進数で表示する\n",
    "print(bin(low4))"
   ]
  },
  {
   "attachments": {},
   "cell_type": "markdown",
   "id": "686ae3dc",
   "metadata": {
    "papermill": {
     "duration": 0.018782,
     "end_time": "2022-12-19T02:52:17.651545",
     "exception": false,
     "start_time": "2022-12-19T02:52:17.632763",
     "status": "completed"
    },
    "tags": []
   },
   "source": [
    "# 文字コード\n",
    "\n",
    "数字しか認識できないコンピュータが文字を扱うために、文字に対応する数字を割り当てたもの\n",
    "\n",
    "[ASCIIコード](http://www3.nit.ac.jp/~tamura/ex2/ascii.html)\n",
    "\n",
    "ASCIIコードとは、アルファベットや数字、記号などをコンピュータで扱えるように、それぞれの文字に対して数字を割り当てたものです。\n",
    "\n",
    "[ユニコード](https://ja.wikipedia.org/wiki/Unicode%E4%B8%80%E8%A6%A7_0000-0FFF)\n",
    "\n",
    "ユニコードとは、世界中の文字をコンピュータで扱えるように、それぞれの文字に対して数字を割り当てたものです。\n",
    "\n",
    "アルファベットや数字、記号などのASCIIコードに加えて、日本語や中国語などの文字も扱えるようになります。"
   ]
  },
  {
   "attachments": {},
   "cell_type": "markdown",
   "id": "fb7bbf87",
   "metadata": {},
   "source": [
    "`ord`関数を使うと、文字をユニコードに変換できます。"
   ]
  },
  {
   "cell_type": "code",
   "execution_count": 6,
   "id": "455acaad",
   "metadata": {
    "execution": {
     "iopub.execute_input": "2022-12-19T02:52:17.689844Z",
     "iopub.status.busy": "2022-12-19T02:52:17.689432Z",
     "iopub.status.idle": "2022-12-19T02:52:17.697136Z",
     "shell.execute_reply": "2022-12-19T02:52:17.695463Z"
    },
    "papermill": {
     "duration": 0.02932,
     "end_time": "2022-12-19T02:52:17.699629",
     "exception": false,
     "start_time": "2022-12-19T02:52:17.670309",
     "status": "completed"
    },
    "tags": []
   },
   "outputs": [
    {
     "name": "stdout",
     "output_type": "stream",
     "text": [
      "Help on built-in function ord in module builtins:\n",
      "\n",
      "ord(c, /)\n",
      "    Return the Unicode code point for a one-character string.\n",
      "\n"
     ]
    }
   ],
   "source": [
    "help(ord)"
   ]
  },
  {
   "cell_type": "code",
   "execution_count": null,
   "id": "d1de854b",
   "metadata": {
    "execution": {
     "iopub.execute_input": "2022-12-19T02:52:17.738401Z",
     "iopub.status.busy": "2022-12-19T02:52:17.737754Z",
     "iopub.status.idle": "2022-12-19T02:52:17.743038Z",
     "shell.execute_reply": "2022-12-19T02:52:17.741816Z"
    },
    "papermill": {
     "duration": 0.027823,
     "end_time": "2022-12-19T02:52:17.745677",
     "exception": false,
     "start_time": "2022-12-19T02:52:17.717854",
     "status": "completed"
    },
    "tags": []
   },
   "outputs": [],
   "source": [
    "unicode_a = ord('A')\n",
    "print( \"Aのユニコードは10進数で{}です\".format(unicode_a) )"
   ]
  },
  {
   "cell_type": "code",
   "execution_count": null,
   "id": "48259973",
   "metadata": {
    "execution": {
     "iopub.execute_input": "2022-12-19T02:52:17.785699Z",
     "iopub.status.busy": "2022-12-19T02:52:17.785197Z",
     "iopub.status.idle": "2022-12-19T02:52:17.792466Z",
     "shell.execute_reply": "2022-12-19T02:52:17.791121Z"
    },
    "papermill": {
     "duration": 0.029952,
     "end_time": "2022-12-19T02:52:17.795088",
     "exception": false,
     "start_time": "2022-12-19T02:52:17.765136",
     "status": "completed"
    },
    "tags": []
   },
   "outputs": [],
   "source": [
    "help(hex)"
   ]
  },
  {
   "cell_type": "code",
   "execution_count": null,
   "id": "e303c1d5",
   "metadata": {
    "execution": {
     "iopub.execute_input": "2022-12-19T02:52:17.834357Z",
     "iopub.status.busy": "2022-12-19T02:52:17.833924Z",
     "iopub.status.idle": "2022-12-19T02:52:17.840240Z",
     "shell.execute_reply": "2022-12-19T02:52:17.838614Z"
    },
    "papermill": {
     "duration": 0.028705,
     "end_time": "2022-12-19T02:52:17.842647",
     "exception": false,
     "start_time": "2022-12-19T02:52:17.813942",
     "status": "completed"
    },
    "tags": []
   },
   "outputs": [],
   "source": [
    "unicode_a = ord('A')\n",
    "unicode_a_hex = hex(unicode_a)\n",
    "print( \"Aのユニコードは16進数で{}です\".format( unicode_a_hex ) )"
   ]
  },
  {
   "cell_type": "code",
   "execution_count": null,
   "id": "c5417c2b",
   "metadata": {
    "execution": {
     "iopub.execute_input": "2022-12-19T02:52:17.884043Z",
     "iopub.status.busy": "2022-12-19T02:52:17.883302Z",
     "iopub.status.idle": "2022-12-19T02:52:17.889435Z",
     "shell.execute_reply": "2022-12-19T02:52:17.888132Z"
    },
    "papermill": {
     "duration": 0.02971,
     "end_time": "2022-12-19T02:52:17.891847",
     "exception": false,
     "start_time": "2022-12-19T02:52:17.862137",
     "status": "completed"
    },
    "tags": []
   },
   "outputs": [],
   "source": [
    "help(chr)"
   ]
  },
  {
   "cell_type": "code",
   "execution_count": null,
   "id": "31c700eb",
   "metadata": {
    "execution": {
     "iopub.execute_input": "2022-12-19T02:52:17.931982Z",
     "iopub.status.busy": "2022-12-19T02:52:17.931570Z",
     "iopub.status.idle": "2022-12-19T02:52:17.938405Z",
     "shell.execute_reply": "2022-12-19T02:52:17.937458Z"
    },
    "papermill": {
     "duration": 0.029821,
     "end_time": "2022-12-19T02:52:17.940787",
     "exception": false,
     "start_time": "2022-12-19T02:52:17.910966",
     "status": "completed"
    },
    "tags": []
   },
   "outputs": [],
   "source": [
    "chr(65)"
   ]
  },
  {
   "attachments": {},
   "cell_type": "markdown",
   "id": "bccfe047",
   "metadata": {
    "papermill": {
     "duration": 0.01903,
     "end_time": "2022-12-19T02:52:17.978601",
     "exception": false,
     "start_time": "2022-12-19T02:52:17.959571",
     "status": "completed"
    },
    "tags": []
   },
   "source": [
    "自分の名前をユニコードで確認してみましょう"
   ]
  },
  {
   "cell_type": "code",
   "execution_count": null,
   "id": "899e38e4",
   "metadata": {
    "execution": {
     "iopub.execute_input": "2022-12-19T02:52:18.018523Z",
     "iopub.status.busy": "2022-12-19T02:52:18.017582Z",
     "iopub.status.idle": "2022-12-19T02:52:18.023747Z",
     "shell.execute_reply": "2022-12-19T02:52:18.022526Z"
    },
    "papermill": {
     "duration": 0.028448,
     "end_time": "2022-12-19T02:52:18.026069",
     "exception": false,
     "start_time": "2022-12-19T02:52:17.997621",
     "status": "completed"
    },
    "tags": []
   },
   "outputs": [],
   "source": [
    "for char in 'mitsuya':\n",
    "    print( ord(char), end=\" \" )"
   ]
  },
  {
   "attachments": {},
   "cell_type": "markdown",
   "id": "f5afa040",
   "metadata": {
    "papermill": {
     "duration": 0.018749,
     "end_time": "2022-12-19T02:52:18.063920",
     "exception": false,
     "start_time": "2022-12-19T02:52:18.045171",
     "status": "completed"
    },
    "tags": []
   },
   "source": [
    "## 問1 与えられた文字コードを文字列に変換する関数をつくってみましょう"
   ]
  },
  {
   "cell_type": "code",
   "execution_count": 20,
   "id": "19d88ce3",
   "metadata": {
    "execution": {
     "iopub.execute_input": "2022-12-19T02:52:18.103642Z",
     "iopub.status.busy": "2022-12-19T02:52:18.103193Z",
     "iopub.status.idle": "2022-12-19T02:52:18.109377Z",
     "shell.execute_reply": "2022-12-19T02:52:18.107913Z"
    },
    "papermill": {
     "duration": 0.029058,
     "end_time": "2022-12-19T02:52:18.112103",
     "exception": false,
     "start_time": "2022-12-19T02:52:18.083045",
     "status": "completed"
    },
    "tags": []
   },
   "outputs": [],
   "source": [
    "def convert_to_str( charcodes ):\n",
    "    \"\"\"\n",
    "    ユニコードのリスト`charcodes`を文字列に変換する関数\n",
    "\n",
    "    例:\n",
    "    converted = convert_to_str( [109, 105, 116, 115, 117, 121, 97] )\n",
    "    print(converted)\n",
    "    >>>'mitsuya'\n",
    "    \"\"\"\n",
    "    pass"
   ]
  },
  {
   "attachments": {},
   "cell_type": "markdown",
   "id": "d26decc4",
   "metadata": {},
   "source": [
    "実際に使って正しく動くか確認してみましょう"
   ]
  },
  {
   "cell_type": "code",
   "execution_count": null,
   "id": "71daf8b6",
   "metadata": {
    "execution": {
     "iopub.execute_input": "2022-12-19T02:52:18.152103Z",
     "iopub.status.busy": "2022-12-19T02:52:18.151663Z",
     "iopub.status.idle": "2022-12-19T02:52:18.158148Z",
     "shell.execute_reply": "2022-12-19T02:52:18.156385Z"
    },
    "papermill": {
     "duration": 0.029063,
     "end_time": "2022-12-19T02:52:18.160609",
     "exception": false,
     "start_time": "2022-12-19T02:52:18.131546",
     "status": "completed"
    },
    "tags": []
   },
   "outputs": [],
   "source": [
    "converted = convert_to_str( [109, 105, 116, 115, 117, 121, 97] )\n",
    "print(converted)"
   ]
  },
  {
   "attachments": {},
   "cell_type": "markdown",
   "id": "2c5cd5b2",
   "metadata": {
    "papermill": {
     "duration": 0.018241,
     "end_time": "2022-12-19T02:52:18.197655",
     "exception": false,
     "start_time": "2022-12-19T02:52:18.179414",
     "status": "completed"
    },
    "tags": []
   },
   "source": [
    "# バイナリデータ\n",
    "\n",
    "コンピューターの最小単位はビットですが、8ビットをまとめたものをバイトと呼びます。\n",
    "\n",
    "pythonでは、バイナリデータを表す型として、`bytes`と`bytearray`が用意されています。"
   ]
  },
  {
   "cell_type": "code",
   "execution_count": 82,
   "id": "56dc37a3",
   "metadata": {
    "execution": {
     "iopub.execute_input": "2022-12-19T02:52:18.284884Z",
     "iopub.status.busy": "2022-12-19T02:52:18.283608Z",
     "iopub.status.idle": "2022-12-19T02:52:18.292810Z",
     "shell.execute_reply": "2022-12-19T02:52:18.291326Z"
    },
    "papermill": {
     "duration": 0.032295,
     "end_time": "2022-12-19T02:52:18.295455",
     "exception": false,
     "start_time": "2022-12-19T02:52:18.263160",
     "status": "completed"
    },
    "tags": []
   },
   "outputs": [
    {
     "name": "stdout",
     "output_type": "stream",
     "text": [
      "ip_byteの第一オクテット: 192\n"
     ]
    }
   ],
   "source": [
    "# 10進数のリストを渡すと、バイト列を作ってくれる\n",
    "ip_byte = bytearray([192, 168, 80, 100])\n",
    "print(\"ip_byteの第一オクテット: {}\".format(ip_byte[0]))"
   ]
  },
  {
   "cell_type": "code",
   "execution_count": 83,
   "id": "6bff8aa2",
   "metadata": {},
   "outputs": [
    {
     "name": "stdout",
     "output_type": "stream",
     "text": [
      "ip_byteを16進数表記で表示: c0a85064\n"
     ]
    }
   ],
   "source": [
    "# 16進数表記を使ってもOK\n",
    "ip_byte = bytearray([0xc0, 168, 80, 100])\n",
    "print(\"ip_byteを16進数表記で表示: {}\".format(ip_byte.hex()))"
   ]
  },
  {
   "cell_type": "code",
   "execution_count": 84,
   "id": "1fb944bc",
   "metadata": {
    "execution": {
     "iopub.execute_input": "2022-12-19T02:52:18.420274Z",
     "iopub.status.busy": "2022-12-19T02:52:18.419835Z",
     "iopub.status.idle": "2022-12-19T02:52:18.427564Z",
     "shell.execute_reply": "2022-12-19T02:52:18.426528Z"
    },
    "papermill": {
     "duration": 0.030598,
     "end_time": "2022-12-19T02:52:18.429888",
     "exception": false,
     "start_time": "2022-12-19T02:52:18.399290",
     "status": "completed"
    },
    "tags": []
   },
   "outputs": [
    {
     "data": {
      "text/plain": [
       "bytearray(b'\\xe3\\x81\\x93\\xe3\\x82\\x93\\xe3\\x81\\xab\\xe3\\x81\\xa1\\xe3\\x81\\xaf')"
      ]
     },
     "execution_count": 84,
     "metadata": {},
     "output_type": "execute_result"
    }
   ],
   "source": [
    "# もちろん、文字列を渡すこともできる\n",
    "bytearray('こんにちは', 'utf-8')"
   ]
  },
  {
   "cell_type": "code",
   "execution_count": 85,
   "id": "190e7fd7",
   "metadata": {
    "execution": {
     "iopub.execute_input": "2022-12-19T02:52:18.470855Z",
     "iopub.status.busy": "2022-12-19T02:52:18.469489Z",
     "iopub.status.idle": "2022-12-19T02:52:18.477383Z",
     "shell.execute_reply": "2022-12-19T02:52:18.476251Z"
    },
    "papermill": {
     "duration": 0.030697,
     "end_time": "2022-12-19T02:52:18.479713",
     "exception": false,
     "start_time": "2022-12-19T02:52:18.449016",
     "status": "completed"
    },
    "tags": []
   },
   "outputs": [
    {
     "data": {
      "text/plain": [
       "'こ'"
      ]
     },
     "execution_count": 85,
     "metadata": {},
     "output_type": "execute_result"
    }
   ],
   "source": [
    "str(bytearray([0xe3, 0x81, 0x93]), 'utf-8')"
   ]
  },
  {
   "attachments": {},
   "cell_type": "markdown",
   "id": "1eeacc2f",
   "metadata": {},
   "source": [
    "1バイトで表現できる数値は0から255までですから、256を超える値を代入するとエラーになります。"
   ]
  },
  {
   "cell_type": "code",
   "execution_count": 90,
   "id": "871056d7",
   "metadata": {},
   "outputs": [],
   "source": [
    "# 256は8ビットで表現できないのでエラーになる\n",
    "# bytearray([256])"
   ]
  },
  {
   "attachments": {},
   "cell_type": "markdown",
   "id": "32df1fa9",
   "metadata": {
    "papermill": {
     "duration": 0.018543,
     "end_time": "2022-12-19T02:52:18.518590",
     "exception": false,
     "start_time": "2022-12-19T02:52:18.500047",
     "status": "completed"
    },
    "tags": []
   },
   "source": [
    "発展\n",
    "[UnicodeとUTF-8の違い](https://qiita.com/omiita/items/50814037af2fd8b2b21e)"
   ]
  },
  {
   "attachments": {},
   "cell_type": "markdown",
   "id": "90b89f5c",
   "metadata": {
    "papermill": {
     "duration": 0.019186,
     "end_time": "2022-12-19T02:52:18.746625",
     "exception": false,
     "start_time": "2022-12-19T02:52:18.727439",
     "status": "completed"
    },
    "tags": []
   },
   "source": [
    "## bytes型のメリット\n",
    "\n",
    "`bytes`/`bytearray`型を使うとどのようなメリットがあるでしょうか？\n"
   ]
  },
  {
   "attachments": {},
   "cell_type": "markdown",
   "id": "b059a17c",
   "metadata": {},
   "source": [
    "IPアドレスを`bytes`を使って表現してみます"
   ]
  },
  {
   "cell_type": "code",
   "execution_count": 30,
   "id": "4a4dc230",
   "metadata": {
    "execution": {
     "iopub.execute_input": "2022-12-19T02:52:18.788975Z",
     "iopub.status.busy": "2022-12-19T02:52:18.788252Z",
     "iopub.status.idle": "2022-12-19T02:52:18.794194Z",
     "shell.execute_reply": "2022-12-19T02:52:18.793404Z"
    },
    "papermill": {
     "duration": 0.029794,
     "end_time": "2022-12-19T02:52:18.796686",
     "exception": false,
     "start_time": "2022-12-19T02:52:18.766892",
     "status": "completed"
    },
    "tags": []
   },
   "outputs": [
    {
     "name": "stdout",
     "output_type": "stream",
     "text": [
      "整数で生成したIPアドレスのbyte長さ: 4\n"
     ]
    }
   ],
   "source": [
    "ip_byte = bytes([192, 168, 80, 100])\n",
    "# 整数で生成したIPアドレスのbyte長さ\n",
    "print(\"整数で生成したIPアドレスのbyte長さ: {}\".format(len(ip_byte)))"
   ]
  },
  {
   "cell_type": "code",
   "execution_count": 23,
   "id": "bc64a964",
   "metadata": {
    "execution": {
     "iopub.execute_input": "2022-12-19T02:52:18.877117Z",
     "iopub.status.busy": "2022-12-19T02:52:18.876311Z",
     "iopub.status.idle": "2022-12-19T02:52:18.882656Z",
     "shell.execute_reply": "2022-12-19T02:52:18.881241Z"
    },
    "papermill": {
     "duration": 0.029863,
     "end_time": "2022-12-19T02:52:18.885151",
     "exception": false,
     "start_time": "2022-12-19T02:52:18.855288",
     "status": "completed"
    },
    "tags": []
   },
   "outputs": [
    {
     "name": "stdout",
     "output_type": "stream",
     "text": [
      "文字コードで生成したIPアドレスのbyte長さ: 14\n"
     ]
    }
   ],
   "source": [
    "## 文字コードで表現した場合のIPアドレスの長さ\n",
    "ip_bytes_unicode = bytes(0)\n",
    "ip_string = '192.168.80.100'\n",
    "for char in ip_string:\n",
    "    # 文字コードを取得\n",
    "    code = ord(char)\n",
    "    # 文字コードをバイト列に変換\n",
    "    ip_bytes_unicode += bytes([code])\n",
    "print(\"文字コードで生成したIPアドレスのbyte長さ: {}\".format( len(ip_bytes_unicode) ) )"
   ]
  },
  {
   "attachments": {},
   "cell_type": "markdown",
   "id": "28d5c26c",
   "metadata": {},
   "source": [
    "## 問1\n",
    "\n",
    "以下の問に答えてください。"
   ]
  },
  {
   "cell_type": "code",
   "execution_count": 34,
   "id": "0ceacdf1",
   "metadata": {},
   "outputs": [],
   "source": [
    "# 192.168.3.255をバイト列で表現してください\n",
    "ip_byte = ___\n",
    "# 172.217.31.132をバイト列で表現してください\n",
    "ip_byte_google = ___\n",
    "# ip_byte_googleの第四オクテットを取り出してください\n",
    "octet4 = ___"
   ]
  },
  {
   "attachments": {},
   "cell_type": "markdown",
   "id": "5c03540d",
   "metadata": {
    "papermill": {
     "duration": 0.019404,
     "end_time": "2022-12-19T02:52:19.027921",
     "exception": false,
     "start_time": "2022-12-19T02:52:19.008517",
     "status": "completed"
    },
    "tags": []
   },
   "source": [
    "## 問2\n",
    "\n",
    "与えられたIPアドレスに対して、サブネットマスクを適用したネットワークアドレスを求める関数を作成してください。"
   ]
  },
  {
   "cell_type": "code",
   "execution_count": 71,
   "id": "2ee0506b",
   "metadata": {},
   "outputs": [],
   "source": [
    "# ここにコードを書いてください\n",
    "def apply_subnet_mask(ip_address, subnet_mask):\n",
    "    \"\"\"\n",
    "        例:\n",
    "        ip_address = bytes([192, 168, 80, 126])\n",
    "        subnet_mask = bytes([255, 255, 255, 63])\n",
    "        network_address = apply_subnet_mask(ip_address, subnet_mask)\n",
    "        print(network_address)\n",
    "        >>> [192, 168, 80, 124]\n",
    "    \"\"\"\n",
    "    pass\n"
   ]
  },
  {
   "cell_type": "code",
   "execution_count": 86,
   "id": "e47d7425",
   "metadata": {},
   "outputs": [
    {
     "name": "stdout",
     "output_type": "stream",
     "text": [
      "あなたのPCのネットワークアドレスはNoneです\n"
     ]
    }
   ],
   "source": [
    "ip_bytes = bytearray([192, 168, 80, 126])\n",
    "subnet_mask = bytearray([255, 255, 255, 63])\n",
    "ip_your_pc = apply_subnet_mask(ip_bytes, subnet_mask)\n",
    "print(\"あなたのPCのネットワークアドレスは{}です\".format(ip_your_pc))"
   ]
  }
 ],
 "metadata": {
  "kernelspec": {
   "display_name": "Python 3",
   "language": "python",
   "name": "python3"
  },
  "language_info": {
   "codemirror_mode": {
    "name": "ipython",
    "version": 3
   },
   "file_extension": ".py",
   "mimetype": "text/x-python",
   "name": "python",
   "nbconvert_exporter": "python",
   "pygments_lexer": "ipython3",
   "version": "3.10.11"
  },
  "papermill": {
   "default_parameters": {},
   "duration": 15.815017,
   "end_time": "2022-12-19T02:52:20.039643",
   "environment_variables": {},
   "exception": null,
   "input_path": "__notebook__.ipynb",
   "output_path": "__notebook__.ipynb",
   "parameters": {},
   "start_time": "2022-12-19T02:52:04.224626",
   "version": "2.3.4"
  }
 },
 "nbformat": 4,
 "nbformat_minor": 5
}
