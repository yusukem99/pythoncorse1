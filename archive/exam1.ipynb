{
 "cells": [
  {
   "attachments": {},
   "cell_type": "markdown",
   "id": "bc0a7618",
   "metadata": {
    "papermill": {
     "duration": 0.009632,
     "end_time": "2023-02-27T10:09:45.227987",
     "exception": false,
     "start_time": "2023-02-27T10:09:45.218355",
     "status": "completed"
    },
    "tags": []
   },
   "source": [
    "## 問1 (10点)\n",
    "円の面積は、半径×半径×円周率で求めることができます。\n",
    "変数`menseki`に半径8の円の面積を代入しなさい"
   ]
  },
  {
   "cell_type": "code",
   "execution_count": null,
   "id": "ba47a6da",
   "metadata": {
    "execution": {
     "iopub.execute_input": "2023-02-27T10:09:45.269351Z",
     "iopub.status.busy": "2023-02-27T10:09:45.268602Z",
     "iopub.status.idle": "2023-02-27T10:09:45.273145Z",
     "shell.execute_reply": "2023-02-27T10:09:45.272335Z"
    },
    "papermill": {
     "duration": 0.013652,
     "end_time": "2023-02-27T10:09:45.275523",
     "exception": false,
     "start_time": "2023-02-27T10:09:45.261871",
     "status": "completed"
    },
    "tags": []
   },
   "outputs": [],
   "source": [
    "menseki = ___"
   ]
  },
  {
   "attachments": {},
   "cell_type": "markdown",
   "id": "18b1391d",
   "metadata": {
    "papermill": {
     "duration": 0.004692,
     "end_time": "2023-02-27T10:09:45.285474",
     "exception": false,
     "start_time": "2023-02-27T10:09:45.280782",
     "status": "completed"
    },
    "tags": []
   },
   "source": [
    "## 問2 (10点)\n",
    "かっこ`()`をつけて結果が1になるようにしなさい"
   ]
  },
  {
   "cell_type": "code",
   "execution_count": null,
   "id": "da5b6d95",
   "metadata": {
    "execution": {
     "iopub.execute_input": "2023-02-27T10:09:45.298318Z",
     "iopub.status.busy": "2023-02-27T10:09:45.297530Z",
     "iopub.status.idle": "2023-02-27T10:09:45.305734Z",
     "shell.execute_reply": "2023-02-27T10:09:45.304946Z"
    },
    "papermill": {
     "duration": 0.017764,
     "end_time": "2023-02-27T10:09:45.308434",
     "exception": false,
     "start_time": "2023-02-27T10:09:45.290670",
     "status": "completed"
    },
    "tags": []
   },
   "outputs": [],
   "source": [
    "8 - 6 // 2"
   ]
  },
  {
   "attachments": {},
   "cell_type": "markdown",
   "id": "1e443b4c",
   "metadata": {},
   "source": [
    "## 問3 (10点)\n",
    "\n",
    "`docstring`に従って、住宅の価格を返す関数`get_house_cost`を完成させてください。"
   ]
  },
  {
   "cell_type": "code",
   "execution_count": null,
   "id": "cd91d0e3",
   "metadata": {},
   "outputs": [],
   "source": [
    "def get_house_cost():\n",
    "    \"\"\"\n",
    "        2つの引数を設定してください\n",
    "        beds - 寝室の数\n",
    "        baths - 浴室の数\n",
    "\n",
    "        寝室が0室、浴室が0個の基本の住宅が1千万円とします。\n",
    "        さらに、寝室が一つ増えるにつき50万円、浴室が一つ増えるにつき100万円値段が上がるものとします。\n",
    "\n",
    "        例えば、\n",
    "        1つの寝室と1つの浴室を持つ住宅の価格 = 1千万円 + 50万円 + 100万円 = 1150万円\n",
    "        2つの寝室と1つの浴室を持つ住宅の価格 = 1千万円 + 2 * 50万円 + 100万円 = 1200万円\n",
    "\n",
    "        実行例:\n",
    "        get_house_cost(0, 0)\n",
    "        >>> 10000000\n",
    "        get_house_cost(1, 1)\n",
    "        >>> 11500000\n",
    "        get_house_cost(2, 1)\n",
    "        >>> 12000000\n",
    "    \"\"\"\n",
    "    return ___"
   ]
  },
  {
   "cell_type": "markdown",
   "id": "dd63ccc4",
   "metadata": {
    "papermill": {
     "duration": 0.005081,
     "end_time": "2023-02-27T10:09:45.318980",
     "exception": false,
     "start_time": "2023-02-27T10:09:45.313899",
     "status": "completed"
    },
    "tags": []
   },
   "source": [
    "## 問4 (10点)\n",
    "引数に`r`を受けとり、半径`r`の球の体積を返す関数を作りなさい。円周率は3.14とする（球の体積=4÷3×3.14×r³ ）"
   ]
  },
  {
   "cell_type": "code",
   "execution_count": null,
   "id": "adb3f448",
   "metadata": {
    "papermill": {
     "duration": 0.004655,
     "end_time": "2023-02-27T10:09:45.328851",
     "exception": false,
     "start_time": "2023-02-27T10:09:45.324196",
     "status": "completed"
    },
    "tags": []
   },
   "outputs": [],
   "source": [
    "# 関数をここに書いてください\n"
   ]
  },
  {
   "cell_type": "markdown",
   "id": "af05d911",
   "metadata": {
    "papermill": {
     "duration": 0.004589,
     "end_time": "2023-02-27T10:09:45.338365",
     "exception": false,
     "start_time": "2023-02-27T10:09:45.333776",
     "status": "completed"
    },
    "tags": []
   },
   "source": [
    "## 問5 (10点)\n",
    "引数にテストの点数`score`を受けとり、90点以上であれば`'S'`, 80点以上であれば`'A'`,それ以下であれば`'C'`を返すように、関数`get_grade`を完成させなさい"
   ]
  },
  {
   "cell_type": "code",
   "execution_count": null,
   "id": "b44a0bcd",
   "metadata": {
    "execution": {
     "iopub.execute_input": "2023-02-27T10:09:45.350684Z",
     "iopub.status.busy": "2023-02-27T10:09:45.349910Z",
     "iopub.status.idle": "2023-02-27T10:09:45.354682Z",
     "shell.execute_reply": "2023-02-27T10:09:45.353896Z"
    },
    "papermill": {
     "duration": 0.013616,
     "end_time": "2023-02-27T10:09:45.356926",
     "exception": false,
     "start_time": "2023-02-27T10:09:45.343310",
     "status": "completed"
    },
    "tags": []
   },
   "outputs": [],
   "source": [
    "def get_grade(score):\n",
    "    '''\n",
    "        実行例:\n",
    "        get_grade(100)\n",
    "        >>>'A'\n",
    "        get_grade(80)\n",
    "        >>>'B'\n",
    "        get_grade(65)\n",
    "        >>>'C'\n",
    "    '''\n",
    "    return ___"
   ]
  },
  {
   "cell_type": "markdown",
   "id": "a56adfc3",
   "metadata": {},
   "source": [
    "## 問6 (10点)\n",
    "内閣総理大臣になるための条件は、「日本国民、かつ満25歳以上であること」です。\n",
    "\n",
    "`can_run_for_prime_minister`関数は、引数で指定された人物が内閣総理大臣になれるかどうかを判定し、真偽値を返します。\n",
    "\n",
    "二つの引数を追加して、処理を記述し関数を完成させてください。"
   ]
  },
  {
   "cell_type": "code",
   "execution_count": null,
   "id": "f5962154",
   "metadata": {},
   "outputs": [],
   "source": [
    "def can_run_for_prime_minister():\n",
    "    \"\"\"\n",
    "        2つの引数を設定してください\n",
    "        age - 年齢\n",
    "        is_natural_born_citizen - 日本国籍を持っているかどうか\n",
    "\n",
    "        実行例:\n",
    "        can_run_for_prime_minister(30, True)\n",
    "        >>> True\n",
    "        can_run_for_prime_minister(22, True)\n",
    "        >>> False\n",
    "    \"\"\"\n",
    "    return ___"
   ]
  },
  {
   "attachments": {},
   "cell_type": "markdown",
   "id": "ec6d9ece",
   "metadata": {
    "papermill": {
     "duration": 0.004963,
     "end_time": "2023-02-27T10:09:45.367252",
     "exception": false,
     "start_time": "2023-02-27T10:09:45.362289",
     "status": "completed"
    },
    "tags": []
   },
   "source": [
    "## 問7 (10点)\n",
    "コメントに従って、リストのインデックス、スライシングを使って変数に値を代入しなさい"
   ]
  },
  {
   "cell_type": "code",
   "execution_count": null,
   "id": "ac707546",
   "metadata": {
    "execution": {
     "iopub.execute_input": "2023-02-27T10:09:45.379879Z",
     "iopub.status.busy": "2023-02-27T10:09:45.379132Z",
     "iopub.status.idle": "2023-02-27T10:09:45.384455Z",
     "shell.execute_reply": "2023-02-27T10:09:45.383506Z"
    },
    "papermill": {
     "duration": 0.014352,
     "end_time": "2023-02-27T10:09:45.386823",
     "exception": false,
     "start_time": "2023-02-27T10:09:45.372471",
     "status": "completed"
    },
    "tags": []
   },
   "outputs": [],
   "source": [
    "planets = ['水星', '金星', '地球', '火星', '木星', '土星', '天王星', '海王星']\n",
    "\n",
    "# 例 '金星'を取り出す\n",
    "ans7_0 = planets[1]\n",
    "#'地球'を取り出す\n",
    "ans7_1 = ___\n",
    "#一番後ろの要素を取り出す\n",
    "ans7_2 = ___\n",
    "#地球から天王星までを取り出す\n",
    "ans7_3 = ___"
   ]
  },
  {
   "attachments": {},
   "cell_type": "markdown",
   "id": "238196c7",
   "metadata": {},
   "source": [
    "## 問8 (10点)\n",
    "\n",
    "リスト`menu`に以下のような変更を加えてください。\n",
    "\n",
    "- 「黒酢からあげ膳」を削除\n",
    "- 「冷やし中華」を追加\n",
    "\n",
    "変数`menu`を宣言している行は直接変更せず、`.remove`と`.append`を使ってメニューを変更してください。"
   ]
  },
  {
   "cell_type": "code",
   "execution_count": null,
   "id": "cecbdc40",
   "metadata": {},
   "outputs": [],
   "source": [
    "menu = ['ハンバーグ味噌煮込み風', '黒酢からあげ膳', 'エビのリゾットスープ']"
   ]
  },
  {
   "attachments": {},
   "cell_type": "markdown",
   "id": "47b3cd97",
   "metadata": {
    "papermill": {
     "duration": 0.00494,
     "end_time": "2023-02-27T10:09:45.397199",
     "exception": false,
     "start_time": "2023-02-27T10:09:45.392259",
     "status": "completed"
    },
    "tags": []
   },
   "source": [
    "## 問9 (10点)\n",
    "`for`文を使って、与えられた整数のリスト`int_list`の要素がそれぞれ引数`num`より大きい場合に`True`に変換する関数`list_greater_than`を完成させなさい\n",
    "\n",
    "例\n",
    "```\n",
    "list_greater_than([1, 2, 3, 4], 2)\n",
    ">>>[False, False, True, True]\n",
    "```"
   ]
  },
  {
   "cell_type": "code",
   "execution_count": null,
   "id": "84a6a0d6",
   "metadata": {
    "execution": {
     "iopub.execute_input": "2023-02-27T10:09:45.409419Z",
     "iopub.status.busy": "2023-02-27T10:09:45.408891Z",
     "iopub.status.idle": "2023-02-27T10:09:45.414791Z",
     "shell.execute_reply": "2023-02-27T10:09:45.413580Z"
    },
    "papermill": {
     "duration": 0.015103,
     "end_time": "2023-02-27T10:09:45.417504",
     "exception": false,
     "start_time": "2023-02-27T10:09:45.402401",
     "status": "completed"
    },
    "tags": []
   },
   "outputs": [],
   "source": [
    "def list_greater_than(int_list, num):\n",
    "    pass"
   ]
  },
  {
   "attachments": {},
   "cell_type": "markdown",
   "id": "f8b72e00",
   "metadata": {},
   "source": [
    "## 問10 (10点)\n",
    "\n",
    "あるウェブサイトのユーザ数が`num_users`というリストに保存されています。\n",
    "\n",
    "このリストの最初の要素は、初年度のユーザー数、2番目の要素は2年目のユーザー数、というようになっています。\n",
    "\n",
    "コメントに従って、適切なインデックス、スライスを使い変数に値を代入しなさい"
   ]
  },
  {
   "cell_type": "code",
   "execution_count": null,
   "id": "f06c07ec",
   "metadata": {},
   "outputs": [],
   "source": [
    "num_users = [920344, 1043553, 1204334, 1458996, 1503323, 1593432, 1623463, 1843064, 1930992, 2001078]\n",
    "\n",
    "\n",
    "# 例 4年目のユーザー数を取り出す\n",
    "ans10_0 = num_users[3]\n",
    "# 初年度のユーザー数を取り出す\n",
    "ans10_0 = ___\n",
    "# 2年目のユーザー数を取り出す\n",
    "ans10_1 = ___\n",
    "# 10年目のユーザー数を取り出す\n",
    "ans10_2 = ___"
   ]
  }
 ],
 "metadata": {
  "kernelspec": {
   "display_name": "Python 3",
   "language": "python",
   "name": "python3"
  },
  "language_info": {
   "codemirror_mode": {
    "name": "ipython",
    "version": 3
   },
   "file_extension": ".py",
   "mimetype": "text/x-python",
   "name": "python",
   "nbconvert_exporter": "python",
   "pygments_lexer": "ipython3",
   "version": "3.10.6"
  },
  "papermill": {
   "default_parameters": {},
   "duration": 10.839414,
   "end_time": "2023-02-27T10:09:46.264237",
   "environment_variables": {},
   "exception": null,
   "input_path": "__notebook__.ipynb",
   "output_path": "__notebook__.ipynb",
   "parameters": {},
   "start_time": "2023-02-27T10:09:35.424823",
   "version": "2.3.4"
  }
 },
 "nbformat": 4,
 "nbformat_minor": 5
}
