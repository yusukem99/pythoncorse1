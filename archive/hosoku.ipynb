{
 "cells": [
  {
   "attachments": {},
   "cell_type": "markdown",
   "id": "6a1d51a4",
   "metadata": {
    "papermill": {
     "duration": 0.011907,
     "end_time": "2022-12-13T08:07:40.075825",
     "exception": false,
     "start_time": "2022-12-13T08:07:40.063918",
     "status": "completed"
    },
    "tags": []
   },
   "source": [
    "# 破壊/非破壊メソッドについて"
   ]
  },
  {
   "attachments": {},
   "cell_type": "markdown",
   "id": "15cc3f80",
   "metadata": {},
   "source": [
    "## 破壊的メソッドとは\n",
    "破壊的メソッドとは、メソッドを実行した後に、オブジェクトの値が変化するメソッドのことです。\n",
    "\n",
    "`random.shuffle()`は、リストの要素をランダムに並び替える破壊的メソッドです。"
   ]
  },
  {
   "cell_type": "code",
   "execution_count": null,
   "id": "dcb5d9a0",
   "metadata": {
    "execution": {
     "iopub.execute_input": "2022-12-13T08:07:40.100202Z",
     "iopub.status.busy": "2022-12-13T08:07:40.098563Z",
     "iopub.status.idle": "2022-12-13T08:07:40.116637Z",
     "shell.execute_reply": "2022-12-13T08:07:40.114994Z"
    },
    "papermill": {
     "duration": 0.033655,
     "end_time": "2022-12-13T08:07:40.120230",
     "exception": false,
     "start_time": "2022-12-13T08:07:40.086575",
     "status": "completed"
    },
    "tags": []
   },
   "outputs": [],
   "source": [
    "import string\n",
    "import random\n",
    "# string.ascii_uppercaseはアルファベットの大文字のリストを返します。リスト内包表記を使って、それぞれの文字をcharに格納しています。結果は['A', 'B', 'C', ...]となります。\n",
    "alphabets = [ char for char in string.ascii_uppercase ]\n",
    "print('alphabets: ', alphabets)\n",
    "random.shuffle(alphabets)\n",
    "print('alphabets: ', alphabets)"
   ]
  },
  {
   "attachments": {},
   "cell_type": "markdown",
   "id": "a3e89088",
   "metadata": {},
   "source": [
    "## 非破壊的メソッドとは\n",
    "非破壊的メソッドとは、メソッドを実行した後に、オブジェクトの値が変化しないメソッドのことです。\n",
    "\n",
    "例えば、`sorted()`は、リストの要素をランダムに並び替える非破壊的メソッドです。"
   ]
  },
  {
   "cell_type": "code",
   "execution_count": null,
   "id": "4f219b82",
   "metadata": {
    "execution": {
     "iopub.execute_input": "2022-12-13T08:07:40.186023Z",
     "iopub.status.busy": "2022-12-13T08:07:40.184689Z",
     "iopub.status.idle": "2022-12-13T08:07:40.192564Z",
     "shell.execute_reply": "2022-12-13T08:07:40.190800Z"
    },
    "papermill": {
     "duration": 0.024131,
     "end_time": "2022-12-13T08:07:40.195770",
     "exception": false,
     "start_time": "2022-12-13T08:07:40.171639",
     "status": "completed"
    },
    "tags": []
   },
   "outputs": [],
   "source": [
    "alphabets = [ char for char in string.ascii_uppercase ]\n",
    "random.shuffle(alphabets)\n",
    "sorted_alphabets = sorted(alphabets)\n",
    "print('alphabets: ', alphabets)"
   ]
  },
  {
   "attachments": {},
   "cell_type": "markdown",
   "id": "8699d8fb",
   "metadata": {},
   "source": [
    "`list`オブジェクトのもつ、`.sort()`メソッドは破壊的メソッドですが、`sorted()`は非破壊的メソッドです。\n",
    "\n",
    "もし、オリジナルのリストを変更したくない場合は、非破壊的メソッドを使うようにしましょう。"
   ]
  },
  {
   "cell_type": "code",
   "execution_count": null,
   "id": "a2c827b7",
   "metadata": {
    "execution": {
     "iopub.execute_input": "2022-12-13T08:07:40.219857Z",
     "iopub.status.busy": "2022-12-13T08:07:40.219374Z",
     "iopub.status.idle": "2022-12-13T08:07:40.226829Z",
     "shell.execute_reply": "2022-12-13T08:07:40.225207Z"
    },
    "papermill": {
     "duration": 0.022477,
     "end_time": "2022-12-13T08:07:40.229361",
     "exception": false,
     "start_time": "2022-12-13T08:07:40.206884",
     "status": "completed"
    },
    "tags": []
   },
   "outputs": [],
   "source": [
    "alphabets.sort()\n",
    "print('alphabets: ', alphabets)"
   ]
  },
  {
   "attachments": {},
   "cell_type": "markdown",
   "id": "c5083569",
   "metadata": {
    "papermill": {
     "duration": 0.012374,
     "end_time": "2022-12-13T08:07:40.359928",
     "exception": false,
     "start_time": "2022-12-13T08:07:40.347554",
     "status": "completed"
    },
    "tags": []
   },
   "source": [
    "# 関数を呼び出す関数"
   ]
  },
  {
   "cell_type": "code",
   "execution_count": null,
   "id": "cc656219",
   "metadata": {
    "execution": {
     "iopub.execute_input": "2022-12-13T08:07:40.405972Z",
     "iopub.status.busy": "2022-12-13T08:07:40.405485Z",
     "iopub.status.idle": "2022-12-13T08:07:40.411469Z",
     "shell.execute_reply": "2022-12-13T08:07:40.410220Z"
    },
    "papermill": {
     "duration": 0.021589,
     "end_time": "2022-12-13T08:07:40.414120",
     "exception": false,
     "start_time": "2022-12-13T08:07:40.392531",
     "status": "completed"
    },
    "tags": []
   },
   "outputs": [],
   "source": [
    "# 5と引数xをかけた数を返す関数\n",
    "def mult_by_five(x):\n",
    "    return 5 * x"
   ]
  },
  {
   "attachments": {},
   "cell_type": "markdown",
   "id": "c709481f",
   "metadata": {
    "papermill": {
     "duration": 0.011147,
     "end_time": "2022-12-13T08:07:40.436858",
     "exception": false,
     "start_time": "2022-12-13T08:07:40.425711",
     "status": "completed"
    },
    "tags": []
   },
   "source": [
    "関数も一つの変数として扱うことができます。\n",
    "\n",
    "type関数で`multi_by_five`の型を確認確認してみましょう。"
   ]
  },
  {
   "cell_type": "code",
   "execution_count": null,
   "id": "16ed3a29",
   "metadata": {
    "execution": {
     "iopub.execute_input": "2022-12-13T08:07:40.461038Z",
     "iopub.status.busy": "2022-12-13T08:07:40.460609Z",
     "iopub.status.idle": "2022-12-13T08:07:40.467869Z",
     "shell.execute_reply": "2022-12-13T08:07:40.466550Z"
    },
    "papermill": {
     "duration": 0.022521,
     "end_time": "2022-12-13T08:07:40.470333",
     "exception": false,
     "start_time": "2022-12-13T08:07:40.447812",
     "status": "completed"
    },
    "tags": []
   },
   "outputs": [],
   "source": [
    "type(mult_by_five)"
   ]
  },
  {
   "attachments": {},
   "cell_type": "markdown",
   "id": "8370921d",
   "metadata": {
    "papermill": {
     "duration": 0.011232,
     "end_time": "2022-12-13T08:07:40.493204",
     "exception": false,
     "start_time": "2022-12-13T08:07:40.481972",
     "status": "completed"
    },
    "tags": []
   },
   "source": [
    "関数の引数に関数を指定することで、関数を呼び出す関数を作ることができます。"
   ]
  },
  {
   "cell_type": "code",
   "execution_count": null,
   "id": "8ee157c0",
   "metadata": {
    "execution": {
     "iopub.execute_input": "2022-12-13T08:07:40.539827Z",
     "iopub.status.busy": "2022-12-13T08:07:40.539362Z",
     "iopub.status.idle": "2022-12-13T08:07:40.545611Z",
     "shell.execute_reply": "2022-12-13T08:07:40.544304Z"
    },
    "papermill": {
     "duration": 0.021709,
     "end_time": "2022-12-13T08:07:40.548134",
     "exception": false,
     "start_time": "2022-12-13T08:07:40.526425",
     "status": "completed"
    },
    "tags": []
   },
   "outputs": [],
   "source": [
    "def call(fn, arg):\n",
    "    return fn(arg)"
   ]
  },
  {
   "cell_type": "code",
   "execution_count": null,
   "id": "c4520a72",
   "metadata": {
    "execution": {
     "iopub.execute_input": "2022-12-13T08:07:40.573650Z",
     "iopub.status.busy": "2022-12-13T08:07:40.573070Z",
     "iopub.status.idle": "2022-12-13T08:07:40.580763Z",
     "shell.execute_reply": "2022-12-13T08:07:40.579678Z"
    },
    "papermill": {
     "duration": 0.023404,
     "end_time": "2022-12-13T08:07:40.583322",
     "exception": false,
     "start_time": "2022-12-13T08:07:40.559918",
     "status": "completed"
    },
    "tags": []
   },
   "outputs": [],
   "source": [
    "call(mult_by_five, 10)"
   ]
  },
  {
   "attachments": {},
   "cell_type": "markdown",
   "id": "c50aaf3a",
   "metadata": {
    "papermill": {
     "duration": 0.010428,
     "end_time": "2022-12-13T08:07:40.605198",
     "exception": false,
     "start_time": "2022-12-13T08:07:40.594770",
     "status": "completed"
    },
    "tags": []
   },
   "source": [
    "## さらに複雑な例"
   ]
  },
  {
   "attachments": {},
   "cell_type": "markdown",
   "id": "9ca000da",
   "metadata": {
    "papermill": {
     "duration": 0.010201,
     "end_time": "2022-12-13T08:07:40.626194",
     "exception": false,
     "start_time": "2022-12-13T08:07:40.615993",
     "status": "completed"
    },
    "tags": []
   },
   "source": [
    "`square`:二乗"
   ]
  },
  {
   "cell_type": "code",
   "execution_count": null,
   "id": "96d18c93",
   "metadata": {
    "execution": {
     "iopub.execute_input": "2022-12-13T08:07:40.649571Z",
     "iopub.status.busy": "2022-12-13T08:07:40.649084Z",
     "iopub.status.idle": "2022-12-13T08:07:40.658746Z",
     "shell.execute_reply": "2022-12-13T08:07:40.657206Z"
    },
    "papermill": {
     "duration": 0.02449,
     "end_time": "2022-12-13T08:07:40.661411",
     "exception": false,
     "start_time": "2022-12-13T08:07:40.636921",
     "status": "completed"
    },
    "tags": []
   },
   "outputs": [],
   "source": [
    "def mult_by_five(x):\n",
    "    return 5 * x\n",
    "\n",
    "def call(fn, arg):\n",
    "    \"\"\"Call fn on arg\"\"\"\n",
    "    return fn(arg)\n",
    "\n",
    "def squared_call(fn, arg):\n",
    "    \"\"\"Call fn on the result of calling fn on arg\"\"\"\n",
    "    return fn(fn(arg))\n",
    "\n",
    "print(\n",
    "    call(mult_by_five, 1),\n",
    "    squared_call(mult_by_five, 1), \n",
    "    sep='\\n', # '\\n' is the newline character - it starts a new line\n",
    ")"
   ]
  },
  {
   "attachments": {},
   "cell_type": "markdown",
   "id": "2434c600",
   "metadata": {
    "papermill": {
     "duration": 0.011433,
     "end_time": "2022-12-13T08:07:40.683964",
     "exception": false,
     "start_time": "2022-12-13T08:07:40.672531",
     "status": "completed"
    },
    "tags": []
   },
   "source": [
    "# スコープ"
   ]
  },
  {
   "attachments": {},
   "cell_type": "markdown",
   "id": "2bc244f1",
   "metadata": {
    "papermill": {
     "duration": 0.010876,
     "end_time": "2022-12-13T08:07:40.706237",
     "exception": false,
     "start_time": "2022-12-13T08:07:40.695361",
     "status": "completed"
    },
    "tags": []
   },
   "source": [
    "関数内で宣言された変数は、関数内でのみ有効です。ここでは`val_in_func`という変数を関数内で宣言していますが、関数外では参照できません。"
   ]
  },
  {
   "cell_type": "code",
   "execution_count": null,
   "id": "946c57b5",
   "metadata": {
    "_cell_guid": "b1076dfc-b9ad-4769-8c92-a6c4dae69d19",
    "_uuid": "8f2839f25d086af736a60e9eeb907d3b93b6e0e5",
    "execution": {
     "iopub.execute_input": "2022-12-13T08:07:40.730680Z",
     "iopub.status.busy": "2022-12-13T08:07:40.729762Z",
     "iopub.status.idle": "2022-12-13T08:07:40.736435Z",
     "shell.execute_reply": "2022-12-13T08:07:40.735404Z"
    },
    "papermill": {
     "duration": 0.021881,
     "end_time": "2022-12-13T08:07:40.739217",
     "exception": false,
     "start_time": "2022-12-13T08:07:40.717336",
     "status": "completed"
    },
    "tags": []
   },
   "outputs": [],
   "source": [
    "def print_val_in_func():\n",
    "    val_in_func = 'この変数は関数内で定義されているので、関数の中でのみ参照できます。'\n",
    "    print(\"val_in_func={}\".format(val_in_func))\n",
    "\n",
    "print_val_in_func()\n",
    "# print(val_in_func)"
   ]
  },
  {
   "attachments": {},
   "cell_type": "markdown",
   "id": "40ed37ff",
   "metadata": {
    "papermill": {
     "duration": 0.011139,
     "end_time": "2022-12-13T08:07:40.761562",
     "exception": false,
     "start_time": "2022-12-13T08:07:40.750423",
     "status": "completed"
    },
    "tags": []
   },
   "source": [
    "pythonにおいては、if/for文の中で宣言された変数は、if/for文の外でも参照できます。"
   ]
  },
  {
   "cell_type": "code",
   "execution_count": null,
   "id": "841dbdbe",
   "metadata": {
    "execution": {
     "iopub.execute_input": "2022-12-13T08:07:40.786095Z",
     "iopub.status.busy": "2022-12-13T08:07:40.785579Z",
     "iopub.status.idle": "2022-12-13T08:07:40.791979Z",
     "shell.execute_reply": "2022-12-13T08:07:40.790984Z"
    },
    "papermill": {
     "duration": 0.021329,
     "end_time": "2022-12-13T08:07:40.794457",
     "exception": false,
     "start_time": "2022-12-13T08:07:40.773128",
     "status": "completed"
    },
    "tags": []
   },
   "outputs": [],
   "source": [
    "if 1 == True:\n",
    "    var_in_if = 'この変数はif文の中で定義されました。'\n",
    "    \n",
    "print(var_in_if)"
   ]
  },
  {
   "attachments": {},
   "cell_type": "markdown",
   "id": "452e5c0d",
   "metadata": {},
   "source": [
    "pythonにおいて、for文のイテレータは、for文の外でも参照できます。その際には、for文の最後の値が参照されます。"
   ]
  },
  {
   "cell_type": "code",
   "execution_count": null,
   "id": "e2d69c45",
   "metadata": {
    "execution": {
     "iopub.execute_input": "2022-12-13T08:07:40.819758Z",
     "iopub.status.busy": "2022-12-13T08:07:40.818307Z",
     "iopub.status.idle": "2022-12-13T08:07:40.826538Z",
     "shell.execute_reply": "2022-12-13T08:07:40.825138Z"
    },
    "papermill": {
     "duration": 0.024117,
     "end_time": "2022-12-13T08:07:40.829769",
     "exception": false,
     "start_time": "2022-12-13T08:07:40.805652",
     "status": "completed"
    },
    "tags": []
   },
   "outputs": [],
   "source": [
    "for i in range(3):\n",
    "    var_in_for = i\n",
    "    print(\"val_in_for={}\".format(var_in_for))\n",
    "    \n",
    "print(\"for文の外\")\n",
    "print(\"val_in_for={}\".format(var_in_for))"
   ]
  },
  {
   "attachments": {},
   "cell_type": "markdown",
   "id": "2633faa8",
   "metadata": {
    "papermill": {
     "duration": 0.012814,
     "end_time": "2022-12-13T08:07:40.855334",
     "exception": false,
     "start_time": "2022-12-13T08:07:40.842520",
     "status": "completed"
    },
    "tags": []
   },
   "source": [
    "## スコープ外の変数の更新はできない \n",
    "\n",
    "pythonでは、関数内でスコープ外の変数を更新することはできません。ここでは、`num`が関数の外で定義されているため、関数内で`num`を更新することはできません。"
   ]
  },
  {
   "cell_type": "code",
   "execution_count": 22,
   "id": "1c7b1f74",
   "metadata": {
    "execution": {
     "iopub.execute_input": "2022-12-13T08:07:40.881197Z",
     "iopub.status.busy": "2022-12-13T08:07:40.880053Z",
     "iopub.status.idle": "2022-12-13T08:07:40.887202Z",
     "shell.execute_reply": "2022-12-13T08:07:40.885790Z"
    },
    "papermill": {
     "duration": 0.022711,
     "end_time": "2022-12-13T08:07:40.889877",
     "exception": false,
     "start_time": "2022-12-13T08:07:40.867166",
     "status": "completed"
    },
    "tags": []
   },
   "outputs": [],
   "source": [
    "num = 50\n",
    "\n",
    "def add_10_to_num():\n",
    "    num = num + 10\n",
    "    print(num)\n",
    "    \n",
    "# add_10_to_num()"
   ]
  },
  {
   "attachments": {},
   "cell_type": "markdown",
   "id": "ec26dd4a",
   "metadata": {
    "papermill": {
     "duration": 0.010905,
     "end_time": "2022-12-13T08:07:40.912657",
     "exception": false,
     "start_time": "2022-12-13T08:07:40.901752",
     "status": "completed"
    },
    "tags": []
   },
   "source": [
    "## Bad Practice\n",
    "\n",
    "`global`キーワードを使うことで、関数内でグローバル変数を更新することができます。\n",
    "\n",
    "しかし、一般的に、グローバル変数を使うことは推奨されていません。グローバル変数は、関数内でのみ有効な変数よりも、プログラムの動作を読み取りにくくします。"
   ]
  },
  {
   "cell_type": "code",
   "execution_count": 23,
   "id": "71b78519",
   "metadata": {
    "execution": {
     "iopub.execute_input": "2022-12-13T08:07:40.936933Z",
     "iopub.status.busy": "2022-12-13T08:07:40.936445Z",
     "iopub.status.idle": "2022-12-13T08:07:40.943544Z",
     "shell.execute_reply": "2022-12-13T08:07:40.942037Z"
    },
    "papermill": {
     "duration": 0.022933,
     "end_time": "2022-12-13T08:07:40.946571",
     "exception": false,
     "start_time": "2022-12-13T08:07:40.923638",
     "status": "completed"
    },
    "tags": []
   },
   "outputs": [
    {
     "name": "stdout",
     "output_type": "stream",
     "text": [
      "20\n"
     ]
    }
   ],
   "source": [
    "\n",
    "global_num = 10\n",
    "\n",
    "def add_10_to_golobal_num():\n",
    "    global global_num\n",
    "    global_num = global_num + 10\n",
    "    print(global_num)\n",
    "    \n",
    "add_10_to_golobal_num()"
   ]
  },
  {
   "attachments": {},
   "cell_type": "markdown",
   "id": "77874b9e",
   "metadata": {
    "papermill": {
     "duration": 0.011886,
     "end_time": "2022-12-13T08:07:40.970064",
     "exception": false,
     "start_time": "2022-12-13T08:07:40.958178",
     "status": "completed"
    },
    "tags": []
   },
   "source": [
    "# クラス\n",
    "\n",
    "クラスとはオブジェクトを作り出すための設計図です。"
   ]
  },
  {
   "attachments": {},
   "cell_type": "markdown",
   "id": "7f3cd7b3",
   "metadata": {
    "papermill": {
     "duration": 0.011152,
     "end_time": "2022-12-13T08:07:41.084925",
     "exception": false,
     "start_time": "2022-12-13T08:07:41.073773",
     "status": "completed"
    },
    "tags": []
   },
   "source": [
    "## プロパティとメソッド\n",
    "\n",
    "pythonにおいて、クラスを定義するには、`class`キーワードを使います。\n",
    "\n",
    "`__init__`メソッドは、クラスのインスタンスを作成する際に呼び出される特殊なメソッドです。このメソッドは、クラスのインスタンスを作成する際に、自動的に呼び出されます。\n",
    "\n",
    "`__init__`メソッドの第一引数は、`self`という名前にするのが一般的です。`self`は特殊な引数で、クラスのインスタンス自身を指します。\n",
    "\n",
    "インスタンスのもつ変数のことを、プロパティと呼びます。また、インスタンスのもつ関数のことを、メソッドと呼びます。\n"
   ]
  },
  {
   "cell_type": "code",
   "execution_count": null,
   "id": "5fffac79",
   "metadata": {
    "execution": {
     "iopub.execute_input": "2022-12-13T08:07:41.111080Z",
     "iopub.status.busy": "2022-12-13T08:07:41.110559Z",
     "iopub.status.idle": "2022-12-13T08:07:41.118666Z",
     "shell.execute_reply": "2022-12-13T08:07:41.117526Z"
    },
    "papermill": {
     "duration": 0.025104,
     "end_time": "2022-12-13T08:07:41.121721",
     "exception": false,
     "start_time": "2022-12-13T08:07:41.096617",
     "status": "completed"
    },
    "tags": []
   },
   "outputs": [],
   "source": [
    "class Human():\n",
    "    def __init__(self, name, age=20):\n",
    "        \"\"\"\n",
    "            コンストラクタ（初期化）はじめてインスタンスを生成したときに呼び出される\n",
    "            プロパティの定義\n",
    "            プロパティ=オブジェクトのもつ変数\n",
    "        \"\"\"\n",
    "        self.name = name\n",
    "        self.age = age\n",
    "    def greet(self):\n",
    "        \"\"\"\n",
    "            メソッドの定義\n",
    "            メソッド=オブジェクトのもつ関数\n",
    "            この関数は挨拶を画面に出力します。\n",
    "        \"\"\"\n",
    "        message = 'こんにちは。私は{}です。'.format(self.name)\n",
    "        print(message)\n",
    "    def __gt__(self, human):\n",
    "        print('年齢を比較します。(__gt__)')\n",
    "        return self.age > human.age\n",
    "    def __lt__(self, human):\n",
    "        print('年齢を比較します。(__lt__)')\n",
    "        return self.age < human.age    "
   ]
  },
  {
   "attachments": {},
   "cell_type": "markdown",
   "id": "7eefc287",
   "metadata": {},
   "source": [
    "pythonのクラスにおいて、`__`で始まる特殊なメソッドがあります。これらのメソッドは、pythonの様々な機能を実現するために使われます。\n",
    "\n",
    "例えば、`__gt__`メソッドは、`>`演算子を使うことで呼び出されます。また、`__lt__`メソッドは、`<`演算子を使うことで呼び出されます。"
   ]
  },
  {
   "attachments": {},
   "cell_type": "markdown",
   "id": "8b92c1a2",
   "metadata": {
    "papermill": {
     "duration": 0.011864,
     "end_time": "2022-12-13T08:07:41.145914",
     "exception": false,
     "start_time": "2022-12-13T08:07:41.134050",
     "status": "completed"
    },
    "tags": []
   },
   "source": [
    "gt = greater than\n",
    "\n",
    "lt = less than"
   ]
  },
  {
   "attachments": {},
   "cell_type": "markdown",
   "id": "391e1e29",
   "metadata": {},
   "source": [
    "## インスタンス\n",
    "インスタンスとは、クラスをもとに作られたオブジェクトのことです。"
   ]
  },
  {
   "cell_type": "code",
   "execution_count": null,
   "id": "a06f52b0",
   "metadata": {
    "execution": {
     "iopub.execute_input": "2022-12-13T08:07:41.170848Z",
     "iopub.status.busy": "2022-12-13T08:07:41.170452Z",
     "iopub.status.idle": "2022-12-13T08:07:41.175979Z",
     "shell.execute_reply": "2022-12-13T08:07:41.174609Z"
    },
    "papermill": {
     "duration": 0.021086,
     "end_time": "2022-12-13T08:07:41.178429",
     "exception": false,
     "start_time": "2022-12-13T08:07:41.157343",
     "status": "completed"
    },
    "tags": []
   },
   "outputs": [],
   "source": [
    "mitsuya = Human('mitsuya')\n",
    "tanaka = Human('tanaka', 18)\n",
    "matsui = Human('matsui', 18)\n",
    "saitou = Human('saitou', 30)"
   ]
  },
  {
   "attachments": {},
   "cell_type": "markdown",
   "id": "d3d15cd5",
   "metadata": {
    "papermill": {
     "duration": 0.010744,
     "end_time": "2022-12-13T08:07:41.200616",
     "exception": false,
     "start_time": "2022-12-13T08:07:41.189872",
     "status": "completed"
    },
    "tags": []
   },
   "source": [
    "メソッド（クラスのもつ関数）"
   ]
  },
  {
   "cell_type": "code",
   "execution_count": null,
   "id": "aafe1f08",
   "metadata": {
    "execution": {
     "iopub.execute_input": "2022-12-13T08:07:41.225924Z",
     "iopub.status.busy": "2022-12-13T08:07:41.224373Z",
     "iopub.status.idle": "2022-12-13T08:07:41.232591Z",
     "shell.execute_reply": "2022-12-13T08:07:41.230656Z"
    },
    "papermill": {
     "duration": 0.023808,
     "end_time": "2022-12-13T08:07:41.235555",
     "exception": false,
     "start_time": "2022-12-13T08:07:41.211747",
     "status": "completed"
    },
    "tags": []
   },
   "outputs": [],
   "source": [
    "mitsuya.greet()"
   ]
  },
  {
   "cell_type": "code",
   "execution_count": null,
   "id": "43e834ae",
   "metadata": {
    "execution": {
     "iopub.execute_input": "2022-12-13T08:07:41.259875Z",
     "iopub.status.busy": "2022-12-13T08:07:41.259467Z",
     "iopub.status.idle": "2022-12-13T08:07:41.265713Z",
     "shell.execute_reply": "2022-12-13T08:07:41.264029Z"
    },
    "papermill": {
     "duration": 0.022239,
     "end_time": "2022-12-13T08:07:41.269033",
     "exception": false,
     "start_time": "2022-12-13T08:07:41.246794",
     "status": "completed"
    },
    "tags": []
   },
   "outputs": [],
   "source": [
    "tanaka.greet()"
   ]
  },
  {
   "attachments": {},
   "cell_type": "markdown",
   "id": "0436062c",
   "metadata": {
    "papermill": {
     "duration": 0.011986,
     "end_time": "2022-12-13T08:07:41.293415",
     "exception": false,
     "start_time": "2022-12-13T08:07:41.281429",
     "status": "completed"
    },
    "tags": []
   },
   "source": [
    "プロパティの参照（クラスのもつ変数）"
   ]
  },
  {
   "cell_type": "code",
   "execution_count": null,
   "id": "595383e2",
   "metadata": {
    "execution": {
     "iopub.execute_input": "2022-12-13T08:07:41.319237Z",
     "iopub.status.busy": "2022-12-13T08:07:41.318730Z",
     "iopub.status.idle": "2022-12-13T08:07:41.325443Z",
     "shell.execute_reply": "2022-12-13T08:07:41.324252Z"
    },
    "papermill": {
     "duration": 0.02263,
     "end_time": "2022-12-13T08:07:41.328215",
     "exception": false,
     "start_time": "2022-12-13T08:07:41.305585",
     "status": "completed"
    },
    "tags": []
   },
   "outputs": [],
   "source": [
    "print(\"mitsuyaの年齢: {}\".format(mitsuya.age) )"
   ]
  },
  {
   "cell_type": "code",
   "execution_count": null,
   "id": "76fa31ad",
   "metadata": {
    "execution": {
     "iopub.execute_input": "2022-12-13T08:07:41.353472Z",
     "iopub.status.busy": "2022-12-13T08:07:41.353011Z",
     "iopub.status.idle": "2022-12-13T08:07:41.360066Z",
     "shell.execute_reply": "2022-12-13T08:07:41.358418Z"
    },
    "papermill": {
     "duration": 0.022573,
     "end_time": "2022-12-13T08:07:41.362426",
     "exception": false,
     "start_time": "2022-12-13T08:07:41.339853",
     "status": "completed"
    },
    "tags": []
   },
   "outputs": [],
   "source": [
    "print(\"tanakaの年齢: {}\".format(tanaka.age) )"
   ]
  },
  {
   "cell_type": "code",
   "execution_count": null,
   "id": "5b774f2e",
   "metadata": {
    "execution": {
     "iopub.execute_input": "2022-12-13T08:07:41.387899Z",
     "iopub.status.busy": "2022-12-13T08:07:41.387093Z",
     "iopub.status.idle": "2022-12-13T08:07:41.394734Z",
     "shell.execute_reply": "2022-12-13T08:07:41.392620Z"
    },
    "papermill": {
     "duration": 0.02433,
     "end_time": "2022-12-13T08:07:41.398185",
     "exception": false,
     "start_time": "2022-12-13T08:07:41.373855",
     "status": "completed"
    },
    "tags": []
   },
   "outputs": [],
   "source": [
    "help(greet)"
   ]
  },
  {
   "cell_type": "code",
   "execution_count": null,
   "id": "7facd277",
   "metadata": {
    "execution": {
     "iopub.execute_input": "2022-12-13T08:07:41.425574Z",
     "iopub.status.busy": "2022-12-13T08:07:41.424516Z",
     "iopub.status.idle": "2022-12-13T08:07:41.431811Z",
     "shell.execute_reply": "2022-12-13T08:07:41.430127Z"
    },
    "papermill": {
     "duration": 0.023541,
     "end_time": "2022-12-13T08:07:41.434602",
     "exception": false,
     "start_time": "2022-12-13T08:07:41.411061",
     "status": "completed"
    },
    "tags": []
   },
   "outputs": [],
   "source": [
    "help(mitsuya.greet)"
   ]
  },
  {
   "cell_type": "code",
   "execution_count": null,
   "id": "33662599",
   "metadata": {
    "execution": {
     "iopub.execute_input": "2022-12-13T08:07:41.462750Z",
     "iopub.status.busy": "2022-12-13T08:07:41.462292Z",
     "iopub.status.idle": "2022-12-13T08:07:41.471520Z",
     "shell.execute_reply": "2022-12-13T08:07:41.470011Z"
    },
    "papermill": {
     "duration": 0.026899,
     "end_time": "2022-12-13T08:07:41.474883",
     "exception": false,
     "start_time": "2022-12-13T08:07:41.447984",
     "status": "completed"
    },
    "tags": []
   },
   "outputs": [],
   "source": [
    "class Bird():\n",
    "    def __init__(self, name, speed):\n",
    "        \"\"\"\n",
    "            コンストラクタ（初期化）はじめてインスタンスを生成したときに呼び出される\n",
    "            プロパティの定義\n",
    "            プロパティ=オブジェクトのもつ変数\n",
    "        \"\"\"\n",
    "        self.name = name\n",
    "        self.speed = speed\n",
    "    def fly(self, second):\n",
    "        print(\"{}m飛びました\".format(self.speed * 10))\n",
    "\n",
    "suzume = Bird(\"suzume\", 10)\n",
    "suzume.fly(10)"
   ]
  },
  {
   "attachments": {},
   "cell_type": "markdown",
   "id": "4b302899",
   "metadata": {
    "papermill": {
     "duration": 0.011611,
     "end_time": "2022-12-13T08:07:41.499881",
     "exception": false,
     "start_time": "2022-12-13T08:07:41.488270",
     "status": "completed"
    },
    "tags": []
   },
   "source": [
    "## オーバーライド"
   ]
  },
  {
   "cell_type": "code",
   "execution_count": null,
   "id": "cdce49ed",
   "metadata": {
    "execution": {
     "iopub.execute_input": "2022-12-13T08:07:41.528080Z",
     "iopub.status.busy": "2022-12-13T08:07:41.526981Z",
     "iopub.status.idle": "2022-12-13T08:07:41.536283Z",
     "shell.execute_reply": "2022-12-13T08:07:41.534926Z"
    },
    "papermill": {
     "duration": 0.025507,
     "end_time": "2022-12-13T08:07:41.538740",
     "exception": false,
     "start_time": "2022-12-13T08:07:41.513233",
     "status": "completed"
    },
    "tags": []
   },
   "outputs": [],
   "source": [
    "matsui < mitsuya"
   ]
  }
 ],
 "metadata": {
  "kernelspec": {
   "display_name": "Python 3",
   "language": "python",
   "name": "python3"
  },
  "language_info": {
   "codemirror_mode": {
    "name": "ipython",
    "version": 3
   },
   "file_extension": ".py",
   "mimetype": "text/x-python",
   "name": "python",
   "nbconvert_exporter": "python",
   "pygments_lexer": "ipython3",
   "version": "3.10.11"
  },
  "papermill": {
   "default_parameters": {},
   "duration": 13.393945,
   "end_time": "2022-12-13T08:07:42.375138",
   "environment_variables": {},
   "exception": null,
   "input_path": "__notebook__.ipynb",
   "output_path": "__notebook__.ipynb",
   "parameters": {},
   "start_time": "2022-12-13T08:07:28.981193",
   "version": "2.3.4"
  }
 },
 "nbformat": 4,
 "nbformat_minor": 5
}
