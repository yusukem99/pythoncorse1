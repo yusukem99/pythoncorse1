{
 "cells": [
  {
   "attachments": {},
   "cell_type": "markdown",
   "id": "4d59b1f6",
   "metadata": {},
   "source": [
    "## 問1 算術演算子(10点)\n",
    "円の面積は、半径×半径×円周率で求めることができます。\n",
    "\n",
    "適切な算術演算子を使って、変数`menseki`に半径6の円の面積を代入しなさい"
   ]
  },
  {
   "cell_type": "code",
   "execution_count": null,
   "id": "7797d7e0",
   "metadata": {},
   "outputs": [],
   "source": [
    "menseki = ___"
   ]
  },
  {
   "attachments": {},
   "cell_type": "markdown",
   "id": "a56adfc3",
   "metadata": {},
   "source": [
    "## 問2 関数と条件(if文) (10点)\n",
    "\n",
    "内閣総理大臣になるための条件は、「日本国民、かつ満25歳以上であること」です。\n",
    "\n",
    "`can_run_for_prime_minister`関数は、引数で指定された人物が内閣総理大臣になれるかどうかを判定し、真偽値(`Bool`)を返します。\n",
    "\n",
    "二つの引数とコードを記述し関数を完成させてください。\n",
    "\n",
    "pythonでは、複数の条件を組み合わせるときに`and`を使うことができます。"
   ]
  },
  {
   "cell_type": "code",
   "execution_count": null,
   "id": "f5962154",
   "metadata": {},
   "outputs": [],
   "source": [
    "def can_run_for_prime_minister():\n",
    "    \"\"\"\n",
    "        2つの引数を設定してください\n",
    "        age - 年齢\n",
    "        is_natural_born_citizen - 日本国籍を持っているかどうか\n",
    "\n",
    "        実行例:\n",
    "        >>> can_run_for_prime_minister(30, True)\n",
    "        True\n",
    "        >>> can_run_for_prime_minister(22, True)\n",
    "        False\n",
    "    \"\"\"\n",
    "    # ここにコードを書いてください\n",
    "    \n",
    "    return ___"
   ]
  },
  {
   "attachments": {},
   "cell_type": "markdown",
   "id": "ec6d9ece",
   "metadata": {
    "papermill": {
     "duration": 0.004963,
     "end_time": "2023-02-27T10:09:45.367252",
     "exception": false,
     "start_time": "2023-02-27T10:09:45.362289",
     "status": "completed"
    },
    "tags": []
   },
   "source": [
    "## 問3 リスト(10点)\n",
    "コメントに従って、リストのインデックス、スライシングを使って変数に値を代入しなさい"
   ]
  },
  {
   "cell_type": "code",
   "execution_count": null,
   "id": "ac707546",
   "metadata": {
    "execution": {
     "iopub.execute_input": "2023-02-27T10:09:45.379879Z",
     "iopub.status.busy": "2023-02-27T10:09:45.379132Z",
     "iopub.status.idle": "2023-02-27T10:09:45.384455Z",
     "shell.execute_reply": "2023-02-27T10:09:45.383506Z"
    },
    "papermill": {
     "duration": 0.014352,
     "end_time": "2023-02-27T10:09:45.386823",
     "exception": false,
     "start_time": "2023-02-27T10:09:45.372471",
     "status": "completed"
    },
    "tags": []
   },
   "outputs": [],
   "source": [
    "planets = ['水星', '金星', '地球', '火星', '木星', '土星', '天王星', '海王星']\n",
    "\n",
    "# 例 '金星'を取り出す\n",
    "ans7_0 = planets[1]\n",
    "#'地球'を取り出す\n",
    "ans7_1 = ___\n",
    "#一番後ろの要素を取り出す\n",
    "ans7_2 = ___\n",
    "#地球から天王星までを取り出す\n",
    "ans7_3 = ___"
   ]
  },
  {
   "attachments": {},
   "cell_type": "markdown",
   "id": "238196c7",
   "metadata": {},
   "source": [
    "## 問4 リストの操作(10点)\n",
    "\n",
    "リスト型の変数`menu`に以下のような変更を加えてください。\n",
    "\n",
    "- 「黒酢からあげ膳」を削除\n",
    "- 「冷やし中華」を追加\n",
    "\n",
    "変数`menu`を宣言している行は直接変更せず、`.remove`と`.append`を使ってメニューを変更してください。"
   ]
  },
  {
   "cell_type": "code",
   "execution_count": null,
   "id": "cecbdc40",
   "metadata": {},
   "outputs": [],
   "source": [
    "menu = ['ハンバーグ味噌煮込み風', '黒酢からあげ膳', 'エビのリゾットスープ']\n",
    "\n",
    "# .removeを使ってmenuに'黒酢からあげ膳'を削除する\n",
    "\n",
    "# .appendを使ってmenuに'冷やし中華'を追加する\n"
   ]
  },
  {
   "attachments": {},
   "cell_type": "markdown",
   "id": "f8b72e00",
   "metadata": {},
   "source": [
    "## 問5 ループ (10点)\n",
    "リスト型の変数`hands`に含まれるトランプの手札のうち、`A`が何枚あるか`for`文を使って数えてください。"
   ]
  },
  {
   "cell_type": "code",
   "execution_count": null,
   "id": "f06c07ec",
   "metadata": {},
   "outputs": [],
   "source": [
    "hands = ['J', '1', '8', 'K', 'A', '2', 'A', 'Q']\n",
    "ace_count = 0 # Aの枚数の初期値を0に設定しておく\n",
    "\n",
    "# ここにコードを書いてください\n",
    "\n",
    "\n",
    "print(\"Aの枚数は{}枚です\".format(ace_count))\n"
   ]
  },
  {
   "attachments": {},
   "cell_type": "markdown",
   "id": "47b3cd97",
   "metadata": {
    "papermill": {
     "duration": 0.00494,
     "end_time": "2023-02-27T10:09:45.397199",
     "exception": false,
     "start_time": "2023-02-27T10:09:45.392259",
     "status": "completed"
    },
    "tags": []
   },
   "source": [
    "## 問6 リストと条件文(10点)\n",
    "\n",
    "関数`list_greater_than`に、引数`num`と`int_list`が与えられます。\n",
    "\n",
    "与えられた整数のリスト`int_list`の要素が、それぞれ引数`num`より大きい場合に`True`に変換する関数`list_greater_than`を完成させなさい。\n",
    "\n",
    "`for`文を使って実装してください。\n",
    "\n",
    "例\n",
    "```\n",
    "list_greater_than([1, 2, 3, 4], 2)\n",
    ">>>[False, False, True, True]\n",
    "```"
   ]
  },
  {
   "cell_type": "code",
   "execution_count": null,
   "id": "84a6a0d6",
   "metadata": {
    "execution": {
     "iopub.execute_input": "2023-02-27T10:09:45.409419Z",
     "iopub.status.busy": "2023-02-27T10:09:45.408891Z",
     "iopub.status.idle": "2023-02-27T10:09:45.414791Z",
     "shell.execute_reply": "2023-02-27T10:09:45.413580Z"
    },
    "papermill": {
     "duration": 0.015103,
     "end_time": "2023-02-27T10:09:45.417504",
     "exception": false,
     "start_time": "2023-02-27T10:09:45.402401",
     "status": "completed"
    },
    "tags": []
   },
   "outputs": [],
   "source": [
    "def list_greater_than(int_list, num):\n",
    "    \"\"\"\n",
    "        int_listの中でnumより大きい要素をTrue、それ以外をFalseにしてください\n",
    "        例:\n",
    "        list_greater_than([1, 2, 3, 4, 5], 3)\n",
    "        >>> [False, False, False, True, True]\n",
    "    \"\"\"\n",
    "    # ここにコードを書いてください\n",
    "    ____\n",
    "\n",
    "# 実際に実行してみましょう\n",
    "list_greater_than([1, 2, 3, 4, 5], 3)"
   ]
  },
  {
   "attachments": {},
   "cell_type": "markdown",
   "id": "0660f397",
   "metadata": {},
   "source": [
    "## 問7 リスト内包表現(10点)\n",
    "\n",
    "リスト型の変数`hands`にトランプの手札を表す文字列の値が格納されています。\n",
    "\n",
    "リスト内包表現(`list comprehension`)を使って、`hands`の要素のうち、数字のものだけを取り出し、変数`num_hands`に格納してください。\n",
    "\n",
    "それぞれの要素が数字であるかどうかは、`isdigit()`メソッドを使って判定できます。\n",
    "\n",
    "例えば、`'1'.isdigit()`は`True`を返し、`'A'.isdigit()`は`False`を返します。\n",
    "\n",
    "リスト内包表記は次のように書きます。\n",
    "\n",
    "```python\n",
    "新しいリスト = [新しい要素 for 変数 in 元のリスト if 条件]\n",
    "```"
   ]
  },
  {
   "cell_type": "code",
   "execution_count": null,
   "id": "ab807730",
   "metadata": {},
   "outputs": [],
   "source": [
    "hands = [ 'J', 'Q', '3', '8', '2', '5', '6', 'K' ]\n",
    "# リスト内包表記を使って、handsの要素のうち、数字のものだけを取り出し、`num_handsに`格納してください\n",
    "num_hands = ___\n",
    "# 正しく実行されれば、以下のように表示されます。\n",
    "# ['3', '8', '2', '5', '6']\n",
    "print(num_hands)"
   ]
  },
  {
   "attachments": {},
   "cell_type": "markdown",
   "id": "4d9284e9",
   "metadata": {},
   "source": [
    "## 問8 クラス(10点)\n",
    "`docstring`に従って、`Human`クラスを完成させてください。"
   ]
  },
  {
   "cell_type": "code",
   "execution_count": null,
   "id": "bc0d4603",
   "metadata": {},
   "outputs": [],
   "source": [
    "class Human():\n",
    "    def __init__(self, name, age=20):\n",
    "        \"\"\"\n",
    "            コンストラクタ（初期化）はじめてインスタンスを生成したときに呼び出される\n",
    "        \"\"\"\n",
    "        self.name = name\n",
    "        # 年齢(age)を設定してください\n",
    "        self.age = ___\n",
    "\n",
    "    def greet(self):\n",
    "        \"\"\"\n",
    "            この関数は自分の名前を挨拶を画面に出力します。\n",
    "            例:\n",
    "            こんにちは。私は斎藤です。\n",
    "            クラスの持つ変数にアクセスするときは、`self.変数名`のように書くと、初期化時に設定した変数にアクセスできます。\n",
    "        \"\"\"\n",
    "        # ここにコードを書いてください\n",
    "        ___\n",
    "    \n",
    "# 使用例：Humanクラスのインスタンスを生成\n",
    "saitou = Human('斎藤', 30)\n",
    "saitou.greet()"
   ]
  },
  {
   "attachments": {},
   "cell_type": "markdown",
   "id": "ed461ea3",
   "metadata": {},
   "source": [
    "##  🌶️問9 クラス応用(10点)\n",
    "ブラックジャックの手札を表すクラス`BlackJackHand`を作成してください。\n",
    "\n",
    "このクラスは、次のように手札を表すリストを引数に渡すことで初期化できるようにしてください。\n",
    "\n",
    "```\n",
    "hand = BlackJackHand(['Q', 'A', 4])\n",
    "```\n",
    "\n",
    "さらに比較演算子を使うことで、手札の強さを比較することができるようにしてください。\n",
    "\n",
    "比較演算子は`__gt__`や`__lt__`を使って実装することができます。\n",
    "\n",
    "```\n",
    "hand1 = BlackJackHand(['Q', 'A', 4])\n",
    "hand2 = BlackJackHand([2, 'J', 'A'])\n",
    "hand1 > hand2\n",
    ">>> True\n",
    "```"
   ]
  },
  {
   "cell_type": "code",
   "execution_count": null,
   "id": "f7113283",
   "metadata": {},
   "outputs": [],
   "source": [
    "# ここにコードを書いてください\n",
    "class BlackJackHand:\n",
    "    def __init__(self, hand):\n",
    "        \"\"\"\n",
    "            ブラックジャックの手札を表すクラス\n",
    "            hand - 手札を表すリスト\n",
    "        \"\"\"\n",
    "        self.hand = hand\n",
    "\n",
    "    # 比較演算子をオーバーロードして、手札の合計値を返すメソッドを定義\n",
    "    def __lt__(self, other):\n",
    "        \"\"\"\n",
    "            他の手札と比較して、合計値が小さいかどうかを返す\n",
    "        \"\"\"\n",
    "        return self.get_total() < other.get_total()\n",
    "\n",
    "    def __gt__(self, other):\n",
    "        \"\"\"\n",
    "            他の手札と比較して、合計値が大きいかどうかを返す\n",
    "        \"\"\"\n",
    "        return self.get_total() > other.get_total()\n",
    "    \n",
    "    def get_total(self):\n",
    "        \"\"\"\n",
    "            手札の合計値を計算するメソッド\n",
    "        \"\"\"\n",
    "        total = 0\n",
    "        ace_count = 0\n",
    "        \n",
    "        # ここに手札のリストから合計値を計算する処理を書いてください\n",
    "        \n",
    "        return total"
   ]
  },
  {
   "attachments": {},
   "cell_type": "markdown",
   "id": "e8668e1b",
   "metadata": {},
   "source": [
    "## 問10 バイトデータ(10点)\n",
    "\n",
    "IPアドレス`192.168.3.255`を`bytearray`を使って表現してください。\n",
    "\n",
    "`bytearray`型は次のように、リスト型の値を引数にとって初期化できます。\n",
    "```\n",
    ">>> byteexample = bytearray([0, 1, 2, 3, 100, 200, 255])\n",
    ">>> print(byteexample[4])\n",
    "100\n",
    "```"
   ]
  },
  {
   "cell_type": "code",
   "execution_count": null,
   "id": "42103cc7",
   "metadata": {},
   "outputs": [],
   "source": [
    "# ここにコードを書いてください\n",
    "ip_bytearray = ___"
   ]
  }
 ],
 "metadata": {
  "kernelspec": {
   "display_name": "Python 3",
   "language": "python",
   "name": "python3"
  },
  "language_info": {
   "codemirror_mode": {
    "name": "ipython",
    "version": 3
   },
   "file_extension": ".py",
   "mimetype": "text/x-python",
   "name": "python",
   "nbconvert_exporter": "python",
   "pygments_lexer": "ipython3",
   "version": "3.10.11"
  },
  "papermill": {
   "default_parameters": {},
   "duration": 10.839414,
   "end_time": "2023-02-27T10:09:46.264237",
   "environment_variables": {},
   "exception": null,
   "input_path": "__notebook__.ipynb",
   "output_path": "__notebook__.ipynb",
   "parameters": {},
   "start_time": "2023-02-27T10:09:35.424823",
   "version": "2.3.4"
  }
 },
 "nbformat": 4,
 "nbformat_minor": 5
}
