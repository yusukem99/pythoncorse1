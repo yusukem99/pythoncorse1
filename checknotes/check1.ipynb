{
 "cells": [
  {
   "cell_type": "markdown",
   "id": "35756705",
   "metadata": {},
   "source": [
    "# 第一回理解度確認"
   ]
  },
  {
   "cell_type": "markdown",
   "id": "616719b1",
   "metadata": {},
   "source": [
    "## 問1「コードセル」を下に作成してください。"
   ]
  },
  {
   "cell_type": "markdown",
   "id": "94ff68c3",
   "metadata": {},
   "source": [
    "## 問2 作成したコードセルを削除してください。"
   ]
  },
  {
   "cell_type": "markdown",
   "id": "0f8f2d10",
   "metadata": {},
   "source": [
    "## 問3 コードセルを作成し、選択してください。選択したら、\"print('Hello World')\"と入力してください。"
   ]
  },
  {
   "cell_type": "markdown",
   "id": "27ada873",
   "metadata": {},
   "source": [
    "## 問4 新しくコードセルを作成し、問3で作成したコードセルの内容を`Ctrl + C`でコピーし、`Ctrl + V`で貼り付けてください。"
   ]
  },
  {
   "cell_type": "markdown",
   "id": "955a233e",
   "metadata": {},
   "source": [
    "## 問5 新しくコードセルを作成し、変数`var`に`1`を代入してください。"
   ]
  },
  {
   "cell_type": "markdown",
   "id": "3cb0abb7",
   "metadata": {},
   "source": [
    "## 問6 コメントで指示する変数を作成してください。"
   ]
  },
  {
   "cell_type": "code",
   "execution_count": null,
   "id": "718beeea",
   "metadata": {},
   "outputs": [],
   "source": [
    "# 1分間に生まれる子供の数（250人）birth_per_minute\n",
    "\n",
    "# 一時間を分で表す数（60分）minutes_per_hour\n",
    "\n",
    "# 1時間に生まれる子供の数birth_per_hour"
   ]
  }
 ],
 "metadata": {
  "kernelspec": {
   "display_name": "Python 3",
   "language": "python",
   "name": "python3"
  },
  "language_info": {
   "codemirror_mode": {
    "name": "ipython",
    "version": 3
   },
   "file_extension": ".py",
   "mimetype": "text/x-python",
   "name": "python",
   "nbconvert_exporter": "python",
   "pygments_lexer": "ipython3",
   "version": "3.10.11"
  },
  "papermill": {
   "default_parameters": {},
   "duration": 10.839414,
   "end_time": "2023-02-27T10:09:46.264237",
   "environment_variables": {},
   "exception": null,
   "input_path": "__notebook__.ipynb",
   "output_path": "__notebook__.ipynb",
   "parameters": {},
   "start_time": "2023-02-27T10:09:35.424823",
   "version": "2.3.4"
  }
 },
 "nbformat": 4,
 "nbformat_minor": 5
}
