{
 "cells": [
  {
   "cell_type": "markdown",
   "id": "6a1d51a4",
   "metadata": {
    "papermill": {
     "duration": 0.011907,
     "end_time": "2022-12-13T08:07:40.075825",
     "exception": false,
     "start_time": "2022-12-13T08:07:40.063918",
     "status": "completed"
    },
    "tags": []
   },
   "source": [
    "# 破壊/非破壊メソッド"
   ]
  },
  {
   "cell_type": "code",
   "execution_count": 1,
   "id": "dcb5d9a0",
   "metadata": {
    "execution": {
     "iopub.execute_input": "2022-12-13T08:07:40.100202Z",
     "iopub.status.busy": "2022-12-13T08:07:40.098563Z",
     "iopub.status.idle": "2022-12-13T08:07:40.116637Z",
     "shell.execute_reply": "2022-12-13T08:07:40.114994Z"
    },
    "papermill": {
     "duration": 0.033655,
     "end_time": "2022-12-13T08:07:40.120230",
     "exception": false,
     "start_time": "2022-12-13T08:07:40.086575",
     "status": "completed"
    },
    "tags": []
   },
   "outputs": [
    {
     "name": "stdout",
     "output_type": "stream",
     "text": [
      "alphabets:  ['A', 'B', 'C', 'D', 'E', 'F', 'G', 'H', 'I', 'J', 'K', 'L', 'M', 'N', 'O', 'P', 'Q', 'R', 'S', 'T', 'U', 'V', 'W', 'X', 'Y', 'Z']\n",
      "alphabets:  ['N', 'B', 'R', 'Y', 'G', 'D', 'C', 'Z', 'Q', 'A', 'E', 'W', 'M', 'O', 'P', 'F', 'V', 'J', 'L', 'I', 'K', 'U', 'S', 'T', 'H', 'X']\n"
     ]
    }
   ],
   "source": [
    "import string\n",
    "import random\n",
    "alphabets = [ char for char in string.ascii_uppercase ]\n",
    "print('alphabets: ', alphabets)\n",
    "random.shuffle(alphabets)\n",
    "print('alphabets: ', alphabets)"
   ]
  },
  {
   "cell_type": "code",
   "execution_count": 2,
   "id": "b7f8fe25",
   "metadata": {
    "execution": {
     "iopub.execute_input": "2022-12-13T08:07:40.147121Z",
     "iopub.status.busy": "2022-12-13T08:07:40.145823Z",
     "iopub.status.idle": "2022-12-13T08:07:40.156713Z",
     "shell.execute_reply": "2022-12-13T08:07:40.155507Z"
    },
    "papermill": {
     "duration": 0.028598,
     "end_time": "2022-12-13T08:07:40.159664",
     "exception": false,
     "start_time": "2022-12-13T08:07:40.131066",
     "status": "completed"
    },
    "tags": []
   },
   "outputs": [
    {
     "data": {
      "text/plain": [
       "'ABCDEFGHIJKLMNOPQRSTUVWXYZ'"
      ]
     },
     "execution_count": 2,
     "metadata": {},
     "output_type": "execute_result"
    }
   ],
   "source": [
    "string.ascii_uppercase"
   ]
  },
  {
   "cell_type": "code",
   "execution_count": 3,
   "id": "4f219b82",
   "metadata": {
    "execution": {
     "iopub.execute_input": "2022-12-13T08:07:40.186023Z",
     "iopub.status.busy": "2022-12-13T08:07:40.184689Z",
     "iopub.status.idle": "2022-12-13T08:07:40.192564Z",
     "shell.execute_reply": "2022-12-13T08:07:40.190800Z"
    },
    "papermill": {
     "duration": 0.024131,
     "end_time": "2022-12-13T08:07:40.195770",
     "exception": false,
     "start_time": "2022-12-13T08:07:40.171639",
     "status": "completed"
    },
    "tags": []
   },
   "outputs": [
    {
     "name": "stdout",
     "output_type": "stream",
     "text": [
      "alphabets:  ['N', 'B', 'R', 'Y', 'G', 'D', 'C', 'Z', 'Q', 'A', 'E', 'W', 'M', 'O', 'P', 'F', 'V', 'J', 'L', 'I', 'K', 'U', 'S', 'T', 'H', 'X']\n"
     ]
    }
   ],
   "source": [
    "sorted_alphabets = sorted(alphabets)\n",
    "print('alphabets: ', alphabets)"
   ]
  },
  {
   "cell_type": "code",
   "execution_count": 4,
   "id": "a2c827b7",
   "metadata": {
    "execution": {
     "iopub.execute_input": "2022-12-13T08:07:40.219857Z",
     "iopub.status.busy": "2022-12-13T08:07:40.219374Z",
     "iopub.status.idle": "2022-12-13T08:07:40.226829Z",
     "shell.execute_reply": "2022-12-13T08:07:40.225207Z"
    },
    "papermill": {
     "duration": 0.022477,
     "end_time": "2022-12-13T08:07:40.229361",
     "exception": false,
     "start_time": "2022-12-13T08:07:40.206884",
     "status": "completed"
    },
    "tags": []
   },
   "outputs": [
    {
     "name": "stdout",
     "output_type": "stream",
     "text": [
      "alphabets:  ['A', 'B', 'C', 'D', 'E', 'F', 'G', 'H', 'I', 'J', 'K', 'L', 'M', 'N', 'O', 'P', 'Q', 'R', 'S', 'T', 'U', 'V', 'W', 'X', 'Y', 'Z']\n"
     ]
    }
   ],
   "source": [
    "alphabets.sort()\n",
    "print('alphabets: ', alphabets)"
   ]
  },
  {
   "cell_type": "code",
   "execution_count": 5,
   "id": "c4c1b182",
   "metadata": {
    "execution": {
     "iopub.execute_input": "2022-12-13T08:07:40.253628Z",
     "iopub.status.busy": "2022-12-13T08:07:40.252827Z",
     "iopub.status.idle": "2022-12-13T08:07:40.259527Z",
     "shell.execute_reply": "2022-12-13T08:07:40.258385Z"
    },
    "papermill": {
     "duration": 0.02171,
     "end_time": "2022-12-13T08:07:40.262113",
     "exception": false,
     "start_time": "2022-12-13T08:07:40.240403",
     "status": "completed"
    },
    "tags": []
   },
   "outputs": [],
   "source": [
    "def purple_shell_destructive(racers):\n",
    "    a = racers[0]\n",
    "    racers[0] = racers[-1]\n",
    "    racers[-1] = a"
   ]
  },
  {
   "cell_type": "code",
   "execution_count": 6,
   "id": "5712c14e",
   "metadata": {
    "execution": {
     "iopub.execute_input": "2022-12-13T08:07:40.286391Z",
     "iopub.status.busy": "2022-12-13T08:07:40.285874Z",
     "iopub.status.idle": "2022-12-13T08:07:40.292531Z",
     "shell.execute_reply": "2022-12-13T08:07:40.291324Z"
    },
    "papermill": {
     "duration": 0.022223,
     "end_time": "2022-12-13T08:07:40.295033",
     "exception": false,
     "start_time": "2022-12-13T08:07:40.272810",
     "status": "completed"
    },
    "tags": []
   },
   "outputs": [],
   "source": [
    "def purple_shell_undestructive(racers):\n",
    "    copy_racers = racers.copy()\n",
    "    a = copy_racers[0]\n",
    "    copy_racers[0] = copy_racers[-1]\n",
    "    copy_racers[-1] = a\n",
    "    return copy_racers"
   ]
  },
  {
   "cell_type": "code",
   "execution_count": 7,
   "id": "1ff1daea",
   "metadata": {
    "execution": {
     "iopub.execute_input": "2022-12-13T08:07:40.318165Z",
     "iopub.status.busy": "2022-12-13T08:07:40.317667Z",
     "iopub.status.idle": "2022-12-13T08:07:40.333251Z",
     "shell.execute_reply": "2022-12-13T08:07:40.331916Z"
    },
    "papermill": {
     "duration": 0.030708,
     "end_time": "2022-12-13T08:07:40.336025",
     "exception": false,
     "start_time": "2022-12-13T08:07:40.305317",
     "status": "completed"
    },
    "tags": []
   },
   "outputs": [
    {
     "name": "stdout",
     "output_type": "stream",
     "text": [
      "original: ['Mario', 'Bowser', 'Luigi']\n",
      "changed: ['Luigi', 'Bowser', 'Mario']\n"
     ]
    }
   ],
   "source": [
    "original = [\"Mario\", \"Bowser\", \"Luigi\"]\n",
    "changed = purple_shell_undestructive(original)\n",
    "print('original: {}'.format(original) )\n",
    "print('changed: {}'.format(changed) )"
   ]
  },
  {
   "cell_type": "markdown",
   "id": "c5083569",
   "metadata": {
    "papermill": {
     "duration": 0.012374,
     "end_time": "2022-12-13T08:07:40.359928",
     "exception": false,
     "start_time": "2022-12-13T08:07:40.347554",
     "status": "completed"
    },
    "tags": []
   },
   "source": [
    "# 関数を呼び出す関数"
   ]
  },
  {
   "cell_type": "markdown",
   "id": "8401e941",
   "metadata": {
    "papermill": {
     "duration": 0.010631,
     "end_time": "2022-12-13T08:07:40.381772",
     "exception": false,
     "start_time": "2022-12-13T08:07:40.371141",
     "status": "completed"
    },
    "tags": []
   },
   "source": [
    "## 5と引数xをかけた数を返す関数"
   ]
  },
  {
   "cell_type": "code",
   "execution_count": 8,
   "id": "cc656219",
   "metadata": {
    "execution": {
     "iopub.execute_input": "2022-12-13T08:07:40.405972Z",
     "iopub.status.busy": "2022-12-13T08:07:40.405485Z",
     "iopub.status.idle": "2022-12-13T08:07:40.411469Z",
     "shell.execute_reply": "2022-12-13T08:07:40.410220Z"
    },
    "papermill": {
     "duration": 0.021589,
     "end_time": "2022-12-13T08:07:40.414120",
     "exception": false,
     "start_time": "2022-12-13T08:07:40.392531",
     "status": "completed"
    },
    "tags": []
   },
   "outputs": [],
   "source": [
    "def mult_by_five(x):\n",
    "    return 5 * x"
   ]
  },
  {
   "cell_type": "markdown",
   "id": "c709481f",
   "metadata": {
    "papermill": {
     "duration": 0.011147,
     "end_time": "2022-12-13T08:07:40.436858",
     "exception": false,
     "start_time": "2022-12-13T08:07:40.425711",
     "status": "completed"
    },
    "tags": []
   },
   "source": [
    "## mult_by_fiveを()をつけずに、type関数で型を確認"
   ]
  },
  {
   "cell_type": "code",
   "execution_count": 9,
   "id": "16ed3a29",
   "metadata": {
    "execution": {
     "iopub.execute_input": "2022-12-13T08:07:40.461038Z",
     "iopub.status.busy": "2022-12-13T08:07:40.460609Z",
     "iopub.status.idle": "2022-12-13T08:07:40.467869Z",
     "shell.execute_reply": "2022-12-13T08:07:40.466550Z"
    },
    "papermill": {
     "duration": 0.022521,
     "end_time": "2022-12-13T08:07:40.470333",
     "exception": false,
     "start_time": "2022-12-13T08:07:40.447812",
     "status": "completed"
    },
    "tags": []
   },
   "outputs": [
    {
     "data": {
      "text/plain": [
       "function"
      ]
     },
     "execution_count": 9,
     "metadata": {},
     "output_type": "execute_result"
    }
   ],
   "source": [
    "type(mult_by_five)"
   ]
  },
  {
   "cell_type": "markdown",
   "id": "8370921d",
   "metadata": {
    "papermill": {
     "duration": 0.011232,
     "end_time": "2022-12-13T08:07:40.493204",
     "exception": false,
     "start_time": "2022-12-13T08:07:40.481972",
     "status": "completed"
    },
    "tags": []
   },
   "source": [
    "## 関数の引数に関数（fn)をうける"
   ]
  },
  {
   "cell_type": "markdown",
   "id": "85ebe064",
   "metadata": {
    "papermill": {
     "duration": 0.01095,
     "end_time": "2022-12-13T08:07:40.515615",
     "exception": false,
     "start_time": "2022-12-13T08:07:40.504665",
     "status": "completed"
    },
    "tags": []
   },
   "source": [
    "argument 引数"
   ]
  },
  {
   "cell_type": "code",
   "execution_count": 10,
   "id": "8ee157c0",
   "metadata": {
    "execution": {
     "iopub.execute_input": "2022-12-13T08:07:40.539827Z",
     "iopub.status.busy": "2022-12-13T08:07:40.539362Z",
     "iopub.status.idle": "2022-12-13T08:07:40.545611Z",
     "shell.execute_reply": "2022-12-13T08:07:40.544304Z"
    },
    "papermill": {
     "duration": 0.021709,
     "end_time": "2022-12-13T08:07:40.548134",
     "exception": false,
     "start_time": "2022-12-13T08:07:40.526425",
     "status": "completed"
    },
    "tags": []
   },
   "outputs": [],
   "source": [
    "def call(fn, arg):\n",
    "    return fn(arg)"
   ]
  },
  {
   "cell_type": "code",
   "execution_count": 11,
   "id": "c4520a72",
   "metadata": {
    "execution": {
     "iopub.execute_input": "2022-12-13T08:07:40.573650Z",
     "iopub.status.busy": "2022-12-13T08:07:40.573070Z",
     "iopub.status.idle": "2022-12-13T08:07:40.580763Z",
     "shell.execute_reply": "2022-12-13T08:07:40.579678Z"
    },
    "papermill": {
     "duration": 0.023404,
     "end_time": "2022-12-13T08:07:40.583322",
     "exception": false,
     "start_time": "2022-12-13T08:07:40.559918",
     "status": "completed"
    },
    "tags": []
   },
   "outputs": [
    {
     "data": {
      "text/plain": [
       "50"
      ]
     },
     "execution_count": 11,
     "metadata": {},
     "output_type": "execute_result"
    }
   ],
   "source": [
    "call(mult_by_five, 10)"
   ]
  },
  {
   "cell_type": "markdown",
   "id": "c50aaf3a",
   "metadata": {
    "papermill": {
     "duration": 0.010428,
     "end_time": "2022-12-13T08:07:40.605198",
     "exception": false,
     "start_time": "2022-12-13T08:07:40.594770",
     "status": "completed"
    },
    "tags": []
   },
   "source": [
    "## さらに複雑な例"
   ]
  },
  {
   "cell_type": "markdown",
   "id": "9ca000da",
   "metadata": {
    "papermill": {
     "duration": 0.010201,
     "end_time": "2022-12-13T08:07:40.626194",
     "exception": false,
     "start_time": "2022-12-13T08:07:40.615993",
     "status": "completed"
    },
    "tags": []
   },
   "source": [
    "square:二乗"
   ]
  },
  {
   "cell_type": "code",
   "execution_count": 12,
   "id": "96d18c93",
   "metadata": {
    "execution": {
     "iopub.execute_input": "2022-12-13T08:07:40.649571Z",
     "iopub.status.busy": "2022-12-13T08:07:40.649084Z",
     "iopub.status.idle": "2022-12-13T08:07:40.658746Z",
     "shell.execute_reply": "2022-12-13T08:07:40.657206Z"
    },
    "papermill": {
     "duration": 0.02449,
     "end_time": "2022-12-13T08:07:40.661411",
     "exception": false,
     "start_time": "2022-12-13T08:07:40.636921",
     "status": "completed"
    },
    "tags": []
   },
   "outputs": [
    {
     "name": "stdout",
     "output_type": "stream",
     "text": [
      "5\n",
      "25\n"
     ]
    }
   ],
   "source": [
    "def mult_by_five(x):\n",
    "    return 5 * x\n",
    "\n",
    "def call(fn, arg):\n",
    "    \"\"\"Call fn on arg\"\"\"\n",
    "    return fn(arg)\n",
    "\n",
    "def squared_call(fn, arg):\n",
    "    \"\"\"Call fn on the result of calling fn on arg\"\"\"\n",
    "    return fn(fn(arg))\n",
    "\n",
    "print(\n",
    "    call(mult_by_five, 1),\n",
    "    squared_call(mult_by_five, 1), \n",
    "    sep='\\n', # '\\n' is the newline character - it starts a new line\n",
    ")"
   ]
  },
  {
   "cell_type": "markdown",
   "id": "2434c600",
   "metadata": {
    "papermill": {
     "duration": 0.011433,
     "end_time": "2022-12-13T08:07:40.683964",
     "exception": false,
     "start_time": "2022-12-13T08:07:40.672531",
     "status": "completed"
    },
    "tags": []
   },
   "source": [
    "# スコープ"
   ]
  },
  {
   "cell_type": "markdown",
   "id": "2bc244f1",
   "metadata": {
    "papermill": {
     "duration": 0.010876,
     "end_time": "2022-12-13T08:07:40.706237",
     "exception": false,
     "start_time": "2022-12-13T08:07:40.695361",
     "status": "completed"
    },
    "tags": []
   },
   "source": [
    "## 関数内で宣言された変数"
   ]
  },
  {
   "cell_type": "code",
   "execution_count": 13,
   "id": "946c57b5",
   "metadata": {
    "_cell_guid": "b1076dfc-b9ad-4769-8c92-a6c4dae69d19",
    "_uuid": "8f2839f25d086af736a60e9eeb907d3b93b6e0e5",
    "execution": {
     "iopub.execute_input": "2022-12-13T08:07:40.730680Z",
     "iopub.status.busy": "2022-12-13T08:07:40.729762Z",
     "iopub.status.idle": "2022-12-13T08:07:40.736435Z",
     "shell.execute_reply": "2022-12-13T08:07:40.735404Z"
    },
    "papermill": {
     "duration": 0.021881,
     "end_time": "2022-12-13T08:07:40.739217",
     "exception": false,
     "start_time": "2022-12-13T08:07:40.717336",
     "status": "completed"
    },
    "tags": []
   },
   "outputs": [
    {
     "name": "stdout",
     "output_type": "stream",
     "text": [
      "val_in_func=100\n"
     ]
    }
   ],
   "source": [
    "def print_val_in_func():\n",
    "    val_in_func = '100'\n",
    "    print(\"val_in_func={}\".format(val_in_func))\n",
    "\n",
    "print_val_in_func()\n",
    "#print(val_in_func)"
   ]
  },
  {
   "cell_type": "markdown",
   "id": "40ed37ff",
   "metadata": {
    "papermill": {
     "duration": 0.011139,
     "end_time": "2022-12-13T08:07:40.761562",
     "exception": false,
     "start_time": "2022-12-13T08:07:40.750423",
     "status": "completed"
    },
    "tags": []
   },
   "source": [
    "## if/for文の中で宣言された変数"
   ]
  },
  {
   "cell_type": "code",
   "execution_count": 14,
   "id": "841dbdbe",
   "metadata": {
    "execution": {
     "iopub.execute_input": "2022-12-13T08:07:40.786095Z",
     "iopub.status.busy": "2022-12-13T08:07:40.785579Z",
     "iopub.status.idle": "2022-12-13T08:07:40.791979Z",
     "shell.execute_reply": "2022-12-13T08:07:40.790984Z"
    },
    "papermill": {
     "duration": 0.021329,
     "end_time": "2022-12-13T08:07:40.794457",
     "exception": false,
     "start_time": "2022-12-13T08:07:40.773128",
     "status": "completed"
    },
    "tags": []
   },
   "outputs": [
    {
     "name": "stdout",
     "output_type": "stream",
     "text": [
      "ok\n"
     ]
    }
   ],
   "source": [
    "if 1 == True:\n",
    "    var_in_if = 'ok'\n",
    "    \n",
    "print(var_in_if)"
   ]
  },
  {
   "cell_type": "code",
   "execution_count": 15,
   "id": "e2d69c45",
   "metadata": {
    "execution": {
     "iopub.execute_input": "2022-12-13T08:07:40.819758Z",
     "iopub.status.busy": "2022-12-13T08:07:40.818307Z",
     "iopub.status.idle": "2022-12-13T08:07:40.826538Z",
     "shell.execute_reply": "2022-12-13T08:07:40.825138Z"
    },
    "papermill": {
     "duration": 0.024117,
     "end_time": "2022-12-13T08:07:40.829769",
     "exception": false,
     "start_time": "2022-12-13T08:07:40.805652",
     "status": "completed"
    },
    "tags": []
   },
   "outputs": [
    {
     "name": "stdout",
     "output_type": "stream",
     "text": [
      "val_in_for=0\n",
      "val_in_for=1\n",
      "val_in_for=2\n",
      "for文の外\n",
      "val_in_for=2\n"
     ]
    }
   ],
   "source": [
    "for i in range(3):\n",
    "    var_in_for = i\n",
    "    print(\"val_in_for={}\".format(var_in_for))\n",
    "    \n",
    "print(\"for文の外\")\n",
    "print(\"val_in_for={}\".format(var_in_for))"
   ]
  },
  {
   "cell_type": "markdown",
   "id": "2633faa8",
   "metadata": {
    "papermill": {
     "duration": 0.012814,
     "end_time": "2022-12-13T08:07:40.855334",
     "exception": false,
     "start_time": "2022-12-13T08:07:40.842520",
     "status": "completed"
    },
    "tags": []
   },
   "source": [
    "## スコープ外の変数の更新はできない "
   ]
  },
  {
   "cell_type": "code",
   "execution_count": 16,
   "id": "1c7b1f74",
   "metadata": {
    "execution": {
     "iopub.execute_input": "2022-12-13T08:07:40.881197Z",
     "iopub.status.busy": "2022-12-13T08:07:40.880053Z",
     "iopub.status.idle": "2022-12-13T08:07:40.887202Z",
     "shell.execute_reply": "2022-12-13T08:07:40.885790Z"
    },
    "papermill": {
     "duration": 0.022711,
     "end_time": "2022-12-13T08:07:40.889877",
     "exception": false,
     "start_time": "2022-12-13T08:07:40.867166",
     "status": "completed"
    },
    "tags": []
   },
   "outputs": [],
   "source": [
    "num = 50\n",
    "\n",
    "def add_10_to_num():\n",
    "    num = num + 10\n",
    "    print(num)\n",
    "    \n",
    "#add_10_to_num()"
   ]
  },
  {
   "cell_type": "markdown",
   "id": "ec26dd4a",
   "metadata": {
    "papermill": {
     "duration": 0.010905,
     "end_time": "2022-12-13T08:07:40.912657",
     "exception": false,
     "start_time": "2022-12-13T08:07:40.901752",
     "status": "completed"
    },
    "tags": []
   },
   "source": [
    "## bad practice"
   ]
  },
  {
   "cell_type": "code",
   "execution_count": 17,
   "id": "71b78519",
   "metadata": {
    "execution": {
     "iopub.execute_input": "2022-12-13T08:07:40.936933Z",
     "iopub.status.busy": "2022-12-13T08:07:40.936445Z",
     "iopub.status.idle": "2022-12-13T08:07:40.943544Z",
     "shell.execute_reply": "2022-12-13T08:07:40.942037Z"
    },
    "papermill": {
     "duration": 0.022933,
     "end_time": "2022-12-13T08:07:40.946571",
     "exception": false,
     "start_time": "2022-12-13T08:07:40.923638",
     "status": "completed"
    },
    "tags": []
   },
   "outputs": [
    {
     "name": "stdout",
     "output_type": "stream",
     "text": [
      "20\n"
     ]
    }
   ],
   "source": [
    "\n",
    "global_num = 10\n",
    "\n",
    "def add_10_to_golobal_num():\n",
    "    global global_num\n",
    "    global_num = global_num + 10\n",
    "    print(global_num)\n",
    "    \n",
    "add_10_to_golobal_num()"
   ]
  },
  {
   "cell_type": "markdown",
   "id": "77874b9e",
   "metadata": {
    "papermill": {
     "duration": 0.011886,
     "end_time": "2022-12-13T08:07:40.970064",
     "exception": false,
     "start_time": "2022-12-13T08:07:40.958178",
     "status": "completed"
    },
    "tags": []
   },
   "source": [
    "# クラス\n",
    "## オブジェクトを作り出すための設計図"
   ]
  },
  {
   "cell_type": "markdown",
   "id": "c75d8661",
   "metadata": {
    "papermill": {
     "duration": 0.01124,
     "end_time": "2022-12-13T08:07:40.993113",
     "exception": false,
     "start_time": "2022-12-13T08:07:40.981873",
     "status": "completed"
    },
    "tags": []
   },
   "source": [
    "## 変数と関数"
   ]
  },
  {
   "cell_type": "code",
   "execution_count": 18,
   "id": "77959881",
   "metadata": {
    "execution": {
     "iopub.execute_input": "2022-12-13T08:07:41.019385Z",
     "iopub.status.busy": "2022-12-13T08:07:41.018905Z",
     "iopub.status.idle": "2022-12-13T08:07:41.024601Z",
     "shell.execute_reply": "2022-12-13T08:07:41.023140Z"
    },
    "papermill": {
     "duration": 0.022254,
     "end_time": "2022-12-13T08:07:41.027052",
     "exception": false,
     "start_time": "2022-12-13T08:07:41.004798",
     "status": "completed"
    },
    "tags": []
   },
   "outputs": [],
   "source": [
    "value = 10"
   ]
  },
  {
   "cell_type": "code",
   "execution_count": 19,
   "id": "3983efd2",
   "metadata": {
    "execution": {
     "iopub.execute_input": "2022-12-13T08:07:41.054440Z",
     "iopub.status.busy": "2022-12-13T08:07:41.052866Z",
     "iopub.status.idle": "2022-12-13T08:07:41.059537Z",
     "shell.execute_reply": "2022-12-13T08:07:41.058418Z"
    },
    "papermill": {
     "duration": 0.022735,
     "end_time": "2022-12-13T08:07:41.062023",
     "exception": false,
     "start_time": "2022-12-13T08:07:41.039288",
     "status": "completed"
    },
    "tags": []
   },
   "outputs": [],
   "source": [
    "def greet(self):\n",
    "    \"\"\"\n",
    "        この関数は挨拶を画面に出力します。\n",
    "    \"\"\"\n",
    "    message = 'こんにちは。私は{}です。'.format(self.name)\n",
    "    print(message)"
   ]
  },
  {
   "cell_type": "markdown",
   "id": "7f3cd7b3",
   "metadata": {
    "papermill": {
     "duration": 0.011152,
     "end_time": "2022-12-13T08:07:41.084925",
     "exception": false,
     "start_time": "2022-12-13T08:07:41.073773",
     "status": "completed"
    },
    "tags": []
   },
   "source": [
    "## プロパティとメソッド"
   ]
  },
  {
   "cell_type": "code",
   "execution_count": 20,
   "id": "5fffac79",
   "metadata": {
    "execution": {
     "iopub.execute_input": "2022-12-13T08:07:41.111080Z",
     "iopub.status.busy": "2022-12-13T08:07:41.110559Z",
     "iopub.status.idle": "2022-12-13T08:07:41.118666Z",
     "shell.execute_reply": "2022-12-13T08:07:41.117526Z"
    },
    "papermill": {
     "duration": 0.025104,
     "end_time": "2022-12-13T08:07:41.121721",
     "exception": false,
     "start_time": "2022-12-13T08:07:41.096617",
     "status": "completed"
    },
    "tags": []
   },
   "outputs": [],
   "source": [
    "class Human():\n",
    "    def __init__(self, name, age=20):\n",
    "        \"\"\"\n",
    "            コンストラクタ（初期化）はじめてインスタンスを生成したときに呼び出される\n",
    "            プロパティの定義\n",
    "            プロパティ=オブジェクトのもつ変数\n",
    "        \"\"\"\n",
    "        self.name = name\n",
    "        self.age = age\n",
    "    def greet(self):\n",
    "        \"\"\"\n",
    "            メソッドの定義\n",
    "            メソッド=オブジェクトのもつ関数\n",
    "            この関数は挨拶を画面に出力します。\n",
    "        \"\"\"\n",
    "        message = 'こんにちは。私は{}です。'.format(self.name)\n",
    "        print(message)\n",
    "    def __gt__(self, human):\n",
    "        print('年齢を比較します。(__gt__)')\n",
    "        return self.age > human.age\n",
    "    def __lt__(self, human):\n",
    "        print('年齢を比較します。(__lt__)')\n",
    "        return self.age < human.age    "
   ]
  },
  {
   "cell_type": "markdown",
   "id": "8b92c1a2",
   "metadata": {
    "papermill": {
     "duration": 0.011864,
     "end_time": "2022-12-13T08:07:41.145914",
     "exception": false,
     "start_time": "2022-12-13T08:07:41.134050",
     "status": "completed"
    },
    "tags": []
   },
   "source": [
    "gt = greater than\n",
    "\n",
    "lt = less than"
   ]
  },
  {
   "cell_type": "code",
   "execution_count": 21,
   "id": "a06f52b0",
   "metadata": {
    "execution": {
     "iopub.execute_input": "2022-12-13T08:07:41.170848Z",
     "iopub.status.busy": "2022-12-13T08:07:41.170452Z",
     "iopub.status.idle": "2022-12-13T08:07:41.175979Z",
     "shell.execute_reply": "2022-12-13T08:07:41.174609Z"
    },
    "papermill": {
     "duration": 0.021086,
     "end_time": "2022-12-13T08:07:41.178429",
     "exception": false,
     "start_time": "2022-12-13T08:07:41.157343",
     "status": "completed"
    },
    "tags": []
   },
   "outputs": [],
   "source": [
    "mitsuya = Human('mitsuya')\n",
    "tanaka = Human('tanaka', 18)\n",
    "matsui = Human('matsui', 18)\n",
    "saitou = Human('saitou', 30)"
   ]
  },
  {
   "cell_type": "markdown",
   "id": "d3d15cd5",
   "metadata": {
    "papermill": {
     "duration": 0.010744,
     "end_time": "2022-12-13T08:07:41.200616",
     "exception": false,
     "start_time": "2022-12-13T08:07:41.189872",
     "status": "completed"
    },
    "tags": []
   },
   "source": [
    "## メソッド（クラスのもつ関数）"
   ]
  },
  {
   "cell_type": "code",
   "execution_count": 22,
   "id": "aafe1f08",
   "metadata": {
    "execution": {
     "iopub.execute_input": "2022-12-13T08:07:41.225924Z",
     "iopub.status.busy": "2022-12-13T08:07:41.224373Z",
     "iopub.status.idle": "2022-12-13T08:07:41.232591Z",
     "shell.execute_reply": "2022-12-13T08:07:41.230656Z"
    },
    "papermill": {
     "duration": 0.023808,
     "end_time": "2022-12-13T08:07:41.235555",
     "exception": false,
     "start_time": "2022-12-13T08:07:41.211747",
     "status": "completed"
    },
    "tags": []
   },
   "outputs": [
    {
     "name": "stdout",
     "output_type": "stream",
     "text": [
      "こんにちは。私はmitsuyaです。\n"
     ]
    }
   ],
   "source": [
    "mitsuya.greet()"
   ]
  },
  {
   "cell_type": "code",
   "execution_count": 23,
   "id": "43e834ae",
   "metadata": {
    "execution": {
     "iopub.execute_input": "2022-12-13T08:07:41.259875Z",
     "iopub.status.busy": "2022-12-13T08:07:41.259467Z",
     "iopub.status.idle": "2022-12-13T08:07:41.265713Z",
     "shell.execute_reply": "2022-12-13T08:07:41.264029Z"
    },
    "papermill": {
     "duration": 0.022239,
     "end_time": "2022-12-13T08:07:41.269033",
     "exception": false,
     "start_time": "2022-12-13T08:07:41.246794",
     "status": "completed"
    },
    "tags": []
   },
   "outputs": [
    {
     "name": "stdout",
     "output_type": "stream",
     "text": [
      "こんにちは。私はtanakaです。\n"
     ]
    }
   ],
   "source": [
    "tanaka.greet()"
   ]
  },
  {
   "cell_type": "markdown",
   "id": "0436062c",
   "metadata": {
    "papermill": {
     "duration": 0.011986,
     "end_time": "2022-12-13T08:07:41.293415",
     "exception": false,
     "start_time": "2022-12-13T08:07:41.281429",
     "status": "completed"
    },
    "tags": []
   },
   "source": [
    "## プロパティの参照（クラスのもつ変数）"
   ]
  },
  {
   "cell_type": "code",
   "execution_count": 24,
   "id": "595383e2",
   "metadata": {
    "execution": {
     "iopub.execute_input": "2022-12-13T08:07:41.319237Z",
     "iopub.status.busy": "2022-12-13T08:07:41.318730Z",
     "iopub.status.idle": "2022-12-13T08:07:41.325443Z",
     "shell.execute_reply": "2022-12-13T08:07:41.324252Z"
    },
    "papermill": {
     "duration": 0.02263,
     "end_time": "2022-12-13T08:07:41.328215",
     "exception": false,
     "start_time": "2022-12-13T08:07:41.305585",
     "status": "completed"
    },
    "tags": []
   },
   "outputs": [
    {
     "name": "stdout",
     "output_type": "stream",
     "text": [
      "mitsuyaの年齢: 20\n"
     ]
    }
   ],
   "source": [
    "print(\"mitsuyaの年齢: {}\".format(mitsuya.age) )"
   ]
  },
  {
   "cell_type": "code",
   "execution_count": 25,
   "id": "76fa31ad",
   "metadata": {
    "execution": {
     "iopub.execute_input": "2022-12-13T08:07:41.353472Z",
     "iopub.status.busy": "2022-12-13T08:07:41.353011Z",
     "iopub.status.idle": "2022-12-13T08:07:41.360066Z",
     "shell.execute_reply": "2022-12-13T08:07:41.358418Z"
    },
    "papermill": {
     "duration": 0.022573,
     "end_time": "2022-12-13T08:07:41.362426",
     "exception": false,
     "start_time": "2022-12-13T08:07:41.339853",
     "status": "completed"
    },
    "tags": []
   },
   "outputs": [
    {
     "name": "stdout",
     "output_type": "stream",
     "text": [
      "tanakaの年齢: 18\n"
     ]
    }
   ],
   "source": [
    "print(\"tanakaの年齢: {}\".format(tanaka.age) )"
   ]
  },
  {
   "cell_type": "code",
   "execution_count": 26,
   "id": "5b774f2e",
   "metadata": {
    "execution": {
     "iopub.execute_input": "2022-12-13T08:07:41.387899Z",
     "iopub.status.busy": "2022-12-13T08:07:41.387093Z",
     "iopub.status.idle": "2022-12-13T08:07:41.394734Z",
     "shell.execute_reply": "2022-12-13T08:07:41.392620Z"
    },
    "papermill": {
     "duration": 0.02433,
     "end_time": "2022-12-13T08:07:41.398185",
     "exception": false,
     "start_time": "2022-12-13T08:07:41.373855",
     "status": "completed"
    },
    "tags": []
   },
   "outputs": [
    {
     "name": "stdout",
     "output_type": "stream",
     "text": [
      "Help on function greet in module __main__:\n",
      "\n",
      "greet(self)\n",
      "    この関数は挨拶を画面に出力します。\n",
      "\n"
     ]
    }
   ],
   "source": [
    "help(greet)"
   ]
  },
  {
   "cell_type": "code",
   "execution_count": 27,
   "id": "7facd277",
   "metadata": {
    "execution": {
     "iopub.execute_input": "2022-12-13T08:07:41.425574Z",
     "iopub.status.busy": "2022-12-13T08:07:41.424516Z",
     "iopub.status.idle": "2022-12-13T08:07:41.431811Z",
     "shell.execute_reply": "2022-12-13T08:07:41.430127Z"
    },
    "papermill": {
     "duration": 0.023541,
     "end_time": "2022-12-13T08:07:41.434602",
     "exception": false,
     "start_time": "2022-12-13T08:07:41.411061",
     "status": "completed"
    },
    "tags": []
   },
   "outputs": [
    {
     "name": "stdout",
     "output_type": "stream",
     "text": [
      "Help on method greet in module __main__:\n",
      "\n",
      "greet() method of __main__.Human instance\n",
      "    メソッドの定義\n",
      "    メソッド=オブジェクトのもつ関数\n",
      "    この関数は挨拶を画面に出力します。\n",
      "\n"
     ]
    }
   ],
   "source": [
    "help(mitsuya.greet)"
   ]
  },
  {
   "cell_type": "code",
   "execution_count": 28,
   "id": "33662599",
   "metadata": {
    "execution": {
     "iopub.execute_input": "2022-12-13T08:07:41.462750Z",
     "iopub.status.busy": "2022-12-13T08:07:41.462292Z",
     "iopub.status.idle": "2022-12-13T08:07:41.471520Z",
     "shell.execute_reply": "2022-12-13T08:07:41.470011Z"
    },
    "papermill": {
     "duration": 0.026899,
     "end_time": "2022-12-13T08:07:41.474883",
     "exception": false,
     "start_time": "2022-12-13T08:07:41.447984",
     "status": "completed"
    },
    "tags": []
   },
   "outputs": [
    {
     "name": "stdout",
     "output_type": "stream",
     "text": [
      "100m飛びました\n"
     ]
    }
   ],
   "source": [
    "class Bird():\n",
    "    def __init__(self, name, speed):\n",
    "        \"\"\"\n",
    "            コンストラクタ（初期化）はじめてインスタンスを生成したときに呼び出される\n",
    "            プロパティの定義\n",
    "            プロパティ=オブジェクトのもつ変数\n",
    "        \"\"\"\n",
    "        self.name = name\n",
    "        self.speed = speed\n",
    "    def fly(self, second):\n",
    "        print(\"{}m飛びました\".format(self.speed * 10))\n",
    "\n",
    "suzume = Bird(\"suzume\", 10)\n",
    "suzume.fly(10)"
   ]
  },
  {
   "cell_type": "markdown",
   "id": "4b302899",
   "metadata": {
    "papermill": {
     "duration": 0.011611,
     "end_time": "2022-12-13T08:07:41.499881",
     "exception": false,
     "start_time": "2022-12-13T08:07:41.488270",
     "status": "completed"
    },
    "tags": []
   },
   "source": [
    "## オーバーライド"
   ]
  },
  {
   "cell_type": "code",
   "execution_count": 29,
   "id": "cdce49ed",
   "metadata": {
    "execution": {
     "iopub.execute_input": "2022-12-13T08:07:41.528080Z",
     "iopub.status.busy": "2022-12-13T08:07:41.526981Z",
     "iopub.status.idle": "2022-12-13T08:07:41.536283Z",
     "shell.execute_reply": "2022-12-13T08:07:41.534926Z"
    },
    "papermill": {
     "duration": 0.025507,
     "end_time": "2022-12-13T08:07:41.538740",
     "exception": false,
     "start_time": "2022-12-13T08:07:41.513233",
     "status": "completed"
    },
    "tags": []
   },
   "outputs": [
    {
     "name": "stdout",
     "output_type": "stream",
     "text": [
      "年齢を比較します。(__lt__)\n"
     ]
    },
    {
     "data": {
      "text/plain": [
       "True"
      ]
     },
     "execution_count": 29,
     "metadata": {},
     "output_type": "execute_result"
    }
   ],
   "source": [
    "matsui < mitsuya"
   ]
  }
 ],
 "metadata": {
  "kernelspec": {
   "display_name": "Python 3",
   "language": "python",
   "name": "python3"
  },
  "language_info": {
   "codemirror_mode": {
    "name": "ipython",
    "version": 3
   },
   "file_extension": ".py",
   "mimetype": "text/x-python",
   "name": "python",
   "nbconvert_exporter": "python",
   "pygments_lexer": "ipython3",
   "version": "3.7.12"
  },
  "papermill": {
   "default_parameters": {},
   "duration": 13.393945,
   "end_time": "2022-12-13T08:07:42.375138",
   "environment_variables": {},
   "exception": null,
   "input_path": "__notebook__.ipynb",
   "output_path": "__notebook__.ipynb",
   "parameters": {},
   "start_time": "2022-12-13T08:07:28.981193",
   "version": "2.3.4"
  }
 },
 "nbformat": 4,
 "nbformat_minor": 5
}
