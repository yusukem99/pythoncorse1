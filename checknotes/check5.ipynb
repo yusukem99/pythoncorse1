{
 "cells": [
  {
   "cell_type": "markdown",
   "id": "d59a6e39",
   "metadata": {},
   "source": [
    "# リストの作成\n",
    "\n",
    "あなたは映画館のスタッフです。次の映画のタイトルをリスト型の変数`movies`として作成してください。\n",
    "\n",
    "- \"スパイダーマン：ノー・ウェイ・ホーム\"\n",
    "- \"君たちはどう生きるか\"\n",
    "- \"ザ・スーパーマリオブラザーズ・ムービー\"\n",
    "- \"鬼滅の刃 無限列車編\"\n",
    "- \"ミニオンズ フィーバー\""
   ]
  },
  {
   "cell_type": "code",
   "execution_count": null,
   "id": "afe30ada",
   "metadata": {},
   "outputs": [],
   "source": [
    "# ここに処理を書いてください"
   ]
  },
  {
   "cell_type": "markdown",
   "id": "cad342ca",
   "metadata": {},
   "source": [
    "# リストの追加と削除\n",
    "\n",
    "上で作成したリスト`movies`に対して、以下の操作を行ってください。\n",
    "\n",
    "『鬼滅の刃 無限列車編』をリストから削除し、リストの末尾に『シン・仮面ライダー』を追加してください"
   ]
  },
  {
   "cell_type": "code",
   "execution_count": null,
   "id": "8a00c74c",
   "metadata": {},
   "outputs": [],
   "source": [
    "# ここに処理を書いてください"
   ]
  },
  {
   "cell_type": "markdown",
   "id": "084ed1d4",
   "metadata": {},
   "source": [
    "# インデックスとスライス\n",
    "\n",
    "`views`にある映画館の過去30日間の入場者数の一覧が入っています。変数に適切な値を代入してください。"
   ]
  },
  {
   "cell_type": "code",
   "execution_count": null,
   "id": "1ad6c735",
   "metadata": {},
   "outputs": [],
   "source": [
    "views = [213, 245, 198, 204, 290, 321, 310, 276, 250, 298,\n",
    "         234, 260, 210, 238, 299, 301, 320, 305, 289, 294,\n",
    "         231, 247, 199, 263, 308, 315, 272, 280, 327, 340]\n",
    "\n",
    "# 以下の変数にそれぞれ適切な値を代入してください\n",
    "# - 最初の7日間の平均入場者数\n",
    "# - 最後の7日間の平均入場者数\n",
    "# - 月間で最も入場者数が多かった月\n",
    "# - 月間で最も入場者数が少なかった月\n",
    "\n",
    "avg_first_seven = ____\n",
    "avg_last_seven = ____\n",
    "max_month = ____\n",
    "min_month = ____\n"
   ]
  },
  {
   "cell_type": "markdown",
   "id": "1e92bb18",
   "metadata": {},
   "source": [
    "# リスト内包表現\n",
    "\n",
    "あなたはゲーム会社で働いています。\n",
    "プレイヤーのゲームスコア（0〜100点）に応じて、**称号**をつける仕組みがあります。\n",
    "\n",
    "称号の基準は以下のとおりです：\n",
    "\n",
    "- 90〜100点\t\"エース\"\n",
    "- 80〜89点\t\"エキスパート\"\n",
    "- 70〜79点\t\"プロ\"\n",
    "- 60点以下\t\"ビギナー\"\n",
    "\n",
    "以下の設問の指示に従ってプログラムを作成してください。"
   ]
  },
  {
   "cell_type": "code",
   "execution_count": null,
   "id": "a37211cf",
   "metadata": {},
   "outputs": [],
   "source": [
    "# まず、リストの長さを`len()`関数で取得してください\n",
    "palyer_count = ____"
   ]
  },
  {
   "cell_type": "code",
   "execution_count": null,
   "id": "0b5cdd92",
   "metadata": {},
   "outputs": [],
   "source": [
    "# `sum()`関数を使って、各プレイヤーのスコアの合計を求めてください\n",
    "player_score_sum = ____"
   ]
  },
  {
   "cell_type": "markdown",
   "id": "9d6a3a92",
   "metadata": {},
   "source": [
    "次の関数では与えられたリストにプレイヤーのスコアが格納されています。全体のうちエースの割合を計算する関数を作成してください。"
   ]
  },
  {
   "cell_type": "code",
   "execution_count": null,
   "id": "7fdadfbf",
   "metadata": {},
   "outputs": [],
   "source": [
    "def percentage_ace(ratings):\n",
    "    # まずは、リスト内包表現を使って、ratingsの中でエースのスコアを持つプレイヤーの数を数えます。\n",
    "    list_ace = ____\n",
    "    # 次に、エースのスコアを持つプレイヤーの数を全体の人数で割ります。\n",
    "    percentage_ace = ____\n",
    "    return percentage_ace\n",
    "\n",
    "percentage_ace([90, 60, 80, 95, 50, 100, 45, 70, 80, 90])"
   ]
  }
 ],
 "metadata": {
  "kernelspec": {
   "display_name": "Python 3",
   "language": "python",
   "name": "python3"
  },
  "language_info": {
   "codemirror_mode": {
    "name": "ipython",
    "version": 3
   },
   "file_extension": ".py",
   "mimetype": "text/x-python",
   "name": "python",
   "nbconvert_exporter": "python",
   "pygments_lexer": "ipython3",
   "version": "3.10.11"
  }
 },
 "nbformat": 4,
 "nbformat_minor": 5
}
