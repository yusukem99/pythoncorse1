{
 "cells": [
  {
   "cell_type": "markdown",
   "metadata": {},
   "source": [
    "asciiコード https://www.k-cube.co.jp/wakaba/server/ascii_code.html\n"
   ]
  },
  {
   "cell_type": "code",
   "execution_count": 17,
   "metadata": {},
   "outputs": [
    {
     "name": "stdout",
     "output_type": "stream",
     "text": [
      "Help on built-in function chr in module builtins:\n",
      "\n",
      "chr(i, /)\n",
      "    Return a Unicode string of one character with ordinal i; 0 <= i <= 0x10ffff.\n",
      "\n",
      "Help on built-in function ord in module builtins:\n",
      "\n",
      "ord(c, /)\n",
      "    Return the Unicode code point for a one-character string.\n",
      "\n"
     ]
    }
   ],
   "source": [
    "help(chr)\n",
    "help(ord)"
   ]
  },
  {
   "cell_type": "code",
   "execution_count": 28,
   "metadata": {},
   "outputs": [
    {
     "data": {
      "text/plain": [
       "True"
      ]
     },
     "execution_count": 28,
     "metadata": {},
     "output_type": "execute_result"
    }
   ],
   "source": [
    "ord('A') == 65\n",
    "'A' == chr(65)"
   ]
  },
  {
   "cell_type": "code",
   "execution_count": 16,
   "metadata": {},
   "outputs": [
    {
     "data": {
      "text/plain": [
       "'YUSUKE'"
      ]
     },
     "execution_count": 16,
     "metadata": {},
     "output_type": "execute_result"
    }
   ],
   "source": [
    "#YUSUKE\n",
    "f'my name is: {chr(89)}{chr(85)}{chr(83)}{chr(85)}{chr(75)}{chr(69)}'\n"
   ]
  },
  {
   "cell_type": "code",
   "execution_count": 29,
   "metadata": {},
   "outputs": [
    {
     "name": "stdout",
     "output_type": "stream",
     "text": [
      "[3, 1, 4, 5, 2]\n",
      "[1, 2, 3, 4, 5]\n"
     ]
    }
   ],
   "source": [
    "org_list = [3, 1, 4, 5, 2]\n",
    "\n",
    "new_list = sorted(org_list)\n",
    "print(org_list)\n",
    "print(new_list)"
   ]
  },
  {
   "cell_type": "code",
   "execution_count": null,
   "metadata": {},
   "outputs": [],
   "source": [
    "org_str = 'cebad'\n",
    "\n",
    "new_str_list = sorted(org_str)\n",
    "print(org_str)\n",
    "print(new_str_list)\n",
    "# cebad\n",
    "# ['a', 'b', 'c', 'd', 'e'"
   ]
  },
  {
   "cell_type": "code",
   "execution_count": null,
   "metadata": {},
   "outputs": [],
   "source": [
    "#任意の4点について左上,右上,右下,左下にまとめる\n",
    "list = points[0].tolist()\n",
    "print(points)\n",
    "list = sorted(list, key=lambda x: x[0])\n",
    "\n",
    "topleft, bottomleft = sorted(list[:2], key=lambda x: x[1])\n",
    "bottomright, topright = sorted(list[2:], key=lambda x: x[1], reverse=True)"
   ]
  }
 ],
 "metadata": {
  "kernelspec": {
   "display_name": "Python 3.8.10 ('env': venv)",
   "language": "python",
   "name": "python3"
  },
  "language_info": {
   "codemirror_mode": {
    "name": "ipython",
    "version": 3
   },
   "file_extension": ".py",
   "mimetype": "text/x-python",
   "name": "python",
   "nbconvert_exporter": "python",
   "pygments_lexer": "ipython3",
   "version": "3.8.10"
  },
  "orig_nbformat": 4,
  "vscode": {
   "interpreter": {
    "hash": "45dd6e1de3d594d8243dee52c79baa9f85d6f081a423f611cc6c05d6349dc70a"
   }
  }
 },
 "nbformat": 4,
 "nbformat_minor": 2
}
