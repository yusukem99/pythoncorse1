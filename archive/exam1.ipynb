{
 "cells": [
  {
   "attachments": {},
   "cell_type": "markdown",
   "id": "bc0a7618",
   "metadata": {
    "papermill": {
     "duration": 0.009632,
     "end_time": "2023-02-27T10:09:45.227987",
     "exception": false,
     "start_time": "2023-02-27T10:09:45.218355",
     "status": "completed"
    },
    "tags": []
   },
   "source": [
    "## 問1\n",
    "コメントに従って、適切な算術演算子を使い変数に値を代入しなさい"
   ]
  },
  {
   "cell_type": "code",
   "execution_count": 1,
   "id": "9ee1a67c",
   "metadata": {
    "execution": {
     "iopub.execute_input": "2023-02-27T10:09:45.241955Z",
     "iopub.status.busy": "2023-02-27T10:09:45.240898Z",
     "iopub.status.idle": "2023-02-27T10:09:45.253681Z",
     "shell.execute_reply": "2023-02-27T10:09:45.252772Z"
    },
    "papermill": {
     "duration": 0.022788,
     "end_time": "2023-02-27T10:09:45.256376",
     "exception": false,
     "start_time": "2023-02-27T10:09:45.233588",
     "status": "completed"
    },
    "tags": []
   },
   "outputs": [],
   "source": [
    "# 例 3たす4\n",
    "ans1_0 = 3 + 4"
   ]
  },
  {
   "cell_type": "code",
   "execution_count": 2,
   "id": "ba47a6da",
   "metadata": {
    "execution": {
     "iopub.execute_input": "2023-02-27T10:09:45.269351Z",
     "iopub.status.busy": "2023-02-27T10:09:45.268602Z",
     "iopub.status.idle": "2023-02-27T10:09:45.273145Z",
     "shell.execute_reply": "2023-02-27T10:09:45.272335Z"
    },
    "papermill": {
     "duration": 0.013652,
     "end_time": "2023-02-27T10:09:45.275523",
     "exception": false,
     "start_time": "2023-02-27T10:09:45.261871",
     "status": "completed"
    },
    "tags": []
   },
   "outputs": [],
   "source": [
    "# 12かける9\n",
    "ans1_1 = ___\n",
    "# 2023を5で割ったときのあまり\n",
    "ans1_2 = ___\n",
    "# 2023を5で割ったときの商\n",
    "ans1_3 = ___\n",
    "# 2の23乗\n",
    "ans1_4 = ___"
   ]
  },
  {
   "attachments": {},
   "cell_type": "markdown",
   "id": "18b1391d",
   "metadata": {
    "papermill": {
     "duration": 0.004692,
     "end_time": "2023-02-27T10:09:45.285474",
     "exception": false,
     "start_time": "2023-02-27T10:09:45.280782",
     "status": "completed"
    },
    "tags": []
   },
   "source": [
    "## 問2\n",
    "かっこ`()`をつけて結果が1になるようにしなさい"
   ]
  },
  {
   "cell_type": "code",
   "execution_count": 3,
   "id": "da5b6d95",
   "metadata": {
    "execution": {
     "iopub.execute_input": "2023-02-27T10:09:45.298318Z",
     "iopub.status.busy": "2023-02-27T10:09:45.297530Z",
     "iopub.status.idle": "2023-02-27T10:09:45.305734Z",
     "shell.execute_reply": "2023-02-27T10:09:45.304946Z"
    },
    "papermill": {
     "duration": 0.017764,
     "end_time": "2023-02-27T10:09:45.308434",
     "exception": false,
     "start_time": "2023-02-27T10:09:45.290670",
     "status": "completed"
    },
    "tags": []
   },
   "outputs": [
    {
     "data": {
      "text/plain": [
       "5"
      ]
     },
     "execution_count": 3,
     "metadata": {},
     "output_type": "execute_result"
    }
   ],
   "source": [
    "8 - 6 // 2"
   ]
  },
  {
   "attachments": {},
   "cell_type": "markdown",
   "id": "dd63ccc4",
   "metadata": {
    "papermill": {
     "duration": 0.005081,
     "end_time": "2023-02-27T10:09:45.318980",
     "exception": false,
     "start_time": "2023-02-27T10:09:45.313899",
     "status": "completed"
    },
    "tags": []
   },
   "source": [
    "## 問3\n",
    "引数に`r`を受けとり、半径`r`の球の体積を返す関数を作りなさい。円周率は3.14とする（球の体積=4÷3×3.14×r³ ）"
   ]
  },
  {
   "cell_type": "code",
   "execution_count": null,
   "id": "adb3f448",
   "metadata": {
    "papermill": {
     "duration": 0.004655,
     "end_time": "2023-02-27T10:09:45.328851",
     "exception": false,
     "start_time": "2023-02-27T10:09:45.324196",
     "status": "completed"
    },
    "tags": []
   },
   "outputs": [],
   "source": []
  },
  {
   "attachments": {},
   "cell_type": "markdown",
   "id": "af05d911",
   "metadata": {
    "papermill": {
     "duration": 0.004589,
     "end_time": "2023-02-27T10:09:45.338365",
     "exception": false,
     "start_time": "2023-02-27T10:09:45.333776",
     "status": "completed"
    },
    "tags": []
   },
   "source": [
    "## 問4\n",
    "引数にテストの点数`score`を受けとり、90点以上であれば`'S'`, 80点以上であれば`'A'`,それ以下であれば`'C'`を返すように、関数`get_grade`を完成させなさい"
   ]
  },
  {
   "cell_type": "code",
   "execution_count": 4,
   "id": "b44a0bcd",
   "metadata": {
    "execution": {
     "iopub.execute_input": "2023-02-27T10:09:45.350684Z",
     "iopub.status.busy": "2023-02-27T10:09:45.349910Z",
     "iopub.status.idle": "2023-02-27T10:09:45.354682Z",
     "shell.execute_reply": "2023-02-27T10:09:45.353896Z"
    },
    "papermill": {
     "duration": 0.013616,
     "end_time": "2023-02-27T10:09:45.356926",
     "exception": false,
     "start_time": "2023-02-27T10:09:45.343310",
     "status": "completed"
    },
    "tags": []
   },
   "outputs": [],
   "source": [
    "def get_grade(score):\n",
    "    '''\n",
    "        例:\n",
    "        get_grade(65)\n",
    "        >>>'C'\n",
    "    '''\n",
    "    return ___"
   ]
  },
  {
   "attachments": {},
   "cell_type": "markdown",
   "id": "ec6d9ece",
   "metadata": {
    "papermill": {
     "duration": 0.004963,
     "end_time": "2023-02-27T10:09:45.367252",
     "exception": false,
     "start_time": "2023-02-27T10:09:45.362289",
     "status": "completed"
    },
    "tags": []
   },
   "source": [
    "## 問5\n",
    "コメントに従って、リストのインデックス、スライシングを使って変数に値を代入しなさい"
   ]
  },
  {
   "cell_type": "code",
   "execution_count": 5,
   "id": "ac707546",
   "metadata": {
    "execution": {
     "iopub.execute_input": "2023-02-27T10:09:45.379879Z",
     "iopub.status.busy": "2023-02-27T10:09:45.379132Z",
     "iopub.status.idle": "2023-02-27T10:09:45.384455Z",
     "shell.execute_reply": "2023-02-27T10:09:45.383506Z"
    },
    "papermill": {
     "duration": 0.014352,
     "end_time": "2023-02-27T10:09:45.386823",
     "exception": false,
     "start_time": "2023-02-27T10:09:45.372471",
     "status": "completed"
    },
    "tags": []
   },
   "outputs": [],
   "source": [
    "planets = ['水星', '金星', '地球', '火星', '木星', '土星', '天王星', '海王星']\n",
    "\n",
    "# 例 '金星'を取り出す\n",
    "ans5_0 = planets[1]\n",
    "#'地球'を取り出す\n",
    "ans5_1 = ___\n",
    "#一番後ろの要素を取り出す\n",
    "ans5_2 = ___\n",
    "#地球から天王星までを取り出す\n",
    "ans5_3 = ___"
   ]
  },
  {
   "attachments": {},
   "cell_type": "markdown",
   "id": "47b3cd97",
   "metadata": {
    "papermill": {
     "duration": 0.00494,
     "end_time": "2023-02-27T10:09:45.397199",
     "exception": false,
     "start_time": "2023-02-27T10:09:45.392259",
     "status": "completed"
    },
    "tags": []
   },
   "source": [
    "## 問6\n",
    "`for`文を使って、与えられた整数のリスト`int_list`の要素がそれぞれ引数`num`より大きい場合に`True`に変換する関数`list_greater_than`を完成させなさい\n",
    "\n",
    "例\n",
    "```\n",
    "list_greater_than([1, 2, 3, 4], 2)\n",
    ">>>[False, False, True, True]\n",
    "```"
   ]
  },
  {
   "cell_type": "code",
   "execution_count": 6,
   "id": "84a6a0d6",
   "metadata": {
    "execution": {
     "iopub.execute_input": "2023-02-27T10:09:45.409419Z",
     "iopub.status.busy": "2023-02-27T10:09:45.408891Z",
     "iopub.status.idle": "2023-02-27T10:09:45.414791Z",
     "shell.execute_reply": "2023-02-27T10:09:45.413580Z"
    },
    "papermill": {
     "duration": 0.015103,
     "end_time": "2023-02-27T10:09:45.417504",
     "exception": false,
     "start_time": "2023-02-27T10:09:45.402401",
     "status": "completed"
    },
    "tags": []
   },
   "outputs": [],
   "source": [
    "def list_greater_than(int_list, num):\n",
    "    pass"
   ]
  }
 ],
 "metadata": {
  "kernelspec": {
   "display_name": "Python 3",
   "language": "python",
   "name": "python3"
  },
  "language_info": {
   "codemirror_mode": {
    "name": "ipython",
    "version": 3
   },
   "file_extension": ".py",
   "mimetype": "text/x-python",
   "name": "python",
   "nbconvert_exporter": "python",
   "pygments_lexer": "ipython3",
   "version": "3.7.12"
  },
  "papermill": {
   "default_parameters": {},
   "duration": 10.839414,
   "end_time": "2023-02-27T10:09:46.264237",
   "environment_variables": {},
   "exception": null,
   "input_path": "__notebook__.ipynb",
   "output_path": "__notebook__.ipynb",
   "parameters": {},
   "start_time": "2023-02-27T10:09:35.424823",
   "version": "2.3.4"
  }
 },
 "nbformat": 4,
 "nbformat_minor": 5
}
