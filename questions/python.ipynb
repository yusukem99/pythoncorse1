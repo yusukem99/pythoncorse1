{
 "cells": [
  {
   "cell_type": "code",
   "execution_count": null,
   "metadata": {},
   "outputs": [],
   "source": [
    "# 問１\n",
    "\n",
    "docsringを参考に、以下の関数を完成させてください。 two decimal places: 小数点第二位"
   ]
  }
 ],
 "metadata": {
  "language_info": {
   "name": "python"
  },
  "orig_nbformat": 4
 },
 "nbformat": 4,
 "nbformat_minor": 2
}
